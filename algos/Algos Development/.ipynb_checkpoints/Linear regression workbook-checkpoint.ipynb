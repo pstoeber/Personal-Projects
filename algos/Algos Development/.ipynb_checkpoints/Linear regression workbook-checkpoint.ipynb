{
 "cells": [
  {
   "cell_type": "code",
   "execution_count": 26,
   "metadata": {},
   "outputs": [],
   "source": [
    "import numpy as np\n",
    "import pandas as pd\n",
    "import pymysql\n",
    "import datetime\n",
    "import matplotlib.pyplot as plt\n",
    "import seaborn as sns\n",
    "import sys\n",
    "import requests\n",
    "import itertools\n",
    "#from bs4 import BeautifulSoup\n",
    "from selenium import webdriver\n",
    "from selenium.webdriver.chrome.options import Options\n",
    "from sklearn.model_selection import train_test_split\n",
    "from sklearn.linear_model import LinearRegression\n",
    "from sklearn.linear_model import LogisticRegression\n",
    "%matplotlib inline"
   ]
  },
  {
   "cell_type": "code",
   "execution_count": 6,
   "metadata": {},
   "outputs": [],
   "source": [
    "conn = pymysql.connect(host='localhost', user='root', password='Sk1ttles', db='nba_stats_prod', autocommit=True)"
   ]
  },
  {
   "cell_type": "code",
   "execution_count": 45,
   "metadata": {},
   "outputs": [],
   "source": [
    "train = \"\"\"\n",
    "\n",
    "select play.player_id,\n",
    "       box_view.team,\n",
    "       box_view.game_hash,\n",
    "       box_view.game_date,\n",
    "       box_view.home_away,\n",
    "       basic.minutes_played,\n",
    "       basic.fg,\n",
    "       basic.fga,\n",
    "      -- basic.fg_pct,\n",
    "       basic.3p,\n",
    "       basic.3pa,\n",
    "      -- basic.3p_pct,\n",
    "       basic.ft,\n",
    "      -- basic.ft_pct,\n",
    "       basic.orb,\n",
    "      -- basic.drb,\n",
    "       basic.trb,\n",
    "       basic.ast,\n",
    "       basic.stl,\n",
    "       basic.blk,\n",
    "      -- basic.tov,\n",
    "       basic.pf,\n",
    "       adv.true_shooting_pct,\n",
    "       adv.effective_fg_pct,\n",
    "       adv.3P_attempt_rate,\n",
    "       adv.FT_attempt_rate,\n",
    "       adv.offensive_reb_rate,\n",
    "      -- adv.defensive_reb_rate,\n",
    "       adv.total_reb_pct,\n",
    "       adv.assist_pct,\n",
    "       adv.steal_pct,\n",
    "       adv.block_pct,\n",
    "       adv.turnover_pct,\n",
    "       adv.usage_pct,\n",
    "       a_stats.pace,\n",
    "      -- adv.offensive_rating,\n",
    "      -- adv.defensive_rating,\n",
    "       basic.pts\n",
    "from (\n",
    "\n",
    "    select m.game_hash, m.team, m.game_date, m.home_away, lu.season\n",
    "    from box_scores_map_view as m\n",
    "    inner join game_date_lookup as lu on m.game_date = lu.day\n",
    "    where m.game_date < current_date and\n",
    "          lu.season > 2005\n",
    "    order by game_date desc\n",
    "\n",
    "         ) as box_view\n",
    "inner join player_team_map as play_m on ( (box_view.team = play_m.team) and (\n",
    "        box_view.season = play_m.season) )\n",
    "inner join basic_box_stats as basic on ( (box_view.game_hash = basic.game_hash) and (\n",
    "        play_m.player_id = basic.player_id) )\n",
    "inner join advanced_box_stats as adv on ( (box_view.game_hash = adv.game_hash) and (\n",
    "        play_m.player_id = adv.player_id) )\n",
    "inner join team_advanced_boxscore_stats as a_stats on ( (box_view.game_hash = a_stats.game_hash) and (box_view.team = a_stats.team) )\n",
    "inner join player_info as play on play_m.player_id = play.player_id\n",
    "order by box_view.game_date desc;\n",
    "\n",
    "\n",
    "\"\"\""
   ]
  },
  {
   "cell_type": "code",
   "execution_count": 46,
   "metadata": {},
   "outputs": [],
   "source": [
    "df = pd.read_sql(sql=train, con=conn, index_col=None)"
   ]
  },
  {
   "cell_type": "code",
   "execution_count": null,
   "metadata": {},
   "outputs": [],
   "source": []
  },
  {
   "cell_type": "code",
   "execution_count": 32,
   "metadata": {},
   "outputs": [],
   "source": [
    "def time_convert(minutes_played):\n",
    "    time_list = minutes_played.split(':')\n",
    "    try:\n",
    "        return ((int(time_list[0]) * 60) + int(time_list[1]))\n",
    "    except ValueError:\n",
    "        return 0"
   ]
  },
  {
   "cell_type": "code",
   "execution_count": 33,
   "metadata": {},
   "outputs": [],
   "source": [
    "def concat_drop(df, dummy_var_col, drop_list):\n",
    "    for field in dummy_var_col:\n",
    "        df = pd.concat([df, gen_dummby_var(df, field)], axis=1)\n",
    "    df.drop(drop_list, axis=1, inplace=True)\n",
    "    return df"
   ]
  },
  {
   "cell_type": "code",
   "execution_count": 34,
   "metadata": {},
   "outputs": [],
   "source": [
    "def gen_dummby_var(df, column):\n",
    "    return pd.get_dummies(df[column], drop_first=True)"
   ]
  },
  {
   "cell_type": "code",
   "execution_count": null,
   "metadata": {},
   "outputs": [],
   "source": []
  },
  {
   "cell_type": "code",
   "execution_count": 47,
   "metadata": {},
   "outputs": [],
   "source": [
    "df.loc[:, 'minutes_played'] = df.loc[:, 'minutes_played'].apply(time_convert)"
   ]
  },
  {
   "cell_type": "code",
   "execution_count": 48,
   "metadata": {},
   "outputs": [],
   "source": [
    "clean_df = concat_drop(df[df['minutes_played'] >= 900], ['home_away'], ['player_id', 'team', 'game_hash', 'game_date', 'home_away', 'fg', '3p', 'ft'])"
   ]
  },
  {
   "cell_type": "code",
   "execution_count": 50,
   "metadata": {},
   "outputs": [],
   "source": [
    "X_train, X_test, y_train, y_test = train_test_split(clean_df.loc[:, 'minutes_played':'pace'], clean_df.loc[:, 'pts'], test_size=.33)"
   ]
  },
  {
   "cell_type": "code",
   "execution_count": 51,
   "metadata": {},
   "outputs": [],
   "source": [
    "lm = LinearRegression()"
   ]
  },
  {
   "cell_type": "code",
   "execution_count": 52,
   "metadata": {},
   "outputs": [
    {
     "data": {
      "text/plain": [
       "LinearRegression(copy_X=True, fit_intercept=True, n_jobs=1, normalize=False)"
      ]
     },
     "execution_count": 52,
     "metadata": {},
     "output_type": "execute_result"
    }
   ],
   "source": [
    "lm.fit(X_train, y_train)"
   ]
  },
  {
   "cell_type": "code",
   "execution_count": 53,
   "metadata": {},
   "outputs": [],
   "source": [
    "predictions = lm.predict(X_test)"
   ]
  },
  {
   "cell_type": "code",
   "execution_count": null,
   "metadata": {},
   "outputs": [],
   "source": []
  },
  {
   "cell_type": "code",
   "execution_count": null,
   "metadata": {},
   "outputs": [],
   "source": []
  },
  {
   "cell_type": "code",
   "execution_count": 54,
   "metadata": {},
   "outputs": [
    {
     "data": {
      "text/plain": [
       "Text(0,0.5,'Predicted Y')"
      ]
     },
     "execution_count": 54,
     "metadata": {},
     "output_type": "execute_result"
    },
    {
     "data": {
      "image/png": "[encoded data removed]",
      "text/plain": [
       "<Figure size 432x288 with 1 Axes>"
      ]
     },
     "metadata": {},
     "output_type": "display_data"
    }
   ],
   "source": [
    "plt.scatter(y_test,predictions)\n",
    "plt.xlabel('Y Test')\n",
    "plt.ylabel('Predicted Y')"
   ]
  },
  {
   "cell_type": "code",
   "execution_count": 55,
   "metadata": {},
   "outputs": [
    {
     "data": {
      "image/png": "[encoded data removed]",
      "text/plain": [
       "<Figure size 432x288 with 1 Axes>"
      ]
     },
     "metadata": {},
     "output_type": "display_data"
    }
   ],
   "source": [
    "sns.distplot((y_test-predictions),bins=50);"
   ]
  },
  {
   "cell_type": "code",
   "execution_count": 56,
   "metadata": {},
   "outputs": [
    {
     "data": {
      "text/html": [
       "<div>\n",
       "<style scoped>\n",
       "    .dataframe tbody tr th:only-of-type {\n",
       "        vertical-align: middle;\n",
       "    }\n",
       "\n",
       "    .dataframe tbody tr th {\n",
       "        vertical-align: top;\n",
       "    }\n",
       "\n",
       "    .dataframe thead th {\n",
       "        text-align: right;\n",
       "    }\n",
       "</style>\n",
       "<table border=\"1\" class=\"dataframe\">\n",
       "  <thead>\n",
       "    <tr style=\"text-align: right;\">\n",
       "      <th></th>\n",
       "      <th>Coeffecient</th>\n",
       "    </tr>\n",
       "  </thead>\n",
       "  <tbody>\n",
       "    <tr>\n",
       "      <th>minutes_played</th>\n",
       "      <td>0.001799</td>\n",
       "    </tr>\n",
       "    <tr>\n",
       "      <th>fga</th>\n",
       "      <td>0.912242</td>\n",
       "    </tr>\n",
       "    <tr>\n",
       "      <th>3pa</th>\n",
       "      <td>0.075872</td>\n",
       "    </tr>\n",
       "    <tr>\n",
       "      <th>orb</th>\n",
       "      <td>-0.241985</td>\n",
       "    </tr>\n",
       "    <tr>\n",
       "      <th>trb</th>\n",
       "      <td>0.074358</td>\n",
       "    </tr>\n",
       "    <tr>\n",
       "      <th>ast</th>\n",
       "      <td>-0.129908</td>\n",
       "    </tr>\n",
       "    <tr>\n",
       "      <th>stl</th>\n",
       "      <td>0.284492</td>\n",
       "    </tr>\n",
       "    <tr>\n",
       "      <th>blk</th>\n",
       "      <td>0.145514</td>\n",
       "    </tr>\n",
       "    <tr>\n",
       "      <th>pf</th>\n",
       "      <td>0.000540</td>\n",
       "    </tr>\n",
       "    <tr>\n",
       "      <th>true_shooting_pct</th>\n",
       "      <td>16.538170</td>\n",
       "    </tr>\n",
       "    <tr>\n",
       "      <th>effective_fg_pct</th>\n",
       "      <td>-1.349746</td>\n",
       "    </tr>\n",
       "    <tr>\n",
       "      <th>3P_attempt_rate</th>\n",
       "      <td>-0.420790</td>\n",
       "    </tr>\n",
       "    <tr>\n",
       "      <th>FT_attempt_rate</th>\n",
       "      <td>1.722089</td>\n",
       "    </tr>\n",
       "    <tr>\n",
       "      <th>offensive_reb_rate</th>\n",
       "      <td>0.043600</td>\n",
       "    </tr>\n",
       "    <tr>\n",
       "      <th>total_reb_pct</th>\n",
       "      <td>-0.016912</td>\n",
       "    </tr>\n",
       "    <tr>\n",
       "      <th>assist_pct</th>\n",
       "      <td>0.025614</td>\n",
       "    </tr>\n",
       "    <tr>\n",
       "      <th>steal_pct</th>\n",
       "      <td>-0.145765</td>\n",
       "    </tr>\n",
       "    <tr>\n",
       "      <th>block_pct</th>\n",
       "      <td>-0.035599</td>\n",
       "    </tr>\n",
       "    <tr>\n",
       "      <th>turnover_pct</th>\n",
       "      <td>-0.016610</td>\n",
       "    </tr>\n",
       "    <tr>\n",
       "      <th>usage_pct</th>\n",
       "      <td>0.147511</td>\n",
       "    </tr>\n",
       "  </tbody>\n",
       "</table>\n",
       "</div>"
      ],
      "text/plain": [
       "                    Coeffecient\n",
       "minutes_played         0.001799\n",
       "fga                    0.912242\n",
       "3pa                    0.075872\n",
       "orb                   -0.241985\n",
       "trb                    0.074358\n",
       "ast                   -0.129908\n",
       "stl                    0.284492\n",
       "blk                    0.145514\n",
       "pf                     0.000540\n",
       "true_shooting_pct     16.538170\n",
       "effective_fg_pct      -1.349746\n",
       "3P_attempt_rate       -0.420790\n",
       "FT_attempt_rate        1.722089\n",
       "offensive_reb_rate     0.043600\n",
       "total_reb_pct         -0.016912\n",
       "assist_pct             0.025614\n",
       "steal_pct             -0.145765\n",
       "block_pct             -0.035599\n",
       "turnover_pct          -0.016610\n",
       "usage_pct              0.147511"
      ]
     },
     "execution_count": 56,
     "metadata": {},
     "output_type": "execute_result"
    }
   ],
   "source": [
    "coeffecients = pd.DataFrame(lm.coef_,X_test.columns)\n",
    "coeffecients.columns = ['Coeffecient']\n",
    "coeffecients"
   ]
  },
  {
   "cell_type": "code",
   "execution_count": null,
   "metadata": {},
   "outputs": [],
   "source": []
  }
 ],
 "metadata": {
  "kernelspec": {
   "display_name": "Python 3",
   "language": "python",
   "name": "python3"
  },
  "language_info": {
   "codemirror_mode": {
    "name": "ipython",
    "version": 3
   },
   "file_extension": ".py",
   "mimetype": "text/x-python",
   "name": "python",
   "nbconvert_exporter": "python",
   "pygments_lexer": "ipython3",
   "version": "3.6.3"
  }
 },
 "nbformat": 4,
 "nbformat_minor": 2
}
