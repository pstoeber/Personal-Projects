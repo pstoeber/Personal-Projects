{
 "cells": [
  {
   "cell_type": "code",
   "execution_count": 1581,
   "metadata": {},
   "outputs": [],
   "source": [
    "import numpy as np\n",
    "import pandas as pd\n",
    "import pymysql\n",
    "import datetime\n",
    "import matplotlib.pyplot as plt\n",
    "import seaborn as sns\n",
    "import sys\n",
    "import requests\n",
    "import itertools\n",
    "#from bs4 import BeautifulSoup\n",
    "from sklearn import metrics\n",
    "#from sklearn.model_selection import train_test_split\n",
    "from sklearn.linear_model import LinearRegression\n",
    "from sklearn.linear_model import Lasso\n",
    "from sklearn.cross_validation import train_test_split\n",
    "#import sklearn.cross_validation as cv\n",
    "from sklearn.linear_model import LassoCV\n",
    "from sklearn.linear_model import LogisticRegression\n",
    "%matplotlib inline"
   ]
  },
  {
   "cell_type": "code",
   "execution_count": 1666,
   "metadata": {},
   "outputs": [],
   "source": [
    "conn = pymysql.connect(host='localhost', user='root', password='Sk1ttles', db='nba_stats_prod', autocommit=True)"
   ]
  },
  {
   "cell_type": "code",
   "execution_count": 1745,
   "metadata": {},
   "outputs": [],
   "source": [
    "train = \"\"\"\n",
    "\n",
    "select basic.player_id,\n",
    "    -- reg_avg.season,\n",
    "       box_view.team,\n",
    "       box_view.game_hash,\n",
    "       box_view.game_date,\n",
    "       box_view.home_away,\n",
    "       basic.pts,\n",
    "       basic.minutes_played,\n",
    "    -- basic.fg,\n",
    "       basic.fga,\n",
    "    -- basic.fg_pct,\n",
    "    -- basic.3p,\n",
    "       basic.3pa,\n",
    "    -- basic.3p_pct,\n",
    "    -- basic.ft,\n",
    "    -- basic.ft_pct,\n",
    "       basic.orb,\n",
    "    -- basic.drb,\n",
    "       basic.trb,\n",
    "       basic.ast,\n",
    "       basic.stl,\n",
    "       basic.blk,\n",
    "       basic.tov,\n",
    "       basic.pf,\n",
    "    -- adv.true_shooting_pct,\n",
    "    -- adv.effective_fg_pct,\n",
    "    -- adv.3P_attempt_rate,\n",
    "    -- adv.FT_attempt_rate,\n",
    "    -- adv.offensive_reb_rate,\n",
    "    -- adv.defensive_reb_rate,\n",
    "    -- adv.total_reb_pct,\n",
    "    -- adv.assist_pct,\n",
    "    -- adv.steal_pct,\n",
    "    -- adv.block_pct,\n",
    "       adv.turnover_pct,\n",
    "       adv.usage_pct,\n",
    "       a_stats.pace,\n",
    "       adv.offensive_rating,\n",
    "    -- adv.defensive_rating,\n",
    "    -- reg_avg.fg_m as tot_fg_m,\n",
    "       reg_avg.fg_a as tot_fg_a,\n",
    "    -- reg_avg.fg_pct as tot_fg_pct,\n",
    "    -- reg_avg.3p_m as tot_3p_m,\n",
    "       reg_avg.3p_a as tot_3p_a,\n",
    "    -- reg_avg.3p_pct as tot_3p_pct,\n",
    "    -- reg_avg.ft_m as tot_ft_m,\n",
    "       reg_avg.ft_a as tot_ft_a,\n",
    "    -- reg_avg.ft_pct as tot_ft_pct,\n",
    "    -- reg_avg.or as tot_or,\n",
    "    -- reg_avg.dr as tot_dr,\n",
    "       reg_avg.reb as tot_reb,\n",
    "       reg_avg.ast as tot_ast,\n",
    "       reg_avg.blk as tot_blk,\n",
    "       reg_avg.stl as tot_stl,\n",
    "       reg_avg.pf as tot_pf,\n",
    "       reg_avg.`TO` as tot_to\n",
    "    -- reg_avg.pts as tot_point\n",
    "    -- reg_tot.fg_a as tot_season_fg,\n",
    "    -- reg_tot.3p_a as tot_season_3p,\n",
    "    -- reg_tot.ft_a as tot_season_ft,\n",
    "    -- reg_tot.reb as tot_season_reb,\n",
    "    -- reg_tot.ast as tot_season_ast,\n",
    "    -- reg_tot.stl as tot_season_stl\n",
    "from (\n",
    "\n",
    "     select m.game_hash, m.team, m.game_date, m.home_away, lu.season\n",
    "     from box_scores_map_view as m\n",
    "            inner join game_date_lookup as lu on m.game_date = lu.day\n",
    "     where m.game_date < current_date and\n",
    "           lu.season > 2000 and\n",
    "           m.home_away = 'Away'\n",
    "     order by game_date desc\n",
    "\n",
    "   ) as box_view\n",
    "inner join player_team_map as play_m on ( (box_view.team = play_m.team) and (\n",
    "box_view.season = play_m.season) )\n",
    "inner join basic_box_stats as basic on ( (box_view.game_hash = basic.game_hash) and (\n",
    "play_m.player_id = basic.player_id) )\n",
    "inner join advanced_box_stats as adv on ( (box_view.game_hash = adv.game_hash) and (\n",
    "play_m.player_id = adv.player_id) )\n",
    "inner join team_advanced_boxscore_stats as a_stats on ( (box_view.game_hash = a_stats.game_hash) and (box_view.team = a_stats.team) )\n",
    "left outer join RegularSeasonAverages as reg_avg on ( (basic.player_id = reg_avg.player_id) and (box_view.season-1 = reg_avg.season) )\n",
    "order by box_view.game_date desc;\n",
    "\n",
    "\"\"\""
   ]
  },
  {
   "cell_type": "code",
   "execution_count": 1746,
   "metadata": {},
   "outputs": [],
   "source": [
    "df = pd.read_sql(sql=train, con=conn, index_col=None)"
   ]
  },
  {
   "cell_type": "code",
   "execution_count": null,
   "metadata": {},
   "outputs": [],
   "source": []
  },
  {
   "cell_type": "code",
   "execution_count": 1747,
   "metadata": {},
   "outputs": [],
   "source": [
    "def time_convert(minutes_played):\n",
    "    time_list = minutes_played.split(':')\n",
    "    try:\n",
    "        return ((int(time_list[0]) * 60) + int(time_list[1]))\n",
    "    except ValueError:\n",
    "        return 0"
   ]
  },
  {
   "cell_type": "code",
   "execution_count": 1748,
   "metadata": {},
   "outputs": [],
   "source": [
    "def concat_drop(df, dummy_var_col, drop_list):\n",
    "    for field in dummy_var_col:\n",
    "        df = pd.concat([df, gen_dummby_var(df, field)], axis=1)\n",
    "    df.drop(drop_list, axis=1, inplace=True)\n",
    "    return df"
   ]
  },
  {
   "cell_type": "code",
   "execution_count": 1749,
   "metadata": {},
   "outputs": [],
   "source": [
    "def gen_dummby_var(df, column):\n",
    "    return pd.get_dummies(df[column], drop_first=True)"
   ]
  },
  {
   "cell_type": "code",
   "execution_count": null,
   "metadata": {},
   "outputs": [],
   "source": []
  },
  {
   "cell_type": "code",
   "execution_count": 1750,
   "metadata": {},
   "outputs": [],
   "source": [
    "df.loc[:, 'minutes_played'] = df.loc[:, 'minutes_played'].apply(time_convert)"
   ]
  },
  {
   "cell_type": "code",
   "execution_count": 1751,
   "metadata": {},
   "outputs": [],
   "source": [
    "clean_df = concat_drop(df[df['minutes_played'] >= 720], ['home_away'], [ 'player_id', 'team', 'game_hash', 'game_date', 'home_away'])"
   ]
  },
  {
   "cell_type": "code",
   "execution_count": 1752,
   "metadata": {},
   "outputs": [
    {
     "data": {
      "text/html": [
       "<div>\n",
       "<style scoped>\n",
       "    .dataframe tbody tr th:only-of-type {\n",
       "        vertical-align: middle;\n",
       "    }\n",
       "\n",
       "    .dataframe tbody tr th {\n",
       "        vertical-align: top;\n",
       "    }\n",
       "\n",
       "    .dataframe thead th {\n",
       "        text-align: right;\n",
       "    }\n",
       "</style>\n",
       "<table border=\"1\" class=\"dataframe\">\n",
       "  <thead>\n",
       "    <tr style=\"text-align: right;\">\n",
       "      <th></th>\n",
       "      <th>pts</th>\n",
       "      <th>minutes_played</th>\n",
       "      <th>fga</th>\n",
       "      <th>3pa</th>\n",
       "      <th>orb</th>\n",
       "      <th>trb</th>\n",
       "      <th>ast</th>\n",
       "      <th>stl</th>\n",
       "      <th>blk</th>\n",
       "      <th>tov</th>\n",
       "      <th>...</th>\n",
       "      <th>defensive_rating</th>\n",
       "      <th>tot_fg_a</th>\n",
       "      <th>tot_3p_a</th>\n",
       "      <th>tot_ft_a</th>\n",
       "      <th>tot_reb</th>\n",
       "      <th>tot_ast</th>\n",
       "      <th>tot_blk</th>\n",
       "      <th>tot_stl</th>\n",
       "      <th>tot_pf</th>\n",
       "      <th>tot_to</th>\n",
       "    </tr>\n",
       "  </thead>\n",
       "  <tbody>\n",
       "    <tr>\n",
       "      <th>0</th>\n",
       "      <td>1</td>\n",
       "      <td>1147</td>\n",
       "      <td>4</td>\n",
       "      <td>4</td>\n",
       "      <td>0</td>\n",
       "      <td>0</td>\n",
       "      <td>0</td>\n",
       "      <td>1</td>\n",
       "      <td>0</td>\n",
       "      <td>1</td>\n",
       "      <td>...</td>\n",
       "      <td>109.0</td>\n",
       "      <td>6.0</td>\n",
       "      <td>2.6</td>\n",
       "      <td>1.2</td>\n",
       "      <td>2.5</td>\n",
       "      <td>0.8</td>\n",
       "      <td>0.2</td>\n",
       "      <td>0.6</td>\n",
       "      <td>2.0</td>\n",
       "      <td>0.7</td>\n",
       "    </tr>\n",
       "    <tr>\n",
       "      <th>1</th>\n",
       "      <td>1</td>\n",
       "      <td>1147</td>\n",
       "      <td>4</td>\n",
       "      <td>4</td>\n",
       "      <td>0</td>\n",
       "      <td>0</td>\n",
       "      <td>0</td>\n",
       "      <td>1</td>\n",
       "      <td>0</td>\n",
       "      <td>1</td>\n",
       "      <td>...</td>\n",
       "      <td>109.0</td>\n",
       "      <td>4.9</td>\n",
       "      <td>1.9</td>\n",
       "      <td>1.4</td>\n",
       "      <td>3.5</td>\n",
       "      <td>1.1</td>\n",
       "      <td>0.3</td>\n",
       "      <td>0.7</td>\n",
       "      <td>1.8</td>\n",
       "      <td>0.8</td>\n",
       "    </tr>\n",
       "    <tr>\n",
       "      <th>2</th>\n",
       "      <td>12</td>\n",
       "      <td>1976</td>\n",
       "      <td>9</td>\n",
       "      <td>0</td>\n",
       "      <td>8</td>\n",
       "      <td>17</td>\n",
       "      <td>1</td>\n",
       "      <td>0</td>\n",
       "      <td>2</td>\n",
       "      <td>2</td>\n",
       "      <td>...</td>\n",
       "      <td>103.0</td>\n",
       "      <td>9.1</td>\n",
       "      <td>0.0</td>\n",
       "      <td>1.9</td>\n",
       "      <td>10.8</td>\n",
       "      <td>0.9</td>\n",
       "      <td>1.9</td>\n",
       "      <td>0.8</td>\n",
       "      <td>2.5</td>\n",
       "      <td>1.4</td>\n",
       "    </tr>\n",
       "    <tr>\n",
       "      <th>4</th>\n",
       "      <td>13</td>\n",
       "      <td>2412</td>\n",
       "      <td>13</td>\n",
       "      <td>3</td>\n",
       "      <td>0</td>\n",
       "      <td>4</td>\n",
       "      <td>4</td>\n",
       "      <td>3</td>\n",
       "      <td>1</td>\n",
       "      <td>1</td>\n",
       "      <td>...</td>\n",
       "      <td>102.0</td>\n",
       "      <td>13.8</td>\n",
       "      <td>6.5</td>\n",
       "      <td>3.5</td>\n",
       "      <td>5.4</td>\n",
       "      <td>7.9</td>\n",
       "      <td>0.2</td>\n",
       "      <td>1.7</td>\n",
       "      <td>2.4</td>\n",
       "      <td>2.2</td>\n",
       "    </tr>\n",
       "    <tr>\n",
       "      <th>5</th>\n",
       "      <td>3</td>\n",
       "      <td>2312</td>\n",
       "      <td>3</td>\n",
       "      <td>3</td>\n",
       "      <td>0</td>\n",
       "      <td>7</td>\n",
       "      <td>0</td>\n",
       "      <td>0</td>\n",
       "      <td>0</td>\n",
       "      <td>1</td>\n",
       "      <td>...</td>\n",
       "      <td>110.0</td>\n",
       "      <td>5.4</td>\n",
       "      <td>3.8</td>\n",
       "      <td>0.5</td>\n",
       "      <td>5.6</td>\n",
       "      <td>0.9</td>\n",
       "      <td>0.3</td>\n",
       "      <td>1.0</td>\n",
       "      <td>2.5</td>\n",
       "      <td>0.9</td>\n",
       "    </tr>\n",
       "  </tbody>\n",
       "</table>\n",
       "<p>5 rows × 25 columns</p>\n",
       "</div>"
      ],
      "text/plain": [
       "   pts  minutes_played  fga  3pa  orb  trb  ast  stl  blk  tov   ...    \\\n",
       "0    1            1147    4    4    0    0    0    1    0    1   ...     \n",
       "1    1            1147    4    4    0    0    0    1    0    1   ...     \n",
       "2   12            1976    9    0    8   17    1    0    2    2   ...     \n",
       "4   13            2412   13    3    0    4    4    3    1    1   ...     \n",
       "5    3            2312    3    3    0    7    0    0    0    1   ...     \n",
       "\n",
       "   defensive_rating  tot_fg_a  tot_3p_a  tot_ft_a  tot_reb  tot_ast  tot_blk  \\\n",
       "0             109.0       6.0       2.6       1.2      2.5      0.8      0.2   \n",
       "1             109.0       4.9       1.9       1.4      3.5      1.1      0.3   \n",
       "2             103.0       9.1       0.0       1.9     10.8      0.9      1.9   \n",
       "4             102.0      13.8       6.5       3.5      5.4      7.9      0.2   \n",
       "5             110.0       5.4       3.8       0.5      5.6      0.9      0.3   \n",
       "\n",
       "   tot_stl  tot_pf  tot_to  \n",
       "0      0.6     2.0     0.7  \n",
       "1      0.7     1.8     0.8  \n",
       "2      0.8     2.5     1.4  \n",
       "4      1.7     2.4     2.2  \n",
       "5      1.0     2.5     0.9  \n",
       "\n",
       "[5 rows x 25 columns]"
      ]
     },
     "execution_count": 1752,
     "metadata": {},
     "output_type": "execute_result"
    }
   ],
   "source": [
    "#clean_df.drop('Home', inplace=True, axis=1)\n",
    "clean_df.head()"
   ]
  },
  {
   "cell_type": "code",
   "execution_count": 1753,
   "metadata": {},
   "outputs": [],
   "source": [
    "clean_df = clean_df.fillna(0)"
   ]
  },
  {
   "cell_type": "code",
   "execution_count": 1754,
   "metadata": {},
   "outputs": [],
   "source": [
    "x = clean_df.loc[:, 'minutes_played':]\n",
    "y = clean_df.loc[:, 'pts']"
   ]
  },
  {
   "cell_type": "code",
   "execution_count": 1755,
   "metadata": {},
   "outputs": [],
   "source": [
    "X_train, X_test, y_train, y_test = train_test_split(clean_df.loc[:, 'minutes_played':], clean_df.loc[:, 'pts'], test_size=.33)"
   ]
  },
  {
   "cell_type": "code",
   "execution_count": 1756,
   "metadata": {},
   "outputs": [],
   "source": [
    "lm = LinearRegression()"
   ]
  },
  {
   "cell_type": "code",
   "execution_count": 1757,
   "metadata": {},
   "outputs": [
    {
     "data": {
      "text/plain": [
       "LinearRegression(copy_X=True, fit_intercept=True, n_jobs=1, normalize=False)"
      ]
     },
     "execution_count": 1757,
     "metadata": {},
     "output_type": "execute_result"
    }
   ],
   "source": [
    "lm.fit(X_train, y_train)"
   ]
  },
  {
   "cell_type": "code",
   "execution_count": 1758,
   "metadata": {},
   "outputs": [],
   "source": [
    "predictions = lm.predict(X_test)"
   ]
  },
  {
   "cell_type": "code",
   "execution_count": null,
   "metadata": {},
   "outputs": [],
   "source": []
  },
  {
   "cell_type": "code",
   "execution_count": null,
   "metadata": {},
   "outputs": [],
   "source": []
  },
  {
   "cell_type": "code",
   "execution_count": 1759,
   "metadata": {},
   "outputs": [
    {
     "data": {
      "text/plain": [
       "Text(0,0.5,'Predicted Y')"
      ]
     },
     "execution_count": 1759,
     "metadata": {},
     "output_type": "execute_result"
    },
    {
     "data": {
      "image/png": "[encoded data removed]",
      "text/plain": [
       "<Figure size 432x288 with 1 Axes>"
      ]
     },
     "metadata": {},
     "output_type": "display_data"
    }
   ],
   "source": [
    "plt.scatter(y_test,predictions)\n",
    "plt.xlabel('Y Test')\n",
    "plt.ylabel('Predicted Y')"
   ]
  },
  {
   "cell_type": "code",
   "execution_count": 1760,
   "metadata": {},
   "outputs": [
    {
     "data": {
      "image/png": "[encoded data removed]",
      "text/plain": [
       "<Figure size 432x288 with 1 Axes>"
      ]
     },
     "metadata": {},
     "output_type": "display_data"
    }
   ],
   "source": [
    "sns.distplot((y_test-predictions),bins=50);"
   ]
  },
  {
   "cell_type": "code",
   "execution_count": 1761,
   "metadata": {},
   "outputs": [
    {
     "data": {
      "text/html": [
       "<div>\n",
       "<style scoped>\n",
       "    .dataframe tbody tr th:only-of-type {\n",
       "        vertical-align: middle;\n",
       "    }\n",
       "\n",
       "    .dataframe tbody tr th {\n",
       "        vertical-align: top;\n",
       "    }\n",
       "\n",
       "    .dataframe thead th {\n",
       "        text-align: right;\n",
       "    }\n",
       "</style>\n",
       "<table border=\"1\" class=\"dataframe\">\n",
       "  <thead>\n",
       "    <tr style=\"text-align: right;\">\n",
       "      <th></th>\n",
       "      <th>Coeffecient</th>\n",
       "    </tr>\n",
       "  </thead>\n",
       "  <tbody>\n",
       "    <tr>\n",
       "      <th>minutes_played</th>\n",
       "      <td>0.003335</td>\n",
       "    </tr>\n",
       "    <tr>\n",
       "      <th>fga</th>\n",
       "      <td>0.691203</td>\n",
       "    </tr>\n",
       "    <tr>\n",
       "      <th>3pa</th>\n",
       "      <td>0.066726</td>\n",
       "    </tr>\n",
       "    <tr>\n",
       "      <th>orb</th>\n",
       "      <td>-0.415793</td>\n",
       "    </tr>\n",
       "    <tr>\n",
       "      <th>trb</th>\n",
       "      <td>0.059998</td>\n",
       "    </tr>\n",
       "    <tr>\n",
       "      <th>ast</th>\n",
       "      <td>-0.294620</td>\n",
       "    </tr>\n",
       "    <tr>\n",
       "      <th>stl</th>\n",
       "      <td>0.065420</td>\n",
       "    </tr>\n",
       "    <tr>\n",
       "      <th>blk</th>\n",
       "      <td>0.041885</td>\n",
       "    </tr>\n",
       "    <tr>\n",
       "      <th>tov</th>\n",
       "      <td>-0.062877</td>\n",
       "    </tr>\n",
       "    <tr>\n",
       "      <th>pf</th>\n",
       "      <td>0.004230</td>\n",
       "    </tr>\n",
       "    <tr>\n",
       "      <th>turnover_pct</th>\n",
       "      <td>0.082323</td>\n",
       "    </tr>\n",
       "    <tr>\n",
       "      <th>usage_pct</th>\n",
       "      <td>0.280962</td>\n",
       "    </tr>\n",
       "    <tr>\n",
       "      <th>pace</th>\n",
       "      <td>0.065655</td>\n",
       "    </tr>\n",
       "    <tr>\n",
       "      <th>offensive_rating</th>\n",
       "      <td>0.095369</td>\n",
       "    </tr>\n",
       "    <tr>\n",
       "      <th>defensive_rating</th>\n",
       "      <td>0.009313</td>\n",
       "    </tr>\n",
       "    <tr>\n",
       "      <th>tot_fg_a</th>\n",
       "      <td>-0.076131</td>\n",
       "    </tr>\n",
       "    <tr>\n",
       "      <th>tot_3p_a</th>\n",
       "      <td>-0.023688</td>\n",
       "    </tr>\n",
       "    <tr>\n",
       "      <th>tot_ft_a</th>\n",
       "      <td>0.465184</td>\n",
       "    </tr>\n",
       "    <tr>\n",
       "      <th>tot_reb</th>\n",
       "      <td>0.017540</td>\n",
       "    </tr>\n",
       "    <tr>\n",
       "      <th>tot_ast</th>\n",
       "      <td>0.012649</td>\n",
       "    </tr>\n",
       "    <tr>\n",
       "      <th>tot_blk</th>\n",
       "      <td>0.091657</td>\n",
       "    </tr>\n",
       "    <tr>\n",
       "      <th>tot_stl</th>\n",
       "      <td>-0.076360</td>\n",
       "    </tr>\n",
       "    <tr>\n",
       "      <th>tot_pf</th>\n",
       "      <td>-0.069720</td>\n",
       "    </tr>\n",
       "    <tr>\n",
       "      <th>tot_to</th>\n",
       "      <td>-0.053800</td>\n",
       "    </tr>\n",
       "  </tbody>\n",
       "</table>\n",
       "</div>"
      ],
      "text/plain": [
       "                  Coeffecient\n",
       "minutes_played       0.003335\n",
       "fga                  0.691203\n",
       "3pa                  0.066726\n",
       "orb                 -0.415793\n",
       "trb                  0.059998\n",
       "ast                 -0.294620\n",
       "stl                  0.065420\n",
       "blk                  0.041885\n",
       "tov                 -0.062877\n",
       "pf                   0.004230\n",
       "turnover_pct         0.082323\n",
       "usage_pct            0.280962\n",
       "pace                 0.065655\n",
       "offensive_rating     0.095369\n",
       "defensive_rating     0.009313\n",
       "tot_fg_a            -0.076131\n",
       "tot_3p_a            -0.023688\n",
       "tot_ft_a             0.465184\n",
       "tot_reb              0.017540\n",
       "tot_ast              0.012649\n",
       "tot_blk              0.091657\n",
       "tot_stl             -0.076360\n",
       "tot_pf              -0.069720\n",
       "tot_to              -0.053800"
      ]
     },
     "execution_count": 1761,
     "metadata": {},
     "output_type": "execute_result"
    }
   ],
   "source": [
    "coeffecients = pd.DataFrame(lm.coef_,X_test.columns)\n",
    "coeffecients.columns = ['Coeffecient']\n",
    "coeffecients"
   ]
  },
  {
   "cell_type": "code",
   "execution_count": 1762,
   "metadata": {},
   "outputs": [
    {
     "data": {
      "text/plain": [
       "0.90530584225031996"
      ]
     },
     "execution_count": 1762,
     "metadata": {},
     "output_type": "execute_result"
    }
   ],
   "source": [
    "lm.score(X_test, y_test)"
   ]
  },
  {
   "cell_type": "code",
   "execution_count": null,
   "metadata": {},
   "outputs": [],
   "source": []
  },
  {
   "cell_type": "code",
   "execution_count": 1529,
   "metadata": {},
   "outputs": [],
   "source": [
    "### Experimenting with Lasso regression"
   ]
  },
  {
   "cell_type": "code",
   "execution_count": 1626,
   "metadata": {},
   "outputs": [],
   "source": [
    "lasso = Lasso(alpha=0.0023101297000831605)  #Home: 0.00174333 - 0.00221222"
   ]
  },
  {
   "cell_type": "code",
   "execution_count": 1627,
   "metadata": {},
   "outputs": [
    {
     "data": {
      "text/plain": [
       "Lasso(alpha=0.0023101297000831605, copy_X=True, fit_intercept=True,\n",
       "   max_iter=1000, normalize=False, positive=False, precompute=False,\n",
       "   random_state=None, selection='cyclic', tol=0.0001, warm_start=False)"
      ]
     },
     "execution_count": 1627,
     "metadata": {},
     "output_type": "execute_result"
    }
   ],
   "source": [
    "lasso.fit(X_train, y_train)"
   ]
  },
  {
   "cell_type": "code",
   "execution_count": 1628,
   "metadata": {},
   "outputs": [],
   "source": [
    "predictions = lasso.predict(X_test)"
   ]
  },
  {
   "cell_type": "code",
   "execution_count": 1629,
   "metadata": {},
   "outputs": [
    {
     "data": {
      "text/plain": [
       "Text(0,0.5,'Predicted Y')"
      ]
     },
     "execution_count": 1629,
     "metadata": {},
     "output_type": "execute_result"
    },
    {
     "data": {
      "image/png": "[encoded data removed]",
      "text/plain": [
       "<Figure size 432x288 with 1 Axes>"
      ]
     },
     "metadata": {},
     "output_type": "display_data"
    }
   ],
   "source": [
    "plt.scatter(y_test,predictions)\n",
    "plt.xlabel('Y Test')\n",
    "plt.ylabel('Predicted Y')"
   ]
  },
  {
   "cell_type": "code",
   "execution_count": 1630,
   "metadata": {},
   "outputs": [
    {
     "data": {
      "text/plain": [
       "<matplotlib.axes._subplots.AxesSubplot at 0x1105aa908>"
      ]
     },
     "execution_count": 1630,
     "metadata": {},
     "output_type": "execute_result"
    },
    {
     "data": {
      "image/png": "[encoded data removed]",
      "text/plain": [
       "<Figure size 432x288 with 1 Axes>"
      ]
     },
     "metadata": {},
     "output_type": "display_data"
    }
   ],
   "source": [
    "sns.set_palette(\"GnBu_d\")\n",
    "sns.set_style('whitegrid')\n",
    "sns.distplot(y_test-predictions, bins=50)"
   ]
  },
  {
   "cell_type": "code",
   "execution_count": 1631,
   "metadata": {},
   "outputs": [
    {
     "data": {
      "text/plain": [
       "0.90642712906679335"
      ]
     },
     "execution_count": 1631,
     "metadata": {},
     "output_type": "execute_result"
    }
   ],
   "source": [
    "lasso.score(X_test, y_test)"
   ]
  },
  {
   "cell_type": "code",
   "execution_count": null,
   "metadata": {},
   "outputs": [],
   "source": []
  },
  {
   "cell_type": "code",
   "execution_count": 1632,
   "metadata": {},
   "outputs": [
    {
     "data": {
      "text/html": [
       "<div>\n",
       "<style scoped>\n",
       "    .dataframe tbody tr th:only-of-type {\n",
       "        vertical-align: middle;\n",
       "    }\n",
       "\n",
       "    .dataframe tbody tr th {\n",
       "        vertical-align: top;\n",
       "    }\n",
       "\n",
       "    .dataframe thead th {\n",
       "        text-align: right;\n",
       "    }\n",
       "</style>\n",
       "<table border=\"1\" class=\"dataframe\">\n",
       "  <thead>\n",
       "    <tr style=\"text-align: right;\">\n",
       "      <th></th>\n",
       "      <th>Coeffecient</th>\n",
       "    </tr>\n",
       "  </thead>\n",
       "  <tbody>\n",
       "    <tr>\n",
       "      <th>minutes_played</th>\n",
       "      <td>0.003313</td>\n",
       "    </tr>\n",
       "    <tr>\n",
       "      <th>fga</th>\n",
       "      <td>0.684043</td>\n",
       "    </tr>\n",
       "    <tr>\n",
       "      <th>3pa</th>\n",
       "      <td>0.055526</td>\n",
       "    </tr>\n",
       "    <tr>\n",
       "      <th>orb</th>\n",
       "      <td>-0.363120</td>\n",
       "    </tr>\n",
       "    <tr>\n",
       "      <th>trb</th>\n",
       "      <td>0.055590</td>\n",
       "    </tr>\n",
       "    <tr>\n",
       "      <th>ast</th>\n",
       "      <td>-0.251323</td>\n",
       "    </tr>\n",
       "    <tr>\n",
       "      <th>stl</th>\n",
       "      <td>0.058080</td>\n",
       "    </tr>\n",
       "    <tr>\n",
       "      <th>blk</th>\n",
       "      <td>0.036037</td>\n",
       "    </tr>\n",
       "    <tr>\n",
       "      <th>tov</th>\n",
       "      <td>-0.104871</td>\n",
       "    </tr>\n",
       "    <tr>\n",
       "      <th>pf</th>\n",
       "      <td>0.006462</td>\n",
       "    </tr>\n",
       "    <tr>\n",
       "      <th>effective_fg_pct</th>\n",
       "      <td>2.311702</td>\n",
       "    </tr>\n",
       "    <tr>\n",
       "      <th>turnover_pct</th>\n",
       "      <td>0.070270</td>\n",
       "    </tr>\n",
       "    <tr>\n",
       "      <th>usage_pct</th>\n",
       "      <td>0.278777</td>\n",
       "    </tr>\n",
       "    <tr>\n",
       "      <th>pace</th>\n",
       "      <td>0.064875</td>\n",
       "    </tr>\n",
       "    <tr>\n",
       "      <th>offensive_rating</th>\n",
       "      <td>0.081378</td>\n",
       "    </tr>\n",
       "    <tr>\n",
       "      <th>defensive_rating</th>\n",
       "      <td>0.008750</td>\n",
       "    </tr>\n",
       "    <tr>\n",
       "      <th>tot_fg_a</th>\n",
       "      <td>-0.081476</td>\n",
       "    </tr>\n",
       "    <tr>\n",
       "      <th>tot_3p_a</th>\n",
       "      <td>-0.014048</td>\n",
       "    </tr>\n",
       "    <tr>\n",
       "      <th>tot_ft_a</th>\n",
       "      <td>0.502710</td>\n",
       "    </tr>\n",
       "    <tr>\n",
       "      <th>tot_reb</th>\n",
       "      <td>0.011663</td>\n",
       "    </tr>\n",
       "    <tr>\n",
       "      <th>tot_ast</th>\n",
       "      <td>-0.003382</td>\n",
       "    </tr>\n",
       "    <tr>\n",
       "      <th>tot_blk</th>\n",
       "      <td>0.053830</td>\n",
       "    </tr>\n",
       "    <tr>\n",
       "      <th>tot_stl</th>\n",
       "      <td>-0.028912</td>\n",
       "    </tr>\n",
       "    <tr>\n",
       "      <th>tot_pf</th>\n",
       "      <td>-0.088797</td>\n",
       "    </tr>\n",
       "    <tr>\n",
       "      <th>tot_to</th>\n",
       "      <td>-0.002495</td>\n",
       "    </tr>\n",
       "  </tbody>\n",
       "</table>\n",
       "</div>"
      ],
      "text/plain": [
       "                  Coeffecient\n",
       "minutes_played       0.003313\n",
       "fga                  0.684043\n",
       "3pa                  0.055526\n",
       "orb                 -0.363120\n",
       "trb                  0.055590\n",
       "ast                 -0.251323\n",
       "stl                  0.058080\n",
       "blk                  0.036037\n",
       "tov                 -0.104871\n",
       "pf                   0.006462\n",
       "effective_fg_pct     2.311702\n",
       "turnover_pct         0.070270\n",
       "usage_pct            0.278777\n",
       "pace                 0.064875\n",
       "offensive_rating     0.081378\n",
       "defensive_rating     0.008750\n",
       "tot_fg_a            -0.081476\n",
       "tot_3p_a            -0.014048\n",
       "tot_ft_a             0.502710\n",
       "tot_reb              0.011663\n",
       "tot_ast             -0.003382\n",
       "tot_blk              0.053830\n",
       "tot_stl             -0.028912\n",
       "tot_pf              -0.088797\n",
       "tot_to              -0.002495"
      ]
     },
     "execution_count": 1632,
     "metadata": {},
     "output_type": "execute_result"
    }
   ],
   "source": [
    "coeffecients = pd.DataFrame(lasso.coef_,X_test.columns)\n",
    "coeffecients.columns = ['Coeffecient']\n",
    "coeffecients"
   ]
  },
  {
   "cell_type": "code",
   "execution_count": 1115,
   "metadata": {},
   "outputs": [],
   "source": [
    "#### Using Lasso cross-validation model"
   ]
  },
  {
   "cell_type": "code",
   "execution_count": 778,
   "metadata": {},
   "outputs": [],
   "source": [
    "lasso_cv = LassoCV()"
   ]
  },
  {
   "cell_type": "code",
   "execution_count": 779,
   "metadata": {},
   "outputs": [
    {
     "data": {
      "text/plain": [
       "LassoCV(alphas=None, copy_X=True, cv=None, eps=0.001, fit_intercept=True,\n",
       "    max_iter=1000, n_alphas=100, n_jobs=1, normalize=False, positive=False,\n",
       "    precompute='auto', random_state=None, selection='cyclic', tol=0.0001,\n",
       "    verbose=False)"
      ]
     },
     "execution_count": 779,
     "metadata": {},
     "output_type": "execute_result"
    }
   ],
   "source": [
    "lasso_cv.fit(X_train, y_train)"
   ]
  },
  {
   "cell_type": "code",
   "execution_count": 780,
   "metadata": {},
   "outputs": [],
   "source": [
    "predictions_cv = lasso_cv.predict(X_test)"
   ]
  },
  {
   "cell_type": "code",
   "execution_count": 781,
   "metadata": {},
   "outputs": [
    {
     "data": {
      "text/plain": [
       "Text(0,0.5,'Predicted Y')"
      ]
     },
     "execution_count": 781,
     "metadata": {},
     "output_type": "execute_result"
    },
    {
     "data": {
      "image/png": "[encoded data removed]",
      "text/plain": [
       "<Figure size 432x288 with 1 Axes>"
      ]
     },
     "metadata": {},
     "output_type": "display_data"
    }
   ],
   "source": [
    "plt.scatter(y_test,predictions_cv)\n",
    "plt.xlabel('Y Test')\n",
    "plt.ylabel('Predicted Y')"
   ]
  },
  {
   "cell_type": "code",
   "execution_count": 1362,
   "metadata": {},
   "outputs": [
    {
     "data": {
      "text/plain": [
       "<matplotlib.axes._subplots.AxesSubplot at 0x15016d048>"
      ]
     },
     "execution_count": 1362,
     "metadata": {},
     "output_type": "execute_result"
    },
    {
     "data": {
      "image/png": "[encoded data removed]",
      "text/plain": [
       "<Figure size 432x288 with 1 Axes>"
      ]
     },
     "metadata": {},
     "output_type": "display_data"
    }
   ],
   "source": [
    "sns.distplot(y_test-predictions, bins=50)"
   ]
  },
  {
   "cell_type": "code",
   "execution_count": 783,
   "metadata": {},
   "outputs": [
    {
     "data": {
      "text/plain": [
       "0.86399447660533457"
      ]
     },
     "execution_count": 783,
     "metadata": {},
     "output_type": "execute_result"
    }
   ],
   "source": [
    "lasso_cv.score(X_test, y_test)"
   ]
  },
  {
   "cell_type": "code",
   "execution_count": null,
   "metadata": {},
   "outputs": [],
   "source": []
  },
  {
   "cell_type": "code",
   "execution_count": 784,
   "metadata": {},
   "outputs": [
    {
     "data": {
      "text/html": [
       "<div>\n",
       "<style scoped>\n",
       "    .dataframe tbody tr th:only-of-type {\n",
       "        vertical-align: middle;\n",
       "    }\n",
       "\n",
       "    .dataframe tbody tr th {\n",
       "        vertical-align: top;\n",
       "    }\n",
       "\n",
       "    .dataframe thead th {\n",
       "        text-align: right;\n",
       "    }\n",
       "</style>\n",
       "<table border=\"1\" class=\"dataframe\">\n",
       "  <thead>\n",
       "    <tr style=\"text-align: right;\">\n",
       "      <th></th>\n",
       "      <th>Coeffecient</th>\n",
       "    </tr>\n",
       "  </thead>\n",
       "  <tbody>\n",
       "    <tr>\n",
       "      <th>minutes_played</th>\n",
       "      <td>2.652543e-03</td>\n",
       "    </tr>\n",
       "    <tr>\n",
       "      <th>fga</th>\n",
       "      <td>8.035470e-01</td>\n",
       "    </tr>\n",
       "    <tr>\n",
       "      <th>3pa</th>\n",
       "      <td>6.179230e-02</td>\n",
       "    </tr>\n",
       "    <tr>\n",
       "      <th>ft_pct</th>\n",
       "      <td>6.915055e-01</td>\n",
       "    </tr>\n",
       "    <tr>\n",
       "      <th>orb</th>\n",
       "      <td>-4.457033e-01</td>\n",
       "    </tr>\n",
       "    <tr>\n",
       "      <th>trb</th>\n",
       "      <td>6.056389e-02</td>\n",
       "    </tr>\n",
       "    <tr>\n",
       "      <th>ast</th>\n",
       "      <td>-2.949219e-01</td>\n",
       "    </tr>\n",
       "    <tr>\n",
       "      <th>stl</th>\n",
       "      <td>9.395057e-02</td>\n",
       "    </tr>\n",
       "    <tr>\n",
       "      <th>blk</th>\n",
       "      <td>6.990563e-02</td>\n",
       "    </tr>\n",
       "    <tr>\n",
       "      <th>tov</th>\n",
       "      <td>1.631886e-02</td>\n",
       "    </tr>\n",
       "    <tr>\n",
       "      <th>pf</th>\n",
       "      <td>-8.732180e-03</td>\n",
       "    </tr>\n",
       "    <tr>\n",
       "      <th>turnover_pct</th>\n",
       "      <td>7.791499e-02</td>\n",
       "    </tr>\n",
       "    <tr>\n",
       "      <th>usage_pct</th>\n",
       "      <td>2.262049e-01</td>\n",
       "    </tr>\n",
       "    <tr>\n",
       "      <th>pace</th>\n",
       "      <td>5.353675e-02</td>\n",
       "    </tr>\n",
       "    <tr>\n",
       "      <th>offensive_rating</th>\n",
       "      <td>8.802327e-02</td>\n",
       "    </tr>\n",
       "    <tr>\n",
       "      <th>defensive_rating</th>\n",
       "      <td>1.095322e-02</td>\n",
       "    </tr>\n",
       "    <tr>\n",
       "      <th>tot_fg_m</th>\n",
       "      <td>4.088870e-01</td>\n",
       "    </tr>\n",
       "    <tr>\n",
       "      <th>tot_fg_a</th>\n",
       "      <td>-2.762089e-01</td>\n",
       "    </tr>\n",
       "    <tr>\n",
       "      <th>tot_fg_pct</th>\n",
       "      <td>0.000000e+00</td>\n",
       "    </tr>\n",
       "    <tr>\n",
       "      <th>tot_3p_m</th>\n",
       "      <td>1.696298e-01</td>\n",
       "    </tr>\n",
       "    <tr>\n",
       "      <th>tot_3p_a</th>\n",
       "      <td>2.189647e-03</td>\n",
       "    </tr>\n",
       "    <tr>\n",
       "      <th>tot_3p_pct</th>\n",
       "      <td>-0.000000e+00</td>\n",
       "    </tr>\n",
       "    <tr>\n",
       "      <th>tot_ft_m</th>\n",
       "      <td>4.272136e-01</td>\n",
       "    </tr>\n",
       "    <tr>\n",
       "      <th>tot_ft_a</th>\n",
       "      <td>6.141326e-15</td>\n",
       "    </tr>\n",
       "    <tr>\n",
       "      <th>tot_ft_pct</th>\n",
       "      <td>-1.844708e-01</td>\n",
       "    </tr>\n",
       "    <tr>\n",
       "      <th>tot_or</th>\n",
       "      <td>2.593738e-02</td>\n",
       "    </tr>\n",
       "    <tr>\n",
       "      <th>tot_dr</th>\n",
       "      <td>0.000000e+00</td>\n",
       "    </tr>\n",
       "    <tr>\n",
       "      <th>tot_reb</th>\n",
       "      <td>1.605584e-02</td>\n",
       "    </tr>\n",
       "    <tr>\n",
       "      <th>tot_ast</th>\n",
       "      <td>1.810795e-03</td>\n",
       "    </tr>\n",
       "    <tr>\n",
       "      <th>tot_blk</th>\n",
       "      <td>8.909183e-02</td>\n",
       "    </tr>\n",
       "    <tr>\n",
       "      <th>tot_stl</th>\n",
       "      <td>0.000000e+00</td>\n",
       "    </tr>\n",
       "    <tr>\n",
       "      <th>tot_pf</th>\n",
       "      <td>-1.007495e-01</td>\n",
       "    </tr>\n",
       "    <tr>\n",
       "      <th>tot_to</th>\n",
       "      <td>5.711902e-02</td>\n",
       "    </tr>\n",
       "  </tbody>\n",
       "</table>\n",
       "</div>"
      ],
      "text/plain": [
       "                   Coeffecient\n",
       "minutes_played    2.652543e-03\n",
       "fga               8.035470e-01\n",
       "3pa               6.179230e-02\n",
       "ft_pct            6.915055e-01\n",
       "orb              -4.457033e-01\n",
       "trb               6.056389e-02\n",
       "ast              -2.949219e-01\n",
       "stl               9.395057e-02\n",
       "blk               6.990563e-02\n",
       "tov               1.631886e-02\n",
       "pf               -8.732180e-03\n",
       "turnover_pct      7.791499e-02\n",
       "usage_pct         2.262049e-01\n",
       "pace              5.353675e-02\n",
       "offensive_rating  8.802327e-02\n",
       "defensive_rating  1.095322e-02\n",
       "tot_fg_m          4.088870e-01\n",
       "tot_fg_a         -2.762089e-01\n",
       "tot_fg_pct        0.000000e+00\n",
       "tot_3p_m          1.696298e-01\n",
       "tot_3p_a          2.189647e-03\n",
       "tot_3p_pct       -0.000000e+00\n",
       "tot_ft_m          4.272136e-01\n",
       "tot_ft_a          6.141326e-15\n",
       "tot_ft_pct       -1.844708e-01\n",
       "tot_or            2.593738e-02\n",
       "tot_dr            0.000000e+00\n",
       "tot_reb           1.605584e-02\n",
       "tot_ast           1.810795e-03\n",
       "tot_blk           8.909183e-02\n",
       "tot_stl           0.000000e+00\n",
       "tot_pf           -1.007495e-01\n",
       "tot_to            5.711902e-02"
      ]
     },
     "execution_count": 784,
     "metadata": {},
     "output_type": "execute_result"
    }
   ],
   "source": [
    "coeffecients = pd.DataFrame(lasso.coef_,X_test.columns)\n",
    "coeffecients.columns = ['Coeffecient']\n",
    "coeffecients"
   ]
  },
  {
   "cell_type": "code",
   "execution_count": 785,
   "metadata": {},
   "outputs": [],
   "source": [
    "### optimizing alpha value in Lasso regression"
   ]
  },
  {
   "cell_type": "code",
   "execution_count": 1798,
   "metadata": {},
   "outputs": [
    {
     "data": {
      "text/plain": [
       "array([  1.00000000e-05,   1.09749877e-05,   1.20450354e-05,\n",
       "         1.32194115e-05,   1.45082878e-05,   1.59228279e-05,\n",
       "         1.74752840e-05,   1.91791026e-05,   2.10490414e-05,\n",
       "         2.31012970e-05,   2.53536449e-05,   2.78255940e-05,\n",
       "         3.05385551e-05,   3.35160265e-05,   3.67837977e-05,\n",
       "         4.03701726e-05,   4.43062146e-05,   4.86260158e-05,\n",
       "         5.33669923e-05,   5.85702082e-05,   6.42807312e-05,\n",
       "         7.05480231e-05,   7.74263683e-05,   8.49753436e-05,\n",
       "         9.32603347e-05,   1.02353102e-04,   1.12332403e-04,\n",
       "         1.23284674e-04,   1.35304777e-04,   1.48496826e-04,\n",
       "         1.62975083e-04,   1.78864953e-04,   1.96304065e-04,\n",
       "         2.15443469e-04,   2.36448941e-04,   2.59502421e-04,\n",
       "         2.84803587e-04,   3.12571585e-04,   3.43046929e-04,\n",
       "         3.76493581e-04,   4.13201240e-04,   4.53487851e-04,\n",
       "         4.97702356e-04,   5.46227722e-04,   5.99484250e-04,\n",
       "         6.57933225e-04,   7.22080902e-04,   7.92482898e-04,\n",
       "         8.69749003e-04,   9.54548457e-04,   1.04761575e-03,\n",
       "         1.14975700e-03,   1.26185688e-03,   1.38488637e-03,\n",
       "         1.51991108e-03,   1.66810054e-03,   1.83073828e-03,\n",
       "         2.00923300e-03,   2.20513074e-03,   2.42012826e-03,\n",
       "         2.65608778e-03,   2.91505306e-03,   3.19926714e-03,\n",
       "         3.51119173e-03,   3.85352859e-03,   4.22924287e-03,\n",
       "         4.64158883e-03,   5.09413801e-03,   5.59081018e-03,\n",
       "         6.13590727e-03,   6.73415066e-03,   7.39072203e-03,\n",
       "         8.11130831e-03,   8.90215085e-03,   9.77009957e-03,\n",
       "         1.07226722e-02,   1.17681195e-02,   1.29154967e-02,\n",
       "         1.41747416e-02,   1.55567614e-02,   1.70735265e-02,\n",
       "         1.87381742e-02,   2.05651231e-02,   2.25701972e-02,\n",
       "         2.47707636e-02,   2.71858824e-02,   2.98364724e-02,\n",
       "         3.27454916e-02,   3.59381366e-02,   3.94420606e-02,\n",
       "         4.32876128e-02,   4.75081016e-02,   5.21400829e-02,\n",
       "         5.72236766e-02,   6.28029144e-02,   6.89261210e-02,\n",
       "         7.56463328e-02,   8.30217568e-02,   9.11162756e-02,\n",
       "         1.00000000e-01])"
      ]
     },
     "execution_count": 1798,
     "metadata": {},
     "output_type": "execute_result"
    }
   ],
   "source": [
    "alphas = np.logspace(-5, -1, 100)\n",
    "#alphas = np.linspace(.001, .999, 100) #0.00464159\n",
    "alphas"
   ]
  },
  {
   "cell_type": "code",
   "execution_count": 1799,
   "metadata": {},
   "outputs": [],
   "source": [
    "scores = np.empty_like(alphas)"
   ]
  },
  {
   "cell_type": "code",
   "execution_count": 1800,
   "metadata": {},
   "outputs": [],
   "source": [
    "for i, a in enumerate(alphas):\n",
    "    lasso = Lasso(alpha=a)\n",
    "    lasso.fit(X_train, y_train)\n",
    "    scores[i] = lasso.score(X_test, y_test)"
   ]
  },
  {
   "cell_type": "code",
   "execution_count": 1801,
   "metadata": {},
   "outputs": [
    {
     "data": {
      "text/plain": [
       "(0.0013848863713938732,\n",
       " 0.904282111953844,\n",
       " array([ 0.00333063,  0.69341629,  0.0645308 , -0.41710457,  0.05728726,\n",
       "        -0.29450503,  0.06044948,  0.0414399 , -0.05856456,  0.00496354,\n",
       "         0.08243211,  0.28138869,  0.06590181,  0.09580136,  0.00844749,\n",
       "        -0.07855318, -0.01535441,  0.46046049,  0.01993883,  0.00409286,\n",
       "         0.06907064, -0.06692824, -0.07552365, -0.02004253]),\n",
       " -23.740996573999389)"
      ]
     },
     "execution_count": 1801,
     "metadata": {},
     "output_type": "execute_result"
    }
   ],
   "source": [
    "lasso_cv = LassoCV(alphas=alphas)\n",
    "lasso_cv.fit(x, y)\n",
    "cv_score = lasso_cv.score(x, y)\n",
    "cv_alpha = lasso_cv.alpha_\n",
    "cv_alpha, cv_score, lasso_cv.coef_, lasso_cv.intercept_"
   ]
  },
  {
   "cell_type": "code",
   "execution_count": 1802,
   "metadata": {},
   "outputs": [
    {
     "data": {
      "image/png": "[encoded data removed]",
      "text/plain": [
       "<Figure size 432x288 with 1 Axes>"
      ]
     },
     "metadata": {},
     "output_type": "display_data"
    }
   ],
   "source": [
    "plt.plot(alphas, scores, '-ko')\n",
    "plt.axhline(cv_score, color='b',ls='--')\n",
    "plt.axvline(cv_alpha, color='r', ls='--')\n",
    "plt.xlabel('alpha')\n",
    "plt.ylabel('score')\n",
    "plt.xscale('linear')\n",
    "sns.despine(offset=15)"
   ]
  },
  {
   "cell_type": "code",
   "execution_count": 1803,
   "metadata": {},
   "outputs": [],
   "source": [
    "predictions = lasso_cv.predict(X_test)"
   ]
  },
  {
   "cell_type": "code",
   "execution_count": 1804,
   "metadata": {},
   "outputs": [
    {
     "data": {
      "text/plain": [
       "0.9031614788320681"
      ]
     },
     "execution_count": 1804,
     "metadata": {},
     "output_type": "execute_result"
    }
   ],
   "source": [
    "lasso_cv.score(x, y)"
   ]
  },
  {
   "cell_type": "code",
   "execution_count": 1805,
   "metadata": {},
   "outputs": [
    {
     "name": "stdout",
     "output_type": "stream",
     "text": [
      "MAE: 1.66297334797\n",
      "MSE: 5.68622081\n",
      "RMSE: 2.38457979736\n"
     ]
    }
   ],
   "source": [
    "print('MAE:', metrics.mean_absolute_error(y_test, predictions))\n",
    "print('MSE:', metrics.mean_squared_error(y_test, predictions))\n",
    "print('RMSE:', np.sqrt(metrics.mean_squared_error(y_test, predictions)))"
   ]
  },
  {
   "cell_type": "code",
   "execution_count": 1790,
   "metadata": {},
   "outputs": [
    {
     "data": {
      "text/plain": [
       "0.90530669947520004"
      ]
     },
     "execution_count": 1790,
     "metadata": {},
     "output_type": "execute_result"
    }
   ],
   "source": [
    "np.amax(scores)"
   ]
  },
  {
   "cell_type": "code",
   "execution_count": 1791,
   "metadata": {},
   "outputs": [
    {
     "data": {
      "text/plain": [
       "Text(0,0.5,'Predicted Y')"
      ]
     },
     "execution_count": 1791,
     "metadata": {},
     "output_type": "execute_result"
    },
    {
     "data": {
      "image/png": "[encoded data removed]",
      "text/plain": [
       "<Figure size 432x288 with 1 Axes>"
      ]
     },
     "metadata": {},
     "output_type": "display_data"
    }
   ],
   "source": [
    "plt.scatter(y_test,predictions)\n",
    "plt.xlabel('Y Test')\n",
    "plt.ylabel('Predicted Y')\n"
   ]
  },
  {
   "cell_type": "code",
   "execution_count": null,
   "metadata": {},
   "outputs": [],
   "source": []
  }
 ],
 "metadata": {
  "kernelspec": {
   "display_name": "Python 3",
   "language": "python",
   "name": "python3"
  },
  "language_info": {
   "codemirror_mode": {
    "name": "ipython",
    "version": 3
   },
   "file_extension": ".py",
   "mimetype": "text/x-python",
   "name": "python",
   "nbconvert_exporter": "python",
   "pygments_lexer": "ipython3",
   "version": "3.6.3"
  }
 },
 "nbformat": 4,
 "nbformat_minor": 2
}
