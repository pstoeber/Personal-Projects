{
 "cells": [
  {
   "cell_type": "code",
   "execution_count": 1581,
   "metadata": {},
   "outputs": [],
   "source": [
    "import numpy as np\n",
    "import pandas as pd\n",
    "import pymysql\n",
    "import datetime\n",
    "import matplotlib.pyplot as plt\n",
    "import seaborn as sns\n",
    "import sys\n",
    "import requests\n",
    "import itertools\n",
    "#from bs4 import BeautifulSoup\n",
    "from sklearn import metrics\n",
    "#from sklearn.model_selection import train_test_split\n",
    "from sklearn.linear_model import LinearRegression\n",
    "from sklearn.linear_model import Lasso\n",
    "from sklearn.cross_validation import train_test_split\n",
    "#import sklearn.cross_validation as cv\n",
    "from sklearn.linear_model import LassoCV\n",
    "from sklearn.linear_model import LogisticRegression\n",
    "%matplotlib inline"
   ]
  },
  {
   "cell_type": "code",
   "execution_count": 1666,
   "metadata": {},
   "outputs": [],
   "source": [
    "conn = pymysql.connect(host='localhost', user='root', password='Sk1ttles', db='nba_stats_prod', autocommit=True)"
   ]
  },
  {
   "cell_type": "code",
   "execution_count": 1667,
   "metadata": {},
   "outputs": [],
   "source": [
    "train = \"\"\"\n",
    "\n",
    "select basic.player_id,\n",
    "    -- reg_avg.season,\n",
    "       box_view.team,\n",
    "       box_view.game_hash,\n",
    "       box_view.game_date,\n",
    "       box_view.home_away,\n",
    "       basic.pts,\n",
    "       basic.minutes_played,\n",
    "    -- basic.fg,\n",
    "       basic.fga,\n",
    "    -- basic.fg_pct,\n",
    "    -- basic.3p,\n",
    "       basic.3pa,\n",
    "    -- basic.3p_pct,\n",
    "    -- basic.ft,\n",
    "    -- basic.ft_pct,\n",
    "       basic.orb,\n",
    "    -- basic.drb,\n",
    "       basic.trb,\n",
    "       basic.ast,\n",
    "       basic.stl,\n",
    "       basic.blk,\n",
    "       basic.tov,\n",
    "       basic.pf,\n",
    "    -- adv.true_shooting_pct,\n",
    "    -- adv.effective_fg_pct,\n",
    "    -- adv.3P_attempt_rate,\n",
    "    -- adv.FT_attempt_rate,\n",
    "    -- adv.offensive_reb_rate,\n",
    "    -- adv.defensive_reb_rate,\n",
    "    -- adv.total_reb_pct,\n",
    "    -- adv.assist_pct,\n",
    "    -- adv.steal_pct,\n",
    "    -- adv.block_pct,\n",
    "       adv.turnover_pct,\n",
    "       adv.usage_pct,\n",
    "       a_stats.pace,\n",
    "    -- adv.offensive_rating,\n",
    "    -- adv.defensive_rating,\n",
    "    -- reg_avg.fg_m as tot_fg_m,\n",
    "       reg_avg.fg_a as tot_fg_a,\n",
    "    -- reg_avg.fg_pct as tot_fg_pct,\n",
    "    -- reg_avg.3p_m as tot_3p_m,\n",
    "       reg_avg.3p_a as tot_3p_a,\n",
    "    -- reg_avg.3p_pct as tot_3p_pct,\n",
    "    -- reg_avg.ft_m as tot_ft_m,\n",
    "       reg_avg.ft_a as tot_ft_a,\n",
    "    -- reg_avg.ft_pct as tot_ft_pct,\n",
    "    -- reg_avg.or as tot_or,\n",
    "    -- reg_avg.dr as tot_dr,\n",
    "       reg_avg.reb as tot_reb,\n",
    "       reg_avg.ast as tot_ast,\n",
    "       reg_avg.blk as tot_blk,\n",
    "       reg_avg.stl as tot_stl,\n",
    "       reg_avg.pf as tot_pf,\n",
    "       reg_avg.`TO` as tot_to\n",
    "    -- reg_avg.pts as tot_point\n",
    "    -- reg_tot.fg_a as tot_season_fg,\n",
    "    -- reg_tot.3p_a as tot_season_3p,\n",
    "    -- reg_tot.ft_a as tot_season_ft,\n",
    "    -- reg_tot.reb as tot_season_reb,\n",
    "    -- reg_tot.ast as tot_season_ast,\n",
    "    -- reg_tot.stl as tot_season_stl\n",
    "from (\n",
    "\n",
    "     select m.game_hash, m.team, m.game_date, m.home_away, lu.season\n",
    "     from box_scores_map_view as m\n",
    "            inner join game_date_lookup as lu on m.game_date = lu.day\n",
    "     where m.game_date < current_date and\n",
    "           lu.season > 2000 and\n",
    "           m.home_away = 'Away'\n",
    "     order by game_date desc\n",
    "\n",
    "   ) as box_view\n",
    "inner join player_team_map as play_m on ( (box_view.team = play_m.team) and (\n",
    "box_view.season = play_m.season) )\n",
    "inner join basic_box_stats as basic on ( (box_view.game_hash = basic.game_hash) and (\n",
    "play_m.player_id = basic.player_id) )\n",
    "inner join advanced_box_stats as adv on ( (box_view.game_hash = adv.game_hash) and (\n",
    "play_m.player_id = adv.player_id) )\n",
    "inner join team_advanced_boxscore_stats as a_stats on ( (box_view.game_hash = a_stats.game_hash) and (box_view.team = a_stats.team) )\n",
    "left outer join RegularSeasonAverages as reg_avg on ( (basic.player_id = reg_avg.player_id) and (box_view.season-1 = reg_avg.season) )\n",
    "order by box_view.game_date desc;\n",
    "\n",
    "\"\"\""
   ]
  },
  {
   "cell_type": "code",
   "execution_count": 1668,
   "metadata": {},
   "outputs": [],
   "source": [
    "df = pd.read_sql(sql=train, con=conn, index_col=None)"
   ]
  },
  {
   "cell_type": "code",
   "execution_count": null,
   "metadata": {},
   "outputs": [],
   "source": []
  },
  {
   "cell_type": "code",
   "execution_count": 1669,
   "metadata": {},
   "outputs": [],
   "source": [
    "def time_convert(minutes_played):\n",
    "    time_list = minutes_played.split(':')\n",
    "    try:\n",
    "        return ((int(time_list[0]) * 60) + int(time_list[1]))\n",
    "    except ValueError:\n",
    "        return 0"
   ]
  },
  {
   "cell_type": "code",
   "execution_count": 1670,
   "metadata": {},
   "outputs": [],
   "source": [
    "def concat_drop(df, dummy_var_col, drop_list):\n",
    "    for field in dummy_var_col:\n",
    "        df = pd.concat([df, gen_dummby_var(df, field)], axis=1)\n",
    "    df.drop(drop_list, axis=1, inplace=True)\n",
    "    return df"
   ]
  },
  {
   "cell_type": "code",
   "execution_count": 1671,
   "metadata": {},
   "outputs": [],
   "source": [
    "def gen_dummby_var(df, column):\n",
    "    return pd.get_dummies(df[column], drop_first=True)"
   ]
  },
  {
   "cell_type": "code",
   "execution_count": null,
   "metadata": {},
   "outputs": [],
   "source": []
  },
  {
   "cell_type": "code",
   "execution_count": 1672,
   "metadata": {},
   "outputs": [],
   "source": [
    "df.loc[:, 'minutes_played'] = df.loc[:, 'minutes_played'].apply(time_convert)"
   ]
  },
  {
   "cell_type": "code",
   "execution_count": 1687,
   "metadata": {},
   "outputs": [],
   "source": [
    "clean_df = concat_drop(df[df['minutes_played'] >= 720], ['home_away'], [ 'player_id', 'team', 'game_hash', 'game_date', 'home_away'])"
   ]
  },
  {
   "cell_type": "code",
   "execution_count": 1688,
   "metadata": {},
   "outputs": [
    {
     "data": {
      "text/html": [
       "<div>\n",
       "<style scoped>\n",
       "    .dataframe tbody tr th:only-of-type {\n",
       "        vertical-align: middle;\n",
       "    }\n",
       "\n",
       "    .dataframe tbody tr th {\n",
       "        vertical-align: top;\n",
       "    }\n",
       "\n",
       "    .dataframe thead th {\n",
       "        text-align: right;\n",
       "    }\n",
       "</style>\n",
       "<table border=\"1\" class=\"dataframe\">\n",
       "  <thead>\n",
       "    <tr style=\"text-align: right;\">\n",
       "      <th></th>\n",
       "      <th>pts</th>\n",
       "      <th>minutes_played</th>\n",
       "      <th>fga</th>\n",
       "      <th>3pa</th>\n",
       "      <th>orb</th>\n",
       "      <th>trb</th>\n",
       "      <th>ast</th>\n",
       "      <th>stl</th>\n",
       "      <th>blk</th>\n",
       "      <th>tov</th>\n",
       "      <th>...</th>\n",
       "      <th>pace</th>\n",
       "      <th>tot_fg_a</th>\n",
       "      <th>tot_3p_a</th>\n",
       "      <th>tot_ft_a</th>\n",
       "      <th>tot_reb</th>\n",
       "      <th>tot_ast</th>\n",
       "      <th>tot_blk</th>\n",
       "      <th>tot_stl</th>\n",
       "      <th>tot_pf</th>\n",
       "      <th>tot_to</th>\n",
       "    </tr>\n",
       "  </thead>\n",
       "  <tbody>\n",
       "    <tr>\n",
       "      <th>0</th>\n",
       "      <td>1</td>\n",
       "      <td>1147</td>\n",
       "      <td>4</td>\n",
       "      <td>4</td>\n",
       "      <td>0</td>\n",
       "      <td>0</td>\n",
       "      <td>0</td>\n",
       "      <td>1</td>\n",
       "      <td>0</td>\n",
       "      <td>1</td>\n",
       "      <td>...</td>\n",
       "      <td>95.5</td>\n",
       "      <td>6.0</td>\n",
       "      <td>2.6</td>\n",
       "      <td>1.2</td>\n",
       "      <td>2.5</td>\n",
       "      <td>0.8</td>\n",
       "      <td>0.2</td>\n",
       "      <td>0.6</td>\n",
       "      <td>2.0</td>\n",
       "      <td>0.7</td>\n",
       "    </tr>\n",
       "    <tr>\n",
       "      <th>1</th>\n",
       "      <td>1</td>\n",
       "      <td>1147</td>\n",
       "      <td>4</td>\n",
       "      <td>4</td>\n",
       "      <td>0</td>\n",
       "      <td>0</td>\n",
       "      <td>0</td>\n",
       "      <td>1</td>\n",
       "      <td>0</td>\n",
       "      <td>1</td>\n",
       "      <td>...</td>\n",
       "      <td>95.5</td>\n",
       "      <td>4.9</td>\n",
       "      <td>1.9</td>\n",
       "      <td>1.4</td>\n",
       "      <td>3.5</td>\n",
       "      <td>1.1</td>\n",
       "      <td>0.3</td>\n",
       "      <td>0.7</td>\n",
       "      <td>1.8</td>\n",
       "      <td>0.8</td>\n",
       "    </tr>\n",
       "    <tr>\n",
       "      <th>2</th>\n",
       "      <td>12</td>\n",
       "      <td>1976</td>\n",
       "      <td>9</td>\n",
       "      <td>0</td>\n",
       "      <td>8</td>\n",
       "      <td>17</td>\n",
       "      <td>1</td>\n",
       "      <td>0</td>\n",
       "      <td>2</td>\n",
       "      <td>2</td>\n",
       "      <td>...</td>\n",
       "      <td>95.5</td>\n",
       "      <td>9.1</td>\n",
       "      <td>0.0</td>\n",
       "      <td>1.9</td>\n",
       "      <td>10.8</td>\n",
       "      <td>0.9</td>\n",
       "      <td>1.9</td>\n",
       "      <td>0.8</td>\n",
       "      <td>2.5</td>\n",
       "      <td>1.4</td>\n",
       "    </tr>\n",
       "    <tr>\n",
       "      <th>4</th>\n",
       "      <td>13</td>\n",
       "      <td>2412</td>\n",
       "      <td>13</td>\n",
       "      <td>3</td>\n",
       "      <td>0</td>\n",
       "      <td>4</td>\n",
       "      <td>4</td>\n",
       "      <td>3</td>\n",
       "      <td>1</td>\n",
       "      <td>1</td>\n",
       "      <td>...</td>\n",
       "      <td>95.5</td>\n",
       "      <td>13.8</td>\n",
       "      <td>6.5</td>\n",
       "      <td>3.5</td>\n",
       "      <td>5.4</td>\n",
       "      <td>7.9</td>\n",
       "      <td>0.2</td>\n",
       "      <td>1.7</td>\n",
       "      <td>2.4</td>\n",
       "      <td>2.2</td>\n",
       "    </tr>\n",
       "    <tr>\n",
       "      <th>5</th>\n",
       "      <td>3</td>\n",
       "      <td>2312</td>\n",
       "      <td>3</td>\n",
       "      <td>3</td>\n",
       "      <td>0</td>\n",
       "      <td>7</td>\n",
       "      <td>0</td>\n",
       "      <td>0</td>\n",
       "      <td>0</td>\n",
       "      <td>1</td>\n",
       "      <td>...</td>\n",
       "      <td>95.5</td>\n",
       "      <td>5.4</td>\n",
       "      <td>3.8</td>\n",
       "      <td>0.5</td>\n",
       "      <td>5.6</td>\n",
       "      <td>0.9</td>\n",
       "      <td>0.3</td>\n",
       "      <td>1.0</td>\n",
       "      <td>2.5</td>\n",
       "      <td>0.9</td>\n",
       "    </tr>\n",
       "  </tbody>\n",
       "</table>\n",
       "<p>5 rows × 23 columns</p>\n",
       "</div>"
      ],
      "text/plain": [
       "   pts  minutes_played  fga  3pa  orb  trb  ast  stl  blk  tov   ...    pace  \\\n",
       "0    1            1147    4    4    0    0    0    1    0    1   ...    95.5   \n",
       "1    1            1147    4    4    0    0    0    1    0    1   ...    95.5   \n",
       "2   12            1976    9    0    8   17    1    0    2    2   ...    95.5   \n",
       "4   13            2412   13    3    0    4    4    3    1    1   ...    95.5   \n",
       "5    3            2312    3    3    0    7    0    0    0    1   ...    95.5   \n",
       "\n",
       "   tot_fg_a  tot_3p_a  tot_ft_a  tot_reb  tot_ast  tot_blk  tot_stl  tot_pf  \\\n",
       "0       6.0       2.6       1.2      2.5      0.8      0.2      0.6     2.0   \n",
       "1       4.9       1.9       1.4      3.5      1.1      0.3      0.7     1.8   \n",
       "2       9.1       0.0       1.9     10.8      0.9      1.9      0.8     2.5   \n",
       "4      13.8       6.5       3.5      5.4      7.9      0.2      1.7     2.4   \n",
       "5       5.4       3.8       0.5      5.6      0.9      0.3      1.0     2.5   \n",
       "\n",
       "   tot_to  \n",
       "0     0.7  \n",
       "1     0.8  \n",
       "2     1.4  \n",
       "4     2.2  \n",
       "5     0.9  \n",
       "\n",
       "[5 rows x 23 columns]"
      ]
     },
     "execution_count": 1688,
     "metadata": {},
     "output_type": "execute_result"
    }
   ],
   "source": [
    "#clean_df.drop('Home', inplace=True, axis=1)\n",
    "clean_df.head()"
   ]
  },
  {
   "cell_type": "code",
   "execution_count": 1689,
   "metadata": {},
   "outputs": [],
   "source": [
    "clean_df = clean_df.fillna(0)"
   ]
  },
  {
   "cell_type": "code",
   "execution_count": 1690,
   "metadata": {},
   "outputs": [],
   "source": [
    "x = clean_df.loc[:, 'minutes_played':]\n",
    "y = clean_df.loc[:, 'pts']"
   ]
  },
  {
   "cell_type": "code",
   "execution_count": 1691,
   "metadata": {},
   "outputs": [],
   "source": [
    "X_train, X_test, y_train, y_test = train_test_split(clean_df.loc[:, 'minutes_played':], clean_df.loc[:, 'pts'], test_size=.33)"
   ]
  },
  {
   "cell_type": "code",
   "execution_count": 1692,
   "metadata": {},
   "outputs": [],
   "source": [
    "lm = LinearRegression()"
   ]
  },
  {
   "cell_type": "code",
   "execution_count": 1693,
   "metadata": {},
   "outputs": [
    {
     "data": {
      "text/plain": [
       "LinearRegression(copy_X=True, fit_intercept=True, n_jobs=1, normalize=False)"
      ]
     },
     "execution_count": 1693,
     "metadata": {},
     "output_type": "execute_result"
    }
   ],
   "source": [
    "lm.fit(X_train, y_train)"
   ]
  },
  {
   "cell_type": "code",
   "execution_count": 1694,
   "metadata": {},
   "outputs": [],
   "source": [
    "predictions = lm.predict(X_test)"
   ]
  },
  {
   "cell_type": "code",
   "execution_count": null,
   "metadata": {},
   "outputs": [],
   "source": []
  },
  {
   "cell_type": "code",
   "execution_count": null,
   "metadata": {},
   "outputs": [],
   "source": []
  },
  {
   "cell_type": "code",
   "execution_count": 1695,
   "metadata": {},
   "outputs": [
    {
     "data": {
      "text/plain": [
       "Text(0,0.5,'Predicted Y')"
      ]
     },
     "execution_count": 1695,
     "metadata": {},
     "output_type": "execute_result"
    },
    {
     "data": {
      "image/png": "[encoded data removed]",
      "text/plain": [
       "<Figure size 432x288 with 1 Axes>"
      ]
     },
     "metadata": {},
     "output_type": "display_data"
    }
   ],
   "source": [
    "plt.scatter(y_test,predictions)\n",
    "plt.xlabel('Y Test')\n",
    "plt.ylabel('Predicted Y')"
   ]
  },
  {
   "cell_type": "code",
   "execution_count": 1696,
   "metadata": {},
   "outputs": [
    {
     "data": {
      "image/png": "[encoded data removed]",
      "text/plain": [
       "<Figure size 432x288 with 1 Axes>"
      ]
     },
     "metadata": {},
     "output_type": "display_data"
    }
   ],
   "source": [
    "sns.distplot((y_test-predictions),bins=50);"
   ]
  },
  {
   "cell_type": "code",
   "execution_count": 1697,
   "metadata": {},
   "outputs": [
    {
     "data": {
      "text/html": [
       "<div>\n",
       "<style scoped>\n",
       "    .dataframe tbody tr th:only-of-type {\n",
       "        vertical-align: middle;\n",
       "    }\n",
       "\n",
       "    .dataframe tbody tr th {\n",
       "        vertical-align: top;\n",
       "    }\n",
       "\n",
       "    .dataframe thead th {\n",
       "        text-align: right;\n",
       "    }\n",
       "</style>\n",
       "<table border=\"1\" class=\"dataframe\">\n",
       "  <thead>\n",
       "    <tr style=\"text-align: right;\">\n",
       "      <th></th>\n",
       "      <th>Coeffecient</th>\n",
       "    </tr>\n",
       "  </thead>\n",
       "  <tbody>\n",
       "    <tr>\n",
       "      <th>minutes_played</th>\n",
       "      <td>0.005083</td>\n",
       "    </tr>\n",
       "    <tr>\n",
       "      <th>fga</th>\n",
       "      <td>0.428113</td>\n",
       "    </tr>\n",
       "    <tr>\n",
       "      <th>3pa</th>\n",
       "      <td>0.214675</td>\n",
       "    </tr>\n",
       "    <tr>\n",
       "      <th>orb</th>\n",
       "      <td>-0.110628</td>\n",
       "    </tr>\n",
       "    <tr>\n",
       "      <th>trb</th>\n",
       "      <td>0.059024</td>\n",
       "    </tr>\n",
       "    <tr>\n",
       "      <th>ast</th>\n",
       "      <td>-0.028717</td>\n",
       "    </tr>\n",
       "    <tr>\n",
       "      <th>stl</th>\n",
       "      <td>0.054244</td>\n",
       "    </tr>\n",
       "    <tr>\n",
       "      <th>blk</th>\n",
       "      <td>0.031110</td>\n",
       "    </tr>\n",
       "    <tr>\n",
       "      <th>tov</th>\n",
       "      <td>-0.365287</td>\n",
       "    </tr>\n",
       "    <tr>\n",
       "      <th>pf</th>\n",
       "      <td>0.061240</td>\n",
       "    </tr>\n",
       "    <tr>\n",
       "      <th>turnover_pct</th>\n",
       "      <td>-0.021510</td>\n",
       "    </tr>\n",
       "    <tr>\n",
       "      <th>usage_pct</th>\n",
       "      <td>0.358040</td>\n",
       "    </tr>\n",
       "    <tr>\n",
       "      <th>pace</th>\n",
       "      <td>0.090989</td>\n",
       "    </tr>\n",
       "    <tr>\n",
       "      <th>tot_fg_a</th>\n",
       "      <td>-0.125002</td>\n",
       "    </tr>\n",
       "    <tr>\n",
       "      <th>tot_3p_a</th>\n",
       "      <td>-0.059993</td>\n",
       "    </tr>\n",
       "    <tr>\n",
       "      <th>tot_ft_a</th>\n",
       "      <td>0.695652</td>\n",
       "    </tr>\n",
       "    <tr>\n",
       "      <th>tot_reb</th>\n",
       "      <td>0.048107</td>\n",
       "    </tr>\n",
       "    <tr>\n",
       "      <th>tot_ast</th>\n",
       "      <td>0.013264</td>\n",
       "    </tr>\n",
       "    <tr>\n",
       "      <th>tot_blk</th>\n",
       "      <td>0.109882</td>\n",
       "    </tr>\n",
       "    <tr>\n",
       "      <th>tot_stl</th>\n",
       "      <td>-0.352107</td>\n",
       "    </tr>\n",
       "    <tr>\n",
       "      <th>tot_pf</th>\n",
       "      <td>-0.019332</td>\n",
       "    </tr>\n",
       "    <tr>\n",
       "      <th>tot_to</th>\n",
       "      <td>-0.107270</td>\n",
       "    </tr>\n",
       "  </tbody>\n",
       "</table>\n",
       "</div>"
      ],
      "text/plain": [
       "                Coeffecient\n",
       "minutes_played     0.005083\n",
       "fga                0.428113\n",
       "3pa                0.214675\n",
       "orb               -0.110628\n",
       "trb                0.059024\n",
       "ast               -0.028717\n",
       "stl                0.054244\n",
       "blk                0.031110\n",
       "tov               -0.365287\n",
       "pf                 0.061240\n",
       "turnover_pct      -0.021510\n",
       "usage_pct          0.358040\n",
       "pace               0.090989\n",
       "tot_fg_a          -0.125002\n",
       "tot_3p_a          -0.059993\n",
       "tot_ft_a           0.695652\n",
       "tot_reb            0.048107\n",
       "tot_ast            0.013264\n",
       "tot_blk            0.109882\n",
       "tot_stl           -0.352107\n",
       "tot_pf            -0.019332\n",
       "tot_to            -0.107270"
      ]
     },
     "execution_count": 1697,
     "metadata": {},
     "output_type": "execute_result"
    }
   ],
   "source": [
    "coeffecients = pd.DataFrame(lm.coef_,X_test.columns)\n",
    "coeffecients.columns = ['Coeffecient']\n",
    "coeffecients"
   ]
  },
  {
   "cell_type": "code",
   "execution_count": 1698,
   "metadata": {},
   "outputs": [
    {
     "data": {
      "text/plain": [
       "0.75838244440923175"
      ]
     },
     "execution_count": 1698,
     "metadata": {},
     "output_type": "execute_result"
    }
   ],
   "source": [
    "lm.score(X_test, y_test)"
   ]
  },
  {
   "cell_type": "code",
   "execution_count": null,
   "metadata": {},
   "outputs": [],
   "source": []
  },
  {
   "cell_type": "code",
   "execution_count": 1529,
   "metadata": {},
   "outputs": [],
   "source": [
    "### Experimenting with Lasso regression"
   ]
  },
  {
   "cell_type": "code",
   "execution_count": 1626,
   "metadata": {},
   "outputs": [],
   "source": [
    "lasso = Lasso(alpha=0.0023101297000831605)  #Home: 0.00174333 - 0.00221222"
   ]
  },
  {
   "cell_type": "code",
   "execution_count": 1627,
   "metadata": {},
   "outputs": [
    {
     "data": {
      "text/plain": [
       "Lasso(alpha=0.0023101297000831605, copy_X=True, fit_intercept=True,\n",
       "   max_iter=1000, normalize=False, positive=False, precompute=False,\n",
       "   random_state=None, selection='cyclic', tol=0.0001, warm_start=False)"
      ]
     },
     "execution_count": 1627,
     "metadata": {},
     "output_type": "execute_result"
    }
   ],
   "source": [
    "lasso.fit(X_train, y_train)"
   ]
  },
  {
   "cell_type": "code",
   "execution_count": 1628,
   "metadata": {},
   "outputs": [],
   "source": [
    "predictions = lasso.predict(X_test)"
   ]
  },
  {
   "cell_type": "code",
   "execution_count": 1629,
   "metadata": {},
   "outputs": [
    {
     "data": {
      "text/plain": [
       "Text(0,0.5,'Predicted Y')"
      ]
     },
     "execution_count": 1629,
     "metadata": {},
     "output_type": "execute_result"
    },
    {
     "data": {
      "image/png": "[encoded data removed]",
      "text/plain": [
       "<Figure size 432x288 with 1 Axes>"
      ]
     },
     "metadata": {},
     "output_type": "display_data"
    }
   ],
   "source": [
    "plt.scatter(y_test,predictions)\n",
    "plt.xlabel('Y Test')\n",
    "plt.ylabel('Predicted Y')"
   ]
  },
  {
   "cell_type": "code",
   "execution_count": 1630,
   "metadata": {},
   "outputs": [
    {
     "data": {
      "text/plain": [
       "<matplotlib.axes._subplots.AxesSubplot at 0x1105aa908>"
      ]
     },
     "execution_count": 1630,
     "metadata": {},
     "output_type": "execute_result"
    },
    {
     "data": {
      "image/png": "[encoded data removed]",
      "text/plain": [
       "<Figure size 432x288 with 1 Axes>"
      ]
     },
     "metadata": {},
     "output_type": "display_data"
    }
   ],
   "source": [
    "sns.set_palette(\"GnBu_d\")\n",
    "sns.set_style('whitegrid')\n",
    "sns.distplot(y_test-predictions, bins=50)"
   ]
  },
  {
   "cell_type": "code",
   "execution_count": 1631,
   "metadata": {},
   "outputs": [
    {
     "data": {
      "text/plain": [
       "0.90642712906679335"
      ]
     },
     "execution_count": 1631,
     "metadata": {},
     "output_type": "execute_result"
    }
   ],
   "source": [
    "lasso.score(X_test, y_test)"
   ]
  },
  {
   "cell_type": "code",
   "execution_count": null,
   "metadata": {},
   "outputs": [],
   "source": []
  },
  {
   "cell_type": "code",
   "execution_count": 1632,
   "metadata": {},
   "outputs": [
    {
     "data": {
      "text/html": [
       "<div>\n",
       "<style scoped>\n",
       "    .dataframe tbody tr th:only-of-type {\n",
       "        vertical-align: middle;\n",
       "    }\n",
       "\n",
       "    .dataframe tbody tr th {\n",
       "        vertical-align: top;\n",
       "    }\n",
       "\n",
       "    .dataframe thead th {\n",
       "        text-align: right;\n",
       "    }\n",
       "</style>\n",
       "<table border=\"1\" class=\"dataframe\">\n",
       "  <thead>\n",
       "    <tr style=\"text-align: right;\">\n",
       "      <th></th>\n",
       "      <th>Coeffecient</th>\n",
       "    </tr>\n",
       "  </thead>\n",
       "  <tbody>\n",
       "    <tr>\n",
       "      <th>minutes_played</th>\n",
       "      <td>0.003313</td>\n",
       "    </tr>\n",
       "    <tr>\n",
       "      <th>fga</th>\n",
       "      <td>0.684043</td>\n",
       "    </tr>\n",
       "    <tr>\n",
       "      <th>3pa</th>\n",
       "      <td>0.055526</td>\n",
       "    </tr>\n",
       "    <tr>\n",
       "      <th>orb</th>\n",
       "      <td>-0.363120</td>\n",
       "    </tr>\n",
       "    <tr>\n",
       "      <th>trb</th>\n",
       "      <td>0.055590</td>\n",
       "    </tr>\n",
       "    <tr>\n",
       "      <th>ast</th>\n",
       "      <td>-0.251323</td>\n",
       "    </tr>\n",
       "    <tr>\n",
       "      <th>stl</th>\n",
       "      <td>0.058080</td>\n",
       "    </tr>\n",
       "    <tr>\n",
       "      <th>blk</th>\n",
       "      <td>0.036037</td>\n",
       "    </tr>\n",
       "    <tr>\n",
       "      <th>tov</th>\n",
       "      <td>-0.104871</td>\n",
       "    </tr>\n",
       "    <tr>\n",
       "      <th>pf</th>\n",
       "      <td>0.006462</td>\n",
       "    </tr>\n",
       "    <tr>\n",
       "      <th>effective_fg_pct</th>\n",
       "      <td>2.311702</td>\n",
       "    </tr>\n",
       "    <tr>\n",
       "      <th>turnover_pct</th>\n",
       "      <td>0.070270</td>\n",
       "    </tr>\n",
       "    <tr>\n",
       "      <th>usage_pct</th>\n",
       "      <td>0.278777</td>\n",
       "    </tr>\n",
       "    <tr>\n",
       "      <th>pace</th>\n",
       "      <td>0.064875</td>\n",
       "    </tr>\n",
       "    <tr>\n",
       "      <th>offensive_rating</th>\n",
       "      <td>0.081378</td>\n",
       "    </tr>\n",
       "    <tr>\n",
       "      <th>defensive_rating</th>\n",
       "      <td>0.008750</td>\n",
       "    </tr>\n",
       "    <tr>\n",
       "      <th>tot_fg_a</th>\n",
       "      <td>-0.081476</td>\n",
       "    </tr>\n",
       "    <tr>\n",
       "      <th>tot_3p_a</th>\n",
       "      <td>-0.014048</td>\n",
       "    </tr>\n",
       "    <tr>\n",
       "      <th>tot_ft_a</th>\n",
       "      <td>0.502710</td>\n",
       "    </tr>\n",
       "    <tr>\n",
       "      <th>tot_reb</th>\n",
       "      <td>0.011663</td>\n",
       "    </tr>\n",
       "    <tr>\n",
       "      <th>tot_ast</th>\n",
       "      <td>-0.003382</td>\n",
       "    </tr>\n",
       "    <tr>\n",
       "      <th>tot_blk</th>\n",
       "      <td>0.053830</td>\n",
       "    </tr>\n",
       "    <tr>\n",
       "      <th>tot_stl</th>\n",
       "      <td>-0.028912</td>\n",
       "    </tr>\n",
       "    <tr>\n",
       "      <th>tot_pf</th>\n",
       "      <td>-0.088797</td>\n",
       "    </tr>\n",
       "    <tr>\n",
       "      <th>tot_to</th>\n",
       "      <td>-0.002495</td>\n",
       "    </tr>\n",
       "  </tbody>\n",
       "</table>\n",
       "</div>"
      ],
      "text/plain": [
       "                  Coeffecient\n",
       "minutes_played       0.003313\n",
       "fga                  0.684043\n",
       "3pa                  0.055526\n",
       "orb                 -0.363120\n",
       "trb                  0.055590\n",
       "ast                 -0.251323\n",
       "stl                  0.058080\n",
       "blk                  0.036037\n",
       "tov                 -0.104871\n",
       "pf                   0.006462\n",
       "effective_fg_pct     2.311702\n",
       "turnover_pct         0.070270\n",
       "usage_pct            0.278777\n",
       "pace                 0.064875\n",
       "offensive_rating     0.081378\n",
       "defensive_rating     0.008750\n",
       "tot_fg_a            -0.081476\n",
       "tot_3p_a            -0.014048\n",
       "tot_ft_a             0.502710\n",
       "tot_reb              0.011663\n",
       "tot_ast             -0.003382\n",
       "tot_blk              0.053830\n",
       "tot_stl             -0.028912\n",
       "tot_pf              -0.088797\n",
       "tot_to              -0.002495"
      ]
     },
     "execution_count": 1632,
     "metadata": {},
     "output_type": "execute_result"
    }
   ],
   "source": [
    "coeffecients = pd.DataFrame(lasso.coef_,X_test.columns)\n",
    "coeffecients.columns = ['Coeffecient']\n",
    "coeffecients"
   ]
  },
  {
   "cell_type": "code",
   "execution_count": 1115,
   "metadata": {},
   "outputs": [],
   "source": [
    "#### Using Lasso cross-validation model"
   ]
  },
  {
   "cell_type": "code",
   "execution_count": 778,
   "metadata": {},
   "outputs": [],
   "source": [
    "lasso_cv = LassoCV()"
   ]
  },
  {
   "cell_type": "code",
   "execution_count": 779,
   "metadata": {},
   "outputs": [
    {
     "data": {
      "text/plain": [
       "LassoCV(alphas=None, copy_X=True, cv=None, eps=0.001, fit_intercept=True,\n",
       "    max_iter=1000, n_alphas=100, n_jobs=1, normalize=False, positive=False,\n",
       "    precompute='auto', random_state=None, selection='cyclic', tol=0.0001,\n",
       "    verbose=False)"
      ]
     },
     "execution_count": 779,
     "metadata": {},
     "output_type": "execute_result"
    }
   ],
   "source": [
    "lasso_cv.fit(X_train, y_train)"
   ]
  },
  {
   "cell_type": "code",
   "execution_count": 780,
   "metadata": {},
   "outputs": [],
   "source": [
    "predictions_cv = lasso_cv.predict(X_test)"
   ]
  },
  {
   "cell_type": "code",
   "execution_count": 781,
   "metadata": {},
   "outputs": [
    {
     "data": {
      "text/plain": [
       "Text(0,0.5,'Predicted Y')"
      ]
     },
     "execution_count": 781,
     "metadata": {},
     "output_type": "execute_result"
    },
    {
     "data": {
      "image/png": "[encoded data removed]",
      "text/plain": [
       "<Figure size 432x288 with 1 Axes>"
      ]
     },
     "metadata": {},
     "output_type": "display_data"
    }
   ],
   "source": [
    "plt.scatter(y_test,predictions_cv)\n",
    "plt.xlabel('Y Test')\n",
    "plt.ylabel('Predicted Y')"
   ]
  },
  {
   "cell_type": "code",
   "execution_count": 1362,
   "metadata": {},
   "outputs": [
    {
     "data": {
      "text/plain": [
       "<matplotlib.axes._subplots.AxesSubplot at 0x15016d048>"
      ]
     },
     "execution_count": 1362,
     "metadata": {},
     "output_type": "execute_result"
    },
    {
     "data": {
      "image/png": "[encoded data removed]",
      "text/plain": [
       "<Figure size 432x288 with 1 Axes>"
      ]
     },
     "metadata": {},
     "output_type": "display_data"
    }
   ],
   "source": [
    "sns.distplot(y_test-predictions, bins=50)"
   ]
  },
  {
   "cell_type": "code",
   "execution_count": 783,
   "metadata": {},
   "outputs": [
    {
     "data": {
      "text/plain": [
       "0.86399447660533457"
      ]
     },
     "execution_count": 783,
     "metadata": {},
     "output_type": "execute_result"
    }
   ],
   "source": [
    "lasso_cv.score(X_test, y_test)"
   ]
  },
  {
   "cell_type": "code",
   "execution_count": null,
   "metadata": {},
   "outputs": [],
   "source": []
  },
  {
   "cell_type": "code",
   "execution_count": 784,
   "metadata": {},
   "outputs": [
    {
     "data": {
      "text/html": [
       "<div>\n",
       "<style scoped>\n",
       "    .dataframe tbody tr th:only-of-type {\n",
       "        vertical-align: middle;\n",
       "    }\n",
       "\n",
       "    .dataframe tbody tr th {\n",
       "        vertical-align: top;\n",
       "    }\n",
       "\n",
       "    .dataframe thead th {\n",
       "        text-align: right;\n",
       "    }\n",
       "</style>\n",
       "<table border=\"1\" class=\"dataframe\">\n",
       "  <thead>\n",
       "    <tr style=\"text-align: right;\">\n",
       "      <th></th>\n",
       "      <th>Coeffecient</th>\n",
       "    </tr>\n",
       "  </thead>\n",
       "  <tbody>\n",
       "    <tr>\n",
       "      <th>minutes_played</th>\n",
       "      <td>2.652543e-03</td>\n",
       "    </tr>\n",
       "    <tr>\n",
       "      <th>fga</th>\n",
       "      <td>8.035470e-01</td>\n",
       "    </tr>\n",
       "    <tr>\n",
       "      <th>3pa</th>\n",
       "      <td>6.179230e-02</td>\n",
       "    </tr>\n",
       "    <tr>\n",
       "      <th>ft_pct</th>\n",
       "      <td>6.915055e-01</td>\n",
       "    </tr>\n",
       "    <tr>\n",
       "      <th>orb</th>\n",
       "      <td>-4.457033e-01</td>\n",
       "    </tr>\n",
       "    <tr>\n",
       "      <th>trb</th>\n",
       "      <td>6.056389e-02</td>\n",
       "    </tr>\n",
       "    <tr>\n",
       "      <th>ast</th>\n",
       "      <td>-2.949219e-01</td>\n",
       "    </tr>\n",
       "    <tr>\n",
       "      <th>stl</th>\n",
       "      <td>9.395057e-02</td>\n",
       "    </tr>\n",
       "    <tr>\n",
       "      <th>blk</th>\n",
       "      <td>6.990563e-02</td>\n",
       "    </tr>\n",
       "    <tr>\n",
       "      <th>tov</th>\n",
       "      <td>1.631886e-02</td>\n",
       "    </tr>\n",
       "    <tr>\n",
       "      <th>pf</th>\n",
       "      <td>-8.732180e-03</td>\n",
       "    </tr>\n",
       "    <tr>\n",
       "      <th>turnover_pct</th>\n",
       "      <td>7.791499e-02</td>\n",
       "    </tr>\n",
       "    <tr>\n",
       "      <th>usage_pct</th>\n",
       "      <td>2.262049e-01</td>\n",
       "    </tr>\n",
       "    <tr>\n",
       "      <th>pace</th>\n",
       "      <td>5.353675e-02</td>\n",
       "    </tr>\n",
       "    <tr>\n",
       "      <th>offensive_rating</th>\n",
       "      <td>8.802327e-02</td>\n",
       "    </tr>\n",
       "    <tr>\n",
       "      <th>defensive_rating</th>\n",
       "      <td>1.095322e-02</td>\n",
       "    </tr>\n",
       "    <tr>\n",
       "      <th>tot_fg_m</th>\n",
       "      <td>4.088870e-01</td>\n",
       "    </tr>\n",
       "    <tr>\n",
       "      <th>tot_fg_a</th>\n",
       "      <td>-2.762089e-01</td>\n",
       "    </tr>\n",
       "    <tr>\n",
       "      <th>tot_fg_pct</th>\n",
       "      <td>0.000000e+00</td>\n",
       "    </tr>\n",
       "    <tr>\n",
       "      <th>tot_3p_m</th>\n",
       "      <td>1.696298e-01</td>\n",
       "    </tr>\n",
       "    <tr>\n",
       "      <th>tot_3p_a</th>\n",
       "      <td>2.189647e-03</td>\n",
       "    </tr>\n",
       "    <tr>\n",
       "      <th>tot_3p_pct</th>\n",
       "      <td>-0.000000e+00</td>\n",
       "    </tr>\n",
       "    <tr>\n",
       "      <th>tot_ft_m</th>\n",
       "      <td>4.272136e-01</td>\n",
       "    </tr>\n",
       "    <tr>\n",
       "      <th>tot_ft_a</th>\n",
       "      <td>6.141326e-15</td>\n",
       "    </tr>\n",
       "    <tr>\n",
       "      <th>tot_ft_pct</th>\n",
       "      <td>-1.844708e-01</td>\n",
       "    </tr>\n",
       "    <tr>\n",
       "      <th>tot_or</th>\n",
       "      <td>2.593738e-02</td>\n",
       "    </tr>\n",
       "    <tr>\n",
       "      <th>tot_dr</th>\n",
       "      <td>0.000000e+00</td>\n",
       "    </tr>\n",
       "    <tr>\n",
       "      <th>tot_reb</th>\n",
       "      <td>1.605584e-02</td>\n",
       "    </tr>\n",
       "    <tr>\n",
       "      <th>tot_ast</th>\n",
       "      <td>1.810795e-03</td>\n",
       "    </tr>\n",
       "    <tr>\n",
       "      <th>tot_blk</th>\n",
       "      <td>8.909183e-02</td>\n",
       "    </tr>\n",
       "    <tr>\n",
       "      <th>tot_stl</th>\n",
       "      <td>0.000000e+00</td>\n",
       "    </tr>\n",
       "    <tr>\n",
       "      <th>tot_pf</th>\n",
       "      <td>-1.007495e-01</td>\n",
       "    </tr>\n",
       "    <tr>\n",
       "      <th>tot_to</th>\n",
       "      <td>5.711902e-02</td>\n",
       "    </tr>\n",
       "  </tbody>\n",
       "</table>\n",
       "</div>"
      ],
      "text/plain": [
       "                   Coeffecient\n",
       "minutes_played    2.652543e-03\n",
       "fga               8.035470e-01\n",
       "3pa               6.179230e-02\n",
       "ft_pct            6.915055e-01\n",
       "orb              -4.457033e-01\n",
       "trb               6.056389e-02\n",
       "ast              -2.949219e-01\n",
       "stl               9.395057e-02\n",
       "blk               6.990563e-02\n",
       "tov               1.631886e-02\n",
       "pf               -8.732180e-03\n",
       "turnover_pct      7.791499e-02\n",
       "usage_pct         2.262049e-01\n",
       "pace              5.353675e-02\n",
       "offensive_rating  8.802327e-02\n",
       "defensive_rating  1.095322e-02\n",
       "tot_fg_m          4.088870e-01\n",
       "tot_fg_a         -2.762089e-01\n",
       "tot_fg_pct        0.000000e+00\n",
       "tot_3p_m          1.696298e-01\n",
       "tot_3p_a          2.189647e-03\n",
       "tot_3p_pct       -0.000000e+00\n",
       "tot_ft_m          4.272136e-01\n",
       "tot_ft_a          6.141326e-15\n",
       "tot_ft_pct       -1.844708e-01\n",
       "tot_or            2.593738e-02\n",
       "tot_dr            0.000000e+00\n",
       "tot_reb           1.605584e-02\n",
       "tot_ast           1.810795e-03\n",
       "tot_blk           8.909183e-02\n",
       "tot_stl           0.000000e+00\n",
       "tot_pf           -1.007495e-01\n",
       "tot_to            5.711902e-02"
      ]
     },
     "execution_count": 784,
     "metadata": {},
     "output_type": "execute_result"
    }
   ],
   "source": [
    "coeffecients = pd.DataFrame(lasso.coef_,X_test.columns)\n",
    "coeffecients.columns = ['Coeffecient']\n",
    "coeffecients"
   ]
  },
  {
   "cell_type": "code",
   "execution_count": 785,
   "metadata": {},
   "outputs": [],
   "source": [
    "### optimizing alpha value in Lasso regression"
   ]
  },
  {
   "cell_type": "code",
   "execution_count": 1699,
   "metadata": {},
   "outputs": [
    {
     "data": {
      "text/plain": [
       "array([ 0.0001    ,  0.00014384,  0.00020691,  0.00029764,  0.00042813,\n",
       "        0.00061585,  0.00088587,  0.00127427,  0.00183298,  0.00263665,\n",
       "        0.00379269,  0.00545559,  0.0078476 ,  0.01128838,  0.01623777,\n",
       "        0.02335721,  0.03359818,  0.0483293 ,  0.06951928,  0.1       ])"
      ]
     },
     "execution_count": 1699,
     "metadata": {},
     "output_type": "execute_result"
    }
   ],
   "source": [
    "alphas = np.logspace(-4, -1, 20)\n",
    "#alphas = np.linspace(.001, .999, 100) #0.00464159\n",
    "alphas"
   ]
  },
  {
   "cell_type": "code",
   "execution_count": 1700,
   "metadata": {},
   "outputs": [],
   "source": [
    "scores = np.empty_like(alphas)"
   ]
  },
  {
   "cell_type": "code",
   "execution_count": 1701,
   "metadata": {},
   "outputs": [],
   "source": [
    "for i, a in enumerate(alphas):\n",
    "    lasso = Lasso(alpha=a)\n",
    "    lasso.fit(X_train, y_train)\n",
    "    scores[i] = lasso.score(X_test, y_test)"
   ]
  },
  {
   "cell_type": "code",
   "execution_count": 1702,
   "metadata": {},
   "outputs": [
    {
     "data": {
      "text/plain": [
       "(0.00088586679041008235,\n",
       " 0.76040133856226755,\n",
       " array([ 0.00513621,  0.42297667,  0.21429669, -0.09966326,  0.05191434,\n",
       "        -0.02891979,  0.03888963,  0.04891178, -0.3703595 ,  0.06306038,\n",
       "        -0.02129217,  0.36277743,  0.08880174, -0.12779767, -0.06403512,\n",
       "         0.68846663,  0.04928607,  0.00900292,  0.09414669, -0.32748599,\n",
       "        -0.02271913, -0.09004151]),\n",
       " -16.49189948971344)"
      ]
     },
     "execution_count": 1702,
     "metadata": {},
     "output_type": "execute_result"
    }
   ],
   "source": [
    "lasso_cv = LassoCV(alphas=alphas)\n",
    "lasso_cv.fit(x, y)\n",
    "cv_score = lasso_cv.score(x, y)\n",
    "cv_alpha = lasso_cv.alpha_\n",
    "cv_alpha, cv_score, lasso_cv.coef_, lasso_cv.intercept_"
   ]
  },
  {
   "cell_type": "code",
   "execution_count": 1703,
   "metadata": {},
   "outputs": [
    {
     "data": {
      "image/png": "[encoded data removed]",
      "text/plain": [
       "<Figure size 432x288 with 1 Axes>"
      ]
     },
     "metadata": {},
     "output_type": "display_data"
    }
   ],
   "source": [
    "plt.plot(alphas, scores, '-ko')\n",
    "plt.axhline(cv_score, color='b',ls='--')\n",
    "plt.axvline(cv_alpha, color='r', ls='--')\n",
    "plt.xlabel('alpha')\n",
    "plt.ylabel('score')\n",
    "plt.xscale('linear')\n",
    "sns.despine(offset=15)"
   ]
  },
  {
   "cell_type": "code",
   "execution_count": 1704,
   "metadata": {},
   "outputs": [],
   "source": [
    "predictions = lasso_cv.predict(X_test)"
   ]
  },
  {
   "cell_type": "code",
   "execution_count": 1706,
   "metadata": {},
   "outputs": [
    {
     "data": {
      "text/plain": [
       "0.76040133856226755"
      ]
     },
     "execution_count": 1706,
     "metadata": {},
     "output_type": "execute_result"
    }
   ],
   "source": [
    "lasso_cv.score(x, y)"
   ]
  },
  {
   "cell_type": "markdown",
   "metadata": {},
   "source": [
    "print('MAE:', metrics.mean_absolute_error(y_test, predictions))\n",
    "print('MSE:', metrics.mean_squared_error(y_test, predictions))\n",
    "print('RMSE:', np.sqrt(metrics.mean_squared_error(y_test, predictions)))"
   ]
  },
  {
   "cell_type": "code",
   "execution_count": 1653,
   "metadata": {},
   "outputs": [
    {
     "data": {
      "text/plain": [
       "0.90644821228478034"
      ]
     },
     "execution_count": 1653,
     "metadata": {},
     "output_type": "execute_result"
    }
   ],
   "source": [
    "np.amax(scores)"
   ]
  },
  {
   "cell_type": "code",
   "execution_count": null,
   "metadata": {},
   "outputs": [],
   "source": []
  }
 ],
 "metadata": {
  "kernelspec": {
   "display_name": "Python 3",
   "language": "python",
   "name": "python3"
  },
  "language_info": {
   "codemirror_mode": {
    "name": "ipython",
    "version": 3
   },
   "file_extension": ".py",
   "mimetype": "text/x-python",
   "name": "python",
   "nbconvert_exporter": "python",
   "pygments_lexer": "ipython3",
   "version": "3.6.3"
  }
 },
 "nbformat": 4,
 "nbformat_minor": 2
}
