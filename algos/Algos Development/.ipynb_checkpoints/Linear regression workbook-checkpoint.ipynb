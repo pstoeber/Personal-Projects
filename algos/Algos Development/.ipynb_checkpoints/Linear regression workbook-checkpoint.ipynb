{
 "cells": [
  {
   "cell_type": "code",
   "execution_count": 4,
   "metadata": {},
   "outputs": [],
   "source": [
    "import numpy as np\n",
    "import pandas as pd\n",
    "import pymysql\n",
    "import datetime\n",
    "import matplotlib.pyplot as plt\n",
    "import seaborn as sns\n",
    "import sys\n",
    "import requests\n",
    "import itertools\n",
    "#from bs4 import BeautifulSoup\n",
    "from sklearn import metrics\n",
    "from sklearn.model_selection import train_test_split\n",
    "from sklearn.linear_model import LinearRegression\n",
    "from sklearn.linear_model import Lasso\n",
    "from sklearn.cross_validation import train_test_split\n",
    "#import sklearn.cross_validation as cv\n",
    "from sklearn.linear_model import LassoCV\n",
    "from sklearn.linear_model import LogisticRegression\n",
    "%matplotlib inline"
   ]
  },
  {
   "cell_type": "code",
   "execution_count": 5,
   "metadata": {},
   "outputs": [],
   "source": [
    "conn = pymysql.connect(host='localhost', user='root', password='Sk1ttles', db='nba_stats_prod', autocommit=True)"
   ]
  },
  {
   "cell_type": "code",
   "execution_count": 994,
   "metadata": {},
   "outputs": [],
   "source": [
    "train = \"\"\"\n",
    "select basic.player_id,\n",
    "       box_view.team,\n",
    "       box_view.game_hash,\n",
    "       box_view.game_date,\n",
    "      -- box_view.home_away,\n",
    "       basic.pts,\n",
    "       basic.minutes_played,\n",
    "       basic.fga,\n",
    "       basic.3pa,\n",
    "       basic.orb,\n",
    "       basic.trb,\n",
    "       basic.ast,\n",
    "       basic.stl,\n",
    "       basic.blk,\n",
    "       basic.tov,\n",
    "       basic.pf,\n",
    "       adv.turnover_pct,\n",
    "       adv.usage_pct,\n",
    "       a_stats.pace,\n",
    "       a_stats.pie,\n",
    "       adv.offensive_rating,\n",
    "       reg_avg.fg_a as tot_fg_a,\n",
    "       reg_avg.3p_a as tot_3p_a,\n",
    "       reg_avg.ft_a as tot_ft_a,\n",
    "       reg_avg.reb as tot_reb,\n",
    "       reg_avg.ast as tot_ast,\n",
    "       reg_avg.blk as tot_blk,\n",
    "       reg_avg.stl as tot_stl,\n",
    "       reg_avg.pf as tot_pf,\n",
    "       reg_avg.`TO` as tot_to,\n",
    "       opp_team_pts.opp_pts,\n",
    "       opp_team_pts.diff,\n",
    "       misc.FBPS,\n",
    "       misc.second_chance_pts\n",
    "\n",
    "from (\n",
    "\n",
    "     select b.game_hash,\n",
    "            b.home_team as team,\n",
    "            b.game_date,\n",
    "            team.team_id as away_id,\n",
    "            lu.season\n",
    "     from box_score_map as b\n",
    "     inner join game_date_lookup as lu on b.game_date = lu.day\n",
    "     inner join team_info as team on b.away_team = team.team\n",
    "     where b.game_date < current_date and\n",
    "           lu.season > 2005 \n",
    "\n",
    "     ) as box_view\n",
    "\n",
    "inner join player_team_map as play_m on ( (box_view.team = play_m.team) and (\n",
    "box_view.season = play_m.season) )\n",
    "inner join basic_box_stats as basic on ( (box_view.game_hash = basic.game_hash) and (\n",
    "play_m.player_id = basic.player_id) )\n",
    "inner join advanced_box_stats as adv on ( (box_view.game_hash = adv.game_hash) and (\n",
    "play_m.player_id = adv.player_id) )\n",
    "inner join team_advanced_boxscore_stats as a_stats on ( (box_view.game_hash = a_stats.game_hash) and (box_view.team = a_stats.team) )\n",
    "left outer join RegularSeasonAverages as reg_avg on ( (basic.player_id = reg_avg.player_id) and (box_view.season -1 = reg_avg.season) )\n",
    "inner join points as opp_team_pts on box_view.away_id = opp_team_pts.team_id and box_view.season -1 = opp_team_pts.season\n",
    "inner join team_misc_boxscore_stats as misc on ( (box_view.game_hash = misc.game_hash) and (box_view.team = misc.team) )\n",
    "order by box_view.game_date desc;\n",
    "\n",
    "\"\"\""
   ]
  },
  {
   "cell_type": "code",
   "execution_count": 995,
   "metadata": {},
   "outputs": [],
   "source": [
    "df = pd.read_sql(sql=train, con=conn, index_col=None)"
   ]
  },
  {
   "cell_type": "code",
   "execution_count": null,
   "metadata": {},
   "outputs": [],
   "source": []
  },
  {
   "cell_type": "code",
   "execution_count": 996,
   "metadata": {},
   "outputs": [],
   "source": [
    "def time_convert(minutes_played):\n",
    "    time_list = minutes_played.split(':')\n",
    "    try:\n",
    "        return ((int(time_list[0]) * 60) + int(time_list[1]))\n",
    "    except ValueError:\n",
    "        return 0"
   ]
  },
  {
   "cell_type": "code",
   "execution_count": 997,
   "metadata": {},
   "outputs": [],
   "source": [
    "def concat_drop(df, dummy_var_col, drop_list):\n",
    "    for field in dummy_var_col:\n",
    "        df = pd.concat([df, gen_dummby_var(df, field)], axis=1)\n",
    "    df.drop(drop_list, axis=1, inplace=True)\n",
    "    return df"
   ]
  },
  {
   "cell_type": "code",
   "execution_count": 998,
   "metadata": {},
   "outputs": [],
   "source": [
    "def gen_dummby_var(df, column):\n",
    "    return pd.get_dummies(df[column], drop_first=True)"
   ]
  },
  {
   "cell_type": "code",
   "execution_count": null,
   "metadata": {},
   "outputs": [],
   "source": []
  },
  {
   "cell_type": "code",
   "execution_count": 999,
   "metadata": {},
   "outputs": [],
   "source": [
    "df.loc[:, 'minutes_played'] = df.loc[:, 'minutes_played'].apply(time_convert)"
   ]
  },
  {
   "cell_type": "code",
   "execution_count": 1000,
   "metadata": {},
   "outputs": [],
   "source": [
    "df.drop([ 'player_id', 'team', 'game_hash', 'game_date'], axis=1, inplace=True)\n",
    "clean_df = df[df['minutes_played'] >= 420]\n",
    "#clean_df = concat_drop(df[df['minutes_played'] >= 900], ['home_away'], [ 'player_id', 'team', 'game_hash', 'game_date'])"
   ]
  },
  {
   "cell_type": "code",
   "execution_count": 1001,
   "metadata": {},
   "outputs": [
    {
     "data": {
      "text/html": [
       "<div>\n",
       "<style scoped>\n",
       "    .dataframe tbody tr th:only-of-type {\n",
       "        vertical-align: middle;\n",
       "    }\n",
       "\n",
       "    .dataframe tbody tr th {\n",
       "        vertical-align: top;\n",
       "    }\n",
       "\n",
       "    .dataframe thead th {\n",
       "        text-align: right;\n",
       "    }\n",
       "</style>\n",
       "<table border=\"1\" class=\"dataframe\">\n",
       "  <thead>\n",
       "    <tr style=\"text-align: right;\">\n",
       "      <th></th>\n",
       "      <th>pts</th>\n",
       "      <th>minutes_played</th>\n",
       "      <th>fga</th>\n",
       "      <th>3pa</th>\n",
       "      <th>orb</th>\n",
       "      <th>trb</th>\n",
       "      <th>ast</th>\n",
       "      <th>stl</th>\n",
       "      <th>blk</th>\n",
       "      <th>tov</th>\n",
       "      <th>...</th>\n",
       "      <th>tot_reb</th>\n",
       "      <th>tot_ast</th>\n",
       "      <th>tot_blk</th>\n",
       "      <th>tot_stl</th>\n",
       "      <th>tot_pf</th>\n",
       "      <th>tot_to</th>\n",
       "      <th>opp_pts</th>\n",
       "      <th>diff</th>\n",
       "      <th>FBPS</th>\n",
       "      <th>second_chance_pts</th>\n",
       "    </tr>\n",
       "  </thead>\n",
       "  <tbody>\n",
       "    <tr>\n",
       "      <th>0</th>\n",
       "      <td>32</td>\n",
       "      <td>2204</td>\n",
       "      <td>21</td>\n",
       "      <td>6</td>\n",
       "      <td>2</td>\n",
       "      <td>5</td>\n",
       "      <td>4</td>\n",
       "      <td>1</td>\n",
       "      <td>0</td>\n",
       "      <td>2</td>\n",
       "      <td>...</td>\n",
       "      <td>3.9</td>\n",
       "      <td>2.7</td>\n",
       "      <td>0.2</td>\n",
       "      <td>1.1</td>\n",
       "      <td>2.2</td>\n",
       "      <td>1.6</td>\n",
       "      <td>103.0</td>\n",
       "      <td>2.6</td>\n",
       "      <td>5</td>\n",
       "      <td>14</td>\n",
       "    </tr>\n",
       "    <tr>\n",
       "      <th>1</th>\n",
       "      <td>19</td>\n",
       "      <td>1544</td>\n",
       "      <td>15</td>\n",
       "      <td>5</td>\n",
       "      <td>1</td>\n",
       "      <td>3</td>\n",
       "      <td>3</td>\n",
       "      <td>0</td>\n",
       "      <td>0</td>\n",
       "      <td>2</td>\n",
       "      <td>...</td>\n",
       "      <td>2.0</td>\n",
       "      <td>4.7</td>\n",
       "      <td>0.1</td>\n",
       "      <td>0.7</td>\n",
       "      <td>1.2</td>\n",
       "      <td>1.2</td>\n",
       "      <td>103.0</td>\n",
       "      <td>2.6</td>\n",
       "      <td>5</td>\n",
       "      <td>14</td>\n",
       "    </tr>\n",
       "    <tr>\n",
       "      <th>2</th>\n",
       "      <td>2</td>\n",
       "      <td>1026</td>\n",
       "      <td>5</td>\n",
       "      <td>0</td>\n",
       "      <td>1</td>\n",
       "      <td>3</td>\n",
       "      <td>1</td>\n",
       "      <td>1</td>\n",
       "      <td>0</td>\n",
       "      <td>1</td>\n",
       "      <td>...</td>\n",
       "      <td>3.7</td>\n",
       "      <td>1.4</td>\n",
       "      <td>0.4</td>\n",
       "      <td>1.1</td>\n",
       "      <td>1.8</td>\n",
       "      <td>1.1</td>\n",
       "      <td>103.0</td>\n",
       "      <td>2.6</td>\n",
       "      <td>5</td>\n",
       "      <td>14</td>\n",
       "    </tr>\n",
       "    <tr>\n",
       "      <th>3</th>\n",
       "      <td>14</td>\n",
       "      <td>2205</td>\n",
       "      <td>8</td>\n",
       "      <td>5</td>\n",
       "      <td>2</td>\n",
       "      <td>14</td>\n",
       "      <td>2</td>\n",
       "      <td>3</td>\n",
       "      <td>1</td>\n",
       "      <td>0</td>\n",
       "      <td>...</td>\n",
       "      <td>6.9</td>\n",
       "      <td>1.0</td>\n",
       "      <td>0.3</td>\n",
       "      <td>0.6</td>\n",
       "      <td>1.2</td>\n",
       "      <td>0.8</td>\n",
       "      <td>103.0</td>\n",
       "      <td>2.6</td>\n",
       "      <td>5</td>\n",
       "      <td>14</td>\n",
       "    </tr>\n",
       "    <tr>\n",
       "      <th>4</th>\n",
       "      <td>14</td>\n",
       "      <td>2205</td>\n",
       "      <td>8</td>\n",
       "      <td>5</td>\n",
       "      <td>2</td>\n",
       "      <td>14</td>\n",
       "      <td>2</td>\n",
       "      <td>3</td>\n",
       "      <td>1</td>\n",
       "      <td>0</td>\n",
       "      <td>...</td>\n",
       "      <td>5.1</td>\n",
       "      <td>0.4</td>\n",
       "      <td>0.3</td>\n",
       "      <td>0.2</td>\n",
       "      <td>1.3</td>\n",
       "      <td>0.5</td>\n",
       "      <td>103.0</td>\n",
       "      <td>2.6</td>\n",
       "      <td>5</td>\n",
       "      <td>14</td>\n",
       "    </tr>\n",
       "  </tbody>\n",
       "</table>\n",
       "<p>5 rows × 29 columns</p>\n",
       "</div>"
      ],
      "text/plain": [
       "   pts  minutes_played  fga  3pa  orb  trb  ast  stl  blk  tov  \\\n",
       "0   32            2204   21    6    2    5    4    1    0    2   \n",
       "1   19            1544   15    5    1    3    3    0    0    2   \n",
       "2    2            1026    5    0    1    3    1    1    0    1   \n",
       "3   14            2205    8    5    2   14    2    3    1    0   \n",
       "4   14            2205    8    5    2   14    2    3    1    0   \n",
       "\n",
       "         ...          tot_reb  tot_ast  tot_blk  tot_stl  tot_pf  tot_to  \\\n",
       "0        ...              3.9      2.7      0.2      1.1     2.2     1.6   \n",
       "1        ...              2.0      4.7      0.1      0.7     1.2     1.2   \n",
       "2        ...              3.7      1.4      0.4      1.1     1.8     1.1   \n",
       "3        ...              6.9      1.0      0.3      0.6     1.2     0.8   \n",
       "4        ...              5.1      0.4      0.3      0.2     1.3     0.5   \n",
       "\n",
       "   opp_pts  diff  FBPS  second_chance_pts  \n",
       "0    103.0   2.6     5                 14  \n",
       "1    103.0   2.6     5                 14  \n",
       "2    103.0   2.6     5                 14  \n",
       "3    103.0   2.6     5                 14  \n",
       "4    103.0   2.6     5                 14  \n",
       "\n",
       "[5 rows x 29 columns]"
      ]
     },
     "execution_count": 1001,
     "metadata": {},
     "output_type": "execute_result"
    }
   ],
   "source": [
    "#clean_df.drop('Home', inplace=True, axis=1)\n",
    "clean_df.head()\n",
    "#group_df = clean_df.groupby(['game_date','team'])\n",
    "#group_df.head()"
   ]
  },
  {
   "cell_type": "code",
   "execution_count": 1002,
   "metadata": {},
   "outputs": [],
   "source": [
    "#for group in group_df.groups:\n",
    " #   print(group)"
   ]
  },
  {
   "cell_type": "code",
   "execution_count": null,
   "metadata": {},
   "outputs": [],
   "source": []
  },
  {
   "cell_type": "code",
   "execution_count": null,
   "metadata": {},
   "outputs": [],
   "source": []
  },
  {
   "cell_type": "code",
   "execution_count": null,
   "metadata": {},
   "outputs": [],
   "source": []
  },
  {
   "cell_type": "code",
   "execution_count": 1003,
   "metadata": {},
   "outputs": [],
   "source": [
    "clean_df = clean_df.fillna(0)"
   ]
  },
  {
   "cell_type": "code",
   "execution_count": 1004,
   "metadata": {},
   "outputs": [],
   "source": [
    "x = clean_df.loc[:, 'minutes_played':]\n",
    "y = clean_df.loc[:, 'pts']"
   ]
  },
  {
   "cell_type": "code",
   "execution_count": 1005,
   "metadata": {},
   "outputs": [],
   "source": [
    "X_train, X_test, y_train, y_test = train_test_split(clean_df.loc[:, 'minutes_played':], clean_df.loc[:, 'pts'], test_size=.33)"
   ]
  },
  {
   "cell_type": "code",
   "execution_count": 1006,
   "metadata": {},
   "outputs": [],
   "source": [
    "lm = LinearRegression()"
   ]
  },
  {
   "cell_type": "code",
   "execution_count": 1007,
   "metadata": {},
   "outputs": [
    {
     "data": {
      "text/plain": [
       "LinearRegression(copy_X=True, fit_intercept=True, n_jobs=1, normalize=False)"
      ]
     },
     "execution_count": 1007,
     "metadata": {},
     "output_type": "execute_result"
    }
   ],
   "source": [
    "lm.fit(X_train, y_train)"
   ]
  },
  {
   "cell_type": "code",
   "execution_count": 1008,
   "metadata": {},
   "outputs": [],
   "source": [
    "predictions = lm.predict(X_test)"
   ]
  },
  {
   "cell_type": "code",
   "execution_count": null,
   "metadata": {},
   "outputs": [],
   "source": []
  },
  {
   "cell_type": "code",
   "execution_count": null,
   "metadata": {},
   "outputs": [],
   "source": []
  },
  {
   "cell_type": "code",
   "execution_count": 1009,
   "metadata": {},
   "outputs": [
    {
     "data": {
      "text/plain": [
       "Text(0,0.5,'Predicted Y')"
      ]
     },
     "execution_count": 1009,
     "metadata": {},
     "output_type": "execute_result"
    },
    {
     "data": {
      "image/png": "[encoded data removed]",
      "text/plain": [
       "<Figure size 432x288 with 1 Axes>"
      ]
     },
     "metadata": {},
     "output_type": "display_data"
    }
   ],
   "source": [
    "plt.scatter(y_test,predictions)\n",
    "plt.xlabel('Y Test')\n",
    "plt.ylabel('Predicted Y')"
   ]
  },
  {
   "cell_type": "code",
   "execution_count": 1010,
   "metadata": {},
   "outputs": [
    {
     "data": {
      "image/png": "[encoded data removed]",
      "text/plain": [
       "<Figure size 432x288 with 1 Axes>"
      ]
     },
     "metadata": {},
     "output_type": "display_data"
    }
   ],
   "source": [
    "sns.distplot((y_test-predictions),bins=50);"
   ]
  },
  {
   "cell_type": "code",
   "execution_count": 1011,
   "metadata": {},
   "outputs": [
    {
     "data": {
      "text/html": [
       "<div>\n",
       "<style scoped>\n",
       "    .dataframe tbody tr th:only-of-type {\n",
       "        vertical-align: middle;\n",
       "    }\n",
       "\n",
       "    .dataframe tbody tr th {\n",
       "        vertical-align: top;\n",
       "    }\n",
       "\n",
       "    .dataframe thead th {\n",
       "        text-align: right;\n",
       "    }\n",
       "</style>\n",
       "<table border=\"1\" class=\"dataframe\">\n",
       "  <thead>\n",
       "    <tr style=\"text-align: right;\">\n",
       "      <th></th>\n",
       "      <th>Coeffecient</th>\n",
       "    </tr>\n",
       "  </thead>\n",
       "  <tbody>\n",
       "    <tr>\n",
       "      <th>minutes_played</th>\n",
       "      <td>0.002477</td>\n",
       "    </tr>\n",
       "    <tr>\n",
       "      <th>fga</th>\n",
       "      <td>0.849390</td>\n",
       "    </tr>\n",
       "    <tr>\n",
       "      <th>3pa</th>\n",
       "      <td>0.050857</td>\n",
       "    </tr>\n",
       "    <tr>\n",
       "      <th>orb</th>\n",
       "      <td>-0.372406</td>\n",
       "    </tr>\n",
       "    <tr>\n",
       "      <th>trb</th>\n",
       "      <td>0.034605</td>\n",
       "    </tr>\n",
       "    <tr>\n",
       "      <th>ast</th>\n",
       "      <td>-0.283865</td>\n",
       "    </tr>\n",
       "    <tr>\n",
       "      <th>stl</th>\n",
       "      <td>0.025532</td>\n",
       "    </tr>\n",
       "    <tr>\n",
       "      <th>blk</th>\n",
       "      <td>0.033696</td>\n",
       "    </tr>\n",
       "    <tr>\n",
       "      <th>tov</th>\n",
       "      <td>0.114216</td>\n",
       "    </tr>\n",
       "    <tr>\n",
       "      <th>pf</th>\n",
       "      <td>-0.003719</td>\n",
       "    </tr>\n",
       "    <tr>\n",
       "      <th>turnover_pct</th>\n",
       "      <td>0.064057</td>\n",
       "    </tr>\n",
       "    <tr>\n",
       "      <th>usage_pct</th>\n",
       "      <td>0.192794</td>\n",
       "    </tr>\n",
       "    <tr>\n",
       "      <th>pace</th>\n",
       "      <td>0.051057</td>\n",
       "    </tr>\n",
       "    <tr>\n",
       "      <th>pie</th>\n",
       "      <td>0.013936</td>\n",
       "    </tr>\n",
       "    <tr>\n",
       "      <th>offensive_rating</th>\n",
       "      <td>0.080622</td>\n",
       "    </tr>\n",
       "    <tr>\n",
       "      <th>tot_fg_a</th>\n",
       "      <td>-0.091806</td>\n",
       "    </tr>\n",
       "    <tr>\n",
       "      <th>tot_3p_a</th>\n",
       "      <td>0.000071</td>\n",
       "    </tr>\n",
       "    <tr>\n",
       "      <th>tot_ft_a</th>\n",
       "      <td>0.543692</td>\n",
       "    </tr>\n",
       "    <tr>\n",
       "      <th>tot_reb</th>\n",
       "      <td>0.030026</td>\n",
       "    </tr>\n",
       "    <tr>\n",
       "      <th>tot_ast</th>\n",
       "      <td>-0.008313</td>\n",
       "    </tr>\n",
       "    <tr>\n",
       "      <th>tot_blk</th>\n",
       "      <td>0.058786</td>\n",
       "    </tr>\n",
       "    <tr>\n",
       "      <th>tot_stl</th>\n",
       "      <td>-0.115021</td>\n",
       "    </tr>\n",
       "    <tr>\n",
       "      <th>tot_pf</th>\n",
       "      <td>-0.119868</td>\n",
       "    </tr>\n",
       "    <tr>\n",
       "      <th>tot_to</th>\n",
       "      <td>0.045322</td>\n",
       "    </tr>\n",
       "    <tr>\n",
       "      <th>opp_pts</th>\n",
       "      <td>-0.002201</td>\n",
       "    </tr>\n",
       "    <tr>\n",
       "      <th>diff</th>\n",
       "      <td>-0.000933</td>\n",
       "    </tr>\n",
       "    <tr>\n",
       "      <th>FBPS</th>\n",
       "      <td>0.005151</td>\n",
       "    </tr>\n",
       "    <tr>\n",
       "      <th>second_chance_pts</th>\n",
       "      <td>-0.020109</td>\n",
       "    </tr>\n",
       "  </tbody>\n",
       "</table>\n",
       "</div>"
      ],
      "text/plain": [
       "                   Coeffecient\n",
       "minutes_played        0.002477\n",
       "fga                   0.849390\n",
       "3pa                   0.050857\n",
       "orb                  -0.372406\n",
       "trb                   0.034605\n",
       "ast                  -0.283865\n",
       "stl                   0.025532\n",
       "blk                   0.033696\n",
       "tov                   0.114216\n",
       "pf                   -0.003719\n",
       "turnover_pct          0.064057\n",
       "usage_pct             0.192794\n",
       "pace                  0.051057\n",
       "pie                   0.013936\n",
       "offensive_rating      0.080622\n",
       "tot_fg_a             -0.091806\n",
       "tot_3p_a              0.000071\n",
       "tot_ft_a              0.543692\n",
       "tot_reb               0.030026\n",
       "tot_ast              -0.008313\n",
       "tot_blk               0.058786\n",
       "tot_stl              -0.115021\n",
       "tot_pf               -0.119868\n",
       "tot_to                0.045322\n",
       "opp_pts              -0.002201\n",
       "diff                 -0.000933\n",
       "FBPS                  0.005151\n",
       "second_chance_pts    -0.020109"
      ]
     },
     "execution_count": 1011,
     "metadata": {},
     "output_type": "execute_result"
    }
   ],
   "source": [
    "coeffecients = pd.DataFrame(lm.coef_,X_test.columns)\n",
    "coeffecients.columns = ['Coeffecient']\n",
    "coeffecients"
   ]
  },
  {
   "cell_type": "code",
   "execution_count": 1012,
   "metadata": {},
   "outputs": [
    {
     "data": {
      "text/plain": [
       "0.89172404116636406"
      ]
     },
     "execution_count": 1012,
     "metadata": {},
     "output_type": "execute_result"
    }
   ],
   "source": [
    "lm.score(X_test, y_test)"
   ]
  },
  {
   "cell_type": "code",
   "execution_count": null,
   "metadata": {},
   "outputs": [],
   "source": []
  },
  {
   "cell_type": "code",
   "execution_count": 909,
   "metadata": {},
   "outputs": [],
   "source": [
    "### Experimenting with Lasso regression"
   ]
  },
  {
   "cell_type": "code",
   "execution_count": 910,
   "metadata": {},
   "outputs": [],
   "source": [
    "lasso = Lasso(alpha=0.0023101297000831605)  #Home: 0.00174333 - 0.00221222"
   ]
  },
  {
   "cell_type": "code",
   "execution_count": 911,
   "metadata": {},
   "outputs": [
    {
     "data": {
      "text/plain": [
       "Lasso(alpha=0.0023101297000831605, copy_X=True, fit_intercept=True,\n",
       "   max_iter=1000, normalize=False, positive=False, precompute=False,\n",
       "   random_state=None, selection='cyclic', tol=0.0001, warm_start=False)"
      ]
     },
     "execution_count": 911,
     "metadata": {},
     "output_type": "execute_result"
    }
   ],
   "source": [
    "lasso.fit(X_train, y_train)"
   ]
  },
  {
   "cell_type": "code",
   "execution_count": 912,
   "metadata": {},
   "outputs": [],
   "source": [
    "predictions = lasso.predict(X_test)"
   ]
  },
  {
   "cell_type": "code",
   "execution_count": 913,
   "metadata": {},
   "outputs": [
    {
     "data": {
      "text/plain": [
       "Text(0,0.5,'Predicted Y')"
      ]
     },
     "execution_count": 913,
     "metadata": {},
     "output_type": "execute_result"
    },
    {
     "data": {
      "image/png": "[encoded data removed]",
      "text/plain": [
       "<Figure size 432x288 with 1 Axes>"
      ]
     },
     "metadata": {},
     "output_type": "display_data"
    }
   ],
   "source": [
    "plt.scatter(y_test,predictions)\n",
    "plt.xlabel('Y Test')\n",
    "plt.ylabel('Predicted Y')"
   ]
  },
  {
   "cell_type": "code",
   "execution_count": 914,
   "metadata": {},
   "outputs": [
    {
     "data": {
      "text/plain": [
       "<matplotlib.axes._subplots.AxesSubplot at 0x11c6b5c88>"
      ]
     },
     "execution_count": 914,
     "metadata": {},
     "output_type": "execute_result"
    },
    {
     "data": {
      "image/png": "[encoded data removed]",
      "text/plain": [
       "<Figure size 432x288 with 1 Axes>"
      ]
     },
     "metadata": {},
     "output_type": "display_data"
    }
   ],
   "source": [
    "sns.set_palette(\"GnBu_d\")\n",
    "sns.set_style('whitegrid')\n",
    "sns.distplot(y_test-predictions, bins=50)"
   ]
  },
  {
   "cell_type": "code",
   "execution_count": 915,
   "metadata": {},
   "outputs": [
    {
     "data": {
      "text/plain": [
       "0.89379683930393405"
      ]
     },
     "execution_count": 915,
     "metadata": {},
     "output_type": "execute_result"
    }
   ],
   "source": [
    "lasso.score(X_test, y_test)"
   ]
  },
  {
   "cell_type": "code",
   "execution_count": null,
   "metadata": {},
   "outputs": [],
   "source": []
  },
  {
   "cell_type": "code",
   "execution_count": 916,
   "metadata": {},
   "outputs": [
    {
     "data": {
      "text/html": [
       "<div>\n",
       "<style scoped>\n",
       "    .dataframe tbody tr th:only-of-type {\n",
       "        vertical-align: middle;\n",
       "    }\n",
       "\n",
       "    .dataframe tbody tr th {\n",
       "        vertical-align: top;\n",
       "    }\n",
       "\n",
       "    .dataframe thead th {\n",
       "        text-align: right;\n",
       "    }\n",
       "</style>\n",
       "<table border=\"1\" class=\"dataframe\">\n",
       "  <thead>\n",
       "    <tr style=\"text-align: right;\">\n",
       "      <th></th>\n",
       "      <th>Coeffecient</th>\n",
       "    </tr>\n",
       "  </thead>\n",
       "  <tbody>\n",
       "    <tr>\n",
       "      <th>minutes_played</th>\n",
       "      <td>0.002463</td>\n",
       "    </tr>\n",
       "    <tr>\n",
       "      <th>fga</th>\n",
       "      <td>0.845509</td>\n",
       "    </tr>\n",
       "    <tr>\n",
       "      <th>3pa</th>\n",
       "      <td>0.057772</td>\n",
       "    </tr>\n",
       "    <tr>\n",
       "      <th>orb</th>\n",
       "      <td>-0.379354</td>\n",
       "    </tr>\n",
       "    <tr>\n",
       "      <th>trb</th>\n",
       "      <td>0.032231</td>\n",
       "    </tr>\n",
       "    <tr>\n",
       "      <th>ast</th>\n",
       "      <td>-0.281271</td>\n",
       "    </tr>\n",
       "    <tr>\n",
       "      <th>stl</th>\n",
       "      <td>0.028555</td>\n",
       "    </tr>\n",
       "    <tr>\n",
       "      <th>blk</th>\n",
       "      <td>0.037253</td>\n",
       "    </tr>\n",
       "    <tr>\n",
       "      <th>tov</th>\n",
       "      <td>0.131468</td>\n",
       "    </tr>\n",
       "    <tr>\n",
       "      <th>pf</th>\n",
       "      <td>-0.005475</td>\n",
       "    </tr>\n",
       "    <tr>\n",
       "      <th>turnover_pct</th>\n",
       "      <td>0.061695</td>\n",
       "    </tr>\n",
       "    <tr>\n",
       "      <th>usage_pct</th>\n",
       "      <td>0.191621</td>\n",
       "    </tr>\n",
       "    <tr>\n",
       "      <th>pace</th>\n",
       "      <td>0.052299</td>\n",
       "    </tr>\n",
       "    <tr>\n",
       "      <th>pie</th>\n",
       "      <td>0.013820</td>\n",
       "    </tr>\n",
       "    <tr>\n",
       "      <th>offensive_rating</th>\n",
       "      <td>0.080700</td>\n",
       "    </tr>\n",
       "    <tr>\n",
       "      <th>tot_fg_a</th>\n",
       "      <td>-0.095379</td>\n",
       "    </tr>\n",
       "    <tr>\n",
       "      <th>tot_3p_a</th>\n",
       "      <td>-0.013587</td>\n",
       "    </tr>\n",
       "    <tr>\n",
       "      <th>tot_ft_a</th>\n",
       "      <td>0.559166</td>\n",
       "    </tr>\n",
       "    <tr>\n",
       "      <th>tot_reb</th>\n",
       "      <td>0.034875</td>\n",
       "    </tr>\n",
       "    <tr>\n",
       "      <th>tot_ast</th>\n",
       "      <td>0.002555</td>\n",
       "    </tr>\n",
       "    <tr>\n",
       "      <th>tot_blk</th>\n",
       "      <td>0.060968</td>\n",
       "    </tr>\n",
       "    <tr>\n",
       "      <th>tot_stl</th>\n",
       "      <td>-0.068782</td>\n",
       "    </tr>\n",
       "    <tr>\n",
       "      <th>tot_pf</th>\n",
       "      <td>-0.112145</td>\n",
       "    </tr>\n",
       "    <tr>\n",
       "      <th>tot_to</th>\n",
       "      <td>0.007167</td>\n",
       "    </tr>\n",
       "    <tr>\n",
       "      <th>opp_pts</th>\n",
       "      <td>-0.005006</td>\n",
       "    </tr>\n",
       "    <tr>\n",
       "      <th>diff</th>\n",
       "      <td>-0.004427</td>\n",
       "    </tr>\n",
       "    <tr>\n",
       "      <th>FBPS</th>\n",
       "      <td>0.003696</td>\n",
       "    </tr>\n",
       "    <tr>\n",
       "      <th>second_chance_pts</th>\n",
       "      <td>-0.020730</td>\n",
       "    </tr>\n",
       "  </tbody>\n",
       "</table>\n",
       "</div>"
      ],
      "text/plain": [
       "                   Coeffecient\n",
       "minutes_played        0.002463\n",
       "fga                   0.845509\n",
       "3pa                   0.057772\n",
       "orb                  -0.379354\n",
       "trb                   0.032231\n",
       "ast                  -0.281271\n",
       "stl                   0.028555\n",
       "blk                   0.037253\n",
       "tov                   0.131468\n",
       "pf                   -0.005475\n",
       "turnover_pct          0.061695\n",
       "usage_pct             0.191621\n",
       "pace                  0.052299\n",
       "pie                   0.013820\n",
       "offensive_rating      0.080700\n",
       "tot_fg_a             -0.095379\n",
       "tot_3p_a             -0.013587\n",
       "tot_ft_a              0.559166\n",
       "tot_reb               0.034875\n",
       "tot_ast               0.002555\n",
       "tot_blk               0.060968\n",
       "tot_stl              -0.068782\n",
       "tot_pf               -0.112145\n",
       "tot_to                0.007167\n",
       "opp_pts              -0.005006\n",
       "diff                 -0.004427\n",
       "FBPS                  0.003696\n",
       "second_chance_pts    -0.020730"
      ]
     },
     "execution_count": 916,
     "metadata": {},
     "output_type": "execute_result"
    }
   ],
   "source": [
    "coeffecients = pd.DataFrame(lasso.coef_,X_test.columns)\n",
    "coeffecients.columns = ['Coeffecient']\n",
    "coeffecients"
   ]
  },
  {
   "cell_type": "code",
   "execution_count": 917,
   "metadata": {},
   "outputs": [],
   "source": [
    "#### Using Lasso cross-validation model"
   ]
  },
  {
   "cell_type": "code",
   "execution_count": 918,
   "metadata": {},
   "outputs": [],
   "source": [
    "lasso_cv = LassoCV()"
   ]
  },
  {
   "cell_type": "code",
   "execution_count": 919,
   "metadata": {},
   "outputs": [
    {
     "data": {
      "text/plain": [
       "LassoCV(alphas=None, copy_X=True, cv=None, eps=0.001, fit_intercept=True,\n",
       "    max_iter=1000, n_alphas=100, n_jobs=1, normalize=False, positive=False,\n",
       "    precompute='auto', random_state=None, selection='cyclic', tol=0.0001,\n",
       "    verbose=False)"
      ]
     },
     "execution_count": 919,
     "metadata": {},
     "output_type": "execute_result"
    }
   ],
   "source": [
    "lasso_cv.fit(X_train, y_train)"
   ]
  },
  {
   "cell_type": "code",
   "execution_count": 920,
   "metadata": {},
   "outputs": [],
   "source": [
    "predictions_cv = lasso_cv.predict(X_test)"
   ]
  },
  {
   "cell_type": "code",
   "execution_count": 921,
   "metadata": {},
   "outputs": [
    {
     "data": {
      "text/plain": [
       "Text(0,0.5,'Predicted Y')"
      ]
     },
     "execution_count": 921,
     "metadata": {},
     "output_type": "execute_result"
    },
    {
     "data": {
      "image/png": "[encoded data removed]",
      "text/plain": [
       "<Figure size 432x288 with 1 Axes>"
      ]
     },
     "metadata": {},
     "output_type": "display_data"
    }
   ],
   "source": [
    "plt.scatter(y_test,predictions_cv)\n",
    "plt.xlabel('Y Test')\n",
    "plt.ylabel('Predicted Y')"
   ]
  },
  {
   "cell_type": "code",
   "execution_count": 922,
   "metadata": {},
   "outputs": [
    {
     "data": {
      "text/plain": [
       "<matplotlib.axes._subplots.AxesSubplot at 0x11c6774e0>"
      ]
     },
     "execution_count": 922,
     "metadata": {},
     "output_type": "execute_result"
    },
    {
     "data": {
      "image/png": "[encoded data removed]",
      "text/plain": [
       "<Figure size 432x288 with 1 Axes>"
      ]
     },
     "metadata": {},
     "output_type": "display_data"
    }
   ],
   "source": [
    "sns.distplot(y_test-predictions, bins=50)"
   ]
  },
  {
   "cell_type": "code",
   "execution_count": 923,
   "metadata": {},
   "outputs": [
    {
     "data": {
      "text/plain": [
       "0.85434119571395317"
      ]
     },
     "execution_count": 923,
     "metadata": {},
     "output_type": "execute_result"
    }
   ],
   "source": [
    "lasso_cv.score(X_test, y_test)"
   ]
  },
  {
   "cell_type": "code",
   "execution_count": null,
   "metadata": {},
   "outputs": [],
   "source": []
  },
  {
   "cell_type": "code",
   "execution_count": 924,
   "metadata": {},
   "outputs": [
    {
     "data": {
      "text/html": [
       "<div>\n",
       "<style scoped>\n",
       "    .dataframe tbody tr th:only-of-type {\n",
       "        vertical-align: middle;\n",
       "    }\n",
       "\n",
       "    .dataframe tbody tr th {\n",
       "        vertical-align: top;\n",
       "    }\n",
       "\n",
       "    .dataframe thead th {\n",
       "        text-align: right;\n",
       "    }\n",
       "</style>\n",
       "<table border=\"1\" class=\"dataframe\">\n",
       "  <thead>\n",
       "    <tr style=\"text-align: right;\">\n",
       "      <th></th>\n",
       "      <th>Coeffecient</th>\n",
       "    </tr>\n",
       "  </thead>\n",
       "  <tbody>\n",
       "    <tr>\n",
       "      <th>minutes_played</th>\n",
       "      <td>0.002463</td>\n",
       "    </tr>\n",
       "    <tr>\n",
       "      <th>fga</th>\n",
       "      <td>0.845509</td>\n",
       "    </tr>\n",
       "    <tr>\n",
       "      <th>3pa</th>\n",
       "      <td>0.057772</td>\n",
       "    </tr>\n",
       "    <tr>\n",
       "      <th>orb</th>\n",
       "      <td>-0.379354</td>\n",
       "    </tr>\n",
       "    <tr>\n",
       "      <th>trb</th>\n",
       "      <td>0.032231</td>\n",
       "    </tr>\n",
       "    <tr>\n",
       "      <th>ast</th>\n",
       "      <td>-0.281271</td>\n",
       "    </tr>\n",
       "    <tr>\n",
       "      <th>stl</th>\n",
       "      <td>0.028555</td>\n",
       "    </tr>\n",
       "    <tr>\n",
       "      <th>blk</th>\n",
       "      <td>0.037253</td>\n",
       "    </tr>\n",
       "    <tr>\n",
       "      <th>tov</th>\n",
       "      <td>0.131468</td>\n",
       "    </tr>\n",
       "    <tr>\n",
       "      <th>pf</th>\n",
       "      <td>-0.005475</td>\n",
       "    </tr>\n",
       "    <tr>\n",
       "      <th>turnover_pct</th>\n",
       "      <td>0.061695</td>\n",
       "    </tr>\n",
       "    <tr>\n",
       "      <th>usage_pct</th>\n",
       "      <td>0.191621</td>\n",
       "    </tr>\n",
       "    <tr>\n",
       "      <th>pace</th>\n",
       "      <td>0.052299</td>\n",
       "    </tr>\n",
       "    <tr>\n",
       "      <th>pie</th>\n",
       "      <td>0.013820</td>\n",
       "    </tr>\n",
       "    <tr>\n",
       "      <th>offensive_rating</th>\n",
       "      <td>0.080700</td>\n",
       "    </tr>\n",
       "    <tr>\n",
       "      <th>tot_fg_a</th>\n",
       "      <td>-0.095379</td>\n",
       "    </tr>\n",
       "    <tr>\n",
       "      <th>tot_3p_a</th>\n",
       "      <td>-0.013587</td>\n",
       "    </tr>\n",
       "    <tr>\n",
       "      <th>tot_ft_a</th>\n",
       "      <td>0.559166</td>\n",
       "    </tr>\n",
       "    <tr>\n",
       "      <th>tot_reb</th>\n",
       "      <td>0.034875</td>\n",
       "    </tr>\n",
       "    <tr>\n",
       "      <th>tot_ast</th>\n",
       "      <td>0.002555</td>\n",
       "    </tr>\n",
       "    <tr>\n",
       "      <th>tot_blk</th>\n",
       "      <td>0.060968</td>\n",
       "    </tr>\n",
       "    <tr>\n",
       "      <th>tot_stl</th>\n",
       "      <td>-0.068782</td>\n",
       "    </tr>\n",
       "    <tr>\n",
       "      <th>tot_pf</th>\n",
       "      <td>-0.112145</td>\n",
       "    </tr>\n",
       "    <tr>\n",
       "      <th>tot_to</th>\n",
       "      <td>0.007167</td>\n",
       "    </tr>\n",
       "    <tr>\n",
       "      <th>opp_pts</th>\n",
       "      <td>-0.005006</td>\n",
       "    </tr>\n",
       "    <tr>\n",
       "      <th>diff</th>\n",
       "      <td>-0.004427</td>\n",
       "    </tr>\n",
       "    <tr>\n",
       "      <th>FBPS</th>\n",
       "      <td>0.003696</td>\n",
       "    </tr>\n",
       "    <tr>\n",
       "      <th>second_chance_pts</th>\n",
       "      <td>-0.020730</td>\n",
       "    </tr>\n",
       "  </tbody>\n",
       "</table>\n",
       "</div>"
      ],
      "text/plain": [
       "                   Coeffecient\n",
       "minutes_played        0.002463\n",
       "fga                   0.845509\n",
       "3pa                   0.057772\n",
       "orb                  -0.379354\n",
       "trb                   0.032231\n",
       "ast                  -0.281271\n",
       "stl                   0.028555\n",
       "blk                   0.037253\n",
       "tov                   0.131468\n",
       "pf                   -0.005475\n",
       "turnover_pct          0.061695\n",
       "usage_pct             0.191621\n",
       "pace                  0.052299\n",
       "pie                   0.013820\n",
       "offensive_rating      0.080700\n",
       "tot_fg_a             -0.095379\n",
       "tot_3p_a             -0.013587\n",
       "tot_ft_a              0.559166\n",
       "tot_reb               0.034875\n",
       "tot_ast               0.002555\n",
       "tot_blk               0.060968\n",
       "tot_stl              -0.068782\n",
       "tot_pf               -0.112145\n",
       "tot_to                0.007167\n",
       "opp_pts              -0.005006\n",
       "diff                 -0.004427\n",
       "FBPS                  0.003696\n",
       "second_chance_pts    -0.020730"
      ]
     },
     "execution_count": 924,
     "metadata": {},
     "output_type": "execute_result"
    }
   ],
   "source": [
    "coeffecients = pd.DataFrame(lasso.coef_,X_test.columns)\n",
    "coeffecients.columns = ['Coeffecient']\n",
    "coeffecients"
   ]
  },
  {
   "cell_type": "code",
   "execution_count": 925,
   "metadata": {},
   "outputs": [],
   "source": [
    "### optimizing alpha value in Lasso regression"
   ]
  },
  {
   "cell_type": "code",
   "execution_count": 926,
   "metadata": {},
   "outputs": [],
   "source": [
    "alphas = np.logspace(-4, -1, 50)\n",
    "#alphas = np.linspace(.001, .999, 100) #0.00464159\n",
    "#alphas"
   ]
  },
  {
   "cell_type": "code",
   "execution_count": 927,
   "metadata": {},
   "outputs": [],
   "source": [
    "scores = np.empty_like(alphas)"
   ]
  },
  {
   "cell_type": "code",
   "execution_count": 928,
   "metadata": {},
   "outputs": [],
   "source": [
    "for i, a in enumerate(alphas):\n",
    "    lasso = Lasso(alpha=a)\n",
    "    lasso.fit(X_train, y_train)\n",
    "    scores[i] = lasso.score(X_test, y_test)"
   ]
  },
  {
   "cell_type": "code",
   "execution_count": 929,
   "metadata": {},
   "outputs": [
    {
     "data": {
      "text/plain": [
       "(0.0068664884500429981,\n",
       " 0.892795207910966,\n",
       " array([  2.50674973e-03,   8.43684095e-01,   5.25346856e-02,\n",
       "         -3.69366390e-01,   3.10654596e-02,  -2.79343563e-01,\n",
       "          2.10975454e-02,   3.48809954e-02,   1.02531659e-01,\n",
       "         -0.00000000e+00,   6.36313200e-02,   1.95163555e-01,\n",
       "          5.24511068e-02,   1.37659048e-02,   8.05048980e-02,\n",
       "         -9.10309671e-02,  -1.39514102e-02,   5.43401696e-01,\n",
       "          3.28396389e-02,  -7.86414846e-04,   2.08727451e-02,\n",
       "         -2.24571066e-02,  -1.02727933e-01,   0.00000000e+00,\n",
       "         -1.62270179e-03,  -2.37908138e-03,   3.58905638e-03,\n",
       "         -2.05471932e-02]),\n",
       " -18.411323828575121)"
      ]
     },
     "execution_count": 929,
     "metadata": {},
     "output_type": "execute_result"
    }
   ],
   "source": [
    "lasso_cv = LassoCV(alphas=alphas)\n",
    "lasso_cv.fit(x, y)\n",
    "cv_score = lasso_cv.score(x, y)\n",
    "cv_alpha = lasso_cv.alpha_\n",
    "cv_alpha, cv_score, lasso_cv.coef_, lasso_cv.intercept_"
   ]
  },
  {
   "cell_type": "code",
   "execution_count": 930,
   "metadata": {},
   "outputs": [
    {
     "data": {
      "image/png": "[encoded data removed]",
      "text/plain": [
       "<Figure size 432x288 with 1 Axes>"
      ]
     },
     "metadata": {},
     "output_type": "display_data"
    }
   ],
   "source": [
    "plt.plot(alphas, scores, '-ko')\n",
    "plt.axhline(cv_score, color='b',ls='--')\n",
    "plt.axvline(cv_alpha, color='r', ls='--')\n",
    "plt.xlabel('alpha')\n",
    "plt.ylabel('score')\n",
    "plt.xscale('log')\n",
    "sns.despine(offset=15)"
   ]
  },
  {
   "cell_type": "code",
   "execution_count": 931,
   "metadata": {},
   "outputs": [],
   "source": [
    "predictions = lasso_cv.predict(X_test)"
   ]
  },
  {
   "cell_type": "code",
   "execution_count": 932,
   "metadata": {},
   "outputs": [
    {
     "data": {
      "text/plain": [
       "0.892795207910966"
      ]
     },
     "execution_count": 932,
     "metadata": {},
     "output_type": "execute_result"
    }
   ],
   "source": [
    "lasso_cv.score(x, y)"
   ]
  },
  {
   "cell_type": "code",
   "execution_count": 933,
   "metadata": {},
   "outputs": [
    {
     "name": "stdout",
     "output_type": "stream",
     "text": [
      "MAE: 1.80854002584\n",
      "MSE: 6.56456685191\n",
      "RMSE: 2.56214106792\n"
     ]
    }
   ],
   "source": [
    "print('MAE:', metrics.mean_absolute_error(y_test, predictions))\n",
    "print('MSE:', metrics.mean_squared_error(y_test, predictions))\n",
    "print('RMSE:', np.sqrt(metrics.mean_squared_error(y_test, predictions)))"
   ]
  },
  {
   "cell_type": "code",
   "execution_count": 934,
   "metadata": {},
   "outputs": [
    {
     "data": {
      "text/plain": [
       "0.89380169493231743"
      ]
     },
     "execution_count": 934,
     "metadata": {},
     "output_type": "execute_result"
    }
   ],
   "source": [
    "np.amax(scores)"
   ]
  },
  {
   "cell_type": "code",
   "execution_count": 935,
   "metadata": {},
   "outputs": [
    {
     "data": {
      "text/plain": [
       "0.0059636233165946424"
      ]
     },
     "execution_count": 935,
     "metadata": {},
     "output_type": "execute_result"
    }
   ],
   "source": [
    "np.take(alphas, np.argmax(scores))"
   ]
  },
  {
   "cell_type": "code",
   "execution_count": 936,
   "metadata": {},
   "outputs": [
    {
     "data": {
      "text/plain": [
       "Text(0,0.5,'predictions')"
      ]
     },
     "execution_count": 936,
     "metadata": {},
     "output_type": "execute_result"
    },
    {
     "data": {
      "image/png": "[encoded data removed]",
      "text/plain": [
       "<Figure size 432x288 with 1 Axes>"
      ]
     },
     "metadata": {},
     "output_type": "display_data"
    }
   ],
   "source": [
    "plt.scatter(y_test,predictions)\n",
    "plt.xlabel('Y Test')\n",
    "plt.ylabel('predictions')"
   ]
  },
  {
   "cell_type": "code",
   "execution_count": null,
   "metadata": {},
   "outputs": [],
   "source": []
  }
 ],
 "metadata": {
  "kernelspec": {
   "display_name": "Python 3",
   "language": "python",
   "name": "python3"
  },
  "language_info": {
   "codemirror_mode": {
    "name": "ipython",
    "version": 3
   },
   "file_extension": ".py",
   "mimetype": "text/x-python",
   "name": "python",
   "nbconvert_exporter": "python",
   "pygments_lexer": "ipython3",
   "version": "3.6.3"
  }
 },
 "nbformat": 4,
 "nbformat_minor": 2
}
