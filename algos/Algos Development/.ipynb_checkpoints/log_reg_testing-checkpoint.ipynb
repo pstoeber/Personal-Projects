{
 "cells": [
  {
   "cell_type": "code",
   "execution_count": 162,
   "metadata": {},
   "outputs": [],
   "source": [
    "import numpy as np\n",
    "import pandas as pd\n",
    "import matplotlib.pyplot as plt\n",
    "import seaborn as sns\n",
    "import pymysql\n",
    "from sklearn.model_selection import train_test_split\n",
    "from sklearn.model_selection import KFold\n",
    "from sklearn.linear_model import LogisticRegression\n",
    "from sklearn.linear_model import LogisticRegressionCV\n",
    "from sklearn.metrics import confusion_matrix\n",
    "from sklearn.metrics import classification_report\n",
    "%matplotlib inline\n",
    "conn = pymysql.connect(host='localhost', user='root', password='Sk1ttles', db='nba_stats_prod')"
   ]
  },
  {
   "cell_type": "code",
   "execution_count": 163,
   "metadata": {},
   "outputs": [],
   "source": [
    "training_set = \"\"\"\n",
    "\n",
    "select adv.win_lose,\n",
    "       adv.game_length,\n",
    "       adv.ast_to_to,\n",
    "       adv.ast_ratio,\n",
    "       adv.defensive_reb_pct,\n",
    "       adv.reb_pct,\n",
    "       adv.to_pct,\n",
    "       adv.ts_pct,\n",
    "       adv.pace,\n",
    "       fig.fta_rate,\n",
    "       fig.tov_pct,\n",
    "       fig.opp_tov_pct,\n",
    "       fig.opp_off_reb_pct,\n",
    "       score.pct_2pt_fg,\n",
    "       score.pct_3pt_fg,\n",
    "       score.pct_pts_ft,\n",
    "       score.pct_pts_fbps,\n",
    "       score.pct_pts_off_to,\n",
    "       score.pct_pts_pitp,\n",
    "       score.fgm_pct_ast,\n",
    "       score.fgm_pct_uast,\n",
    "       trad.fga,\n",
    "       trad.3pa,\n",
    "       trad.fta,\n",
    "       trad.oreb,\n",
    "       trad.dreb,\n",
    "       trad.tot_reb,\n",
    "       trad.ast,\n",
    "       trad.stl,\n",
    "       trad.blk,\n",
    "       trad.personal_fouls,\n",
    "       pts.diff,\n",
    "       reb.off_reb,\n",
    "       reb.def_reb,\n",
    "       reb.tot_reb,\n",
    "       t.own_to,\n",
    "       t.opp_to,\n",
    "       stand.home_loses,\n",
    "       stand.home_wins,\n",
    "       stand.away_loses,\n",
    "       stand.away_wins,\n",
    "       opp_pts.opp_pts as opp_pts_allowed,\n",
    "       opp_pts.own_pts as opp_pts_scored\n",
    "from box_scores_map_view as b\n",
    "inner join(\n",
    "\n",
    "         select b.game_hash,\n",
    "                b.home_team,\n",
    "                lu.season,\n",
    "                h_team.team_id as home_id,\n",
    "                a_team.team_id as away_id\n",
    "         from box_score_map as b\n",
    "                inner join game_date_lookup as lu on b.game_date = lu.day\n",
    "                inner join team_info as h_team on b.home_team = h_team.team\n",
    "                inner join team_info as a_team on b.away_team = a_team.team\n",
    "         where b.game_date < current_date and\n",
    "               lu.season > 2006\n",
    "\n",
    "         ) as bm on ( (b.game_hash = bm.game_hash) and (b.team = bm.home_team) )\n",
    "\n",
    "inner join team_advanced_boxscore_stats as adv on ( (bm.home_team = adv.team) and (bm.game_hash = adv.game_hash) )\n",
    "inner join team_figure4_boxscore_stats as fig on ( (adv.team = fig.team) and (adv.game_hash = fig.game_hash) )\n",
    "-- inner join team_misc_boxscore_stats as misc on ( (fig.team = misc.team) and (fig.game_hash = misc.game_hash) )\n",
    "inner join team_scoring_boxscore_stats as score on ( (adv.team = score.team) and (adv.game_hash = score.game_hash) )\n",
    "inner join team_traditional_boxscore_stats as trad on ( (score.team = trad.team) and (score.game_hash = trad.game_hash) )\n",
    "inner join 3pt_pct as 3p on ( (bm.home_id = 3p.team_id) and (bm.season -1 = 3p.season) )\n",
    "inner join points as pts on ( (bm.home_id = pts.team_id) and (bm.season -1 = pts.season) )\n",
    "inner join rebound_pct as reb on ( (bm.home_id = reb.team_id) and (bm.season -1 = reb.season) )\n",
    "inner join turnovers as t on ( (bm.home_id = t.team_id) and (bm.season -1 = t.season) )\n",
    "inner join points as opp_pts on ( (bm.away_id = opp_pts.team_id) and (bm.season -1 = opp_pts.season) )\n",
    "inner join team_standings as stand on ( (bm.home_team = stand.team) and (bm.season = stand.season) )\n",
    "\n",
    "\"\"\""
   ]
  },
  {
   "cell_type": "code",
   "execution_count": null,
   "metadata": {},
   "outputs": [],
   "source": []
  },
  {
   "cell_type": "code",
   "execution_count": 164,
   "metadata": {},
   "outputs": [],
   "source": [
    "train_df = pd.read_sql(sql=training_set, con=conn, index_col=None)"
   ]
  },
  {
   "cell_type": "code",
   "execution_count": 165,
   "metadata": {},
   "outputs": [],
   "source": [
    "#test_df = pd.read_sql(sql=test_set, con=conn, index_col=None)"
   ]
  },
  {
   "cell_type": "code",
   "execution_count": 166,
   "metadata": {},
   "outputs": [],
   "source": [
    "def get_dummies(col):\n",
    "    return pd.get_dummies(col, drop_first=True)"
   ]
  },
  {
   "cell_type": "code",
   "execution_count": 167,
   "metadata": {},
   "outputs": [],
   "source": [
    "results_train = get_dummies(train_df['win_lose'])"
   ]
  },
  {
   "cell_type": "code",
   "execution_count": 168,
   "metadata": {},
   "outputs": [],
   "source": [
    "train_df = pd.concat([train_df, results_train], axis=1)"
   ]
  },
  {
   "cell_type": "code",
   "execution_count": 169,
   "metadata": {},
   "outputs": [],
   "source": [
    "train_df.drop(['win_lose'], axis=1, inplace=True)"
   ]
  },
  {
   "cell_type": "code",
   "execution_count": 170,
   "metadata": {},
   "outputs": [
    {
     "data": {
      "text/html": [
       "<div>\n",
       "<style scoped>\n",
       "    .dataframe tbody tr th:only-of-type {\n",
       "        vertical-align: middle;\n",
       "    }\n",
       "\n",
       "    .dataframe tbody tr th {\n",
       "        vertical-align: top;\n",
       "    }\n",
       "\n",
       "    .dataframe thead th {\n",
       "        text-align: right;\n",
       "    }\n",
       "</style>\n",
       "<table border=\"1\" class=\"dataframe\">\n",
       "  <thead>\n",
       "    <tr style=\"text-align: right;\">\n",
       "      <th></th>\n",
       "      <th>game_length</th>\n",
       "      <th>ast_to_to</th>\n",
       "      <th>ast_ratio</th>\n",
       "      <th>defensive_reb_pct</th>\n",
       "      <th>reb_pct</th>\n",
       "      <th>to_pct</th>\n",
       "      <th>ts_pct</th>\n",
       "      <th>pace</th>\n",
       "      <th>fta_rate</th>\n",
       "      <th>tov_pct</th>\n",
       "      <th>...</th>\n",
       "      <th>tot_reb</th>\n",
       "      <th>own_to</th>\n",
       "      <th>opp_to</th>\n",
       "      <th>home_loses</th>\n",
       "      <th>home_wins</th>\n",
       "      <th>away_loses</th>\n",
       "      <th>away_wins</th>\n",
       "      <th>opp_pts_allowed</th>\n",
       "      <th>opp_pts_scored</th>\n",
       "      <th>W</th>\n",
       "    </tr>\n",
       "  </thead>\n",
       "  <tbody>\n",
       "    <tr>\n",
       "      <th>0</th>\n",
       "      <td>48</td>\n",
       "      <td>1.00</td>\n",
       "      <td>17.7</td>\n",
       "      <td>82.5</td>\n",
       "      <td>53.9</td>\n",
       "      <td>23.5</td>\n",
       "      <td>57.6</td>\n",
       "      <td>91.02</td>\n",
       "      <td>0.400</td>\n",
       "      <td>23.5</td>\n",
       "      <td>...</td>\n",
       "      <td>0.508</td>\n",
       "      <td>14.9</td>\n",
       "      <td>13.7</td>\n",
       "      <td>10</td>\n",
       "      <td>31</td>\n",
       "      <td>25</td>\n",
       "      <td>16</td>\n",
       "      <td>101.4</td>\n",
       "      <td>97.1</td>\n",
       "      <td>1</td>\n",
       "    </tr>\n",
       "    <tr>\n",
       "      <th>1</th>\n",
       "      <td>48</td>\n",
       "      <td>1.53</td>\n",
       "      <td>17.3</td>\n",
       "      <td>82.9</td>\n",
       "      <td>54.8</td>\n",
       "      <td>15.3</td>\n",
       "      <td>51.5</td>\n",
       "      <td>97.16</td>\n",
       "      <td>0.395</td>\n",
       "      <td>15.3</td>\n",
       "      <td>...</td>\n",
       "      <td>0.489</td>\n",
       "      <td>12.8</td>\n",
       "      <td>13.7</td>\n",
       "      <td>7</td>\n",
       "      <td>34</td>\n",
       "      <td>22</td>\n",
       "      <td>19</td>\n",
       "      <td>102.7</td>\n",
       "      <td>97.8</td>\n",
       "      <td>1</td>\n",
       "    </tr>\n",
       "    <tr>\n",
       "      <th>2</th>\n",
       "      <td>48</td>\n",
       "      <td>1.71</td>\n",
       "      <td>17.3</td>\n",
       "      <td>83.7</td>\n",
       "      <td>54.7</td>\n",
       "      <td>13.4</td>\n",
       "      <td>54.4</td>\n",
       "      <td>102.52</td>\n",
       "      <td>0.253</td>\n",
       "      <td>13.4</td>\n",
       "      <td>...</td>\n",
       "      <td>0.475</td>\n",
       "      <td>14.5</td>\n",
       "      <td>15.5</td>\n",
       "      <td>18</td>\n",
       "      <td>23</td>\n",
       "      <td>21</td>\n",
       "      <td>20</td>\n",
       "      <td>107.6</td>\n",
       "      <td>97.4</td>\n",
       "      <td>1</td>\n",
       "    </tr>\n",
       "    <tr>\n",
       "      <th>3</th>\n",
       "      <td>48</td>\n",
       "      <td>0.91</td>\n",
       "      <td>16.3</td>\n",
       "      <td>82.0</td>\n",
       "      <td>51.6</td>\n",
       "      <td>23.0</td>\n",
       "      <td>48.7</td>\n",
       "      <td>98.70</td>\n",
       "      <td>0.177</td>\n",
       "      <td>23.0</td>\n",
       "      <td>...</td>\n",
       "      <td>0.482</td>\n",
       "      <td>13.5</td>\n",
       "      <td>15.4</td>\n",
       "      <td>14</td>\n",
       "      <td>27</td>\n",
       "      <td>20</td>\n",
       "      <td>21</td>\n",
       "      <td>100.1</td>\n",
       "      <td>106.7</td>\n",
       "      <td>0</td>\n",
       "    </tr>\n",
       "    <tr>\n",
       "      <th>4</th>\n",
       "      <td>48</td>\n",
       "      <td>1.00</td>\n",
       "      <td>14.1</td>\n",
       "      <td>67.3</td>\n",
       "      <td>45.4</td>\n",
       "      <td>17.9</td>\n",
       "      <td>52.9</td>\n",
       "      <td>100.76</td>\n",
       "      <td>0.397</td>\n",
       "      <td>17.9</td>\n",
       "      <td>...</td>\n",
       "      <td>0.493</td>\n",
       "      <td>14.0</td>\n",
       "      <td>15.1</td>\n",
       "      <td>16</td>\n",
       "      <td>25</td>\n",
       "      <td>22</td>\n",
       "      <td>19</td>\n",
       "      <td>93.4</td>\n",
       "      <td>94.2</td>\n",
       "      <td>1</td>\n",
       "    </tr>\n",
       "  </tbody>\n",
       "</table>\n",
       "<p>5 rows × 43 columns</p>\n",
       "</div>"
      ],
      "text/plain": [
       "   game_length  ast_to_to  ast_ratio  defensive_reb_pct  reb_pct  to_pct  \\\n",
       "0           48       1.00       17.7               82.5     53.9    23.5   \n",
       "1           48       1.53       17.3               82.9     54.8    15.3   \n",
       "2           48       1.71       17.3               83.7     54.7    13.4   \n",
       "3           48       0.91       16.3               82.0     51.6    23.0   \n",
       "4           48       1.00       14.1               67.3     45.4    17.9   \n",
       "\n",
       "   ts_pct    pace  fta_rate  tov_pct ...  tot_reb  own_to  opp_to  home_loses  \\\n",
       "0    57.6   91.02     0.400     23.5 ...    0.508    14.9    13.7          10   \n",
       "1    51.5   97.16     0.395     15.3 ...    0.489    12.8    13.7           7   \n",
       "2    54.4  102.52     0.253     13.4 ...    0.475    14.5    15.5          18   \n",
       "3    48.7   98.70     0.177     23.0 ...    0.482    13.5    15.4          14   \n",
       "4    52.9  100.76     0.397     17.9 ...    0.493    14.0    15.1          16   \n",
       "\n",
       "   home_wins  away_loses  away_wins  opp_pts_allowed  opp_pts_scored  W  \n",
       "0         31          25         16            101.4            97.1  1  \n",
       "1         34          22         19            102.7            97.8  1  \n",
       "2         23          21         20            107.6            97.4  1  \n",
       "3         27          20         21            100.1           106.7  0  \n",
       "4         25          22         19             93.4            94.2  1  \n",
       "\n",
       "[5 rows x 43 columns]"
      ]
     },
     "execution_count": 170,
     "metadata": {},
     "output_type": "execute_result"
    }
   ],
   "source": [
    "train_df.head()\n",
    "#test_df.head()"
   ]
  },
  {
   "cell_type": "code",
   "execution_count": 171,
   "metadata": {},
   "outputs": [],
   "source": [
    "X_train, X_test, y_train, y_test = train_test_split(train_df.drop('W', axis=1), train_df['W'], test_size=.33)"
   ]
  },
  {
   "cell_type": "code",
   "execution_count": null,
   "metadata": {},
   "outputs": [],
   "source": []
  },
  {
   "cell_type": "code",
   "execution_count": null,
   "metadata": {},
   "outputs": [],
   "source": []
  },
  {
   "cell_type": "code",
   "execution_count": 172,
   "metadata": {},
   "outputs": [],
   "source": [
    "lg = LogisticRegression() #(penalty='l2', C=1.38383838)"
   ]
  },
  {
   "cell_type": "code",
   "execution_count": 173,
   "metadata": {},
   "outputs": [
    {
     "data": {
      "text/plain": [
       "LogisticRegression(C=1.0, class_weight=None, dual=False, fit_intercept=True,\n",
       "          intercept_scaling=1, max_iter=100, multi_class='ovr', n_jobs=1,\n",
       "          penalty='l2', random_state=None, solver='liblinear', tol=0.0001,\n",
       "          verbose=0, warm_start=False)"
      ]
     },
     "execution_count": 173,
     "metadata": {},
     "output_type": "execute_result"
    }
   ],
   "source": [
    "lg.fit(X_train, y_train) #(train_df.drop('W', axis=1), train_df['W']) "
   ]
  },
  {
   "cell_type": "code",
   "execution_count": 174,
   "metadata": {},
   "outputs": [],
   "source": [
    "predictions = lg.predict(X_test)"
   ]
  },
  {
   "cell_type": "code",
   "execution_count": 175,
   "metadata": {},
   "outputs": [
    {
     "data": {
      "text/plain": [
       "0.9045918367346939"
      ]
     },
     "execution_count": 175,
     "metadata": {},
     "output_type": "execute_result"
    }
   ],
   "source": [
    "lg.score(X_test, y_test)"
   ]
  },
  {
   "cell_type": "code",
   "execution_count": 176,
   "metadata": {},
   "outputs": [
    {
     "name": "stdout",
     "output_type": "stream",
     "text": [
      "[[1398  193]\n",
      " [ 181 2148]]\n"
     ]
    }
   ],
   "source": [
    "print(confusion_matrix(y_test, predictions))"
   ]
  },
  {
   "cell_type": "code",
   "execution_count": 177,
   "metadata": {},
   "outputs": [
    {
     "name": "stdout",
     "output_type": "stream",
     "text": [
      "             precision    recall  f1-score   support\n",
      "\n",
      "          0       0.89      0.88      0.88      1591\n",
      "          1       0.92      0.92      0.92      2329\n",
      "\n",
      "avg / total       0.90      0.90      0.90      3920\n",
      "\n"
     ]
    }
   ],
   "source": [
    "print(classification_report(y_test, predictions))"
   ]
  },
  {
   "cell_type": "code",
   "execution_count": 178,
   "metadata": {},
   "outputs": [
    {
     "data": {
      "text/html": [
       "<div>\n",
       "<style scoped>\n",
       "    .dataframe tbody tr th:only-of-type {\n",
       "        vertical-align: middle;\n",
       "    }\n",
       "\n",
       "    .dataframe tbody tr th {\n",
       "        vertical-align: top;\n",
       "    }\n",
       "\n",
       "    .dataframe thead th {\n",
       "        text-align: right;\n",
       "    }\n",
       "</style>\n",
       "<table border=\"1\" class=\"dataframe\">\n",
       "  <thead>\n",
       "    <tr style=\"text-align: right;\">\n",
       "      <th></th>\n",
       "      <th>0</th>\n",
       "    </tr>\n",
       "  </thead>\n",
       "  <tbody>\n",
       "    <tr>\n",
       "      <th>game_length</th>\n",
       "      <td>-0.632959</td>\n",
       "    </tr>\n",
       "    <tr>\n",
       "      <th>ast_to_to</th>\n",
       "      <td>0.050645</td>\n",
       "    </tr>\n",
       "    <tr>\n",
       "      <th>ast_ratio</th>\n",
       "      <td>-0.569107</td>\n",
       "    </tr>\n",
       "    <tr>\n",
       "      <th>defensive_reb_pct</th>\n",
       "      <td>-0.070402</td>\n",
       "    </tr>\n",
       "    <tr>\n",
       "      <th>reb_pct</th>\n",
       "      <td>0.235634</td>\n",
       "    </tr>\n",
       "    <tr>\n",
       "      <th>to_pct</th>\n",
       "      <td>-0.157596</td>\n",
       "    </tr>\n",
       "    <tr>\n",
       "      <th>ts_pct</th>\n",
       "      <td>0.589323</td>\n",
       "    </tr>\n",
       "    <tr>\n",
       "      <th>pace</th>\n",
       "      <td>-0.319648</td>\n",
       "    </tr>\n",
       "    <tr>\n",
       "      <th>fta_rate</th>\n",
       "      <td>-0.043056</td>\n",
       "    </tr>\n",
       "    <tr>\n",
       "      <th>tov_pct</th>\n",
       "      <td>-0.157596</td>\n",
       "    </tr>\n",
       "    <tr>\n",
       "      <th>opp_tov_pct</th>\n",
       "      <td>0.605187</td>\n",
       "    </tr>\n",
       "    <tr>\n",
       "      <th>opp_off_reb_pct</th>\n",
       "      <td>0.050963</td>\n",
       "    </tr>\n",
       "    <tr>\n",
       "      <th>pct_2pt_fg</th>\n",
       "      <td>0.045287</td>\n",
       "    </tr>\n",
       "    <tr>\n",
       "      <th>pct_3pt_fg</th>\n",
       "      <td>-0.002831</td>\n",
       "    </tr>\n",
       "    <tr>\n",
       "      <th>pct_pts_ft</th>\n",
       "      <td>-0.099948</td>\n",
       "    </tr>\n",
       "    <tr>\n",
       "      <th>pct_pts_fbps</th>\n",
       "      <td>-0.029986</td>\n",
       "    </tr>\n",
       "    <tr>\n",
       "      <th>pct_pts_off_to</th>\n",
       "      <td>0.024839</td>\n",
       "    </tr>\n",
       "    <tr>\n",
       "      <th>pct_pts_pitp</th>\n",
       "      <td>-0.014432</td>\n",
       "    </tr>\n",
       "    <tr>\n",
       "      <th>fgm_pct_ast</th>\n",
       "      <td>0.030156</td>\n",
       "    </tr>\n",
       "    <tr>\n",
       "      <th>fgm_pct_uast</th>\n",
       "      <td>-0.073585</td>\n",
       "    </tr>\n",
       "    <tr>\n",
       "      <th>fga</th>\n",
       "      <td>0.101728</td>\n",
       "    </tr>\n",
       "    <tr>\n",
       "      <th>3pa</th>\n",
       "      <td>-0.002555</td>\n",
       "    </tr>\n",
       "    <tr>\n",
       "      <th>fta</th>\n",
       "      <td>0.108859</td>\n",
       "    </tr>\n",
       "    <tr>\n",
       "      <th>oreb</th>\n",
       "      <td>-0.168536</td>\n",
       "    </tr>\n",
       "    <tr>\n",
       "      <th>dreb</th>\n",
       "      <td>0.373540</td>\n",
       "    </tr>\n",
       "    <tr>\n",
       "      <th>tot_reb</th>\n",
       "      <td>0.205004</td>\n",
       "    </tr>\n",
       "    <tr>\n",
       "      <th>ast</th>\n",
       "      <td>0.133035</td>\n",
       "    </tr>\n",
       "    <tr>\n",
       "      <th>stl</th>\n",
       "      <td>0.049418</td>\n",
       "    </tr>\n",
       "    <tr>\n",
       "      <th>blk</th>\n",
       "      <td>0.106808</td>\n",
       "    </tr>\n",
       "    <tr>\n",
       "      <th>personal_fouls</th>\n",
       "      <td>-0.087003</td>\n",
       "    </tr>\n",
       "    <tr>\n",
       "      <th>diff</th>\n",
       "      <td>0.005660</td>\n",
       "    </tr>\n",
       "    <tr>\n",
       "      <th>off_reb</th>\n",
       "      <td>0.096604</td>\n",
       "    </tr>\n",
       "    <tr>\n",
       "      <th>def_reb</th>\n",
       "      <td>-0.047324</td>\n",
       "    </tr>\n",
       "    <tr>\n",
       "      <th>tot_reb</th>\n",
       "      <td>-0.003234</td>\n",
       "    </tr>\n",
       "    <tr>\n",
       "      <th>own_to</th>\n",
       "      <td>0.062662</td>\n",
       "    </tr>\n",
       "    <tr>\n",
       "      <th>opp_to</th>\n",
       "      <td>-0.050090</td>\n",
       "    </tr>\n",
       "    <tr>\n",
       "      <th>home_loses</th>\n",
       "      <td>-0.010308</td>\n",
       "    </tr>\n",
       "    <tr>\n",
       "      <th>home_wins</th>\n",
       "      <td>0.079459</td>\n",
       "    </tr>\n",
       "    <tr>\n",
       "      <th>away_loses</th>\n",
       "      <td>-0.006597</td>\n",
       "    </tr>\n",
       "    <tr>\n",
       "      <th>away_wins</th>\n",
       "      <td>-0.015638</td>\n",
       "    </tr>\n",
       "    <tr>\n",
       "      <th>opp_pts_allowed</th>\n",
       "      <td>0.038142</td>\n",
       "    </tr>\n",
       "    <tr>\n",
       "      <th>opp_pts_scored</th>\n",
       "      <td>-0.095568</td>\n",
       "    </tr>\n",
       "  </tbody>\n",
       "</table>\n",
       "</div>"
      ],
      "text/plain": [
       "                          0\n",
       "game_length       -0.632959\n",
       "ast_to_to          0.050645\n",
       "ast_ratio         -0.569107\n",
       "defensive_reb_pct -0.070402\n",
       "reb_pct            0.235634\n",
       "to_pct            -0.157596\n",
       "ts_pct             0.589323\n",
       "pace              -0.319648\n",
       "fta_rate          -0.043056\n",
       "tov_pct           -0.157596\n",
       "opp_tov_pct        0.605187\n",
       "opp_off_reb_pct    0.050963\n",
       "pct_2pt_fg         0.045287\n",
       "pct_3pt_fg        -0.002831\n",
       "pct_pts_ft        -0.099948\n",
       "pct_pts_fbps      -0.029986\n",
       "pct_pts_off_to     0.024839\n",
       "pct_pts_pitp      -0.014432\n",
       "fgm_pct_ast        0.030156\n",
       "fgm_pct_uast      -0.073585\n",
       "fga                0.101728\n",
       "3pa               -0.002555\n",
       "fta                0.108859\n",
       "oreb              -0.168536\n",
       "dreb               0.373540\n",
       "tot_reb            0.205004\n",
       "ast                0.133035\n",
       "stl                0.049418\n",
       "blk                0.106808\n",
       "personal_fouls    -0.087003\n",
       "diff               0.005660\n",
       "off_reb            0.096604\n",
       "def_reb           -0.047324\n",
       "tot_reb           -0.003234\n",
       "own_to             0.062662\n",
       "opp_to            -0.050090\n",
       "home_loses        -0.010308\n",
       "home_wins          0.079459\n",
       "away_loses        -0.006597\n",
       "away_wins         -0.015638\n",
       "opp_pts_allowed    0.038142\n",
       "opp_pts_scored    -0.095568"
      ]
     },
     "execution_count": 178,
     "metadata": {},
     "output_type": "execute_result"
    }
   ],
   "source": [
    "pd.DataFrame(lg.coef_, columns=X_test.columns).T"
   ]
  },
  {
   "cell_type": "code",
   "execution_count": 179,
   "metadata": {
    "scrolled": false
   },
   "outputs": [],
   "source": [
    "#lg.fit(train_df.drop('W', axis=1), train_df['W'] )"
   ]
  },
  {
   "cell_type": "code",
   "execution_count": 139,
   "metadata": {},
   "outputs": [],
   "source": [
    "#predictions = lg.predict(test_df.drop('W', axis=1))"
   ]
  },
  {
   "cell_type": "code",
   "execution_count": 140,
   "metadata": {},
   "outputs": [],
   "source": [
    "#print(confusion_matrix(test_df['W'], predictions))"
   ]
  },
  {
   "cell_type": "code",
   "execution_count": 141,
   "metadata": {},
   "outputs": [],
   "source": [
    "#print(classification_report(test_df['W'], predictions))"
   ]
  },
  {
   "cell_type": "code",
   "execution_count": 142,
   "metadata": {},
   "outputs": [],
   "source": [
    "#sns.pairplot(test_df)"
   ]
  },
  {
   "cell_type": "code",
   "execution_count": 143,
   "metadata": {},
   "outputs": [],
   "source": [
    "#print(lg.coef_)"
   ]
  },
  {
   "cell_type": "code",
   "execution_count": 144,
   "metadata": {},
   "outputs": [],
   "source": [
    "#col = train_df.drop('W', axis=1)\n",
    "#col.columns"
   ]
  },
  {
   "cell_type": "code",
   "execution_count": 145,
   "metadata": {},
   "outputs": [],
   "source": [
    "#pd.DataFrame(lg.coef_, columns=train_df.drop('W', axis=1).columns).T"
   ]
  },
  {
   "cell_type": "code",
   "execution_count": 146,
   "metadata": {},
   "outputs": [],
   "source": [
    "#list(np.concatenate([np.power(10.0, np.arange(1, 15)), np.linspace(1, 9.99, 50)]))"
   ]
  },
  {
   "cell_type": "code",
   "execution_count": 180,
   "metadata": {},
   "outputs": [
    {
     "data": {
      "text/plain": [
       "[1.0,\n",
       " 10.0,\n",
       " 100.0,\n",
       " 1000.0,\n",
       " 10000.0,\n",
       " 100000.0,\n",
       " 1000000.0,\n",
       " 10000000.0,\n",
       " 100000000.0,\n",
       " 1000000000.0]"
      ]
     },
     "execution_count": 180,
     "metadata": {},
     "output_type": "execute_result"
    }
   ],
   "source": [
    "#test_c_vals = np.linspace(5, 25, 40) # np.concatenate([np.power(10.0, np.arange(1, 15)), np.linspace(1, 9.99, 50)])\n",
    "test_c_vals = list(np.power(10.0, np.arange(0, 10)))\n",
    "test_c_vals"
   ]
  },
  {
   "cell_type": "code",
   "execution_count": 181,
   "metadata": {},
   "outputs": [],
   "source": [
    "score = np.empty_like(test_c_vals)"
   ]
  },
  {
   "cell_type": "code",
   "execution_count": 182,
   "metadata": {},
   "outputs": [
    {
     "data": {
      "text/plain": [
       "array([ 0.90459184,  0.90408163,  0.90433673,  0.90459184,  0.90459184,\n",
       "        0.90408163,  0.90408163,  0.90408163,  0.90331633,  0.90459184])"
      ]
     },
     "execution_count": 182,
     "metadata": {},
     "output_type": "execute_result"
    }
   ],
   "source": [
    "for c, i in enumerate(test_c_vals):\n",
    "    lg = LogisticRegression(penalty='l2', C=i)\n",
    "    lg.fit(X_train, y_train)\n",
    "    score[c] = lg.score(X_test, y_test)\n",
    "score"
   ]
  },
  {
   "cell_type": "code",
   "execution_count": 183,
   "metadata": {
    "scrolled": false
   },
   "outputs": [
    {
     "name": "stderr",
     "output_type": "stream",
     "text": [
      "/Library/Frameworks/Python.framework/Versions/3.6/lib/python3.6/site-packages/scipy/optimize/linesearch.py:462: LineSearchWarning: The line search algorithm did not converge\n",
      "  warn('The line search algorithm did not converge', LineSearchWarning)\n",
      "/Library/Frameworks/Python.framework/Versions/3.6/lib/python3.6/site-packages/scipy/optimize/linesearch.py:313: LineSearchWarning: The line search algorithm did not converge\n",
      "  warn('The line search algorithm did not converge', LineSearchWarning)\n",
      "/Library/Frameworks/Python.framework/Versions/3.6/lib/python3.6/site-packages/sklearn/utils/optimize.py:195: UserWarning: Line Search failed\n",
      "  warnings.warn('Line Search failed')\n",
      "/Library/Frameworks/Python.framework/Versions/3.6/lib/python3.6/site-packages/scipy/optimize/linesearch.py:422: LineSearchWarning: Rounding errors prevent the line search from converging\n",
      "  warn(msg, LineSearchWarning)\n"
     ]
    },
    {
     "data": {
      "text/plain": [
       "LogisticRegressionCV(Cs=[1.0, 10.0, 100.0, 1000.0, 10000.0, 100000.0, 1000000.0, 10000000.0, 100000000.0, 1000000000.0],\n",
       "           class_weight=None,\n",
       "           cv=KFold(n_splits=5, random_state=None, shuffle=True),\n",
       "           dual=False, fit_intercept=True, intercept_scaling=1.0,\n",
       "           max_iter=10000, multi_class='ovr', n_jobs=1, penalty='l2',\n",
       "           random_state=None, refit=True, scoring='roc_auc',\n",
       "           solver='newton-cg', tol=0.0001, verbose=0)"
      ]
     },
     "execution_count": 183,
     "metadata": {},
     "output_type": "execute_result"
    }
   ],
   "source": [
    "folds = KFold(n_splits=5, shuffle=True)\n",
    "\n",
    "log_reg_cv = LogisticRegressionCV(Cs=test_c_vals, \n",
    "                                  cv=folds, \n",
    "                                  penalty=\"l2\", \n",
    "                                  scoring='roc_auc', \n",
    "                                  solver='newton-cg', \n",
    "                                  max_iter=10000)\n",
    "\n",
    "log_reg_cv.fit(train_df.drop('W', axis=1), train_df['W'])"
   ]
  },
  {
   "cell_type": "code",
   "execution_count": 184,
   "metadata": {},
   "outputs": [],
   "source": [
    "cv_score = log_reg_cv.score(train_df.drop('W', axis=1), train_df['W'])"
   ]
  },
  {
   "cell_type": "code",
   "execution_count": 185,
   "metadata": {},
   "outputs": [],
   "source": [
    "cv_c = log_reg_cv.C_"
   ]
  },
  {
   "cell_type": "code",
   "execution_count": 186,
   "metadata": {},
   "outputs": [
    {
     "data": {
      "text/plain": [
       "(array([ 1.]), 0.90485011788480973)"
      ]
     },
     "execution_count": 186,
     "metadata": {},
     "output_type": "execute_result"
    }
   ],
   "source": [
    "cv_c, cv_score"
   ]
  },
  {
   "cell_type": "code",
   "execution_count": 187,
   "metadata": {},
   "outputs": [
    {
     "data": {
      "text/plain": [
       "<matplotlib.lines.Line2D at 0x1189742e8>"
      ]
     },
     "execution_count": 187,
     "metadata": {},
     "output_type": "execute_result"
    },
    {
     "data": {
      "image/png": "[encoded data removed]",
      "text/plain": [
       "<Figure size 432x288 with 1 Axes>"
      ]
     },
     "metadata": {},
     "output_type": "display_data"
    }
   ],
   "source": [
    "plt.plot(test_c_vals, score)\n",
    "ax = plt.gca()\n",
    "ax.set_xscale('log')\n",
    "plt.axhline(cv_score, color='b',ls='--')\n",
    "plt.axvline(cv_c, color='r', ls='--')"
   ]
  },
  {
   "cell_type": "code",
   "execution_count": 188,
   "metadata": {},
   "outputs": [
    {
     "data": {
      "text/plain": [
       "1.0"
      ]
     },
     "execution_count": 188,
     "metadata": {},
     "output_type": "execute_result"
    }
   ],
   "source": [
    "np.take(test_c_vals, np.argmax(score))"
   ]
  },
  {
   "cell_type": "code",
   "execution_count": 189,
   "metadata": {},
   "outputs": [
    {
     "data": {
      "text/plain": [
       "0.9045918367346939"
      ]
     },
     "execution_count": 189,
     "metadata": {},
     "output_type": "execute_result"
    }
   ],
   "source": [
    "np.amax(score)"
   ]
  },
  {
   "cell_type": "markdown",
   "metadata": {},
   "source": [
    "#score\n",
    "2005 -- LCV 0.90494697319017192\n",
    "2006 -- L 0.90989437378745419 **\n",
    "2007 -- L 0.90860089055542537\n",
    "2008 -- LCV 0.90485011788480973"
   ]
  },
  {
   "cell_type": "code",
   "execution_count": 197,
   "metadata": {},
   "outputs": [],
   "source": [
    "t = [['Atlanta', 'Brooklyn']]\n",
    "df = pd.DataFrame(t, columns=['away', 'home'])"
   ]
  },
  {
   "cell_type": "code",
   "execution_count": 198,
   "metadata": {},
   "outputs": [
    {
     "data": {
      "text/html": [
       "<div>\n",
       "<style scoped>\n",
       "    .dataframe tbody tr th:only-of-type {\n",
       "        vertical-align: middle;\n",
       "    }\n",
       "\n",
       "    .dataframe tbody tr th {\n",
       "        vertical-align: top;\n",
       "    }\n",
       "\n",
       "    .dataframe thead th {\n",
       "        text-align: right;\n",
       "    }\n",
       "</style>\n",
       "<table border=\"1\" class=\"dataframe\">\n",
       "  <thead>\n",
       "    <tr style=\"text-align: right;\">\n",
       "      <th></th>\n",
       "      <th>away</th>\n",
       "      <th>home</th>\n",
       "    </tr>\n",
       "  </thead>\n",
       "  <tbody>\n",
       "    <tr>\n",
       "      <th>0</th>\n",
       "      <td>Atlanta</td>\n",
       "      <td>Brooklyn</td>\n",
       "    </tr>\n",
       "  </tbody>\n",
       "</table>\n",
       "</div>"
      ],
      "text/plain": [
       "      away      home\n",
       "0  Atlanta  Brooklyn"
      ]
     },
     "execution_count": 198,
     "metadata": {},
     "output_type": "execute_result"
    }
   ],
   "source": [
    "df\n"
   ]
  },
  {
   "cell_type": "code",
   "execution_count": null,
   "metadata": {},
   "outputs": [],
   "source": []
  }
 ],
 "metadata": {
  "kernelspec": {
   "display_name": "Python 3",
   "language": "python",
   "name": "python3"
  },
  "language_info": {
   "codemirror_mode": {
    "name": "ipython",
    "version": 3
   },
   "file_extension": ".py",
   "mimetype": "text/x-python",
   "name": "python",
   "nbconvert_exporter": "python",
   "pygments_lexer": "ipython3",
   "version": "3.6.3"
  }
 },
 "nbformat": 4,
 "nbformat_minor": 2
}
