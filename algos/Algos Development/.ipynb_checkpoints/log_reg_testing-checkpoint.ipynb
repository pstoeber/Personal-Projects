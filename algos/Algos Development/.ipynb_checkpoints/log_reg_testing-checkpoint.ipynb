{
 "cells": [
  {
   "cell_type": "code",
   "execution_count": 1,
   "metadata": {},
   "outputs": [],
   "source": [
    "import numpy as np\n",
    "import pandas as pd\n",
    "import matplotlib.pyplot as plt\n",
    "import seaborn as sns\n",
    "import pymysql\n",
    "from sklearn.model_selection import train_test_split\n",
    "from sklearn.linear_model import LogisticRegression\n",
    "from sklearn.metrics import confusion_matrix\n",
    "from sklearn.metrics import classification_report\n",
    "%matplotlib inline\n",
    "conn = pymysql.connect(host='localhost', user='root', password='Sk1ttles', db='nba_stats_prod')"
   ]
  },
  {
   "cell_type": "code",
   "execution_count": 440,
   "metadata": {},
   "outputs": [],
   "source": [
    "training_set = \"\"\"\n",
    "select adv.win_lose,\n",
    "       bm.home_away,\n",
    "       adv.game_length, /*\n",
    "       adv.ast_pct,\n",
    "       adv.ast_to_to, */\n",
    "       adv.ast_ratio, /*\n",
    "       adv.offensive_reb_pct,\n",
    "       adv.defensive_reb_pct, */\n",
    "       adv.reb_pct,\n",
    "       -- adv.to_pct,\n",
    "       -- adv.effective_fg_pct,\n",
    "       adv.ts_pct,\n",
    "       adv.pace,\n",
    "       -- fig.fta_rate,\n",
    "       fig.tov_pct,\n",
    "       -- fig.oreb_pct,\n",
    "       -- fig.opp_effective_fg_pct,\n",
    "       fig.opp_fta_rate,\n",
    "       fig.opp_tov_pct,\n",
    "       -- fig.opp_off_reb_pct,\n",
    "       -- misc.points_off_to,\n",
    "      /* misc.second_chance_pts,\n",
    "       misc.fbps,\n",
    "       misc.pts_in_paint,\n",
    "       misc.opp_pts_off_to,\n",
    "       misc.opp_second_chance_pts,\n",
    "       misc.opp_fbps,\n",
    "       misc.opp_pts_in_paint,\n",
    "       score.pct_2pt_fg,\n",
    "       score.pct_3pt_fg,\n",
    "       score.pct_pts_2pt,\n",
    "       score.pct_pts_2pt_mr,\n",
    "       score.pct_pts_3pt,\n",
    "       score.pct_pts_fbps, */\n",
    "       -- score.pct_pts_ft,\n",
    "     -- score.pct_pts_off_to,\n",
    "      /* score.pct_pts_pitp,\n",
    "       score.2pt_fgm_ast_pct,\n",
    "       score.3pt_fgm_ast_pct,\n",
    "       score.3pt_fgm_uast_pct,\n",
    "       score.fgm_pct_ast,\n",
    "       score.fgm_pct_uast, */\n",
    "       trad.fga, /*\n",
    "       -- trad.fg_pct,\n",
    "       trad.3pa,\n",
    "       -- trad.3p_pct,\n",
    "       trad.fta,\n",
    "       trad.ft_pct,\n",
    "       trad.oreb, */\n",
    "       trad.dreb,\n",
    "       -- trad.tot_reb,\n",
    "       trad.ast /*,\n",
    "       trad.stl,\n",
    "       trad.blk,\n",
    "       trad.personal_fouls */\n",
    "from box_scores_map_view as b\n",
    "inner join(\n",
    "\n",
    "    select b.game_hash, b.team, b.home_away, b.game_date\n",
    "    from box_scores_map_view as b\n",
    "    inner join game_date_lookup as lu on b.game_date = lu.day\n",
    "    where b.game_date < current_date and\n",
    "          lu.season > 1994\n",
    "\n",
    "    ) as bm on ( (b.game_hash = bm.game_hash) and (b.team = bm.team) )\n",
    "\n",
    "inner join team_advanced_boxscore_stats as adv on ( (bm.team = adv.team) and (bm.game_hash = adv.game_hash) )\n",
    "inner join team_figure4_boxscore_stats as fig on ( (adv.team = fig.team) and (adv.game_hash = fig.game_hash) )\n",
    "inner join team_misc_boxscore_stats as misc on ( (fig.team = misc.team) and (fig.game_hash = misc.game_hash) )\n",
    "inner join team_scoring_boxscore_stats as score on ( (misc.team = score.team) and (misc.game_hash = score.game_hash) )\n",
    "inner join team_traditional_boxscore_stats as trad on ( (score.team = trad.team) and (score.game_hash = trad.game_hash) )\"\"\""
   ]
  },
  {
   "cell_type": "code",
   "execution_count": 449,
   "metadata": {},
   "outputs": [],
   "source": [
    "test_set = \"\"\"adv.win_lose,\n",
    "       bm.home_away,\n",
    "       adv.game_length,\n",
    "       /*adv.ast_pct,\n",
    "       adv.ast_to_to,\n",
    "       adv.ast_ratio,\n",
    "       adv.offensive_reb_pct, */\n",
    "       adv.defensive_reb_pct,\n",
    "       adv.reb_pct,\n",
    "       adv.to_pct,\n",
    "       -- adv.effective_fg_pct,\n",
    "       adv.ts_pct,\n",
    "       adv.pace, /*\n",
    "       fig.fta_rate,\n",
    "       fig.tov_pct,\n",
    "       fig.oreb_pct, */\n",
    "       /* fig.opp_effective_fg_pct */,\n",
    "       fig.opp_fta_rate,\n",
    "       fig.opp_tov_pct, /*\n",
    "       fig.opp_off_reb_pct,\n",
    "       misc.points_off_to,\n",
    "       misc.second_chance_pts,\n",
    "       misc.fbps, */\n",
    "       misc.pts_in_paint,\n",
    "       misc.opp_pts_off_to,\n",
    "       misc.opp_second_chance_pts, /*\n",
    "       misc.opp_fbps,\n",
    "       misc.opp_pts_in_paint,\n",
    "       score.pct_2pt_fg,\n",
    "       score.pct_3pt_fg,\n",
    "       score.pct_pts_2pt,\n",
    "       score.pct_pts_2pt_mr,\n",
    "       score.pct_pts_3pt,\n",
    "       score.pct_pts_fbps,\n",
    "       score.pct_pts_ft,\n",
    "       score.pct_pts_off_to,\n",
    "       score.pct_pts_pitp,\n",
    "       score.2pt_fgm_ast_pct,\n",
    "       score.3pt_fgm_ast_pct,\n",
    "       score.3pt_fgm_uast_pct,\n",
    "       score.fgm_pct_ast,\n",
    "       score.fgm_pct_uast, */\n",
    "       trad.fga, /*\n",
    "       trad.fg_pct,\n",
    "       trad.3pa,\n",
    "       trad.3p_pct,\n",
    "       trad.fta,\n",
    "       trad.ft_pct, */\n",
    "       trad.oreb /*,\n",
    "       trad.dreb,\n",
    "       trad.tot_reb,\n",
    "       trad.ast,\n",
    "       trad.stl,\n",
    "       trad.blk,\n",
    "       trad.personal_fouls */\n",
    "from box_scores_map_view as b\n",
    "inner join(\n",
    "\n",
    "    select game_hash, team, home_away, game_date\n",
    "    from box_scores_map_view\n",
    "    where team like 'Memphis%' and\n",
    "          game_date < current_date\n",
    "    order by game_date desc limit 8\n",
    "    ) as bm on ( (b.game_hash = bm.game_hash) and (b.team = bm.team) )\n",
    "\n",
    "inner join team_advanced_boxscore_stats as adv on ( (bm.team = adv.team) and (bm.game_hash = adv.game_hash) )\n",
    "inner join team_figure4_boxscore_stats as fig on ( (adv.team = fig.team) and (adv.game_hash = fig.game_hash) )\n",
    "inner join team_misc_boxscore_stats as misc on ( (fig.team = misc.team) and (fig.game_hash = misc.game_hash) )\n",
    "inner join team_scoring_boxscore_stats as score on ( (misc.team = score.team) and (misc.game_hash = score.game_hash) )\n",
    "inner join team_traditional_boxscore_stats as trad on ( (score.team = trad.team) and (score.game_hash = trad.game_hash) )\n",
    "where bm.team like 'Memphis%'\"\"\""
   ]
  },
  {
   "cell_type": "code",
   "execution_count": 451,
   "metadata": {},
   "outputs": [],
   "source": [
    "train_df = pd.read_sql(sql=training_set, con=conn, index_col=None)"
   ]
  },
  {
   "cell_type": "code",
   "execution_count": 452,
   "metadata": {},
   "outputs": [],
   "source": [
    "#test_df = pd.read_sql(sql=test_set, con=conn, index_col=None)"
   ]
  },
  {
   "cell_type": "code",
   "execution_count": 453,
   "metadata": {},
   "outputs": [],
   "source": [
    "def get_dummies(col):\n",
    "    return pd.get_dummies(col, drop_first=True)"
   ]
  },
  {
   "cell_type": "code",
   "execution_count": 454,
   "metadata": {},
   "outputs": [],
   "source": [
    "results_train = get_dummies(train_df['win_lose'])"
   ]
  },
  {
   "cell_type": "code",
   "execution_count": 455,
   "metadata": {},
   "outputs": [],
   "source": [
    "#ha_train = get_dummies(train_df['home_away'])"
   ]
  },
  {
   "cell_type": "code",
   "execution_count": 456,
   "metadata": {},
   "outputs": [],
   "source": [
    "#results_test = get_dummies(test_df['win_lose'])"
   ]
  },
  {
   "cell_type": "code",
   "execution_count": 457,
   "metadata": {},
   "outputs": [],
   "source": [
    "#ha_test = get_dummies(test_df['home_away'])"
   ]
  },
  {
   "cell_type": "code",
   "execution_count": 458,
   "metadata": {},
   "outputs": [],
   "source": [
    "train_df = pd.concat([train_df, results_train], axis=1)"
   ]
  },
  {
   "cell_type": "code",
   "execution_count": 459,
   "metadata": {},
   "outputs": [],
   "source": [
    "train_df.drop(['win_lose'], axis=1, inplace=True)"
   ]
  },
  {
   "cell_type": "code",
   "execution_count": 460,
   "metadata": {},
   "outputs": [],
   "source": [
    "#test_df = pd.concat([test_df, results_test], axis=1)"
   ]
  },
  {
   "cell_type": "code",
   "execution_count": 461,
   "metadata": {},
   "outputs": [],
   "source": [
    "#test_df.drop(['win_lose'], axis=1, inplace=True)"
   ]
  },
  {
   "cell_type": "code",
   "execution_count": 462,
   "metadata": {},
   "outputs": [],
   "source": [
    "#train_df = pd.concat([train_df, ha_train], axis=1)"
   ]
  },
  {
   "cell_type": "code",
   "execution_count": 463,
   "metadata": {},
   "outputs": [],
   "source": [
    "#test_df = pd.concat([test_df, ha_test], axis=1)"
   ]
  },
  {
   "cell_type": "code",
   "execution_count": 464,
   "metadata": {},
   "outputs": [],
   "source": [
    "train_df.drop(['home_away'], axis=1, inplace=True)"
   ]
  },
  {
   "cell_type": "code",
   "execution_count": 465,
   "metadata": {},
   "outputs": [],
   "source": [
    "#test_df.drop(['home_away'], axis=1, inplace=True)"
   ]
  },
  {
   "cell_type": "code",
   "execution_count": 466,
   "metadata": {},
   "outputs": [
    {
     "data": {
      "text/html": [
       "<div>\n",
       "<style scoped>\n",
       "    .dataframe tbody tr th:only-of-type {\n",
       "        vertical-align: middle;\n",
       "    }\n",
       "\n",
       "    .dataframe tbody tr th {\n",
       "        vertical-align: top;\n",
       "    }\n",
       "\n",
       "    .dataframe thead th {\n",
       "        text-align: right;\n",
       "    }\n",
       "</style>\n",
       "<table border=\"1\" class=\"dataframe\">\n",
       "  <thead>\n",
       "    <tr style=\"text-align: right;\">\n",
       "      <th></th>\n",
       "      <th>game_length</th>\n",
       "      <th>ast_ratio</th>\n",
       "      <th>reb_pct</th>\n",
       "      <th>ts_pct</th>\n",
       "      <th>pace</th>\n",
       "      <th>tov_pct</th>\n",
       "      <th>opp_fta_rate</th>\n",
       "      <th>opp_tov_pct</th>\n",
       "      <th>fga</th>\n",
       "      <th>dreb</th>\n",
       "      <th>ast</th>\n",
       "      <th>W</th>\n",
       "    </tr>\n",
       "  </thead>\n",
       "  <tbody>\n",
       "    <tr>\n",
       "      <th>0</th>\n",
       "      <td>48</td>\n",
       "      <td>10.2</td>\n",
       "      <td>52.1</td>\n",
       "      <td>50.5</td>\n",
       "      <td>102.04</td>\n",
       "      <td>23.3</td>\n",
       "      <td>0.190</td>\n",
       "      <td>12.9</td>\n",
       "      <td>72</td>\n",
       "      <td>26</td>\n",
       "      <td>13</td>\n",
       "      <td>0</td>\n",
       "    </tr>\n",
       "    <tr>\n",
       "      <th>1</th>\n",
       "      <td>48</td>\n",
       "      <td>23.0</td>\n",
       "      <td>47.9</td>\n",
       "      <td>76.3</td>\n",
       "      <td>102.04</td>\n",
       "      <td>12.9</td>\n",
       "      <td>0.569</td>\n",
       "      <td>23.3</td>\n",
       "      <td>84</td>\n",
       "      <td>31</td>\n",
       "      <td>31</td>\n",
       "      <td>1</td>\n",
       "    </tr>\n",
       "    <tr>\n",
       "      <th>2</th>\n",
       "      <td>53</td>\n",
       "      <td>18.2</td>\n",
       "      <td>43.2</td>\n",
       "      <td>61.9</td>\n",
       "      <td>99.26</td>\n",
       "      <td>12.0</td>\n",
       "      <td>0.348</td>\n",
       "      <td>16.2</td>\n",
       "      <td>94</td>\n",
       "      <td>23</td>\n",
       "      <td>26</td>\n",
       "      <td>0</td>\n",
       "    </tr>\n",
       "    <tr>\n",
       "      <th>3</th>\n",
       "      <td>53</td>\n",
       "      <td>20.0</td>\n",
       "      <td>56.8</td>\n",
       "      <td>63.2</td>\n",
       "      <td>99.26</td>\n",
       "      <td>16.2</td>\n",
       "      <td>0.245</td>\n",
       "      <td>12.0</td>\n",
       "      <td>92</td>\n",
       "      <td>29</td>\n",
       "      <td>31</td>\n",
       "      <td>1</td>\n",
       "    </tr>\n",
       "    <tr>\n",
       "      <th>4</th>\n",
       "      <td>53</td>\n",
       "      <td>12.8</td>\n",
       "      <td>58.5</td>\n",
       "      <td>46.0</td>\n",
       "      <td>87.11</td>\n",
       "      <td>12.5</td>\n",
       "      <td>0.180</td>\n",
       "      <td>11.5</td>\n",
       "      <td>91</td>\n",
       "      <td>36</td>\n",
       "      <td>17</td>\n",
       "      <td>1</td>\n",
       "    </tr>\n",
       "  </tbody>\n",
       "</table>\n",
       "</div>"
      ],
      "text/plain": [
       "   game_length  ast_ratio  reb_pct  ts_pct    pace  tov_pct  opp_fta_rate  \\\n",
       "0           48       10.2     52.1    50.5  102.04     23.3         0.190   \n",
       "1           48       23.0     47.9    76.3  102.04     12.9         0.569   \n",
       "2           53       18.2     43.2    61.9   99.26     12.0         0.348   \n",
       "3           53       20.0     56.8    63.2   99.26     16.2         0.245   \n",
       "4           53       12.8     58.5    46.0   87.11     12.5         0.180   \n",
       "\n",
       "   opp_tov_pct  fga  dreb  ast  W  \n",
       "0         12.9   72    26   13  0  \n",
       "1         23.3   84    31   31  1  \n",
       "2         16.2   94    23   26  0  \n",
       "3         12.0   92    29   31  1  \n",
       "4         11.5   91    36   17  1  "
      ]
     },
     "execution_count": 466,
     "metadata": {},
     "output_type": "execute_result"
    }
   ],
   "source": [
    "train_df.head()\n",
    "#test_df.head()"
   ]
  },
  {
   "cell_type": "code",
   "execution_count": 467,
   "metadata": {},
   "outputs": [],
   "source": [
    "X_train, X_test, y_train, y_test = train_test_split(train_df.drop('W', axis=1), train_df['W'], test_size=.33)"
   ]
  },
  {
   "cell_type": "code",
   "execution_count": null,
   "metadata": {},
   "outputs": [],
   "source": []
  },
  {
   "cell_type": "code",
   "execution_count": null,
   "metadata": {},
   "outputs": [],
   "source": []
  },
  {
   "cell_type": "code",
   "execution_count": 468,
   "metadata": {},
   "outputs": [],
   "source": [
    "lg = LogisticRegression()"
   ]
  },
  {
   "cell_type": "code",
   "execution_count": 469,
   "metadata": {},
   "outputs": [
    {
     "data": {
      "text/plain": [
       "LogisticRegression(C=1.0, class_weight=None, dual=False, fit_intercept=True,\n",
       "          intercept_scaling=1, max_iter=100, multi_class='ovr', n_jobs=1,\n",
       "          penalty='l2', random_state=None, solver='liblinear', tol=0.0001,\n",
       "          verbose=0, warm_start=False)"
      ]
     },
     "execution_count": 469,
     "metadata": {},
     "output_type": "execute_result"
    }
   ],
   "source": [
    "lg.fit(X_test, y_test)"
   ]
  },
  {
   "cell_type": "code",
   "execution_count": 470,
   "metadata": {},
   "outputs": [],
   "source": [
    "predictions = lg.predict(X_test)"
   ]
  },
  {
   "cell_type": "code",
   "execution_count": 471,
   "metadata": {},
   "outputs": [
    {
     "name": "stdout",
     "output_type": "stream",
     "text": [
      "[[7067  968]\n",
      " [1004 6900]]\n"
     ]
    }
   ],
   "source": [
    "print(confusion_matrix(y_test, predictions))"
   ]
  },
  {
   "cell_type": "code",
   "execution_count": 472,
   "metadata": {},
   "outputs": [
    {
     "name": "stdout",
     "output_type": "stream",
     "text": [
      "             precision    recall  f1-score   support\n",
      "\n",
      "          0       0.88      0.88      0.88      8035\n",
      "          1       0.88      0.87      0.87      7904\n",
      "\n",
      "avg / total       0.88      0.88      0.88     15939\n",
      "\n"
     ]
    }
   ],
   "source": [
    "print(classification_report(y_test, predictions))"
   ]
  },
  {
   "cell_type": "code",
   "execution_count": 473,
   "metadata": {},
   "outputs": [
    {
     "data": {
      "text/html": [
       "<div>\n",
       "<style scoped>\n",
       "    .dataframe tbody tr th:only-of-type {\n",
       "        vertical-align: middle;\n",
       "    }\n",
       "\n",
       "    .dataframe tbody tr th {\n",
       "        vertical-align: top;\n",
       "    }\n",
       "\n",
       "    .dataframe thead th {\n",
       "        text-align: right;\n",
       "    }\n",
       "</style>\n",
       "<table border=\"1\" class=\"dataframe\">\n",
       "  <thead>\n",
       "    <tr style=\"text-align: right;\">\n",
       "      <th></th>\n",
       "      <th>0</th>\n",
       "    </tr>\n",
       "  </thead>\n",
       "  <tbody>\n",
       "    <tr>\n",
       "      <th>game_length</th>\n",
       "      <td>-0.398100</td>\n",
       "    </tr>\n",
       "    <tr>\n",
       "      <th>ast_ratio</th>\n",
       "      <td>-0.980641</td>\n",
       "    </tr>\n",
       "    <tr>\n",
       "      <th>reb_pct</th>\n",
       "      <td>0.167547</td>\n",
       "    </tr>\n",
       "    <tr>\n",
       "      <th>ts_pct</th>\n",
       "      <td>0.431485</td>\n",
       "    </tr>\n",
       "    <tr>\n",
       "      <th>pace</th>\n",
       "      <td>-0.286746</td>\n",
       "    </tr>\n",
       "    <tr>\n",
       "      <th>tov_pct</th>\n",
       "      <td>-0.364994</td>\n",
       "    </tr>\n",
       "    <tr>\n",
       "      <th>opp_fta_rate</th>\n",
       "      <td>-3.197935</td>\n",
       "    </tr>\n",
       "    <tr>\n",
       "      <th>opp_tov_pct</th>\n",
       "      <td>0.588215</td>\n",
       "    </tr>\n",
       "    <tr>\n",
       "      <th>fga</th>\n",
       "      <td>-0.056465</td>\n",
       "    </tr>\n",
       "    <tr>\n",
       "      <th>dreb</th>\n",
       "      <td>0.462461</td>\n",
       "    </tr>\n",
       "    <tr>\n",
       "      <th>ast</th>\n",
       "      <td>0.681840</td>\n",
       "    </tr>\n",
       "  </tbody>\n",
       "</table>\n",
       "</div>"
      ],
      "text/plain": [
       "                     0\n",
       "game_length  -0.398100\n",
       "ast_ratio    -0.980641\n",
       "reb_pct       0.167547\n",
       "ts_pct        0.431485\n",
       "pace         -0.286746\n",
       "tov_pct      -0.364994\n",
       "opp_fta_rate -3.197935\n",
       "opp_tov_pct   0.588215\n",
       "fga          -0.056465\n",
       "dreb          0.462461\n",
       "ast           0.681840"
      ]
     },
     "execution_count": 473,
     "metadata": {},
     "output_type": "execute_result"
    }
   ],
   "source": [
    "pd.DataFrame(lg.coef_, columns=X_test.columns).T"
   ]
  },
  {
   "cell_type": "code",
   "execution_count": null,
   "metadata": {},
   "outputs": [],
   "source": []
  },
  {
   "cell_type": "code",
   "execution_count": null,
   "metadata": {},
   "outputs": [],
   "source": []
  },
  {
   "cell_type": "code",
   "execution_count": null,
   "metadata": {},
   "outputs": [],
   "source": []
  },
  {
   "cell_type": "code",
   "execution_count": 156,
   "metadata": {
    "scrolled": false
   },
   "outputs": [
    {
     "data": {
      "text/plain": [
       "LogisticRegression(C=1.0, class_weight=None, dual=False, fit_intercept=True,\n",
       "          intercept_scaling=1, max_iter=100, multi_class='ovr', n_jobs=1,\n",
       "          penalty='l2', random_state=None, solver='liblinear', tol=0.0001,\n",
       "          verbose=0, warm_start=False)"
      ]
     },
     "execution_count": 156,
     "metadata": {},
     "output_type": "execute_result"
    }
   ],
   "source": [
    "#lg.fit(train_df.drop('W', axis=1), train_df['W'] )"
   ]
  },
  {
   "cell_type": "code",
   "execution_count": 157,
   "metadata": {},
   "outputs": [],
   "source": [
    "predictions = lg.predict(test_df.drop('W', axis=1))"
   ]
  },
  {
   "cell_type": "code",
   "execution_count": 158,
   "metadata": {},
   "outputs": [
    {
     "name": "stdout",
     "output_type": "stream",
     "text": [
      "[[5 0]\n",
      " [0 3]]\n"
     ]
    }
   ],
   "source": [
    "print(confusion_matrix(test_df['W'], predictions))"
   ]
  },
  {
   "cell_type": "code",
   "execution_count": 159,
   "metadata": {},
   "outputs": [
    {
     "name": "stdout",
     "output_type": "stream",
     "text": [
      "             precision    recall  f1-score   support\n",
      "\n",
      "          0       1.00      1.00      1.00         5\n",
      "          1       1.00      1.00      1.00         3\n",
      "\n",
      "avg / total       1.00      1.00      1.00         8\n",
      "\n"
     ]
    }
   ],
   "source": [
    "print(classification_report(test_df['W'], predictions))"
   ]
  },
  {
   "cell_type": "code",
   "execution_count": 160,
   "metadata": {},
   "outputs": [],
   "source": [
    "#sns.pairplot(test_df)"
   ]
  },
  {
   "cell_type": "code",
   "execution_count": 161,
   "metadata": {},
   "outputs": [
    {
     "name": "stdout",
     "output_type": "stream",
     "text": [
      "[[ -0.60479803   0.25245094   0.98137315  -0.32134208  -0.74888005\n",
      "  -10.10604567   0.59895773   0.31118713   0.25613237]]\n"
     ]
    }
   ],
   "source": [
    "print(lg.coef_)"
   ]
  },
  {
   "cell_type": "code",
   "execution_count": 162,
   "metadata": {},
   "outputs": [
    {
     "data": {
      "text/plain": [
       "Index(['game_length', 'defensive_reb_pct', 'ts_pct', 'pace',\n",
       "       'opp_effective_fg_pct', 'opp_fta_rate', 'opp_tov_pct', 'fga', 'oreb'],\n",
       "      dtype='object')"
      ]
     },
     "execution_count": 162,
     "metadata": {},
     "output_type": "execute_result"
    }
   ],
   "source": [
    "col = train_df.drop('W', axis=1)\n",
    "col.columns"
   ]
  },
  {
   "cell_type": "code",
   "execution_count": 163,
   "metadata": {},
   "outputs": [
    {
     "data": {
      "text/html": [
       "<div>\n",
       "<style scoped>\n",
       "    .dataframe tbody tr th:only-of-type {\n",
       "        vertical-align: middle;\n",
       "    }\n",
       "\n",
       "    .dataframe tbody tr th {\n",
       "        vertical-align: top;\n",
       "    }\n",
       "\n",
       "    .dataframe thead th {\n",
       "        text-align: right;\n",
       "    }\n",
       "</style>\n",
       "<table border=\"1\" class=\"dataframe\">\n",
       "  <thead>\n",
       "    <tr style=\"text-align: right;\">\n",
       "      <th></th>\n",
       "      <th>0</th>\n",
       "    </tr>\n",
       "  </thead>\n",
       "  <tbody>\n",
       "    <tr>\n",
       "      <th>game_length</th>\n",
       "      <td>-0.604798</td>\n",
       "    </tr>\n",
       "    <tr>\n",
       "      <th>defensive_reb_pct</th>\n",
       "      <td>0.252451</td>\n",
       "    </tr>\n",
       "    <tr>\n",
       "      <th>ts_pct</th>\n",
       "      <td>0.981373</td>\n",
       "    </tr>\n",
       "    <tr>\n",
       "      <th>pace</th>\n",
       "      <td>-0.321342</td>\n",
       "    </tr>\n",
       "    <tr>\n",
       "      <th>opp_effective_fg_pct</th>\n",
       "      <td>-0.748880</td>\n",
       "    </tr>\n",
       "    <tr>\n",
       "      <th>opp_fta_rate</th>\n",
       "      <td>-10.106046</td>\n",
       "    </tr>\n",
       "    <tr>\n",
       "      <th>opp_tov_pct</th>\n",
       "      <td>0.598958</td>\n",
       "    </tr>\n",
       "    <tr>\n",
       "      <th>fga</th>\n",
       "      <td>0.311187</td>\n",
       "    </tr>\n",
       "    <tr>\n",
       "      <th>oreb</th>\n",
       "      <td>0.256132</td>\n",
       "    </tr>\n",
       "  </tbody>\n",
       "</table>\n",
       "</div>"
      ],
      "text/plain": [
       "                              0\n",
       "game_length           -0.604798\n",
       "defensive_reb_pct      0.252451\n",
       "ts_pct                 0.981373\n",
       "pace                  -0.321342\n",
       "opp_effective_fg_pct  -0.748880\n",
       "opp_fta_rate         -10.106046\n",
       "opp_tov_pct            0.598958\n",
       "fga                    0.311187\n",
       "oreb                   0.256132"
      ]
     },
     "execution_count": 163,
     "metadata": {},
     "output_type": "execute_result"
    }
   ],
   "source": [
    "pd.DataFrame(lg.coef_, columns=train_df.drop('W', axis=1).columns).T"
   ]
  },
  {
   "cell_type": "code",
   "execution_count": null,
   "metadata": {},
   "outputs": [],
   "source": []
  }
 ],
 "metadata": {
  "kernelspec": {
   "display_name": "Python 3",
   "language": "python",
   "name": "python3"
  },
  "language_info": {
   "codemirror_mode": {
    "name": "ipython",
    "version": 3
   },
   "file_extension": ".py",
   "mimetype": "text/x-python",
   "name": "python",
   "nbconvert_exporter": "python",
   "pygments_lexer": "ipython3",
   "version": "3.6.3"
  }
 },
 "nbformat": 4,
 "nbformat_minor": 2
}
