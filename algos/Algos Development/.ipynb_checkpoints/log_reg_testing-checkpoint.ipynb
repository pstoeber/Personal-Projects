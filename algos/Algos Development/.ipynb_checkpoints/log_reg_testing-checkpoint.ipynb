{
 "cells": [
  {
   "cell_type": "code",
   "execution_count": 819,
   "metadata": {},
   "outputs": [],
   "source": [
    "import numpy as np\n",
    "import pandas as pd\n",
    "import matplotlib.pyplot as plt\n",
    "import seaborn as sns\n",
    "import pymysql\n",
    "from sklearn.model_selection import train_test_split\n",
    "from sklearn.model_selection import KFold\n",
    "from sklearn.linear_model import LogisticRegression\n",
    "from sklearn.linear_model import LogisticRegressionCV\n",
    "from sklearn.metrics import confusion_matrix\n",
    "from sklearn.metrics import classification_report\n",
    "%matplotlib inline\n",
    "conn = pymysql.connect(host='localhost', user='root', password='Sk1ttles', db='nba_stats_prod')"
   ]
  },
  {
   "cell_type": "code",
   "execution_count": 820,
   "metadata": {},
   "outputs": [],
   "source": [
    "training_set = \"\"\"\n",
    "\n",
    "select adv.win_lose,\n",
    "       adv.game_length,\n",
    "       adv.ast_to_to,\n",
    "       adv.ast_ratio,\n",
    "       adv.offensive_reb_pct,\n",
    "       adv.defensive_reb_pct,\n",
    "       adv.reb_pct,\n",
    "       adv.to_pct,\n",
    "       adv.ts_pct,\n",
    "       adv.pace,\n",
    "       fig.fta_rate,\n",
    "       fig.tov_pct,\n",
    "       fig.opp_tov_pct,\n",
    "       fig.opp_off_reb_pct,\n",
    "       misc.points_off_to,\n",
    "       misc.pts_in_paint,\n",
    "       misc.opp_pts_off_to,\n",
    "       misc.opp_second_chance_pts,\n",
    "       score.pct_2pt_fg,\n",
    "       score.pct_3pt_fg,\n",
    "       score.pct_pts_2pt,\n",
    "       score.pct_pts_2pt_mr,\n",
    "       score.pct_pts_fbps,\n",
    "       score.pct_pts_off_to,\n",
    "       score.fgm_pct_uast,\n",
    "       trad.fga,\n",
    "       trad.3pa,\n",
    "       trad.fta,\n",
    "       trad.oreb,\n",
    "       trad.dreb,\n",
    "       trad.tot_reb,\n",
    "       trad.ast,\n",
    "       trad.stl,\n",
    "       trad.blk,\n",
    "       trad.personal_fouls,\n",
    "       3p.ft_pct,\n",
    "       pts.diff,\n",
    "       reb.off_reb,\n",
    "       reb.def_reb,\n",
    "       reb.tot_reb,\n",
    "       t.own_to,\n",
    "       t.opp_to,\n",
    "       stand.home_loses,\n",
    "       stand.home_wins,\n",
    "       stand.away_loses,\n",
    "       stand.away_wins\n",
    "from box_scores_map_view as b\n",
    "inner join(\n",
    "\n",
    "         select b.game_hash, b.team, b.home_away, lu.season, team_id, b.game_date\n",
    "         from box_scores_map_view as b\n",
    "         inner join game_date_lookup as lu on b.game_date = lu.day\n",
    "         inner join team_info as team on b.team = team.team\n",
    "         where b.game_date < current_date and\n",
    "               lu.season > 2005 and\n",
    "               b.home_away = 'Home'\n",
    "\n",
    "         ) as bm on ( (b.game_hash = bm.game_hash) and (b.team = bm.team) )\n",
    "\n",
    "inner join team_advanced_boxscore_stats as adv on ( (bm.team = adv.team) and (bm.game_hash = adv.game_hash) )\n",
    "inner join team_figure4_boxscore_stats as fig on ( (adv.team = fig.team) and (adv.game_hash = fig.game_hash) )\n",
    "inner join team_misc_boxscore_stats as misc on ( (fig.team = misc.team) and (fig.game_hash = misc.game_hash) )\n",
    "inner join team_scoring_boxscore_stats as score on ( (misc.team = score.team) and (misc.game_hash = score.game_hash) )\n",
    "inner join team_traditional_boxscore_stats as trad on ( (score.team = trad.team) and (score.game_hash = trad.game_hash) )\n",
    "inner join 3pt_pct as 3p on ( (bm.team_id = 3p.team_id) and (bm.season -1 = 3p.season) )\n",
    "inner join points as pts on ( (bm.team_id = pts.team_id) and (bm.season -1 = pts.season) )\n",
    "inner join rebound_pct as reb on ( (bm.team_id = reb.team_id) and (bm.season -1 = reb.season) )\n",
    "inner join turnovers as t on ( (bm.team_id = t.team_id) and (bm.season -1 = t.season) )\n",
    "inner join team_standings as stand on ( (bm.team = stand.team) and (bm.season -1 = stand.season) )\n",
    "\"\"\""
   ]
  },
  {
   "cell_type": "code",
   "execution_count": null,
   "metadata": {},
   "outputs": [],
   "source": []
  },
  {
   "cell_type": "code",
   "execution_count": 821,
   "metadata": {},
   "outputs": [],
   "source": [
    "train_df = pd.read_sql(sql=training_set, con=conn, index_col=None)"
   ]
  },
  {
   "cell_type": "code",
   "execution_count": 822,
   "metadata": {},
   "outputs": [],
   "source": [
    "#test_df = pd.read_sql(sql=test_set, con=conn, index_col=None)"
   ]
  },
  {
   "cell_type": "code",
   "execution_count": 823,
   "metadata": {},
   "outputs": [],
   "source": [
    "def get_dummies(col):\n",
    "    return pd.get_dummies(col, drop_first=True)"
   ]
  },
  {
   "cell_type": "code",
   "execution_count": 824,
   "metadata": {},
   "outputs": [],
   "source": [
    "results_train = get_dummies(train_df['win_lose'])"
   ]
  },
  {
   "cell_type": "code",
   "execution_count": 825,
   "metadata": {},
   "outputs": [],
   "source": [
    "train_df = pd.concat([train_df, results_train], axis=1)"
   ]
  },
  {
   "cell_type": "code",
   "execution_count": 826,
   "metadata": {},
   "outputs": [],
   "source": [
    "train_df.drop(['win_lose'], axis=1, inplace=True)"
   ]
  },
  {
   "cell_type": "code",
   "execution_count": 827,
   "metadata": {},
   "outputs": [
    {
     "data": {
      "text/html": [
       "<div>\n",
       "<style scoped>\n",
       "    .dataframe tbody tr th:only-of-type {\n",
       "        vertical-align: middle;\n",
       "    }\n",
       "\n",
       "    .dataframe tbody tr th {\n",
       "        vertical-align: top;\n",
       "    }\n",
       "\n",
       "    .dataframe thead th {\n",
       "        text-align: right;\n",
       "    }\n",
       "</style>\n",
       "<table border=\"1\" class=\"dataframe\">\n",
       "  <thead>\n",
       "    <tr style=\"text-align: right;\">\n",
       "      <th></th>\n",
       "      <th>game_length</th>\n",
       "      <th>ast_to_to</th>\n",
       "      <th>ast_ratio</th>\n",
       "      <th>offensive_reb_pct</th>\n",
       "      <th>defensive_reb_pct</th>\n",
       "      <th>reb_pct</th>\n",
       "      <th>to_pct</th>\n",
       "      <th>ts_pct</th>\n",
       "      <th>pace</th>\n",
       "      <th>fta_rate</th>\n",
       "      <th>...</th>\n",
       "      <th>off_reb</th>\n",
       "      <th>def_reb</th>\n",
       "      <th>tot_reb</th>\n",
       "      <th>own_to</th>\n",
       "      <th>opp_to</th>\n",
       "      <th>home_loses</th>\n",
       "      <th>home_wins</th>\n",
       "      <th>away_loses</th>\n",
       "      <th>away_wins</th>\n",
       "      <th>W</th>\n",
       "    </tr>\n",
       "  </thead>\n",
       "  <tbody>\n",
       "    <tr>\n",
       "      <th>0</th>\n",
       "      <td>48</td>\n",
       "      <td>2.38</td>\n",
       "      <td>23.0</td>\n",
       "      <td>10.3</td>\n",
       "      <td>73.8</td>\n",
       "      <td>47.9</td>\n",
       "      <td>12.9</td>\n",
       "      <td>76.3</td>\n",
       "      <td>102.04</td>\n",
       "      <td>0.190</td>\n",
       "      <td>...</td>\n",
       "      <td>0.269</td>\n",
       "      <td>0.738</td>\n",
       "      <td>0.500</td>\n",
       "      <td>13.0</td>\n",
       "      <td>14.0</td>\n",
       "      <td>19</td>\n",
       "      <td>22</td>\n",
       "      <td>29</td>\n",
       "      <td>12</td>\n",
       "      <td>1</td>\n",
       "    </tr>\n",
       "    <tr>\n",
       "      <th>1</th>\n",
       "      <td>53</td>\n",
       "      <td>1.72</td>\n",
       "      <td>20.0</td>\n",
       "      <td>36.1</td>\n",
       "      <td>76.3</td>\n",
       "      <td>56.8</td>\n",
       "      <td>16.2</td>\n",
       "      <td>63.2</td>\n",
       "      <td>99.26</td>\n",
       "      <td>0.348</td>\n",
       "      <td>...</td>\n",
       "      <td>0.234</td>\n",
       "      <td>0.750</td>\n",
       "      <td>0.491</td>\n",
       "      <td>11.7</td>\n",
       "      <td>14.0</td>\n",
       "      <td>16</td>\n",
       "      <td>25</td>\n",
       "      <td>25</td>\n",
       "      <td>16</td>\n",
       "      <td>1</td>\n",
       "    </tr>\n",
       "    <tr>\n",
       "      <th>2</th>\n",
       "      <td>53</td>\n",
       "      <td>1.73</td>\n",
       "      <td>15.1</td>\n",
       "      <td>23.4</td>\n",
       "      <td>59.6</td>\n",
       "      <td>41.5</td>\n",
       "      <td>11.5</td>\n",
       "      <td>47.9</td>\n",
       "      <td>87.11</td>\n",
       "      <td>0.180</td>\n",
       "      <td>...</td>\n",
       "      <td>0.303</td>\n",
       "      <td>0.734</td>\n",
       "      <td>0.505</td>\n",
       "      <td>13.4</td>\n",
       "      <td>14.3</td>\n",
       "      <td>24</td>\n",
       "      <td>17</td>\n",
       "      <td>31</td>\n",
       "      <td>10</td>\n",
       "      <td>0</td>\n",
       "    </tr>\n",
       "    <tr>\n",
       "      <th>3</th>\n",
       "      <td>48</td>\n",
       "      <td>2.27</td>\n",
       "      <td>19.5</td>\n",
       "      <td>25.0</td>\n",
       "      <td>81.1</td>\n",
       "      <td>51.9</td>\n",
       "      <td>11.8</td>\n",
       "      <td>57.4</td>\n",
       "      <td>92.90</td>\n",
       "      <td>0.350</td>\n",
       "      <td>...</td>\n",
       "      <td>0.288</td>\n",
       "      <td>0.690</td>\n",
       "      <td>0.489</td>\n",
       "      <td>13.1</td>\n",
       "      <td>14.7</td>\n",
       "      <td>11</td>\n",
       "      <td>30</td>\n",
       "      <td>21</td>\n",
       "      <td>20</td>\n",
       "      <td>1</td>\n",
       "    </tr>\n",
       "    <tr>\n",
       "      <th>4</th>\n",
       "      <td>48</td>\n",
       "      <td>0.89</td>\n",
       "      <td>17.9</td>\n",
       "      <td>34.2</td>\n",
       "      <td>81.6</td>\n",
       "      <td>60.9</td>\n",
       "      <td>27.8</td>\n",
       "      <td>54.1</td>\n",
       "      <td>97.32</td>\n",
       "      <td>0.284</td>\n",
       "      <td>...</td>\n",
       "      <td>0.292</td>\n",
       "      <td>0.723</td>\n",
       "      <td>0.515</td>\n",
       "      <td>13.1</td>\n",
       "      <td>13.6</td>\n",
       "      <td>11</td>\n",
       "      <td>30</td>\n",
       "      <td>14</td>\n",
       "      <td>27</td>\n",
       "      <td>1</td>\n",
       "    </tr>\n",
       "  </tbody>\n",
       "</table>\n",
       "<p>5 rows × 46 columns</p>\n",
       "</div>"
      ],
      "text/plain": [
       "   game_length  ast_to_to  ast_ratio  offensive_reb_pct  defensive_reb_pct  \\\n",
       "0           48       2.38       23.0               10.3               73.8   \n",
       "1           53       1.72       20.0               36.1               76.3   \n",
       "2           53       1.73       15.1               23.4               59.6   \n",
       "3           48       2.27       19.5               25.0               81.1   \n",
       "4           48       0.89       17.9               34.2               81.6   \n",
       "\n",
       "   reb_pct  to_pct  ts_pct    pace  fta_rate ...  off_reb  def_reb  tot_reb  \\\n",
       "0     47.9    12.9    76.3  102.04     0.190 ...    0.269    0.738    0.500   \n",
       "1     56.8    16.2    63.2   99.26     0.348 ...    0.234    0.750    0.491   \n",
       "2     41.5    11.5    47.9   87.11     0.180 ...    0.303    0.734    0.505   \n",
       "3     51.9    11.8    57.4   92.90     0.350 ...    0.288    0.690    0.489   \n",
       "4     60.9    27.8    54.1   97.32     0.284 ...    0.292    0.723    0.515   \n",
       "\n",
       "   own_to  opp_to  home_loses  home_wins  away_loses  away_wins  W  \n",
       "0    13.0    14.0          19         22          29         12  1  \n",
       "1    11.7    14.0          16         25          25         16  1  \n",
       "2    13.4    14.3          24         17          31         10  0  \n",
       "3    13.1    14.7          11         30          21         20  1  \n",
       "4    13.1    13.6          11         30          14         27  1  \n",
       "\n",
       "[5 rows x 46 columns]"
      ]
     },
     "execution_count": 827,
     "metadata": {},
     "output_type": "execute_result"
    }
   ],
   "source": [
    "train_df.head()\n",
    "#test_df.head()"
   ]
  },
  {
   "cell_type": "code",
   "execution_count": 828,
   "metadata": {},
   "outputs": [],
   "source": [
    "X_train, X_test, y_train, y_test = train_test_split(train_df.drop('W', axis=1), train_df['W'], test_size=.33)"
   ]
  },
  {
   "cell_type": "code",
   "execution_count": null,
   "metadata": {},
   "outputs": [],
   "source": []
  },
  {
   "cell_type": "code",
   "execution_count": null,
   "metadata": {},
   "outputs": [],
   "source": []
  },
  {
   "cell_type": "code",
   "execution_count": 829,
   "metadata": {},
   "outputs": [],
   "source": [
    "lg = LogisticRegression() #(penalty='l2', C=1.38383838)"
   ]
  },
  {
   "cell_type": "code",
   "execution_count": 830,
   "metadata": {},
   "outputs": [
    {
     "data": {
      "text/plain": [
       "LogisticRegression(C=1.0, class_weight=None, dual=False, fit_intercept=True,\n",
       "          intercept_scaling=1, max_iter=100, multi_class='ovr', n_jobs=1,\n",
       "          penalty='l2', random_state=None, solver='liblinear', tol=0.0001,\n",
       "          verbose=0, warm_start=False)"
      ]
     },
     "execution_count": 830,
     "metadata": {},
     "output_type": "execute_result"
    }
   ],
   "source": [
    "lg.fit(X_test, y_test) #(train_df.drop('W', axis=1), train_df['W']) "
   ]
  },
  {
   "cell_type": "code",
   "execution_count": 831,
   "metadata": {},
   "outputs": [],
   "source": [
    "predictions = lg.predict(X_test)"
   ]
  },
  {
   "cell_type": "code",
   "execution_count": 832,
   "metadata": {},
   "outputs": [
    {
     "data": {
      "text/plain": [
       "0.90107839070924922"
      ]
     },
     "execution_count": 832,
     "metadata": {},
     "output_type": "execute_result"
    }
   ],
   "source": [
    "lg.score(X_test, y_test)"
   ]
  },
  {
   "cell_type": "code",
   "execution_count": 833,
   "metadata": {},
   "outputs": [
    {
     "name": "stdout",
     "output_type": "stream",
     "text": [
      "[[1703  255]\n",
      " [ 222 2642]]\n"
     ]
    }
   ],
   "source": [
    "print(confusion_matrix(y_test, predictions))"
   ]
  },
  {
   "cell_type": "code",
   "execution_count": 834,
   "metadata": {},
   "outputs": [
    {
     "name": "stdout",
     "output_type": "stream",
     "text": [
      "             precision    recall  f1-score   support\n",
      "\n",
      "          0       0.88      0.87      0.88      1958\n",
      "          1       0.91      0.92      0.92      2864\n",
      "\n",
      "avg / total       0.90      0.90      0.90      4822\n",
      "\n"
     ]
    }
   ],
   "source": [
    "print(classification_report(y_test, predictions))"
   ]
  },
  {
   "cell_type": "code",
   "execution_count": 835,
   "metadata": {},
   "outputs": [
    {
     "data": {
      "text/html": [
       "<div>\n",
       "<style scoped>\n",
       "    .dataframe tbody tr th:only-of-type {\n",
       "        vertical-align: middle;\n",
       "    }\n",
       "\n",
       "    .dataframe tbody tr th {\n",
       "        vertical-align: top;\n",
       "    }\n",
       "\n",
       "    .dataframe thead th {\n",
       "        text-align: right;\n",
       "    }\n",
       "</style>\n",
       "<table border=\"1\" class=\"dataframe\">\n",
       "  <thead>\n",
       "    <tr style=\"text-align: right;\">\n",
       "      <th></th>\n",
       "      <th>0</th>\n",
       "    </tr>\n",
       "  </thead>\n",
       "  <tbody>\n",
       "    <tr>\n",
       "      <th>game_length</th>\n",
       "      <td>-0.648232</td>\n",
       "    </tr>\n",
       "    <tr>\n",
       "      <th>ast_to_to</th>\n",
       "      <td>0.171539</td>\n",
       "    </tr>\n",
       "    <tr>\n",
       "      <th>ast_ratio</th>\n",
       "      <td>0.061900</td>\n",
       "    </tr>\n",
       "    <tr>\n",
       "      <th>offensive_reb_pct</th>\n",
       "      <td>-0.118289</td>\n",
       "    </tr>\n",
       "    <tr>\n",
       "      <th>defensive_reb_pct</th>\n",
       "      <td>-0.142628</td>\n",
       "    </tr>\n",
       "    <tr>\n",
       "      <th>reb_pct</th>\n",
       "      <td>0.379464</td>\n",
       "    </tr>\n",
       "    <tr>\n",
       "      <th>to_pct</th>\n",
       "      <td>-0.054260</td>\n",
       "    </tr>\n",
       "    <tr>\n",
       "      <th>ts_pct</th>\n",
       "      <td>0.466112</td>\n",
       "    </tr>\n",
       "    <tr>\n",
       "      <th>pace</th>\n",
       "      <td>-0.302966</td>\n",
       "    </tr>\n",
       "    <tr>\n",
       "      <th>fta_rate</th>\n",
       "      <td>-0.023953</td>\n",
       "    </tr>\n",
       "    <tr>\n",
       "      <th>tov_pct</th>\n",
       "      <td>-0.054260</td>\n",
       "    </tr>\n",
       "    <tr>\n",
       "      <th>opp_tov_pct</th>\n",
       "      <td>0.610061</td>\n",
       "    </tr>\n",
       "    <tr>\n",
       "      <th>opp_off_reb_pct</th>\n",
       "      <td>0.045401</td>\n",
       "    </tr>\n",
       "    <tr>\n",
       "      <th>points_off_to</th>\n",
       "      <td>0.324951</td>\n",
       "    </tr>\n",
       "    <tr>\n",
       "      <th>pts_in_paint</th>\n",
       "      <td>-0.117174</td>\n",
       "    </tr>\n",
       "    <tr>\n",
       "      <th>opp_pts_off_to</th>\n",
       "      <td>-0.104896</td>\n",
       "    </tr>\n",
       "    <tr>\n",
       "      <th>opp_second_chance_pts</th>\n",
       "      <td>-0.012171</td>\n",
       "    </tr>\n",
       "    <tr>\n",
       "      <th>pct_2pt_fg</th>\n",
       "      <td>0.002884</td>\n",
       "    </tr>\n",
       "    <tr>\n",
       "      <th>pct_3pt_fg</th>\n",
       "      <td>-0.141464</td>\n",
       "    </tr>\n",
       "    <tr>\n",
       "      <th>pct_pts_2pt</th>\n",
       "      <td>0.045727</td>\n",
       "    </tr>\n",
       "    <tr>\n",
       "      <th>pct_pts_2pt_mr</th>\n",
       "      <td>-0.102412</td>\n",
       "    </tr>\n",
       "    <tr>\n",
       "      <th>pct_pts_fbps</th>\n",
       "      <td>-0.021416</td>\n",
       "    </tr>\n",
       "    <tr>\n",
       "      <th>pct_pts_off_to</th>\n",
       "      <td>-0.303050</td>\n",
       "    </tr>\n",
       "    <tr>\n",
       "      <th>fgm_pct_uast</th>\n",
       "      <td>0.024881</td>\n",
       "    </tr>\n",
       "    <tr>\n",
       "      <th>fga</th>\n",
       "      <td>0.114470</td>\n",
       "    </tr>\n",
       "    <tr>\n",
       "      <th>3pa</th>\n",
       "      <td>0.085924</td>\n",
       "    </tr>\n",
       "    <tr>\n",
       "      <th>fta</th>\n",
       "      <td>0.094810</td>\n",
       "    </tr>\n",
       "    <tr>\n",
       "      <th>oreb</th>\n",
       "      <td>-0.106326</td>\n",
       "    </tr>\n",
       "    <tr>\n",
       "      <th>dreb</th>\n",
       "      <td>0.320464</td>\n",
       "    </tr>\n",
       "    <tr>\n",
       "      <th>tot_reb</th>\n",
       "      <td>0.214138</td>\n",
       "    </tr>\n",
       "    <tr>\n",
       "      <th>ast</th>\n",
       "      <td>0.089140</td>\n",
       "    </tr>\n",
       "    <tr>\n",
       "      <th>stl</th>\n",
       "      <td>0.024461</td>\n",
       "    </tr>\n",
       "    <tr>\n",
       "      <th>blk</th>\n",
       "      <td>0.113088</td>\n",
       "    </tr>\n",
       "    <tr>\n",
       "      <th>personal_fouls</th>\n",
       "      <td>-0.088769</td>\n",
       "    </tr>\n",
       "    <tr>\n",
       "      <th>ft_pct</th>\n",
       "      <td>-0.042300</td>\n",
       "    </tr>\n",
       "    <tr>\n",
       "      <th>diff</th>\n",
       "      <td>0.065486</td>\n",
       "    </tr>\n",
       "    <tr>\n",
       "      <th>off_reb</th>\n",
       "      <td>0.041150</td>\n",
       "    </tr>\n",
       "    <tr>\n",
       "      <th>def_reb</th>\n",
       "      <td>-0.057576</td>\n",
       "    </tr>\n",
       "    <tr>\n",
       "      <th>tot_reb</th>\n",
       "      <td>-0.011825</td>\n",
       "    </tr>\n",
       "    <tr>\n",
       "      <th>own_to</th>\n",
       "      <td>0.007847</td>\n",
       "    </tr>\n",
       "    <tr>\n",
       "      <th>opp_to</th>\n",
       "      <td>-0.048154</td>\n",
       "    </tr>\n",
       "    <tr>\n",
       "      <th>home_loses</th>\n",
       "      <td>-0.035540</td>\n",
       "    </tr>\n",
       "    <tr>\n",
       "      <th>home_wins</th>\n",
       "      <td>-0.025523</td>\n",
       "    </tr>\n",
       "    <tr>\n",
       "      <th>away_loses</th>\n",
       "      <td>-0.054772</td>\n",
       "    </tr>\n",
       "    <tr>\n",
       "      <th>away_wins</th>\n",
       "      <td>-0.069674</td>\n",
       "    </tr>\n",
       "  </tbody>\n",
       "</table>\n",
       "</div>"
      ],
      "text/plain": [
       "                              0\n",
       "game_length           -0.648232\n",
       "ast_to_to              0.171539\n",
       "ast_ratio              0.061900\n",
       "offensive_reb_pct     -0.118289\n",
       "defensive_reb_pct     -0.142628\n",
       "reb_pct                0.379464\n",
       "to_pct                -0.054260\n",
       "ts_pct                 0.466112\n",
       "pace                  -0.302966\n",
       "fta_rate              -0.023953\n",
       "tov_pct               -0.054260\n",
       "opp_tov_pct            0.610061\n",
       "opp_off_reb_pct        0.045401\n",
       "points_off_to          0.324951\n",
       "pts_in_paint          -0.117174\n",
       "opp_pts_off_to        -0.104896\n",
       "opp_second_chance_pts -0.012171\n",
       "pct_2pt_fg             0.002884\n",
       "pct_3pt_fg            -0.141464\n",
       "pct_pts_2pt            0.045727\n",
       "pct_pts_2pt_mr        -0.102412\n",
       "pct_pts_fbps          -0.021416\n",
       "pct_pts_off_to        -0.303050\n",
       "fgm_pct_uast           0.024881\n",
       "fga                    0.114470\n",
       "3pa                    0.085924\n",
       "fta                    0.094810\n",
       "oreb                  -0.106326\n",
       "dreb                   0.320464\n",
       "tot_reb                0.214138\n",
       "ast                    0.089140\n",
       "stl                    0.024461\n",
       "blk                    0.113088\n",
       "personal_fouls        -0.088769\n",
       "ft_pct                -0.042300\n",
       "diff                   0.065486\n",
       "off_reb                0.041150\n",
       "def_reb               -0.057576\n",
       "tot_reb               -0.011825\n",
       "own_to                 0.007847\n",
       "opp_to                -0.048154\n",
       "home_loses            -0.035540\n",
       "home_wins             -0.025523\n",
       "away_loses            -0.054772\n",
       "away_wins             -0.069674"
      ]
     },
     "execution_count": 835,
     "metadata": {},
     "output_type": "execute_result"
    }
   ],
   "source": [
    "pd.DataFrame(lg.coef_, columns=X_test.columns).T"
   ]
  },
  {
   "cell_type": "code",
   "execution_count": 800,
   "metadata": {
    "scrolled": false
   },
   "outputs": [],
   "source": [
    "#lg.fit(train_df.drop('W', axis=1), train_df['W'] )"
   ]
  },
  {
   "cell_type": "code",
   "execution_count": 801,
   "metadata": {},
   "outputs": [],
   "source": [
    "#predictions = lg.predict(test_df.drop('W', axis=1))"
   ]
  },
  {
   "cell_type": "code",
   "execution_count": 802,
   "metadata": {},
   "outputs": [],
   "source": [
    "#print(confusion_matrix(test_df['W'], predictions))"
   ]
  },
  {
   "cell_type": "code",
   "execution_count": 803,
   "metadata": {},
   "outputs": [],
   "source": [
    "#print(classification_report(test_df['W'], predictions))"
   ]
  },
  {
   "cell_type": "code",
   "execution_count": 804,
   "metadata": {},
   "outputs": [],
   "source": [
    "#sns.pairplot(test_df)"
   ]
  },
  {
   "cell_type": "code",
   "execution_count": 805,
   "metadata": {},
   "outputs": [],
   "source": [
    "#print(lg.coef_)"
   ]
  },
  {
   "cell_type": "code",
   "execution_count": 806,
   "metadata": {},
   "outputs": [],
   "source": [
    "#col = train_df.drop('W', axis=1)\n",
    "#col.columns"
   ]
  },
  {
   "cell_type": "code",
   "execution_count": 807,
   "metadata": {},
   "outputs": [],
   "source": [
    "#pd.DataFrame(lg.coef_, columns=train_df.drop('W', axis=1).columns).T"
   ]
  },
  {
   "cell_type": "code",
   "execution_count": 808,
   "metadata": {},
   "outputs": [],
   "source": [
    "#list(np.concatenate([np.power(10.0, np.arange(1, 15)), np.linspace(1, 9.99, 50)]))"
   ]
  },
  {
   "cell_type": "code",
   "execution_count": 853,
   "metadata": {},
   "outputs": [
    {
     "data": {
      "text/plain": [
       "[1.0,\n",
       " 10.0,\n",
       " 100.0,\n",
       " 1000.0,\n",
       " 10000.0,\n",
       " 100000.0,\n",
       " 1000000.0,\n",
       " 10000000.0,\n",
       " 100000000.0,\n",
       " 1000000000.0]"
      ]
     },
     "execution_count": 853,
     "metadata": {},
     "output_type": "execute_result"
    }
   ],
   "source": [
    "#test_c_vals = np.linspace(1, 50, 900) # np.concatenate([np.power(10.0, np.arange(1, 15)), np.linspace(1, 9.99, 50)])\n",
    "test_c_vals = list(np.power(10.0, np.arange(0, 10)))\n",
    "test_c_vals"
   ]
  },
  {
   "cell_type": "code",
   "execution_count": 854,
   "metadata": {},
   "outputs": [],
   "source": [
    "score = np.empty_like(test_c_vals)"
   ]
  },
  {
   "cell_type": "code",
   "execution_count": 855,
   "metadata": {},
   "outputs": [
    {
     "data": {
      "text/plain": [
       "array([ 0.90128577,  0.90128577,  0.90149316,  0.90107839,  0.9021153 ,\n",
       "        0.90128577,  0.90128577,  0.90170054,  0.90149316,  0.90128577])"
      ]
     },
     "execution_count": 855,
     "metadata": {},
     "output_type": "execute_result"
    }
   ],
   "source": [
    "for c, i in enumerate(test_c_vals):\n",
    "    lg = LogisticRegression(penalty='l2', C=i)\n",
    "    lg.fit(X_test, y_test)\n",
    "    score[c] = lg.score(X_test, y_test)\n",
    "score"
   ]
  },
  {
   "cell_type": "code",
   "execution_count": null,
   "metadata": {
    "scrolled": false
   },
   "outputs": [
    {
     "name": "stderr",
     "output_type": "stream",
     "text": [
      "/Library/Frameworks/Python.framework/Versions/3.6/lib/python3.6/site-packages/scipy/optimize/linesearch.py:313: LineSearchWarning: The line search algorithm did not converge\n",
      "  warn('The line search algorithm did not converge', LineSearchWarning)\n",
      "/Library/Frameworks/Python.framework/Versions/3.6/lib/python3.6/site-packages/sklearn/utils/optimize.py:195: UserWarning: Line Search failed\n",
      "  warnings.warn('Line Search failed')\n",
      "/Library/Frameworks/Python.framework/Versions/3.6/lib/python3.6/site-packages/scipy/optimize/linesearch.py:462: LineSearchWarning: The line search algorithm did not converge\n",
      "  warn('The line search algorithm did not converge', LineSearchWarning)\n"
     ]
    }
   ],
   "source": [
    "folds = KFold(n_splits=5, shuffle=True)\n",
    "log_reg_cv = LogisticRegressionCV(test_c_vals, cv=folds, scoring='roc_auc', solver='newton-cg', max_iter=2500)\n",
    "log_reg_cv.fit(train_df.drop('W', axis=1), train_df['W'])"
   ]
  },
  {
   "cell_type": "code",
   "execution_count": 842,
   "metadata": {},
   "outputs": [],
   "source": [
    "cv_score = log_reg_cv.score(train_df.drop('W', axis=1), train_df['W'])"
   ]
  },
  {
   "cell_type": "code",
   "execution_count": 843,
   "metadata": {},
   "outputs": [],
   "source": [
    "cv_c = log_reg_cv.C_"
   ]
  },
  {
   "cell_type": "code",
   "execution_count": 844,
   "metadata": {},
   "outputs": [
    {
     "data": {
      "text/plain": [
       "(array([ 0.01]), 0.90260762439258091)"
      ]
     },
     "execution_count": 844,
     "metadata": {},
     "output_type": "execute_result"
    }
   ],
   "source": [
    "cv_c, cv_score"
   ]
  },
  {
   "cell_type": "code",
   "execution_count": 856,
   "metadata": {},
   "outputs": [
    {
     "data": {
      "text/plain": [
       "[<matplotlib.lines.Line2D at 0x11d3eb518>]"
      ]
     },
     "execution_count": 856,
     "metadata": {},
     "output_type": "execute_result"
    },
    {
     "data": {
      "image/png": "[encoded data removed]",
      "text/plain": [
       "<Figure size 432x288 with 1 Axes>"
      ]
     },
     "metadata": {},
     "output_type": "display_data"
    }
   ],
   "source": [
    "plt.plot(test_c_vals, score)\n",
    "#plt.axhline(np.take(test_c_vals, np.argmax(score)), color='g', ls='--')\n",
    "#plt.axhline(cv_score, color='b',ls='--')\n",
    "#plt.axvline(cv_c, color='r', ls='--')"
   ]
  },
  {
   "cell_type": "code",
   "execution_count": 857,
   "metadata": {},
   "outputs": [
    {
     "data": {
      "text/plain": [
       "10000.0"
      ]
     },
     "execution_count": 857,
     "metadata": {},
     "output_type": "execute_result"
    }
   ],
   "source": [
    "np.take(test_c_vals, np.argmax(score))"
   ]
  },
  {
   "cell_type": "code",
   "execution_count": 858,
   "metadata": {},
   "outputs": [
    {
     "data": {
      "text/plain": [
       "0.90211530485275815"
      ]
     },
     "execution_count": 858,
     "metadata": {},
     "output_type": "execute_result"
    }
   ],
   "source": [
    "np.amax(score)"
   ]
  },
  {
   "cell_type": "code",
   "execution_count": null,
   "metadata": {},
   "outputs": [],
   "source": [
    "#score"
   ]
  },
  {
   "cell_type": "code",
   "execution_count": null,
   "metadata": {},
   "outputs": [],
   "source": []
  }
 ],
 "metadata": {
  "kernelspec": {
   "display_name": "Python 3",
   "language": "python",
   "name": "python3"
  },
  "language_info": {
   "codemirror_mode": {
    "name": "ipython",
    "version": 3
   },
   "file_extension": ".py",
   "mimetype": "text/x-python",
   "name": "python",
   "nbconvert_exporter": "python",
   "pygments_lexer": "ipython3",
   "version": "3.6.3"
  }
 },
 "nbformat": 4,
 "nbformat_minor": 2
}
