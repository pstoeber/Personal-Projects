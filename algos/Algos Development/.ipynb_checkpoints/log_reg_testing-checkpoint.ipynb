{
 "cells": [
  {
   "cell_type": "code",
   "execution_count": 819,
   "metadata": {},
   "outputs": [],
   "source": [
    "import numpy as np\n",
    "import pandas as pd\n",
    "import matplotlib.pyplot as plt\n",
    "import seaborn as sns\n",
    "import pymysql\n",
    "from sklearn.model_selection import train_test_split\n",
    "from sklearn.model_selection import KFold\n",
    "from sklearn.linear_model import LogisticRegression\n",
    "from sklearn.linear_model import LogisticRegressionCV\n",
    "from sklearn.metrics import confusion_matrix\n",
    "from sklearn.metrics import classification_report\n",
    "%matplotlib inline\n",
    "conn = pymysql.connect(host='localhost', user='root', password='Sk1ttles', db='nba_stats_prod')"
   ]
  },
  {
   "cell_type": "code",
<<<<<<< HEAD
   "execution_count": 981,
=======
<<<<<<< HEAD
   "execution_count": 981,
=======
   "execution_count": 820,
>>>>>>> cd1a52549a9f0bdb42c7ba512fe1e253b7f9dc02
>>>>>>> 317e77eb73a30e6a314cd391b81c506690895d99
   "metadata": {},
   "outputs": [],
   "source": [
    "training_set = \"\"\"\n",
    "\n",
<<<<<<< HEAD
    "\n",
=======
<<<<<<< HEAD
    "\n",
    "select adv.win_lose,\n",
    "       adv.game_length,\n",
    "    -- adv.ast_pct,\n",
    "       adv.ast_to_to,\n",
    "       adv.ast_ratio,\n",
    "    -- adv.offensive_reb_pct,\n",
    "       adv.defensive_reb_pct,\n",
    "       adv.reb_pct,\n",
    "       adv.to_pct,\n",
    "    -- adv.effective_fg_pct,\n",
=======
>>>>>>> 317e77eb73a30e6a314cd391b81c506690895d99
    "select adv.win_lose,\n",
    "       adv.game_length,\n",
    "    -- adv.ast_pct,\n",
    "       adv.ast_to_to,\n",
    "       adv.ast_ratio,\n",
    "    -- adv.offensive_reb_pct,\n",
    "       adv.defensive_reb_pct,\n",
    "       adv.reb_pct,\n",
    "       adv.to_pct,\n",
<<<<<<< HEAD
    "    -- adv.effective_fg_pct,\n",
=======
>>>>>>> cd1a52549a9f0bdb42c7ba512fe1e253b7f9dc02
>>>>>>> 317e77eb73a30e6a314cd391b81c506690895d99
    "       adv.ts_pct,\n",
    "       adv.pace,\n",
    "       fig.fta_rate,\n",
    "       fig.tov_pct,\n",
<<<<<<< HEAD
=======
<<<<<<< HEAD
>>>>>>> 317e77eb73a30e6a314cd391b81c506690895d99
    "    -- fig.oreb_pct,\n",
    "    -- fig.opp_effective_fg_pct,\n",
    "    -- fig.opp_fta_rate,\n",
    "       fig.opp_tov_pct,\n",
    "       fig.opp_off_reb_pct,\n",
    "       misc.points_off_to,\n",
    "    -- misc.second_chance_pts,\n",
    "    -- misc.fbps,\n",
    "       misc.pts_in_paint,\n",
    "       misc.opp_pts_off_to,\n",
    "       misc.opp_second_chance_pts,\n",
    "    -- misc.opp_fbps,\n",
    "    -- misc.opp_pts_in_paint,\n",
<<<<<<< HEAD
=======
=======
    "       fig.opp_tov_pct,\n",
    "       fig.opp_off_reb_pct,\n",
    "       misc.points_off_to,\n",
    "       misc.pts_in_paint,\n",
    "       misc.opp_pts_off_to,\n",
    "       misc.opp_second_chance_pts,\n",
>>>>>>> cd1a52549a9f0bdb42c7ba512fe1e253b7f9dc02
>>>>>>> 317e77eb73a30e6a314cd391b81c506690895d99
    "       score.pct_2pt_fg,\n",
    "       score.pct_3pt_fg,\n",
    "       score.pct_pts_2pt,\n",
    "       score.pct_pts_2pt_mr,\n",
<<<<<<< HEAD
=======
<<<<<<< HEAD
>>>>>>> 317e77eb73a30e6a314cd391b81c506690895d99
    "    -- score.pct_pts_3pt,\n",
    "       score.pct_pts_fbps,\n",
    "    -- score.pct_pts_ft,\n",
    "       score.pct_pts_off_to,\n",
    "    -- score.pct_pts_pitp,\n",
    "    -- score.2pt_fgm_ast_pct,\n",
    "    -- score.3pt_fgm_ast_pct,\n",
    "    -- score.3pt_fgm_uast_pct,\n",
    "    -- score.fgm_pct_ast,\n",
    "       score.fgm_pct_uast,\n",
    "       trad.fga,\n",
    "    -- trad.fg_pct,\n",
    "       trad.3pa,\n",
    "    -- trad.3p_pct,\n",
    "       trad.fta,\n",
    "    -- trad.ft_pct,\n",
<<<<<<< HEAD
=======
=======
    "       score.pct_pts_fbps,\n",
    "       score.pct_pts_off_to,\n",
    "       score.fgm_pct_uast,\n",
    "       trad.fga,\n",
    "       trad.3pa,\n",
    "       trad.fta,\n",
>>>>>>> cd1a52549a9f0bdb42c7ba512fe1e253b7f9dc02
>>>>>>> 317e77eb73a30e6a314cd391b81c506690895d99
    "       trad.oreb,\n",
    "       trad.dreb,\n",
    "       trad.tot_reb,\n",
    "       trad.ast,\n",
    "       trad.stl,\n",
    "       trad.blk,\n",
    "       trad.personal_fouls,\n",
<<<<<<< HEAD
    "    -- 3p.own_3pt_pct as tot_3pt_pct,\n",
    "    -- 3p.opp_3pt_pct as tot_opp_3pt_pct,\n",
    "       3p.ft_pct,\n",
    "    -- fg.own_fg_pct,\n",
    "    -- fg.opp_fg_pct,\n",
=======
<<<<<<< HEAD
    "    -- 3p.own_3pt_pct as tot_3pt_pct,\n",
    "    -- 3p.opp_3pt_pct as tot_opp_3pt_pct,\n",
    "       3p.ft_pct,\n",
    "    -- fg.own_fg_pct,\n",
    "    -- fg.opp_fg_pct,\n",
=======
    "       3p.ft_pct,\n",
>>>>>>> cd1a52549a9f0bdb42c7ba512fe1e253b7f9dc02
>>>>>>> 317e77eb73a30e6a314cd391b81c506690895d99
    "       pts.diff,\n",
    "       reb.off_reb,\n",
    "       reb.def_reb,\n",
    "       reb.tot_reb,\n",
    "       t.own_to,\n",
    "       t.opp_to,\n",
    "       stand.home_loses,\n",
    "       stand.home_wins,\n",
    "       stand.away_loses,\n",
<<<<<<< HEAD
    "       stand.away_wins,\n",
    "       opp_pts.opp_pts as opp_pts_allowed,\n",
    "       opp_pts.own_pts as opp_pts_scored\n",
=======
<<<<<<< HEAD
    "       stand.away_wins,\n",
    "       opp_pts.opp_pts as opp_pts_allowed,\n",
    "       opp_pts.own_pts as opp_pts_scored\n",
    "from box_scores_map_view as b\n",
    "inner join(\n",
    "\n",
    "         select b.game_hash,\n",
    "                b.home_team,\n",
    "                lu.season,\n",
    "                h_team.team_id as home_id,\n",
    "                a_team.team_id as away_id\n",
    "         from box_score_map as b\n",
    "                inner join game_date_lookup as lu on b.game_date = lu.day\n",
    "                inner join team_info as h_team on b.home_team = h_team.team\n",
    "                inner join team_info as a_team on b.away_team = a_team.team\n",
    "         where b.game_date < current_date and\n",
    "               lu.season > 2005\n",
    "\n",
    "         ) as bm on ( (b.game_hash = bm.game_hash) and (b.team = bm.home_team) )\n",
=======
    "       stand.away_wins\n",
>>>>>>> 317e77eb73a30e6a314cd391b81c506690895d99
    "from box_scores_map_view as b\n",
    "inner join(\n",
    "\n",
    "         select b.game_hash,\n",
    "                b.home_team,\n",
    "                lu.season,\n",
    "                h_team.team_id as home_id,\n",
    "                a_team.team_id as away_id\n",
    "         from box_score_map as b\n",
    "                inner join game_date_lookup as lu on b.game_date = lu.day\n",
    "                inner join team_info as h_team on b.home_team = h_team.team\n",
    "                inner join team_info as a_team on b.away_team = a_team.team\n",
    "         where b.game_date < current_date and\n",
    "               lu.season > 2005\n",
    "\n",
<<<<<<< HEAD
    "         ) as bm on ( (b.game_hash = bm.game_hash) and (b.team = bm.home_team) )\n",
=======
    "         ) as bm on ( (b.game_hash = bm.game_hash) and (b.team = bm.team) )\n",
>>>>>>> cd1a52549a9f0bdb42c7ba512fe1e253b7f9dc02
>>>>>>> 317e77eb73a30e6a314cd391b81c506690895d99
    "\n",
    "inner join team_advanced_boxscore_stats as adv on ( (bm.home_team = adv.team) and (bm.game_hash = adv.game_hash) )\n",
    "inner join team_figure4_boxscore_stats as fig on ( (adv.team = fig.team) and (adv.game_hash = fig.game_hash) )\n",
    "inner join team_misc_boxscore_stats as misc on ( (fig.team = misc.team) and (fig.game_hash = misc.game_hash) )\n",
    "inner join team_scoring_boxscore_stats as score on ( (misc.team = score.team) and (misc.game_hash = score.game_hash) )\n",
    "inner join team_traditional_boxscore_stats as trad on ( (score.team = trad.team) and (score.game_hash = trad.game_hash) )\n",
<<<<<<< HEAD
=======
<<<<<<< HEAD
>>>>>>> 317e77eb73a30e6a314cd391b81c506690895d99
    "inner join 3pt_pct as 3p on ( (bm.home_id = 3p.team_id) and (bm.season -1 = 3p.season) )\n",
    "inner join points as pts on ( (bm.home_id = pts.team_id) and (bm.season -1 = pts.season) )\n",
    "inner join rebound_pct as reb on ( (bm.home_id = reb.team_id) and (bm.season -1 = reb.season) )\n",
    "inner join turnovers as t on ( (bm.home_id = t.team_id) and (bm.season -1 = t.season) )\n",
    "inner join points as opp_pts on ( (bm.away_id = opp_pts.team_id) and (bm.season -1 = opp_pts.season) )\n",
    "inner join team_standings as stand on ( (bm.home_team = stand.team) and (bm.season = stand.season) )\n",
    "\n",
<<<<<<< HEAD
=======
=======
    "inner join 3pt_pct as 3p on ( (bm.team_id = 3p.team_id) and (bm.season -1 = 3p.season) )\n",
    "inner join points as pts on ( (bm.team_id = pts.team_id) and (bm.season -1 = pts.season) )\n",
    "inner join rebound_pct as reb on ( (bm.team_id = reb.team_id) and (bm.season -1 = reb.season) )\n",
    "inner join turnovers as t on ( (bm.team_id = t.team_id) and (bm.season -1 = t.season) )\n",
    "inner join team_standings as stand on ( (bm.team = stand.team) and (bm.season -1 = stand.season) )\n",
>>>>>>> cd1a52549a9f0bdb42c7ba512fe1e253b7f9dc02
>>>>>>> 317e77eb73a30e6a314cd391b81c506690895d99
    "\"\"\""
   ]
  },
  {
   "cell_type": "code",
   "execution_count": null,
   "metadata": {},
   "outputs": [],
   "source": []
  },
  {
   "cell_type": "code",
<<<<<<< HEAD
   "execution_count": 996,
=======
<<<<<<< HEAD
   "execution_count": 996,
=======
   "execution_count": 821,
>>>>>>> cd1a52549a9f0bdb42c7ba512fe1e253b7f9dc02
>>>>>>> 317e77eb73a30e6a314cd391b81c506690895d99
   "metadata": {},
   "outputs": [],
   "source": [
    "train_df = pd.read_sql(sql=training_set, con=conn, index_col=None)"
   ]
  },
  {
   "cell_type": "code",
<<<<<<< HEAD
   "execution_count": 997,
=======
<<<<<<< HEAD
   "execution_count": 997,
=======
   "execution_count": 822,
>>>>>>> cd1a52549a9f0bdb42c7ba512fe1e253b7f9dc02
>>>>>>> 317e77eb73a30e6a314cd391b81c506690895d99
   "metadata": {},
   "outputs": [],
   "source": [
    "#test_df = pd.read_sql(sql=test_set, con=conn, index_col=None)"
   ]
  },
  {
   "cell_type": "code",
<<<<<<< HEAD
   "execution_count": 998,
=======
<<<<<<< HEAD
   "execution_count": 998,
=======
   "execution_count": 823,
>>>>>>> cd1a52549a9f0bdb42c7ba512fe1e253b7f9dc02
>>>>>>> 317e77eb73a30e6a314cd391b81c506690895d99
   "metadata": {},
   "outputs": [],
   "source": [
    "def get_dummies(col):\n",
    "    return pd.get_dummies(col, drop_first=True)"
   ]
  },
  {
   "cell_type": "code",
<<<<<<< HEAD
   "execution_count": 999,
=======
<<<<<<< HEAD
   "execution_count": 999,
=======
   "execution_count": 824,
>>>>>>> cd1a52549a9f0bdb42c7ba512fe1e253b7f9dc02
>>>>>>> 317e77eb73a30e6a314cd391b81c506690895d99
   "metadata": {},
   "outputs": [],
   "source": [
    "results_train = get_dummies(train_df['win_lose'])"
   ]
  },
  {
   "cell_type": "code",
<<<<<<< HEAD
   "execution_count": 1000,
=======
<<<<<<< HEAD
   "execution_count": 1000,
=======
   "execution_count": 825,
>>>>>>> cd1a52549a9f0bdb42c7ba512fe1e253b7f9dc02
>>>>>>> 317e77eb73a30e6a314cd391b81c506690895d99
   "metadata": {},
   "outputs": [],
   "source": [
    "train_df = pd.concat([train_df, results_train], axis=1)"
   ]
  },
  {
   "cell_type": "code",
<<<<<<< HEAD
   "execution_count": 1001,
   "metadata": {},
   "outputs": [],
   "source": [
    "#train_df.drop(['win_lose'], axis=1, inplace=True)"
=======
<<<<<<< HEAD
   "execution_count": 1001,
   "metadata": {},
   "outputs": [],
   "source": [
    "#train_df.drop(['win_lose'], axis=1, inplace=True)"
=======
   "execution_count": 826,
   "metadata": {},
   "outputs": [],
   "source": [
    "train_df.drop(['win_lose'], axis=1, inplace=True)"
>>>>>>> cd1a52549a9f0bdb42c7ba512fe1e253b7f9dc02
>>>>>>> 317e77eb73a30e6a314cd391b81c506690895d99
   ]
  },
  {
   "cell_type": "code",
<<<<<<< HEAD
   "execution_count": 1002,
=======
<<<<<<< HEAD
   "execution_count": 1002,
=======
   "execution_count": 827,
>>>>>>> cd1a52549a9f0bdb42c7ba512fe1e253b7f9dc02
>>>>>>> 317e77eb73a30e6a314cd391b81c506690895d99
   "metadata": {},
   "outputs": [
    {
     "data": {
      "text/html": [
       "<div>\n",
       "<style scoped>\n",
       "    .dataframe tbody tr th:only-of-type {\n",
       "        vertical-align: middle;\n",
       "    }\n",
       "\n",
       "    .dataframe tbody tr th {\n",
       "        vertical-align: top;\n",
       "    }\n",
       "\n",
       "    .dataframe thead th {\n",
       "        text-align: right;\n",
       "    }\n",
       "</style>\n",
       "<table border=\"1\" class=\"dataframe\">\n",
       "  <thead>\n",
       "    <tr style=\"text-align: right;\">\n",
       "      <th></th>\n",
       "      <th>win_lose</th>\n",
       "      <th>game_length</th>\n",
       "      <th>ast_to_to</th>\n",
       "      <th>ast_ratio</th>\n",
<<<<<<< HEAD
=======
<<<<<<< HEAD
=======
       "      <th>offensive_reb_pct</th>\n",
>>>>>>> cd1a52549a9f0bdb42c7ba512fe1e253b7f9dc02
>>>>>>> 317e77eb73a30e6a314cd391b81c506690895d99
       "      <th>defensive_reb_pct</th>\n",
       "      <th>reb_pct</th>\n",
       "      <th>to_pct</th>\n",
       "      <th>ts_pct</th>\n",
       "      <th>pace</th>\n",
       "      <th>fta_rate</th>\n",
       "      <th>...</th>\n",
<<<<<<< HEAD
=======
<<<<<<< HEAD
=======
       "      <th>off_reb</th>\n",
       "      <th>def_reb</th>\n",
>>>>>>> cd1a52549a9f0bdb42c7ba512fe1e253b7f9dc02
>>>>>>> 317e77eb73a30e6a314cd391b81c506690895d99
       "      <th>tot_reb</th>\n",
       "      <th>own_to</th>\n",
       "      <th>opp_to</th>\n",
       "      <th>home_loses</th>\n",
       "      <th>home_wins</th>\n",
       "      <th>away_loses</th>\n",
       "      <th>away_wins</th>\n",
<<<<<<< HEAD
       "      <th>opp_pts_allowed</th>\n",
       "      <th>opp_pts_scored</th>\n",
=======
<<<<<<< HEAD
       "      <th>opp_pts_allowed</th>\n",
       "      <th>opp_pts_scored</th>\n",
=======
>>>>>>> cd1a52549a9f0bdb42c7ba512fe1e253b7f9dc02
>>>>>>> 317e77eb73a30e6a314cd391b81c506690895d99
       "      <th>W</th>\n",
       "    </tr>\n",
       "  </thead>\n",
       "  <tbody>\n",
       "    <tr>\n",
       "      <th>0</th>\n",
       "      <td>W</td>\n",
<<<<<<< HEAD
       "      <td>48</td>\n",
       "      <td>1.00</td>\n",
       "      <td>17.7</td>\n",
       "      <td>82.5</td>\n",
       "      <td>53.9</td>\n",
       "      <td>23.5</td>\n",
       "      <td>57.6</td>\n",
       "      <td>91.02</td>\n",
       "      <td>0.400</td>\n",
=======
       "      <td>48</td>\n",
<<<<<<< HEAD
       "      <td>1.00</td>\n",
       "      <td>17.7</td>\n",
       "      <td>82.5</td>\n",
       "      <td>53.9</td>\n",
       "      <td>23.5</td>\n",
       "      <td>57.6</td>\n",
       "      <td>91.02</td>\n",
       "      <td>0.400</td>\n",
       "      <td>...</td>\n",
       "      <td>0.508</td>\n",
       "      <td>14.9</td>\n",
       "      <td>13.7</td>\n",
       "      <td>10</td>\n",
       "      <td>31</td>\n",
       "      <td>25</td>\n",
       "      <td>16</td>\n",
       "      <td>101.4</td>\n",
       "      <td>97.1</td>\n",
       "      <td>1</td>\n",
       "    </tr>\n",
       "    <tr>\n",
       "      <th>1</th>\n",
       "      <td>W</td>\n",
       "      <td>48</td>\n",
       "      <td>1.53</td>\n",
       "      <td>17.3</td>\n",
       "      <td>82.9</td>\n",
       "      <td>54.8</td>\n",
       "      <td>15.3</td>\n",
       "      <td>51.5</td>\n",
       "      <td>97.16</td>\n",
       "      <td>0.395</td>\n",
       "      <td>...</td>\n",
       "      <td>0.489</td>\n",
       "      <td>12.8</td>\n",
       "      <td>13.7</td>\n",
       "      <td>7</td>\n",
       "      <td>34</td>\n",
       "      <td>22</td>\n",
       "      <td>19</td>\n",
       "      <td>102.7</td>\n",
       "      <td>97.8</td>\n",
       "      <td>1</td>\n",
       "    </tr>\n",
       "    <tr>\n",
       "      <th>2</th>\n",
       "      <td>L</td>\n",
       "      <td>48</td>\n",
       "      <td>1.41</td>\n",
       "      <td>20.5</td>\n",
       "      <td>76.7</td>\n",
       "      <td>53.4</td>\n",
       "      <td>20.7</td>\n",
       "      <td>54.3</td>\n",
       "      <td>105.38</td>\n",
       "      <td>0.393</td>\n",
       "      <td>...</td>\n",
       "      <td>0.498</td>\n",
       "      <td>15.9</td>\n",
       "      <td>15.2</td>\n",
       "      <td>16</td>\n",
       "      <td>25</td>\n",
       "      <td>29</td>\n",
       "      <td>12</td>\n",
       "      <td>98.3</td>\n",
       "      <td>97.6</td>\n",
       "      <td>0</td>\n",
       "    </tr>\n",
       "    <tr>\n",
       "      <th>3</th>\n",
       "      <td>W</td>\n",
       "      <td>48</td>\n",
       "      <td>1.71</td>\n",
       "      <td>17.3</td>\n",
       "      <td>83.7</td>\n",
       "      <td>54.7</td>\n",
       "      <td>13.4</td>\n",
       "      <td>54.4</td>\n",
       "      <td>102.52</td>\n",
       "      <td>0.253</td>\n",
       "      <td>...</td>\n",
       "      <td>0.475</td>\n",
       "      <td>14.5</td>\n",
       "      <td>15.5</td>\n",
       "      <td>18</td>\n",
       "      <td>23</td>\n",
       "      <td>21</td>\n",
       "      <td>20</td>\n",
       "      <td>107.6</td>\n",
       "      <td>97.4</td>\n",
       "      <td>1</td>\n",
       "    </tr>\n",
       "    <tr>\n",
       "      <th>4</th>\n",
       "      <td>W</td>\n",
       "      <td>48</td>\n",
       "      <td>1.83</td>\n",
       "      <td>17.1</td>\n",
       "      <td>69.4</td>\n",
       "      <td>52.5</td>\n",
       "      <td>13.4</td>\n",
       "      <td>53.5</td>\n",
       "      <td>89.46</td>\n",
       "      <td>0.313</td>\n",
       "      <td>...</td>\n",
       "      <td>0.504</td>\n",
       "      <td>16.1</td>\n",
       "      <td>14.8</td>\n",
       "      <td>23</td>\n",
       "      <td>18</td>\n",
       "      <td>33</td>\n",
       "      <td>8</td>\n",
       "      <td>95.3</td>\n",
       "      <td>96.8</td>\n",
=======
       "      <td>2.38</td>\n",
       "      <td>23.0</td>\n",
       "      <td>10.3</td>\n",
       "      <td>73.8</td>\n",
       "      <td>47.9</td>\n",
       "      <td>12.9</td>\n",
       "      <td>76.3</td>\n",
       "      <td>102.04</td>\n",
       "      <td>0.190</td>\n",
>>>>>>> 317e77eb73a30e6a314cd391b81c506690895d99
       "      <td>...</td>\n",
       "      <td>0.508</td>\n",
       "      <td>14.9</td>\n",
       "      <td>13.7</td>\n",
       "      <td>10</td>\n",
       "      <td>31</td>\n",
       "      <td>25</td>\n",
       "      <td>16</td>\n",
       "      <td>101.4</td>\n",
       "      <td>97.1</td>\n",
       "      <td>1</td>\n",
       "    </tr>\n",
       "    <tr>\n",
       "      <th>1</th>\n",
       "      <td>W</td>\n",
       "      <td>48</td>\n",
       "      <td>1.53</td>\n",
       "      <td>17.3</td>\n",
       "      <td>82.9</td>\n",
       "      <td>54.8</td>\n",
       "      <td>15.3</td>\n",
       "      <td>51.5</td>\n",
       "      <td>97.16</td>\n",
       "      <td>0.395</td>\n",
       "      <td>...</td>\n",
       "      <td>0.489</td>\n",
       "      <td>12.8</td>\n",
       "      <td>13.7</td>\n",
       "      <td>7</td>\n",
       "      <td>34</td>\n",
       "      <td>22</td>\n",
       "      <td>19</td>\n",
       "      <td>102.7</td>\n",
       "      <td>97.8</td>\n",
       "      <td>1</td>\n",
       "    </tr>\n",
       "    <tr>\n",
       "      <th>2</th>\n",
       "      <td>L</td>\n",
       "      <td>48</td>\n",
       "      <td>1.41</td>\n",
       "      <td>20.5</td>\n",
       "      <td>76.7</td>\n",
       "      <td>53.4</td>\n",
       "      <td>20.7</td>\n",
       "      <td>54.3</td>\n",
       "      <td>105.38</td>\n",
       "      <td>0.393</td>\n",
       "      <td>...</td>\n",
       "      <td>0.498</td>\n",
       "      <td>15.9</td>\n",
       "      <td>15.2</td>\n",
       "      <td>16</td>\n",
       "      <td>25</td>\n",
       "      <td>29</td>\n",
       "      <td>12</td>\n",
       "      <td>98.3</td>\n",
       "      <td>97.6</td>\n",
       "      <td>0</td>\n",
       "    </tr>\n",
       "    <tr>\n",
       "      <th>3</th>\n",
       "      <td>W</td>\n",
       "      <td>48</td>\n",
       "      <td>1.71</td>\n",
       "      <td>17.3</td>\n",
       "      <td>83.7</td>\n",
       "      <td>54.7</td>\n",
       "      <td>13.4</td>\n",
       "      <td>54.4</td>\n",
       "      <td>102.52</td>\n",
       "      <td>0.253</td>\n",
       "      <td>...</td>\n",
       "      <td>0.475</td>\n",
       "      <td>14.5</td>\n",
       "      <td>15.5</td>\n",
       "      <td>18</td>\n",
       "      <td>23</td>\n",
       "      <td>21</td>\n",
       "      <td>20</td>\n",
       "      <td>107.6</td>\n",
       "      <td>97.4</td>\n",
       "      <td>1</td>\n",
       "    </tr>\n",
       "    <tr>\n",
       "      <th>4</th>\n",
       "      <td>W</td>\n",
       "      <td>48</td>\n",
       "      <td>1.83</td>\n",
       "      <td>17.1</td>\n",
       "      <td>69.4</td>\n",
       "      <td>52.5</td>\n",
       "      <td>13.4</td>\n",
       "      <td>53.5</td>\n",
       "      <td>89.46</td>\n",
       "      <td>0.313</td>\n",
       "      <td>...</td>\n",
<<<<<<< HEAD
       "      <td>0.504</td>\n",
       "      <td>16.1</td>\n",
       "      <td>14.8</td>\n",
       "      <td>23</td>\n",
       "      <td>18</td>\n",
       "      <td>33</td>\n",
       "      <td>8</td>\n",
       "      <td>95.3</td>\n",
       "      <td>96.8</td>\n",
=======
       "      <td>0.292</td>\n",
       "      <td>0.723</td>\n",
       "      <td>0.515</td>\n",
       "      <td>13.1</td>\n",
       "      <td>13.6</td>\n",
       "      <td>11</td>\n",
       "      <td>30</td>\n",
       "      <td>14</td>\n",
       "      <td>27</td>\n",
>>>>>>> cd1a52549a9f0bdb42c7ba512fe1e253b7f9dc02
>>>>>>> 317e77eb73a30e6a314cd391b81c506690895d99
       "      <td>1</td>\n",
       "    </tr>\n",
       "  </tbody>\n",
       "</table>\n",
<<<<<<< HEAD
       "<p>5 rows × 48 columns</p>\n",
=======
<<<<<<< HEAD
       "<p>5 rows × 48 columns</p>\n",
       "</div>"
      ],
      "text/plain": [
       "  win_lose  game_length  ast_to_to  ast_ratio  defensive_reb_pct  reb_pct  \\\n",
       "0        W           48       1.00       17.7               82.5     53.9   \n",
       "1        W           48       1.53       17.3               82.9     54.8   \n",
       "2        L           48       1.41       20.5               76.7     53.4   \n",
       "3        W           48       1.71       17.3               83.7     54.7   \n",
       "4        W           48       1.83       17.1               69.4     52.5   \n",
       "\n",
       "   to_pct  ts_pct    pace  fta_rate ...  tot_reb  own_to  opp_to  home_loses  \\\n",
       "0    23.5    57.6   91.02     0.400 ...    0.508    14.9    13.7          10   \n",
       "1    15.3    51.5   97.16     0.395 ...    0.489    12.8    13.7           7   \n",
       "2    20.7    54.3  105.38     0.393 ...    0.498    15.9    15.2          16   \n",
       "3    13.4    54.4  102.52     0.253 ...    0.475    14.5    15.5          18   \n",
       "4    13.4    53.5   89.46     0.313 ...    0.504    16.1    14.8          23   \n",
       "\n",
       "   home_wins  away_loses  away_wins  opp_pts_allowed  opp_pts_scored  W  \n",
       "0         31          25         16            101.4            97.1  1  \n",
       "1         34          22         19            102.7            97.8  1  \n",
       "2         25          29         12             98.3            97.6  0  \n",
       "3         23          21         20            107.6            97.4  1  \n",
       "4         18          33          8             95.3            96.8  1  \n",
       "\n",
       "[5 rows x 48 columns]"
      ]
     },
     "execution_count": 1002,
=======
       "<p>5 rows × 46 columns</p>\n",
>>>>>>> 317e77eb73a30e6a314cd391b81c506690895d99
       "</div>"
      ],
      "text/plain": [
       "  win_lose  game_length  ast_to_to  ast_ratio  defensive_reb_pct  reb_pct  \\\n",
       "0        W           48       1.00       17.7               82.5     53.9   \n",
       "1        W           48       1.53       17.3               82.9     54.8   \n",
       "2        L           48       1.41       20.5               76.7     53.4   \n",
       "3        W           48       1.71       17.3               83.7     54.7   \n",
       "4        W           48       1.83       17.1               69.4     52.5   \n",
       "\n",
       "   to_pct  ts_pct    pace  fta_rate ...  tot_reb  own_to  opp_to  home_loses  \\\n",
       "0    23.5    57.6   91.02     0.400 ...    0.508    14.9    13.7          10   \n",
       "1    15.3    51.5   97.16     0.395 ...    0.489    12.8    13.7           7   \n",
       "2    20.7    54.3  105.38     0.393 ...    0.498    15.9    15.2          16   \n",
       "3    13.4    54.4  102.52     0.253 ...    0.475    14.5    15.5          18   \n",
       "4    13.4    53.5   89.46     0.313 ...    0.504    16.1    14.8          23   \n",
       "\n",
       "   home_wins  away_loses  away_wins  opp_pts_allowed  opp_pts_scored  W  \n",
       "0         31          25         16            101.4            97.1  1  \n",
       "1         34          22         19            102.7            97.8  1  \n",
       "2         25          29         12             98.3            97.6  0  \n",
       "3         23          21         20            107.6            97.4  1  \n",
       "4         18          33          8             95.3            96.8  1  \n",
       "\n",
       "[5 rows x 48 columns]"
      ]
     },
<<<<<<< HEAD
     "execution_count": 1002,
=======
     "execution_count": 827,
>>>>>>> cd1a52549a9f0bdb42c7ba512fe1e253b7f9dc02
>>>>>>> 317e77eb73a30e6a314cd391b81c506690895d99
     "metadata": {},
     "output_type": "execute_result"
    }
   ],
   "source": [
    "train_df.head()\n",
    "#test_df.head()"
   ]
  },
  {
   "cell_type": "code",
<<<<<<< HEAD
   "execution_count": 989,
=======
<<<<<<< HEAD
   "execution_count": 989,
=======
   "execution_count": 828,
>>>>>>> cd1a52549a9f0bdb42c7ba512fe1e253b7f9dc02
>>>>>>> 317e77eb73a30e6a314cd391b81c506690895d99
   "metadata": {},
   "outputs": [],
   "source": [
    "X_train, X_test, y_train, y_test = train_test_split(train_df.drop('W', axis=1), train_df['W'], test_size=.33)"
   ]
  },
  {
   "cell_type": "code",
   "execution_count": null,
   "metadata": {},
   "outputs": [],
   "source": []
  },
  {
   "cell_type": "code",
   "execution_count": null,
   "metadata": {},
   "outputs": [],
   "source": []
  },
  {
   "cell_type": "code",
<<<<<<< HEAD
   "execution_count": 990,
=======
<<<<<<< HEAD
   "execution_count": 990,
=======
   "execution_count": 829,
>>>>>>> cd1a52549a9f0bdb42c7ba512fe1e253b7f9dc02
>>>>>>> 317e77eb73a30e6a314cd391b81c506690895d99
   "metadata": {},
   "outputs": [],
   "source": [
    "lg = LogisticRegression() #(penalty='l2', C=1.38383838)"
   ]
  },
  {
   "cell_type": "code",
<<<<<<< HEAD
   "execution_count": 991,
=======
<<<<<<< HEAD
   "execution_count": 991,
=======
   "execution_count": 830,
>>>>>>> cd1a52549a9f0bdb42c7ba512fe1e253b7f9dc02
>>>>>>> 317e77eb73a30e6a314cd391b81c506690895d99
   "metadata": {},
   "outputs": [
    {
     "data": {
      "text/plain": [
       "LogisticRegression(C=1.0, class_weight=None, dual=False, fit_intercept=True,\n",
       "          intercept_scaling=1, max_iter=100, multi_class='ovr', n_jobs=1,\n",
       "          penalty='l2', random_state=None, solver='liblinear', tol=0.0001,\n",
       "          verbose=0, warm_start=False)"
      ]
     },
<<<<<<< HEAD
     "execution_count": 991,
=======
<<<<<<< HEAD
     "execution_count": 991,
=======
     "execution_count": 830,
>>>>>>> cd1a52549a9f0bdb42c7ba512fe1e253b7f9dc02
>>>>>>> 317e77eb73a30e6a314cd391b81c506690895d99
     "metadata": {},
     "output_type": "execute_result"
    }
   ],
   "source": [
<<<<<<< HEAD
    "lg.fit(X_train, y_train) #(train_df.drop('W', axis=1), train_df['W']) "
=======
<<<<<<< HEAD
    "lg.fit(X_train, y_train) #(train_df.drop('W', axis=1), train_df['W']) "
=======
    "lg.fit(X_test, y_test) #(train_df.drop('W', axis=1), train_df['W']) "
>>>>>>> cd1a52549a9f0bdb42c7ba512fe1e253b7f9dc02
>>>>>>> 317e77eb73a30e6a314cd391b81c506690895d99
   ]
  },
  {
   "cell_type": "code",
<<<<<<< HEAD
   "execution_count": 992,
=======
<<<<<<< HEAD
   "execution_count": 992,
=======
   "execution_count": 831,
>>>>>>> cd1a52549a9f0bdb42c7ba512fe1e253b7f9dc02
>>>>>>> 317e77eb73a30e6a314cd391b81c506690895d99
   "metadata": {},
   "outputs": [],
   "source": [
    "predictions = lg.predict(X_test)"
   ]
  },
  {
   "cell_type": "code",
<<<<<<< HEAD
   "execution_count": 993,
=======
<<<<<<< HEAD
   "execution_count": 993,
=======
   "execution_count": 832,
>>>>>>> cd1a52549a9f0bdb42c7ba512fe1e253b7f9dc02
>>>>>>> 317e77eb73a30e6a314cd391b81c506690895d99
   "metadata": {},
   "outputs": [
    {
     "data": {
      "text/plain": [
<<<<<<< HEAD
       "0.90607054963084499"
      ]
     },
     "execution_count": 993,
=======
<<<<<<< HEAD
       "0.90607054963084499"
      ]
     },
     "execution_count": 993,
=======
       "0.90107839070924922"
      ]
     },
     "execution_count": 832,
>>>>>>> cd1a52549a9f0bdb42c7ba512fe1e253b7f9dc02
>>>>>>> 317e77eb73a30e6a314cd391b81c506690895d99
     "metadata": {},
     "output_type": "execute_result"
    }
   ],
   "source": [
    "lg.score(X_test, y_test)"
   ]
  },
  {
   "cell_type": "code",
<<<<<<< HEAD
   "execution_count": 994,
=======
<<<<<<< HEAD
   "execution_count": 994,
=======
   "execution_count": 833,
>>>>>>> cd1a52549a9f0bdb42c7ba512fe1e253b7f9dc02
>>>>>>> 317e77eb73a30e6a314cd391b81c506690895d99
   "metadata": {},
   "outputs": [
    {
     "name": "stdout",
     "output_type": "stream",
     "text": [
<<<<<<< HEAD
      "[[1719  253]\n",
      " [ 205 2699]]\n"
=======
<<<<<<< HEAD
      "[[1719  253]\n",
      " [ 205 2699]]\n"
=======
      "[[1703  255]\n",
      " [ 222 2642]]\n"
>>>>>>> cd1a52549a9f0bdb42c7ba512fe1e253b7f9dc02
>>>>>>> 317e77eb73a30e6a314cd391b81c506690895d99
     ]
    }
   ],
   "source": [
    "print(confusion_matrix(y_test, predictions))"
   ]
  },
  {
   "cell_type": "code",
<<<<<<< HEAD
   "execution_count": 995,
=======
<<<<<<< HEAD
   "execution_count": 995,
=======
   "execution_count": 834,
>>>>>>> cd1a52549a9f0bdb42c7ba512fe1e253b7f9dc02
>>>>>>> 317e77eb73a30e6a314cd391b81c506690895d99
   "metadata": {},
   "outputs": [
    {
     "name": "stdout",
     "output_type": "stream",
     "text": [
      "             precision    recall  f1-score   support\n",
      "\n",
<<<<<<< HEAD
      "          0       0.89      0.87      0.88      1972\n",
      "          1       0.91      0.93      0.92      2904\n",
      "\n",
      "avg / total       0.91      0.91      0.91      4876\n",
=======
<<<<<<< HEAD
      "          0       0.89      0.87      0.88      1972\n",
      "          1       0.91      0.93      0.92      2904\n",
      "\n",
      "avg / total       0.91      0.91      0.91      4876\n",
=======
      "          0       0.88      0.87      0.88      1958\n",
      "          1       0.91      0.92      0.92      2864\n",
      "\n",
      "avg / total       0.90      0.90      0.90      4822\n",
>>>>>>> cd1a52549a9f0bdb42c7ba512fe1e253b7f9dc02
>>>>>>> 317e77eb73a30e6a314cd391b81c506690895d99
      "\n"
     ]
    }
   ],
   "source": [
    "print(classification_report(y_test, predictions))"
   ]
  },
  {
   "cell_type": "code",
<<<<<<< HEAD
   "execution_count": 896,
=======
<<<<<<< HEAD
   "execution_count": 896,
=======
   "execution_count": 835,
>>>>>>> cd1a52549a9f0bdb42c7ba512fe1e253b7f9dc02
>>>>>>> 317e77eb73a30e6a314cd391b81c506690895d99
   "metadata": {},
   "outputs": [
    {
     "data": {
      "text/html": [
       "<div>\n",
       "<style scoped>\n",
       "    .dataframe tbody tr th:only-of-type {\n",
       "        vertical-align: middle;\n",
       "    }\n",
       "\n",
       "    .dataframe tbody tr th {\n",
       "        vertical-align: top;\n",
       "    }\n",
       "\n",
       "    .dataframe thead th {\n",
       "        text-align: right;\n",
       "    }\n",
       "</style>\n",
       "<table border=\"1\" class=\"dataframe\">\n",
       "  <thead>\n",
       "    <tr style=\"text-align: right;\">\n",
       "      <th></th>\n",
       "      <th>0</th>\n",
       "    </tr>\n",
       "  </thead>\n",
       "  <tbody>\n",
       "    <tr>\n",
       "      <th>game_length</th>\n",
<<<<<<< HEAD
       "      <td>-0.684589</td>\n",
=======
<<<<<<< HEAD
       "      <td>-0.684589</td>\n",
       "    </tr>\n",
       "    <tr>\n",
       "      <th>ast_to_to</th>\n",
       "      <td>-0.143590</td>\n",
       "    </tr>\n",
       "    <tr>\n",
       "      <th>ast_ratio</th>\n",
       "      <td>0.169045</td>\n",
       "    </tr>\n",
       "    <tr>\n",
       "      <th>defensive_reb_pct</th>\n",
       "      <td>-0.027907</td>\n",
       "    </tr>\n",
       "    <tr>\n",
       "      <th>reb_pct</th>\n",
       "      <td>0.194041</td>\n",
       "    </tr>\n",
       "    <tr>\n",
       "      <th>to_pct</th>\n",
       "      <td>-0.046398</td>\n",
       "    </tr>\n",
       "    <tr>\n",
       "      <th>ts_pct</th>\n",
       "      <td>0.500780</td>\n",
       "    </tr>\n",
       "    <tr>\n",
       "      <th>pace</th>\n",
       "      <td>-0.338896</td>\n",
       "    </tr>\n",
       "    <tr>\n",
       "      <th>fta_rate</th>\n",
       "      <td>-0.011142</td>\n",
       "    </tr>\n",
       "    <tr>\n",
       "      <th>tov_pct</th>\n",
       "      <td>-0.046398</td>\n",
       "    </tr>\n",
       "    <tr>\n",
       "      <th>opp_tov_pct</th>\n",
       "      <td>0.647705</td>\n",
       "    </tr>\n",
       "    <tr>\n",
       "      <th>opp_off_reb_pct</th>\n",
       "      <td>0.089863</td>\n",
       "    </tr>\n",
       "    <tr>\n",
       "      <th>points_off_to</th>\n",
       "      <td>0.209453</td>\n",
       "    </tr>\n",
       "    <tr>\n",
       "      <th>pts_in_paint</th>\n",
       "      <td>-0.044404</td>\n",
       "    </tr>\n",
       "    <tr>\n",
       "      <th>opp_pts_off_to</th>\n",
       "      <td>-0.090736</td>\n",
       "    </tr>\n",
       "    <tr>\n",
       "      <th>opp_second_chance_pts</th>\n",
       "      <td>-0.029266</td>\n",
       "    </tr>\n",
       "    <tr>\n",
       "      <th>pct_2pt_fg</th>\n",
       "      <td>-0.071661</td>\n",
       "    </tr>\n",
       "    <tr>\n",
       "      <th>pct_3pt_fg</th>\n",
       "      <td>-0.073315</td>\n",
       "    </tr>\n",
       "    <tr>\n",
       "      <th>pct_pts_2pt</th>\n",
       "      <td>0.001081</td>\n",
       "    </tr>\n",
       "    <tr>\n",
       "      <th>pct_pts_2pt_mr</th>\n",
       "      <td>-0.031564</td>\n",
       "    </tr>\n",
       "    <tr>\n",
       "      <th>pct_pts_fbps</th>\n",
       "      <td>-0.024678</td>\n",
       "    </tr>\n",
       "    <tr>\n",
       "      <th>pct_pts_off_to</th>\n",
       "      <td>-0.189973</td>\n",
       "    </tr>\n",
       "    <tr>\n",
       "      <th>fgm_pct_uast</th>\n",
       "      <td>0.025852</td>\n",
       "    </tr>\n",
       "    <tr>\n",
       "      <th>fga</th>\n",
       "      <td>0.173625</td>\n",
       "    </tr>\n",
       "    <tr>\n",
       "      <th>3pa</th>\n",
       "      <td>-0.048942</td>\n",
       "    </tr>\n",
       "    <tr>\n",
       "      <th>fta</th>\n",
       "      <td>0.113130</td>\n",
       "    </tr>\n",
       "    <tr>\n",
       "      <th>oreb</th>\n",
       "      <td>-0.184722</td>\n",
       "    </tr>\n",
       "    <tr>\n",
       "      <th>dreb</th>\n",
       "      <td>0.389764</td>\n",
       "    </tr>\n",
       "    <tr>\n",
       "      <th>tot_reb</th>\n",
       "      <td>0.205042</td>\n",
       "    </tr>\n",
       "    <tr>\n",
       "      <th>ast</th>\n",
       "      <td>0.012989</td>\n",
       "    </tr>\n",
       "    <tr>\n",
       "      <th>stl</th>\n",
       "      <td>-0.029797</td>\n",
       "    </tr>\n",
       "    <tr>\n",
       "      <th>blk</th>\n",
       "      <td>0.136470</td>\n",
       "    </tr>\n",
       "    <tr>\n",
       "      <th>personal_fouls</th>\n",
       "      <td>-0.099258</td>\n",
       "    </tr>\n",
       "    <tr>\n",
       "      <th>ft_pct</th>\n",
       "      <td>-0.230382</td>\n",
       "    </tr>\n",
       "    <tr>\n",
       "      <th>diff</th>\n",
       "      <td>0.018495</td>\n",
       "    </tr>\n",
       "    <tr>\n",
       "      <th>off_reb</th>\n",
       "      <td>0.079643</td>\n",
       "    </tr>\n",
       "    <tr>\n",
       "      <th>def_reb</th>\n",
       "      <td>-0.124872</td>\n",
       "    </tr>\n",
       "    <tr>\n",
       "      <th>tot_reb</th>\n",
       "      <td>-0.045825</td>\n",
       "    </tr>\n",
       "    <tr>\n",
       "      <th>own_to</th>\n",
       "      <td>0.089425</td>\n",
       "    </tr>\n",
       "    <tr>\n",
       "      <th>opp_to</th>\n",
       "      <td>-0.122214</td>\n",
       "    </tr>\n",
       "    <tr>\n",
       "      <th>home_loses</th>\n",
       "      <td>-0.205068</td>\n",
       "    </tr>\n",
       "    <tr>\n",
       "      <th>home_wins</th>\n",
       "      <td>-0.101244</td>\n",
       "    </tr>\n",
       "    <tr>\n",
       "      <th>away_loses</th>\n",
       "      <td>0.167404</td>\n",
       "    </tr>\n",
       "    <tr>\n",
       "      <th>away_wins</th>\n",
       "      <td>0.160727</td>\n",
       "    </tr>\n",
       "    <tr>\n",
       "      <th>opp_pts_allowed</th>\n",
       "      <td>0.037949</td>\n",
       "    </tr>\n",
       "    <tr>\n",
       "      <th>opp_pts_scored</th>\n",
       "      <td>-0.093276</td>\n",
=======
       "      <td>-0.648232</td>\n",
>>>>>>> 317e77eb73a30e6a314cd391b81c506690895d99
       "    </tr>\n",
       "    <tr>\n",
       "      <th>ast_to_to</th>\n",
       "      <td>-0.143590</td>\n",
       "    </tr>\n",
       "    <tr>\n",
       "      <th>ast_ratio</th>\n",
       "      <td>0.169045</td>\n",
       "    </tr>\n",
       "    <tr>\n",
       "      <th>defensive_reb_pct</th>\n",
       "      <td>-0.027907</td>\n",
       "    </tr>\n",
       "    <tr>\n",
       "      <th>reb_pct</th>\n",
       "      <td>0.194041</td>\n",
       "    </tr>\n",
       "    <tr>\n",
       "      <th>to_pct</th>\n",
       "      <td>-0.046398</td>\n",
       "    </tr>\n",
       "    <tr>\n",
       "      <th>ts_pct</th>\n",
       "      <td>0.500780</td>\n",
       "    </tr>\n",
       "    <tr>\n",
       "      <th>pace</th>\n",
       "      <td>-0.338896</td>\n",
       "    </tr>\n",
       "    <tr>\n",
       "      <th>fta_rate</th>\n",
       "      <td>-0.011142</td>\n",
       "    </tr>\n",
       "    <tr>\n",
       "      <th>tov_pct</th>\n",
       "      <td>-0.046398</td>\n",
       "    </tr>\n",
       "    <tr>\n",
       "      <th>opp_tov_pct</th>\n",
       "      <td>0.647705</td>\n",
       "    </tr>\n",
       "    <tr>\n",
       "      <th>opp_off_reb_pct</th>\n",
       "      <td>0.089863</td>\n",
       "    </tr>\n",
       "    <tr>\n",
       "      <th>points_off_to</th>\n",
       "      <td>0.209453</td>\n",
       "    </tr>\n",
       "    <tr>\n",
       "      <th>pts_in_paint</th>\n",
       "      <td>-0.044404</td>\n",
       "    </tr>\n",
       "    <tr>\n",
       "      <th>opp_pts_off_to</th>\n",
       "      <td>-0.090736</td>\n",
       "    </tr>\n",
       "    <tr>\n",
       "      <th>opp_second_chance_pts</th>\n",
       "      <td>-0.029266</td>\n",
       "    </tr>\n",
       "    <tr>\n",
       "      <th>pct_2pt_fg</th>\n",
       "      <td>-0.071661</td>\n",
       "    </tr>\n",
       "    <tr>\n",
       "      <th>pct_3pt_fg</th>\n",
       "      <td>-0.073315</td>\n",
       "    </tr>\n",
       "    <tr>\n",
       "      <th>pct_pts_2pt</th>\n",
       "      <td>0.001081</td>\n",
       "    </tr>\n",
       "    <tr>\n",
       "      <th>pct_pts_2pt_mr</th>\n",
       "      <td>-0.031564</td>\n",
       "    </tr>\n",
       "    <tr>\n",
       "      <th>pct_pts_fbps</th>\n",
       "      <td>-0.024678</td>\n",
       "    </tr>\n",
       "    <tr>\n",
       "      <th>pct_pts_off_to</th>\n",
       "      <td>-0.189973</td>\n",
       "    </tr>\n",
       "    <tr>\n",
       "      <th>fgm_pct_uast</th>\n",
       "      <td>0.025852</td>\n",
       "    </tr>\n",
       "    <tr>\n",
       "      <th>fga</th>\n",
       "      <td>0.173625</td>\n",
       "    </tr>\n",
       "    <tr>\n",
       "      <th>3pa</th>\n",
       "      <td>-0.048942</td>\n",
       "    </tr>\n",
       "    <tr>\n",
       "      <th>fta</th>\n",
       "      <td>0.113130</td>\n",
       "    </tr>\n",
       "    <tr>\n",
       "      <th>oreb</th>\n",
       "      <td>-0.184722</td>\n",
       "    </tr>\n",
       "    <tr>\n",
       "      <th>dreb</th>\n",
       "      <td>0.389764</td>\n",
       "    </tr>\n",
       "    <tr>\n",
       "      <th>tot_reb</th>\n",
       "      <td>0.205042</td>\n",
       "    </tr>\n",
       "    <tr>\n",
       "      <th>ast</th>\n",
       "      <td>0.012989</td>\n",
       "    </tr>\n",
       "    <tr>\n",
       "      <th>stl</th>\n",
       "      <td>-0.029797</td>\n",
       "    </tr>\n",
       "    <tr>\n",
       "      <th>blk</th>\n",
       "      <td>0.136470</td>\n",
       "    </tr>\n",
       "    <tr>\n",
       "      <th>personal_fouls</th>\n",
       "      <td>-0.099258</td>\n",
       "    </tr>\n",
       "    <tr>\n",
       "      <th>ft_pct</th>\n",
       "      <td>-0.230382</td>\n",
       "    </tr>\n",
       "    <tr>\n",
       "      <th>diff</th>\n",
       "      <td>0.018495</td>\n",
       "    </tr>\n",
       "    <tr>\n",
       "      <th>off_reb</th>\n",
       "      <td>0.079643</td>\n",
       "    </tr>\n",
       "    <tr>\n",
       "      <th>def_reb</th>\n",
       "      <td>-0.124872</td>\n",
       "    </tr>\n",
       "    <tr>\n",
       "      <th>tot_reb</th>\n",
       "      <td>-0.045825</td>\n",
       "    </tr>\n",
       "    <tr>\n",
       "      <th>own_to</th>\n",
       "      <td>0.089425</td>\n",
       "    </tr>\n",
       "    <tr>\n",
       "      <th>opp_to</th>\n",
       "      <td>-0.122214</td>\n",
       "    </tr>\n",
       "    <tr>\n",
       "      <th>home_loses</th>\n",
       "      <td>-0.205068</td>\n",
       "    </tr>\n",
       "    <tr>\n",
       "      <th>home_wins</th>\n",
       "      <td>-0.101244</td>\n",
       "    </tr>\n",
       "    <tr>\n",
       "      <th>away_loses</th>\n",
       "      <td>0.167404</td>\n",
       "    </tr>\n",
       "    <tr>\n",
       "      <th>away_wins</th>\n",
<<<<<<< HEAD
       "      <td>0.160727</td>\n",
       "    </tr>\n",
       "    <tr>\n",
       "      <th>opp_pts_allowed</th>\n",
       "      <td>0.037949</td>\n",
       "    </tr>\n",
       "    <tr>\n",
       "      <th>opp_pts_scored</th>\n",
       "      <td>-0.093276</td>\n",
=======
       "      <td>-0.069674</td>\n",
>>>>>>> cd1a52549a9f0bdb42c7ba512fe1e253b7f9dc02
>>>>>>> 317e77eb73a30e6a314cd391b81c506690895d99
       "    </tr>\n",
       "  </tbody>\n",
       "</table>\n",
       "</div>"
      ],
      "text/plain": [
       "                              0\n",
<<<<<<< HEAD
=======
<<<<<<< HEAD
>>>>>>> 317e77eb73a30e6a314cd391b81c506690895d99
       "game_length           -0.684589\n",
       "ast_to_to             -0.143590\n",
       "ast_ratio              0.169045\n",
       "defensive_reb_pct     -0.027907\n",
       "reb_pct                0.194041\n",
       "to_pct                -0.046398\n",
       "ts_pct                 0.500780\n",
       "pace                  -0.338896\n",
       "fta_rate              -0.011142\n",
       "tov_pct               -0.046398\n",
       "opp_tov_pct            0.647705\n",
       "opp_off_reb_pct        0.089863\n",
       "points_off_to          0.209453\n",
       "pts_in_paint          -0.044404\n",
       "opp_pts_off_to        -0.090736\n",
       "opp_second_chance_pts -0.029266\n",
       "pct_2pt_fg            -0.071661\n",
       "pct_3pt_fg            -0.073315\n",
       "pct_pts_2pt            0.001081\n",
       "pct_pts_2pt_mr        -0.031564\n",
       "pct_pts_fbps          -0.024678\n",
       "pct_pts_off_to        -0.189973\n",
       "fgm_pct_uast           0.025852\n",
       "fga                    0.173625\n",
       "3pa                   -0.048942\n",
       "fta                    0.113130\n",
       "oreb                  -0.184722\n",
       "dreb                   0.389764\n",
       "tot_reb                0.205042\n",
       "ast                    0.012989\n",
       "stl                   -0.029797\n",
       "blk                    0.136470\n",
       "personal_fouls        -0.099258\n",
       "ft_pct                -0.230382\n",
       "diff                   0.018495\n",
       "off_reb                0.079643\n",
       "def_reb               -0.124872\n",
       "tot_reb               -0.045825\n",
       "own_to                 0.089425\n",
       "opp_to                -0.122214\n",
       "home_loses            -0.205068\n",
       "home_wins             -0.101244\n",
       "away_loses             0.167404\n",
       "away_wins              0.160727\n",
       "opp_pts_allowed        0.037949\n",
       "opp_pts_scored        -0.093276"
<<<<<<< HEAD
      ]
     },
     "execution_count": 896,
=======
      ]
     },
     "execution_count": 896,
=======
       "game_length           -0.648232\n",
       "ast_to_to              0.171539\n",
       "ast_ratio              0.061900\n",
       "offensive_reb_pct     -0.118289\n",
       "defensive_reb_pct     -0.142628\n",
       "reb_pct                0.379464\n",
       "to_pct                -0.054260\n",
       "ts_pct                 0.466112\n",
       "pace                  -0.302966\n",
       "fta_rate              -0.023953\n",
       "tov_pct               -0.054260\n",
       "opp_tov_pct            0.610061\n",
       "opp_off_reb_pct        0.045401\n",
       "points_off_to          0.324951\n",
       "pts_in_paint          -0.117174\n",
       "opp_pts_off_to        -0.104896\n",
       "opp_second_chance_pts -0.012171\n",
       "pct_2pt_fg             0.002884\n",
       "pct_3pt_fg            -0.141464\n",
       "pct_pts_2pt            0.045727\n",
       "pct_pts_2pt_mr        -0.102412\n",
       "pct_pts_fbps          -0.021416\n",
       "pct_pts_off_to        -0.303050\n",
       "fgm_pct_uast           0.024881\n",
       "fga                    0.114470\n",
       "3pa                    0.085924\n",
       "fta                    0.094810\n",
       "oreb                  -0.106326\n",
       "dreb                   0.320464\n",
       "tot_reb                0.214138\n",
       "ast                    0.089140\n",
       "stl                    0.024461\n",
       "blk                    0.113088\n",
       "personal_fouls        -0.088769\n",
       "ft_pct                -0.042300\n",
       "diff                   0.065486\n",
       "off_reb                0.041150\n",
       "def_reb               -0.057576\n",
       "tot_reb               -0.011825\n",
       "own_to                 0.007847\n",
       "opp_to                -0.048154\n",
       "home_loses            -0.035540\n",
       "home_wins             -0.025523\n",
       "away_loses            -0.054772\n",
       "away_wins             -0.069674"
      ]
     },
     "execution_count": 835,
>>>>>>> cd1a52549a9f0bdb42c7ba512fe1e253b7f9dc02
>>>>>>> 317e77eb73a30e6a314cd391b81c506690895d99
     "metadata": {},
     "output_type": "execute_result"
    }
   ],
   "source": [
    "pd.DataFrame(lg.coef_, columns=X_test.columns).T"
   ]
  },
  {
   "cell_type": "code",
<<<<<<< HEAD
   "execution_count": 897,
=======
<<<<<<< HEAD
   "execution_count": 897,
=======
   "execution_count": 800,
>>>>>>> cd1a52549a9f0bdb42c7ba512fe1e253b7f9dc02
>>>>>>> 317e77eb73a30e6a314cd391b81c506690895d99
   "metadata": {
    "scrolled": false
   },
   "outputs": [],
   "source": [
    "#lg.fit(train_df.drop('W', axis=1), train_df['W'] )"
   ]
  },
  {
   "cell_type": "code",
<<<<<<< HEAD
   "execution_count": 898,
=======
<<<<<<< HEAD
   "execution_count": 898,
=======
   "execution_count": 801,
>>>>>>> cd1a52549a9f0bdb42c7ba512fe1e253b7f9dc02
>>>>>>> 317e77eb73a30e6a314cd391b81c506690895d99
   "metadata": {},
   "outputs": [],
   "source": [
    "#predictions = lg.predict(test_df.drop('W', axis=1))"
   ]
  },
  {
   "cell_type": "code",
<<<<<<< HEAD
   "execution_count": 899,
=======
<<<<<<< HEAD
   "execution_count": 899,
=======
   "execution_count": 802,
>>>>>>> cd1a52549a9f0bdb42c7ba512fe1e253b7f9dc02
>>>>>>> 317e77eb73a30e6a314cd391b81c506690895d99
   "metadata": {},
   "outputs": [],
   "source": [
    "#print(confusion_matrix(test_df['W'], predictions))"
   ]
  },
  {
   "cell_type": "code",
<<<<<<< HEAD
   "execution_count": 900,
=======
<<<<<<< HEAD
   "execution_count": 900,
=======
   "execution_count": 803,
>>>>>>> cd1a52549a9f0bdb42c7ba512fe1e253b7f9dc02
>>>>>>> 317e77eb73a30e6a314cd391b81c506690895d99
   "metadata": {},
   "outputs": [],
   "source": [
    "#print(classification_report(test_df['W'], predictions))"
   ]
  },
  {
   "cell_type": "code",
<<<<<<< HEAD
   "execution_count": 901,
=======
<<<<<<< HEAD
   "execution_count": 901,
=======
   "execution_count": 804,
>>>>>>> cd1a52549a9f0bdb42c7ba512fe1e253b7f9dc02
>>>>>>> 317e77eb73a30e6a314cd391b81c506690895d99
   "metadata": {},
   "outputs": [],
   "source": [
    "#sns.pairplot(test_df)"
   ]
  },
  {
   "cell_type": "code",
<<<<<<< HEAD
   "execution_count": 902,
=======
<<<<<<< HEAD
   "execution_count": 902,
=======
   "execution_count": 805,
>>>>>>> cd1a52549a9f0bdb42c7ba512fe1e253b7f9dc02
>>>>>>> 317e77eb73a30e6a314cd391b81c506690895d99
   "metadata": {},
   "outputs": [],
   "source": [
    "#print(lg.coef_)"
   ]
  },
  {
   "cell_type": "code",
<<<<<<< HEAD
   "execution_count": 903,
=======
<<<<<<< HEAD
   "execution_count": 903,
=======
   "execution_count": 806,
>>>>>>> cd1a52549a9f0bdb42c7ba512fe1e253b7f9dc02
>>>>>>> 317e77eb73a30e6a314cd391b81c506690895d99
   "metadata": {},
   "outputs": [],
   "source": [
    "#col = train_df.drop('W', axis=1)\n",
    "#col.columns"
   ]
  },
  {
   "cell_type": "code",
<<<<<<< HEAD
   "execution_count": 904,
=======
<<<<<<< HEAD
   "execution_count": 904,
=======
   "execution_count": 807,
>>>>>>> cd1a52549a9f0bdb42c7ba512fe1e253b7f9dc02
>>>>>>> 317e77eb73a30e6a314cd391b81c506690895d99
   "metadata": {},
   "outputs": [],
   "source": [
    "#pd.DataFrame(lg.coef_, columns=train_df.drop('W', axis=1).columns).T"
   ]
  },
  {
   "cell_type": "code",
   "execution_count": 808,
   "metadata": {},
   "outputs": [],
   "source": [
    "#list(np.concatenate([np.power(10.0, np.arange(1, 15)), np.linspace(1, 9.99, 50)]))"
   ]
  },
  {
   "cell_type": "code",
<<<<<<< HEAD
   "execution_count": 924,
=======
<<<<<<< HEAD
   "execution_count": 924,
=======
   "execution_count": 853,
>>>>>>> cd1a52549a9f0bdb42c7ba512fe1e253b7f9dc02
>>>>>>> 317e77eb73a30e6a314cd391b81c506690895d99
   "metadata": {},
   "outputs": [
    {
     "data": {
      "text/plain": [
<<<<<<< HEAD
=======
<<<<<<< HEAD
>>>>>>> 317e77eb73a30e6a314cd391b81c506690895d99
       "[1e-10,\n",
       " 1.0000000000000001e-09,\n",
       " 1e-08,\n",
       " 9.9999999999999995e-08,\n",
       " 9.9999999999999995e-07,\n",
       " 1.0000000000000001e-05,\n",
       " 0.0001,\n",
       " 0.001,\n",
       " 0.01,\n",
       " 0.10000000000000001,\n",
       " 1.0,\n",
<<<<<<< HEAD
=======
=======
       "[1.0,\n",
>>>>>>> cd1a52549a9f0bdb42c7ba512fe1e253b7f9dc02
>>>>>>> 317e77eb73a30e6a314cd391b81c506690895d99
       " 10.0,\n",
       " 100.0,\n",
       " 1000.0,\n",
       " 10000.0,\n",
       " 100000.0,\n",
       " 1000000.0,\n",
       " 10000000.0,\n",
       " 100000000.0,\n",
       " 1000000000.0]"
      ]
     },
<<<<<<< HEAD
     "execution_count": 924,
=======
<<<<<<< HEAD
     "execution_count": 924,
=======
     "execution_count": 853,
>>>>>>> cd1a52549a9f0bdb42c7ba512fe1e253b7f9dc02
>>>>>>> 317e77eb73a30e6a314cd391b81c506690895d99
     "metadata": {},
     "output_type": "execute_result"
    }
   ],
   "source": [
<<<<<<< HEAD
    "#test_c_vals = np.linspace(5, 25, 40) # np.concatenate([np.power(10.0, np.arange(1, 15)), np.linspace(1, 9.99, 50)])\n",
    "test_c_vals = list(np.power(10.0, np.arange(-10, 10)))\n",
=======
<<<<<<< HEAD
    "#test_c_vals = np.linspace(5, 25, 40) # np.concatenate([np.power(10.0, np.arange(1, 15)), np.linspace(1, 9.99, 50)])\n",
    "test_c_vals = list(np.power(10.0, np.arange(-10, 10)))\n",
=======
    "#test_c_vals = np.linspace(1, 50, 900) # np.concatenate([np.power(10.0, np.arange(1, 15)), np.linspace(1, 9.99, 50)])\n",
    "test_c_vals = list(np.power(10.0, np.arange(0, 10)))\n",
>>>>>>> cd1a52549a9f0bdb42c7ba512fe1e253b7f9dc02
>>>>>>> 317e77eb73a30e6a314cd391b81c506690895d99
    "test_c_vals"
   ]
  },
  {
   "cell_type": "code",
<<<<<<< HEAD
   "execution_count": 928,
=======
<<<<<<< HEAD
   "execution_count": 928,
=======
   "execution_count": 854,
>>>>>>> cd1a52549a9f0bdb42c7ba512fe1e253b7f9dc02
>>>>>>> 317e77eb73a30e6a314cd391b81c506690895d99
   "metadata": {},
   "outputs": [],
   "source": [
    "score = np.empty_like(test_c_vals)"
   ]
  },
  {
   "cell_type": "code",
<<<<<<< HEAD
   "execution_count": 929,
=======
<<<<<<< HEAD
   "execution_count": 929,
=======
   "execution_count": 855,
>>>>>>> cd1a52549a9f0bdb42c7ba512fe1e253b7f9dc02
>>>>>>> 317e77eb73a30e6a314cd391b81c506690895d99
   "metadata": {},
   "outputs": [
    {
     "data": {
      "text/plain": [
<<<<<<< HEAD
=======
<<<<<<< HEAD
>>>>>>> 317e77eb73a30e6a314cd391b81c506690895d99
       "array([ 0.59700574,  0.59700574,  0.59700574,  0.59700574,  0.66591468,\n",
       "        0.84310911,  0.89745693,  0.90996719,  0.91058244,  0.91037736,\n",
       "        0.90996719,  0.90955701,  0.90955701,  0.90935193,  0.90873667,\n",
       "        0.90914684,  0.91099262,  0.90935193,  0.90996719,  0.91037736])"
<<<<<<< HEAD
      ]
     },
     "execution_count": 929,
=======
      ]
     },
     "execution_count": 929,
=======
       "array([ 0.90128577,  0.90128577,  0.90149316,  0.90107839,  0.9021153 ,\n",
       "        0.90128577,  0.90128577,  0.90170054,  0.90149316,  0.90128577])"
      ]
     },
     "execution_count": 855,
>>>>>>> cd1a52549a9f0bdb42c7ba512fe1e253b7f9dc02
>>>>>>> 317e77eb73a30e6a314cd391b81c506690895d99
     "metadata": {},
     "output_type": "execute_result"
    }
   ],
   "source": [
    "for c, i in enumerate(test_c_vals):\n",
    "    lg = LogisticRegression(penalty='l2', C=i)\n",
<<<<<<< HEAD
    "    lg.fit(X_train, y_train)\n",
=======
<<<<<<< HEAD
    "    lg.fit(X_train, y_train)\n",
=======
    "    lg.fit(X_test, y_test)\n",
>>>>>>> cd1a52549a9f0bdb42c7ba512fe1e253b7f9dc02
>>>>>>> 317e77eb73a30e6a314cd391b81c506690895d99
    "    score[c] = lg.score(X_test, y_test)\n",
    "score"
   ]
  },
  {
   "cell_type": "code",
<<<<<<< HEAD
   "execution_count": 930,
=======
<<<<<<< HEAD
   "execution_count": 930,
=======
   "execution_count": null,
>>>>>>> cd1a52549a9f0bdb42c7ba512fe1e253b7f9dc02
>>>>>>> 317e77eb73a30e6a314cd391b81c506690895d99
   "metadata": {
    "scrolled": false
   },
   "outputs": [
    {
     "name": "stderr",
     "output_type": "stream",
     "text": [
<<<<<<< HEAD
      "/Library/Frameworks/Python.framework/Versions/3.6/lib/python3.6/site-packages/scipy/optimize/linesearch.py:422: LineSearchWarning: Rounding errors prevent the line search from converging\n",
      "  warn(msg, LineSearchWarning)\n",
=======
<<<<<<< HEAD
      "/Library/Frameworks/Python.framework/Versions/3.6/lib/python3.6/site-packages/scipy/optimize/linesearch.py:422: LineSearchWarning: Rounding errors prevent the line search from converging\n",
      "  warn(msg, LineSearchWarning)\n",
=======
>>>>>>> cd1a52549a9f0bdb42c7ba512fe1e253b7f9dc02
>>>>>>> 317e77eb73a30e6a314cd391b81c506690895d99
      "/Library/Frameworks/Python.framework/Versions/3.6/lib/python3.6/site-packages/scipy/optimize/linesearch.py:313: LineSearchWarning: The line search algorithm did not converge\n",
      "  warn('The line search algorithm did not converge', LineSearchWarning)\n",
      "/Library/Frameworks/Python.framework/Versions/3.6/lib/python3.6/site-packages/sklearn/utils/optimize.py:195: UserWarning: Line Search failed\n",
      "  warnings.warn('Line Search failed')\n",
      "/Library/Frameworks/Python.framework/Versions/3.6/lib/python3.6/site-packages/scipy/optimize/linesearch.py:462: LineSearchWarning: The line search algorithm did not converge\n",
      "  warn('The line search algorithm did not converge', LineSearchWarning)\n"
     ]
    },
    {
     "data": {
      "text/plain": [
       "LogisticRegressionCV(Cs=[1e-10, 1.0000000000000001e-09, 1e-08, 9.9999999999999995e-08, 9.9999999999999995e-07, 1.0000000000000001e-05, 0.0001, 0.001, 0.01, 0.10000000000000001, 1.0, 10.0, 100.0, 1000.0, 10000.0, 100000.0, 1000000.0, 10000000.0, 100000000.0, 1000000000.0],\n",
       "           class_weight=None,\n",
       "           cv=KFold(n_splits=5, random_state=None, shuffle=True),\n",
       "           dual=False, fit_intercept=True, intercept_scaling=1.0,\n",
       "           max_iter=10000, multi_class='ovr', n_jobs=1, penalty='l2',\n",
       "           random_state=None, refit=True, scoring='roc_auc',\n",
       "           solver='newton-cg', tol=0.0001, verbose=0)"
      ]
     },
     "execution_count": 930,
     "metadata": {},
     "output_type": "execute_result"
    }
   ],
   "source": [
    "folds = KFold(n_splits=5, shuffle=True)\n",
<<<<<<< HEAD
=======
<<<<<<< HEAD
>>>>>>> 317e77eb73a30e6a314cd391b81c506690895d99
    "\n",
    "log_reg_cv = LogisticRegressionCV(Cs=test_c_vals, \n",
    "                                  cv=folds, \n",
    "                                  penalty=\"l2\", \n",
    "                                  scoring='roc_auc', \n",
    "                                  solver='newton-cg', \n",
    "                                  max_iter=10000)\n",
    "\n",
<<<<<<< HEAD
=======
=======
    "log_reg_cv = LogisticRegressionCV(test_c_vals, cv=folds, scoring='roc_auc', solver='newton-cg', max_iter=2500)\n",
>>>>>>> cd1a52549a9f0bdb42c7ba512fe1e253b7f9dc02
>>>>>>> 317e77eb73a30e6a314cd391b81c506690895d99
    "log_reg_cv.fit(train_df.drop('W', axis=1), train_df['W'])"
   ]
  },
  {
   "cell_type": "code",
<<<<<<< HEAD
   "execution_count": 931,
=======
<<<<<<< HEAD
   "execution_count": 931,
=======
   "execution_count": 842,
>>>>>>> cd1a52549a9f0bdb42c7ba512fe1e253b7f9dc02
>>>>>>> 317e77eb73a30e6a314cd391b81c506690895d99
   "metadata": {},
   "outputs": [],
   "source": [
    "cv_score = log_reg_cv.score(train_df.drop('W', axis=1), train_df['W'])"
<<<<<<< HEAD
=======
   ]
  },
  {
   "cell_type": "code",
   "execution_count": 932,
   "metadata": {},
   "outputs": [],
   "source": [
    "cv_c = log_reg_cv.C_"
>>>>>>> cd1a52549a9f0bdb42c7ba512fe1e253b7f9dc02
   ]
  },
  {
   "cell_type": "code",
<<<<<<< HEAD
   "execution_count": 932,
   "metadata": {},
   "outputs": [],
   "source": [
    "cv_c = log_reg_cv.C_"
   ]
  },
  {
   "cell_type": "code",
   "execution_count": 950,
<<<<<<< HEAD
=======
=======
   "execution_count": 844,
>>>>>>> cd1a52549a9f0bdb42c7ba512fe1e253b7f9dc02
>>>>>>> 317e77eb73a30e6a314cd391b81c506690895d99
   "metadata": {},
   "outputs": [
    {
     "data": {
      "text/plain": [
<<<<<<< HEAD
       "(array([ 0.1]), 0.90653130287648054)"
      ]
     },
     "execution_count": 950,
=======
<<<<<<< HEAD
       "(array([ 0.1]), 0.90653130287648054)"
      ]
     },
     "execution_count": 950,
=======
       "(array([ 0.01]), 0.90260762439258091)"
      ]
     },
     "execution_count": 844,
>>>>>>> cd1a52549a9f0bdb42c7ba512fe1e253b7f9dc02
>>>>>>> 317e77eb73a30e6a314cd391b81c506690895d99
     "metadata": {},
     "output_type": "execute_result"
    }
   ],
   "source": [
    "cv_c, cv_score"
   ]
  },
  {
   "cell_type": "code",
<<<<<<< HEAD
   "execution_count": 948,
=======
<<<<<<< HEAD
   "execution_count": 948,
=======
   "execution_count": 856,
>>>>>>> cd1a52549a9f0bdb42c7ba512fe1e253b7f9dc02
>>>>>>> 317e77eb73a30e6a314cd391b81c506690895d99
   "metadata": {},
   "outputs": [
    {
     "data": {
      "text/plain": [
<<<<<<< HEAD
       "<matplotlib.lines.Line2D at 0x197dd2898>"
      ]
     },
     "execution_count": 948,
=======
<<<<<<< HEAD
       "<matplotlib.lines.Line2D at 0x197dd2898>"
      ]
     },
     "execution_count": 948,
=======
       "[<matplotlib.lines.Line2D at 0x11d3eb518>]"
      ]
     },
     "execution_count": 856,
>>>>>>> cd1a52549a9f0bdb42c7ba512fe1e253b7f9dc02
>>>>>>> 317e77eb73a30e6a314cd391b81c506690895d99
     "metadata": {},
     "output_type": "execute_result"
    },
    {
     "data": {
<<<<<<< HEAD
      "image/png": "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\n",
=======
<<<<<<< HEAD
      "image/png": "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\n",
=======
      "image/png": "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\n",
>>>>>>> cd1a52549a9f0bdb42c7ba512fe1e253b7f9dc02
>>>>>>> 317e77eb73a30e6a314cd391b81c506690895d99
      "text/plain": [
       "<Figure size 432x288 with 1 Axes>"
      ]
     },
     "metadata": {},
     "output_type": "display_data"
    }
   ],
   "source": [
    "plt.plot(test_c_vals, score)\n",
<<<<<<< HEAD
=======
<<<<<<< HEAD
>>>>>>> 317e77eb73a30e6a314cd391b81c506690895d99
    "ax = plt.gca()\n",
    "ax.set_xscale('log')\n",
    "plt.axhline(cv_score, color='b',ls='--')\n",
    "plt.axvline(cv_c, color='r', ls='--')\n"
<<<<<<< HEAD
=======
=======
    "#plt.axhline(np.take(test_c_vals, np.argmax(score)), color='g', ls='--')\n",
    "#plt.axhline(cv_score, color='b',ls='--')\n",
    "#plt.axvline(cv_c, color='r', ls='--')"
>>>>>>> cd1a52549a9f0bdb42c7ba512fe1e253b7f9dc02
>>>>>>> 317e77eb73a30e6a314cd391b81c506690895d99
   ]
  },
  {
   "cell_type": "code",
<<<<<<< HEAD
   "execution_count": 913,
=======
<<<<<<< HEAD
   "execution_count": 913,
=======
   "execution_count": 857,
>>>>>>> cd1a52549a9f0bdb42c7ba512fe1e253b7f9dc02
   "metadata": {},
   "outputs": [
    {
     "data": {
      "text/plain": [
<<<<<<< HEAD
       "10.0"
      ]
     },
     "execution_count": 913,
     "metadata": {},
     "output_type": "execute_result"
    }
   ],
   "source": [
    "np.take(test_c_vals, np.argmax(score))"
   ]
  },
  {
   "cell_type": "code",
   "execution_count": 949,
>>>>>>> 317e77eb73a30e6a314cd391b81c506690895d99
   "metadata": {},
   "outputs": [
    {
     "data": {
      "text/plain": [
<<<<<<< HEAD
       "10.0"
      ]
     },
     "execution_count": 913,
=======
       "0.91099261689909761"
      ]
     },
     "execution_count": 949,
=======
       "10000.0"
      ]
     },
     "execution_count": 857,
>>>>>>> cd1a52549a9f0bdb42c7ba512fe1e253b7f9dc02
>>>>>>> 317e77eb73a30e6a314cd391b81c506690895d99
     "metadata": {},
     "output_type": "execute_result"
    }
   ],
   "source": [
<<<<<<< HEAD
=======
    "np.take(test_c_vals, np.argmax(score))"
   ]
  },
  {
   "cell_type": "code",
   "execution_count": 949,
   "metadata": {},
   "outputs": [
    {
     "data": {
      "text/plain": [
       "0.91099261689909761"
      ]
     },
     "execution_count": 949,
     "metadata": {},
     "output_type": "execute_result"
    }
   ],
   "source": [
>>>>>>> cd1a52549a9f0bdb42c7ba512fe1e253b7f9dc02
    "np.amax(score)"
   ]
  },
  {
   "cell_type": "code",
   "execution_count": null,
   "metadata": {},
   "outputs": [],
   "source": [
    "#score"
   ]
  },
  {
   "cell_type": "code",
   "execution_count": null,
   "metadata": {},
   "outputs": [],
   "source": []
  }
 ],
 "metadata": {
  "kernelspec": {
   "display_name": "Python 3",
   "language": "python",
   "name": "python3"
  },
  "language_info": {
   "codemirror_mode": {
    "name": "ipython",
    "version": 3
   },
   "file_extension": ".py",
   "mimetype": "text/x-python",
   "name": "python",
   "nbconvert_exporter": "python",
   "pygments_lexer": "ipython3",
   "version": "3.6.3"
  }
 },
 "nbformat": 4,
 "nbformat_minor": 2
}
