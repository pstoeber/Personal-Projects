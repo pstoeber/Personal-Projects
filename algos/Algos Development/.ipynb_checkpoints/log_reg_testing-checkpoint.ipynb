{
 "cells": [
  {
   "cell_type": "code",
   "execution_count": 819,
   "metadata": {},
   "outputs": [],
   "source": [
    "import numpy as np\n",
    "import pandas as pd\n",
    "import matplotlib.pyplot as plt\n",
    "import seaborn as sns\n",
    "import pymysql\n",
    "from sklearn.model_selection import train_test_split\n",
    "from sklearn.model_selection import KFold\n",
    "from sklearn.linear_model import LogisticRegression\n",
    "from sklearn.linear_model import LogisticRegressionCV\n",
    "from sklearn.metrics import confusion_matrix\n",
    "from sklearn.metrics import classification_report\n",
    "%matplotlib inline\n",
    "conn = pymysql.connect(host='localhost', user='root', password='Sk1ttles', db='nba_stats_prod')"
   ]
  },
  {
   "cell_type": "code",
   "execution_count": 981,
   "metadata": {},
   "outputs": [],
   "source": [
    "training_set = \"\"\"\n",
    "\n",
    "\n",
    "select adv.win_lose,\n",
    "       adv.game_length,\n",
    "    -- adv.ast_pct,\n",
    "       adv.ast_to_to,\n",
    "       adv.ast_ratio,\n",
    "    -- adv.offensive_reb_pct,\n",
    "       adv.defensive_reb_pct,\n",
    "       adv.reb_pct,\n",
    "       adv.to_pct,\n",
    "    -- adv.effective_fg_pct,\n",
    "       adv.ts_pct,\n",
    "       adv.pace,\n",
    "       fig.fta_rate,\n",
    "       fig.tov_pct,\n",
    "    -- fig.oreb_pct,\n",
    "    -- fig.opp_effective_fg_pct,\n",
    "    -- fig.opp_fta_rate,\n",
    "       fig.opp_tov_pct,\n",
    "       fig.opp_off_reb_pct,\n",
    "       misc.points_off_to,\n",
    "    -- misc.second_chance_pts,\n",
    "    -- misc.fbps,\n",
    "       misc.pts_in_paint,\n",
    "       misc.opp_pts_off_to,\n",
    "       misc.opp_second_chance_pts,\n",
    "    -- misc.opp_fbps,\n",
    "    -- misc.opp_pts_in_paint,\n",
    "       score.pct_2pt_fg,\n",
    "       score.pct_3pt_fg,\n",
    "       score.pct_pts_2pt,\n",
    "       score.pct_pts_2pt_mr,\n",
    "    -- score.pct_pts_3pt,\n",
    "       score.pct_pts_fbps,\n",
    "    -- score.pct_pts_ft,\n",
    "       score.pct_pts_off_to,\n",
    "    -- score.pct_pts_pitp,\n",
    "    -- score.2pt_fgm_ast_pct,\n",
    "    -- score.3pt_fgm_ast_pct,\n",
    "    -- score.3pt_fgm_uast_pct,\n",
    "    -- score.fgm_pct_ast,\n",
    "       score.fgm_pct_uast,\n",
    "       trad.fga,\n",
    "    -- trad.fg_pct,\n",
    "       trad.3pa,\n",
    "    -- trad.3p_pct,\n",
    "       trad.fta,\n",
    "    -- trad.ft_pct,\n",
    "       trad.oreb,\n",
    "       trad.dreb,\n",
    "       trad.tot_reb,\n",
    "       trad.ast,\n",
    "       trad.stl,\n",
    "       trad.blk,\n",
    "       trad.personal_fouls,\n",
    "    -- 3p.own_3pt_pct as tot_3pt_pct,\n",
    "    -- 3p.opp_3pt_pct as tot_opp_3pt_pct,\n",
    "       3p.ft_pct,\n",
    "    -- fg.own_fg_pct,\n",
    "    -- fg.opp_fg_pct,\n",
    "       pts.diff,\n",
    "       reb.off_reb,\n",
    "       reb.def_reb,\n",
    "       reb.tot_reb,\n",
    "       t.own_to,\n",
    "       t.opp_to,\n",
    "       stand.home_loses,\n",
    "       stand.home_wins,\n",
    "       stand.away_loses,\n",
    "       stand.away_wins,\n",
    "       opp_pts.opp_pts as opp_pts_allowed,\n",
    "       opp_pts.own_pts as opp_pts_scored\n",
    "from box_scores_map_view as b\n",
    "inner join(\n",
    "\n",
    "         select b.game_hash,\n",
    "                b.home_team,\n",
    "                lu.season,\n",
    "                h_team.team_id as home_id,\n",
    "                a_team.team_id as away_id\n",
    "         from box_score_map as b\n",
    "                inner join game_date_lookup as lu on b.game_date = lu.day\n",
    "                inner join team_info as h_team on b.home_team = h_team.team\n",
    "                inner join team_info as a_team on b.away_team = a_team.team\n",
    "         where b.game_date < current_date and\n",
    "               lu.season > 2005\n",
    "\n",
    "         ) as bm on ( (b.game_hash = bm.game_hash) and (b.team = bm.home_team) )\n",
    "\n",
    "inner join team_advanced_boxscore_stats as adv on ( (bm.home_team = adv.team) and (bm.game_hash = adv.game_hash) )\n",
    "inner join team_figure4_boxscore_stats as fig on ( (adv.team = fig.team) and (adv.game_hash = fig.game_hash) )\n",
    "inner join team_misc_boxscore_stats as misc on ( (fig.team = misc.team) and (fig.game_hash = misc.game_hash) )\n",
    "inner join team_scoring_boxscore_stats as score on ( (misc.team = score.team) and (misc.game_hash = score.game_hash) )\n",
    "inner join team_traditional_boxscore_stats as trad on ( (score.team = trad.team) and (score.game_hash = trad.game_hash) )\n",
    "inner join 3pt_pct as 3p on ( (bm.home_id = 3p.team_id) and (bm.season -1 = 3p.season) )\n",
    "inner join points as pts on ( (bm.home_id = pts.team_id) and (bm.season -1 = pts.season) )\n",
    "inner join rebound_pct as reb on ( (bm.home_id = reb.team_id) and (bm.season -1 = reb.season) )\n",
    "inner join turnovers as t on ( (bm.home_id = t.team_id) and (bm.season -1 = t.season) )\n",
    "inner join points as opp_pts on ( (bm.away_id = opp_pts.team_id) and (bm.season -1 = opp_pts.season) )\n",
    "inner join team_standings as stand on ( (bm.home_team = stand.team) and (bm.season = stand.season) )\n",
    "\n",
    "\"\"\""
   ]
  },
  {
   "cell_type": "code",
   "execution_count": null,
   "metadata": {},
   "outputs": [],
   "source": []
  },
  {
   "cell_type": "code",
   "execution_count": 996,
   "metadata": {},
   "outputs": [],
   "source": [
    "train_df = pd.read_sql(sql=training_set, con=conn, index_col=None)"
   ]
  },
  {
   "cell_type": "code",
   "execution_count": 997,
   "metadata": {},
   "outputs": [],
   "source": [
    "#test_df = pd.read_sql(sql=test_set, con=conn, index_col=None)"
   ]
  },
  {
   "cell_type": "code",
   "execution_count": 998,
   "metadata": {},
   "outputs": [],
   "source": [
    "def get_dummies(col):\n",
    "    return pd.get_dummies(col, drop_first=True)"
   ]
  },
  {
   "cell_type": "code",
   "execution_count": 999,
   "metadata": {},
   "outputs": [],
   "source": [
    "results_train = get_dummies(train_df['win_lose'])"
   ]
  },
  {
   "cell_type": "code",
   "execution_count": 1000,
   "metadata": {},
   "outputs": [],
   "source": [
    "train_df = pd.concat([train_df, results_train], axis=1)"
   ]
  },
  {
   "cell_type": "code",
   "execution_count": 1001,
   "metadata": {},
   "outputs": [],
   "source": [
    "#train_df.drop(['win_lose'], axis=1, inplace=True)"
   ]
  },
  {
   "cell_type": "code",
   "execution_count": 1002,
   "metadata": {},
   "outputs": [
    {
     "data": {
      "text/html": [
       "<div>\n",
       "<style scoped>\n",
       "    .dataframe tbody tr th:only-of-type {\n",
       "        vertical-align: middle;\n",
       "    }\n",
       "\n",
       "    .dataframe tbody tr th {\n",
       "        vertical-align: top;\n",
       "    }\n",
       "\n",
       "    .dataframe thead th {\n",
       "        text-align: right;\n",
       "    }\n",
       "</style>\n",
       "<table border=\"1\" class=\"dataframe\">\n",
       "  <thead>\n",
       "    <tr style=\"text-align: right;\">\n",
       "      <th></th>\n",
       "      <th>win_lose</th>\n",
       "      <th>game_length</th>\n",
       "      <th>ast_to_to</th>\n",
       "      <th>ast_ratio</th>\n",
       "      <th>defensive_reb_pct</th>\n",
       "      <th>reb_pct</th>\n",
       "      <th>to_pct</th>\n",
       "      <th>ts_pct</th>\n",
       "      <th>pace</th>\n",
       "      <th>fta_rate</th>\n",
       "      <th>...</th>\n",
       "      <th>tot_reb</th>\n",
       "      <th>own_to</th>\n",
       "      <th>opp_to</th>\n",
       "      <th>home_loses</th>\n",
       "      <th>home_wins</th>\n",
       "      <th>away_loses</th>\n",
       "      <th>away_wins</th>\n",
       "      <th>opp_pts_allowed</th>\n",
       "      <th>opp_pts_scored</th>\n",
       "      <th>W</th>\n",
       "    </tr>\n",
       "  </thead>\n",
       "  <tbody>\n",
       "    <tr>\n",
       "      <th>0</th>\n",
       "      <td>W</td>\n",
       "      <td>48</td>\n",
       "      <td>1.00</td>\n",
       "      <td>17.7</td>\n",
       "      <td>82.5</td>\n",
       "      <td>53.9</td>\n",
       "      <td>23.5</td>\n",
       "      <td>57.6</td>\n",
       "      <td>91.02</td>\n",
       "      <td>0.400</td>\n",
       "      <td>...</td>\n",
       "      <td>0.508</td>\n",
       "      <td>14.9</td>\n",
       "      <td>13.7</td>\n",
       "      <td>10</td>\n",
       "      <td>31</td>\n",
       "      <td>25</td>\n",
       "      <td>16</td>\n",
       "      <td>101.4</td>\n",
       "      <td>97.1</td>\n",
       "      <td>1</td>\n",
       "    </tr>\n",
       "    <tr>\n",
       "      <th>1</th>\n",
       "      <td>W</td>\n",
       "      <td>48</td>\n",
       "      <td>1.53</td>\n",
       "      <td>17.3</td>\n",
       "      <td>82.9</td>\n",
       "      <td>54.8</td>\n",
       "      <td>15.3</td>\n",
       "      <td>51.5</td>\n",
       "      <td>97.16</td>\n",
       "      <td>0.395</td>\n",
       "      <td>...</td>\n",
       "      <td>0.489</td>\n",
       "      <td>12.8</td>\n",
       "      <td>13.7</td>\n",
       "      <td>7</td>\n",
       "      <td>34</td>\n",
       "      <td>22</td>\n",
       "      <td>19</td>\n",
       "      <td>102.7</td>\n",
       "      <td>97.8</td>\n",
       "      <td>1</td>\n",
       "    </tr>\n",
       "    <tr>\n",
       "      <th>2</th>\n",
       "      <td>L</td>\n",
       "      <td>48</td>\n",
       "      <td>1.41</td>\n",
       "      <td>20.5</td>\n",
       "      <td>76.7</td>\n",
       "      <td>53.4</td>\n",
       "      <td>20.7</td>\n",
       "      <td>54.3</td>\n",
       "      <td>105.38</td>\n",
       "      <td>0.393</td>\n",
       "      <td>...</td>\n",
       "      <td>0.498</td>\n",
       "      <td>15.9</td>\n",
       "      <td>15.2</td>\n",
       "      <td>16</td>\n",
       "      <td>25</td>\n",
       "      <td>29</td>\n",
       "      <td>12</td>\n",
       "      <td>98.3</td>\n",
       "      <td>97.6</td>\n",
       "      <td>0</td>\n",
       "    </tr>\n",
       "    <tr>\n",
       "      <th>3</th>\n",
       "      <td>W</td>\n",
       "      <td>48</td>\n",
       "      <td>1.71</td>\n",
       "      <td>17.3</td>\n",
       "      <td>83.7</td>\n",
       "      <td>54.7</td>\n",
       "      <td>13.4</td>\n",
       "      <td>54.4</td>\n",
       "      <td>102.52</td>\n",
       "      <td>0.253</td>\n",
       "      <td>...</td>\n",
       "      <td>0.475</td>\n",
       "      <td>14.5</td>\n",
       "      <td>15.5</td>\n",
       "      <td>18</td>\n",
       "      <td>23</td>\n",
       "      <td>21</td>\n",
       "      <td>20</td>\n",
       "      <td>107.6</td>\n",
       "      <td>97.4</td>\n",
       "      <td>1</td>\n",
       "    </tr>\n",
       "    <tr>\n",
       "      <th>4</th>\n",
       "      <td>W</td>\n",
       "      <td>48</td>\n",
       "      <td>1.83</td>\n",
       "      <td>17.1</td>\n",
       "      <td>69.4</td>\n",
       "      <td>52.5</td>\n",
       "      <td>13.4</td>\n",
       "      <td>53.5</td>\n",
       "      <td>89.46</td>\n",
       "      <td>0.313</td>\n",
       "      <td>...</td>\n",
       "      <td>0.504</td>\n",
       "      <td>16.1</td>\n",
       "      <td>14.8</td>\n",
       "      <td>23</td>\n",
       "      <td>18</td>\n",
       "      <td>33</td>\n",
       "      <td>8</td>\n",
       "      <td>95.3</td>\n",
       "      <td>96.8</td>\n",
       "      <td>1</td>\n",
       "    </tr>\n",
       "  </tbody>\n",
       "</table>\n",
       "<p>5 rows × 48 columns</p>\n",
       "</div>"
      ],
      "text/plain": [
       "  win_lose  game_length  ast_to_to  ast_ratio  defensive_reb_pct  reb_pct  \\\n",
       "0        W           48       1.00       17.7               82.5     53.9   \n",
       "1        W           48       1.53       17.3               82.9     54.8   \n",
       "2        L           48       1.41       20.5               76.7     53.4   \n",
       "3        W           48       1.71       17.3               83.7     54.7   \n",
       "4        W           48       1.83       17.1               69.4     52.5   \n",
       "\n",
       "   to_pct  ts_pct    pace  fta_rate ...  tot_reb  own_to  opp_to  home_loses  \\\n",
       "0    23.5    57.6   91.02     0.400 ...    0.508    14.9    13.7          10   \n",
       "1    15.3    51.5   97.16     0.395 ...    0.489    12.8    13.7           7   \n",
       "2    20.7    54.3  105.38     0.393 ...    0.498    15.9    15.2          16   \n",
       "3    13.4    54.4  102.52     0.253 ...    0.475    14.5    15.5          18   \n",
       "4    13.4    53.5   89.46     0.313 ...    0.504    16.1    14.8          23   \n",
       "\n",
       "   home_wins  away_loses  away_wins  opp_pts_allowed  opp_pts_scored  W  \n",
       "0         31          25         16            101.4            97.1  1  \n",
       "1         34          22         19            102.7            97.8  1  \n",
       "2         25          29         12             98.3            97.6  0  \n",
       "3         23          21         20            107.6            97.4  1  \n",
       "4         18          33          8             95.3            96.8  1  \n",
       "\n",
       "[5 rows x 48 columns]"
      ]
     },
     "execution_count": 1002,
     "metadata": {},
     "output_type": "execute_result"
    }
   ],
   "source": [
    "train_df.head()\n",
    "#test_df.head()"
   ]
  },
  {
   "cell_type": "code",
   "execution_count": 989,
   "metadata": {},
   "outputs": [],
   "source": [
    "X_train, X_test, y_train, y_test = train_test_split(train_df.drop('W', axis=1), train_df['W'], test_size=.33)"
   ]
  },
  {
   "cell_type": "code",
   "execution_count": null,
   "metadata": {},
   "outputs": [],
   "source": []
  },
  {
   "cell_type": "code",
   "execution_count": null,
   "metadata": {},
   "outputs": [],
   "source": []
  },
  {
   "cell_type": "code",
   "execution_count": 990,
   "metadata": {},
   "outputs": [],
   "source": [
    "lg = LogisticRegression() #(penalty='l2', C=1.38383838)"
   ]
  },
  {
   "cell_type": "code",
   "execution_count": 991,
   "metadata": {},
   "outputs": [
    {
     "data": {
      "text/plain": [
       "LogisticRegression(C=1.0, class_weight=None, dual=False, fit_intercept=True,\n",
       "          intercept_scaling=1, max_iter=100, multi_class='ovr', n_jobs=1,\n",
       "          penalty='l2', random_state=None, solver='liblinear', tol=0.0001,\n",
       "          verbose=0, warm_start=False)"
      ]
     },
     "execution_count": 991,
     "metadata": {},
     "output_type": "execute_result"
    }
   ],
   "source": [
    "lg.fit(X_train, y_train) #(train_df.drop('W', axis=1), train_df['W']) "
   ]
  },
  {
   "cell_type": "code",
   "execution_count": 992,
   "metadata": {},
   "outputs": [],
   "source": [
    "predictions = lg.predict(X_test)"
   ]
  },
  {
   "cell_type": "code",
   "execution_count": 993,
   "metadata": {},
   "outputs": [
    {
     "data": {
      "text/plain": [
       "0.90607054963084499"
      ]
     },
     "execution_count": 993,
     "metadata": {},
     "output_type": "execute_result"
    }
   ],
   "source": [
    "lg.score(X_test, y_test)"
   ]
  },
  {
   "cell_type": "code",
   "execution_count": 994,
   "metadata": {},
   "outputs": [
    {
     "name": "stdout",
     "output_type": "stream",
     "text": [
      "[[1719  253]\n",
      " [ 205 2699]]\n"
     ]
    }
   ],
   "source": [
    "print(confusion_matrix(y_test, predictions))"
   ]
  },
  {
   "cell_type": "code",
   "execution_count": 995,
   "metadata": {},
   "outputs": [
    {
     "name": "stdout",
     "output_type": "stream",
     "text": [
      "             precision    recall  f1-score   support\n",
      "\n",
      "          0       0.89      0.87      0.88      1972\n",
      "          1       0.91      0.93      0.92      2904\n",
      "\n",
      "avg / total       0.91      0.91      0.91      4876\n",
      "\n"
     ]
    }
   ],
   "source": [
    "print(classification_report(y_test, predictions))"
   ]
  },
  {
   "cell_type": "code",
   "execution_count": 896,
   "metadata": {},
   "outputs": [
    {
     "data": {
      "text/html": [
       "<div>\n",
       "<style scoped>\n",
       "    .dataframe tbody tr th:only-of-type {\n",
       "        vertical-align: middle;\n",
       "    }\n",
       "\n",
       "    .dataframe tbody tr th {\n",
       "        vertical-align: top;\n",
       "    }\n",
       "\n",
       "    .dataframe thead th {\n",
       "        text-align: right;\n",
       "    }\n",
       "</style>\n",
       "<table border=\"1\" class=\"dataframe\">\n",
       "  <thead>\n",
       "    <tr style=\"text-align: right;\">\n",
       "      <th></th>\n",
       "      <th>0</th>\n",
       "    </tr>\n",
       "  </thead>\n",
       "  <tbody>\n",
       "    <tr>\n",
       "      <th>game_length</th>\n",
       "      <td>-0.684589</td>\n",
       "    </tr>\n",
       "    <tr>\n",
       "      <th>ast_to_to</th>\n",
       "      <td>-0.143590</td>\n",
       "    </tr>\n",
       "    <tr>\n",
       "      <th>ast_ratio</th>\n",
       "      <td>0.169045</td>\n",
       "    </tr>\n",
       "    <tr>\n",
       "      <th>defensive_reb_pct</th>\n",
       "      <td>-0.027907</td>\n",
       "    </tr>\n",
       "    <tr>\n",
       "      <th>reb_pct</th>\n",
       "      <td>0.194041</td>\n",
       "    </tr>\n",
       "    <tr>\n",
       "      <th>to_pct</th>\n",
       "      <td>-0.046398</td>\n",
       "    </tr>\n",
       "    <tr>\n",
       "      <th>ts_pct</th>\n",
       "      <td>0.500780</td>\n",
       "    </tr>\n",
       "    <tr>\n",
       "      <th>pace</th>\n",
       "      <td>-0.338896</td>\n",
       "    </tr>\n",
       "    <tr>\n",
       "      <th>fta_rate</th>\n",
       "      <td>-0.011142</td>\n",
       "    </tr>\n",
       "    <tr>\n",
       "      <th>tov_pct</th>\n",
       "      <td>-0.046398</td>\n",
       "    </tr>\n",
       "    <tr>\n",
       "      <th>opp_tov_pct</th>\n",
       "      <td>0.647705</td>\n",
       "    </tr>\n",
       "    <tr>\n",
       "      <th>opp_off_reb_pct</th>\n",
       "      <td>0.089863</td>\n",
       "    </tr>\n",
       "    <tr>\n",
       "      <th>points_off_to</th>\n",
       "      <td>0.209453</td>\n",
       "    </tr>\n",
       "    <tr>\n",
       "      <th>pts_in_paint</th>\n",
       "      <td>-0.044404</td>\n",
       "    </tr>\n",
       "    <tr>\n",
       "      <th>opp_pts_off_to</th>\n",
       "      <td>-0.090736</td>\n",
       "    </tr>\n",
       "    <tr>\n",
       "      <th>opp_second_chance_pts</th>\n",
       "      <td>-0.029266</td>\n",
       "    </tr>\n",
       "    <tr>\n",
       "      <th>pct_2pt_fg</th>\n",
       "      <td>-0.071661</td>\n",
       "    </tr>\n",
       "    <tr>\n",
       "      <th>pct_3pt_fg</th>\n",
       "      <td>-0.073315</td>\n",
       "    </tr>\n",
       "    <tr>\n",
       "      <th>pct_pts_2pt</th>\n",
       "      <td>0.001081</td>\n",
       "    </tr>\n",
       "    <tr>\n",
       "      <th>pct_pts_2pt_mr</th>\n",
       "      <td>-0.031564</td>\n",
       "    </tr>\n",
       "    <tr>\n",
       "      <th>pct_pts_fbps</th>\n",
       "      <td>-0.024678</td>\n",
       "    </tr>\n",
       "    <tr>\n",
       "      <th>pct_pts_off_to</th>\n",
       "      <td>-0.189973</td>\n",
       "    </tr>\n",
       "    <tr>\n",
       "      <th>fgm_pct_uast</th>\n",
       "      <td>0.025852</td>\n",
       "    </tr>\n",
       "    <tr>\n",
       "      <th>fga</th>\n",
       "      <td>0.173625</td>\n",
       "    </tr>\n",
       "    <tr>\n",
       "      <th>3pa</th>\n",
       "      <td>-0.048942</td>\n",
       "    </tr>\n",
       "    <tr>\n",
       "      <th>fta</th>\n",
       "      <td>0.113130</td>\n",
       "    </tr>\n",
       "    <tr>\n",
       "      <th>oreb</th>\n",
       "      <td>-0.184722</td>\n",
       "    </tr>\n",
       "    <tr>\n",
       "      <th>dreb</th>\n",
       "      <td>0.389764</td>\n",
       "    </tr>\n",
       "    <tr>\n",
       "      <th>tot_reb</th>\n",
       "      <td>0.205042</td>\n",
       "    </tr>\n",
       "    <tr>\n",
       "      <th>ast</th>\n",
       "      <td>0.012989</td>\n",
       "    </tr>\n",
       "    <tr>\n",
       "      <th>stl</th>\n",
       "      <td>-0.029797</td>\n",
       "    </tr>\n",
       "    <tr>\n",
       "      <th>blk</th>\n",
       "      <td>0.136470</td>\n",
       "    </tr>\n",
       "    <tr>\n",
       "      <th>personal_fouls</th>\n",
       "      <td>-0.099258</td>\n",
       "    </tr>\n",
       "    <tr>\n",
       "      <th>ft_pct</th>\n",
       "      <td>-0.230382</td>\n",
       "    </tr>\n",
       "    <tr>\n",
       "      <th>diff</th>\n",
       "      <td>0.018495</td>\n",
       "    </tr>\n",
       "    <tr>\n",
       "      <th>off_reb</th>\n",
       "      <td>0.079643</td>\n",
       "    </tr>\n",
       "    <tr>\n",
       "      <th>def_reb</th>\n",
       "      <td>-0.124872</td>\n",
       "    </tr>\n",
       "    <tr>\n",
       "      <th>tot_reb</th>\n",
       "      <td>-0.045825</td>\n",
       "    </tr>\n",
       "    <tr>\n",
       "      <th>own_to</th>\n",
       "      <td>0.089425</td>\n",
       "    </tr>\n",
       "    <tr>\n",
       "      <th>opp_to</th>\n",
       "      <td>-0.122214</td>\n",
       "    </tr>\n",
       "    <tr>\n",
       "      <th>home_loses</th>\n",
       "      <td>-0.205068</td>\n",
       "    </tr>\n",
       "    <tr>\n",
       "      <th>home_wins</th>\n",
       "      <td>-0.101244</td>\n",
       "    </tr>\n",
       "    <tr>\n",
       "      <th>away_loses</th>\n",
       "      <td>0.167404</td>\n",
       "    </tr>\n",
       "    <tr>\n",
       "      <th>away_wins</th>\n",
       "      <td>0.160727</td>\n",
       "    </tr>\n",
       "    <tr>\n",
       "      <th>opp_pts_allowed</th>\n",
       "      <td>0.037949</td>\n",
       "    </tr>\n",
       "    <tr>\n",
       "      <th>opp_pts_scored</th>\n",
       "      <td>-0.093276</td>\n",
       "    </tr>\n",
       "  </tbody>\n",
       "</table>\n",
       "</div>"
      ],
      "text/plain": [
       "                              0\n",
       "game_length           -0.684589\n",
       "ast_to_to             -0.143590\n",
       "ast_ratio              0.169045\n",
       "defensive_reb_pct     -0.027907\n",
       "reb_pct                0.194041\n",
       "to_pct                -0.046398\n",
       "ts_pct                 0.500780\n",
       "pace                  -0.338896\n",
       "fta_rate              -0.011142\n",
       "tov_pct               -0.046398\n",
       "opp_tov_pct            0.647705\n",
       "opp_off_reb_pct        0.089863\n",
       "points_off_to          0.209453\n",
       "pts_in_paint          -0.044404\n",
       "opp_pts_off_to        -0.090736\n",
       "opp_second_chance_pts -0.029266\n",
       "pct_2pt_fg            -0.071661\n",
       "pct_3pt_fg            -0.073315\n",
       "pct_pts_2pt            0.001081\n",
       "pct_pts_2pt_mr        -0.031564\n",
       "pct_pts_fbps          -0.024678\n",
       "pct_pts_off_to        -0.189973\n",
       "fgm_pct_uast           0.025852\n",
       "fga                    0.173625\n",
       "3pa                   -0.048942\n",
       "fta                    0.113130\n",
       "oreb                  -0.184722\n",
       "dreb                   0.389764\n",
       "tot_reb                0.205042\n",
       "ast                    0.012989\n",
       "stl                   -0.029797\n",
       "blk                    0.136470\n",
       "personal_fouls        -0.099258\n",
       "ft_pct                -0.230382\n",
       "diff                   0.018495\n",
       "off_reb                0.079643\n",
       "def_reb               -0.124872\n",
       "tot_reb               -0.045825\n",
       "own_to                 0.089425\n",
       "opp_to                -0.122214\n",
       "home_loses            -0.205068\n",
       "home_wins             -0.101244\n",
       "away_loses             0.167404\n",
       "away_wins              0.160727\n",
       "opp_pts_allowed        0.037949\n",
       "opp_pts_scored        -0.093276"
      ]
     },
     "execution_count": 896,
     "metadata": {},
     "output_type": "execute_result"
    }
   ],
   "source": [
    "pd.DataFrame(lg.coef_, columns=X_test.columns).T"
   ]
  },
  {
   "cell_type": "code",
   "execution_count": 897,
   "metadata": {
    "scrolled": false
   },
   "outputs": [],
   "source": [
    "#lg.fit(train_df.drop('W', axis=1), train_df['W'] )"
   ]
  },
  {
   "cell_type": "code",
   "execution_count": 898,
   "metadata": {},
   "outputs": [],
   "source": [
    "#predictions = lg.predict(test_df.drop('W', axis=1))"
   ]
  },
  {
   "cell_type": "code",
   "execution_count": 899,
   "metadata": {},
   "outputs": [],
   "source": [
    "#print(confusion_matrix(test_df['W'], predictions))"
   ]
  },
  {
   "cell_type": "code",
   "execution_count": 900,
   "metadata": {},
   "outputs": [],
   "source": [
    "#print(classification_report(test_df['W'], predictions))"
   ]
  },
  {
   "cell_type": "code",
   "execution_count": 901,
   "metadata": {},
   "outputs": [],
   "source": [
    "#sns.pairplot(test_df)"
   ]
  },
  {
   "cell_type": "code",
   "execution_count": 902,
   "metadata": {},
   "outputs": [],
   "source": [
    "#print(lg.coef_)"
   ]
  },
  {
   "cell_type": "code",
   "execution_count": 903,
   "metadata": {},
   "outputs": [],
   "source": [
    "#col = train_df.drop('W', axis=1)\n",
    "#col.columns"
   ]
  },
  {
   "cell_type": "code",
   "execution_count": 904,
   "metadata": {},
   "outputs": [],
   "source": [
    "#pd.DataFrame(lg.coef_, columns=train_df.drop('W', axis=1).columns).T"
   ]
  },
  {
   "cell_type": "code",
   "execution_count": 808,
   "metadata": {},
   "outputs": [],
   "source": [
    "#list(np.concatenate([np.power(10.0, np.arange(1, 15)), np.linspace(1, 9.99, 50)]))"
   ]
  },
  {
   "cell_type": "code",
   "execution_count": 924,
   "metadata": {},
   "outputs": [
    {
     "data": {
      "text/plain": [
       "[1e-10,\n",
       " 1.0000000000000001e-09,\n",
       " 1e-08,\n",
       " 9.9999999999999995e-08,\n",
       " 9.9999999999999995e-07,\n",
       " 1.0000000000000001e-05,\n",
       " 0.0001,\n",
       " 0.001,\n",
       " 0.01,\n",
       " 0.10000000000000001,\n",
       " 1.0,\n",
       " 10.0,\n",
       " 100.0,\n",
       " 1000.0,\n",
       " 10000.0,\n",
       " 100000.0,\n",
       " 1000000.0,\n",
       " 10000000.0,\n",
       " 100000000.0,\n",
       " 1000000000.0]"
      ]
     },
     "execution_count": 924,
     "metadata": {},
     "output_type": "execute_result"
    }
   ],
   "source": [
    "#test_c_vals = np.linspace(5, 25, 40) # np.concatenate([np.power(10.0, np.arange(1, 15)), np.linspace(1, 9.99, 50)])\n",
    "test_c_vals = list(np.power(10.0, np.arange(-10, 10)))\n",
    "test_c_vals"
   ]
  },
  {
   "cell_type": "code",
   "execution_count": 928,
   "metadata": {},
   "outputs": [],
   "source": [
    "score = np.empty_like(test_c_vals)"
   ]
  },
  {
   "cell_type": "code",
   "execution_count": 929,
   "metadata": {},
   "outputs": [
    {
     "data": {
      "text/plain": [
       "array([ 0.59700574,  0.59700574,  0.59700574,  0.59700574,  0.66591468,\n",
       "        0.84310911,  0.89745693,  0.90996719,  0.91058244,  0.91037736,\n",
       "        0.90996719,  0.90955701,  0.90955701,  0.90935193,  0.90873667,\n",
       "        0.90914684,  0.91099262,  0.90935193,  0.90996719,  0.91037736])"
      ]
     },
     "execution_count": 929,
     "metadata": {},
     "output_type": "execute_result"
    }
   ],
   "source": [
    "for c, i in enumerate(test_c_vals):\n",
    "    lg = LogisticRegression(penalty='l2', C=i)\n",
    "    lg.fit(X_train, y_train)\n",
    "    score[c] = lg.score(X_test, y_test)\n",
    "score"
   ]
  },
  {
   "cell_type": "code",
   "execution_count": 930,
   "metadata": {
    "scrolled": false
   },
   "outputs": [
    {
     "name": "stderr",
     "output_type": "stream",
     "text": [
      "/Library/Frameworks/Python.framework/Versions/3.6/lib/python3.6/site-packages/scipy/optimize/linesearch.py:422: LineSearchWarning: Rounding errors prevent the line search from converging\n",
      "  warn(msg, LineSearchWarning)\n",
      "/Library/Frameworks/Python.framework/Versions/3.6/lib/python3.6/site-packages/scipy/optimize/linesearch.py:313: LineSearchWarning: The line search algorithm did not converge\n",
      "  warn('The line search algorithm did not converge', LineSearchWarning)\n",
      "/Library/Frameworks/Python.framework/Versions/3.6/lib/python3.6/site-packages/sklearn/utils/optimize.py:195: UserWarning: Line Search failed\n",
      "  warnings.warn('Line Search failed')\n",
      "/Library/Frameworks/Python.framework/Versions/3.6/lib/python3.6/site-packages/scipy/optimize/linesearch.py:462: LineSearchWarning: The line search algorithm did not converge\n",
      "  warn('The line search algorithm did not converge', LineSearchWarning)\n"
     ]
    },
    {
     "data": {
      "text/plain": [
       "LogisticRegressionCV(Cs=[1e-10, 1.0000000000000001e-09, 1e-08, 9.9999999999999995e-08, 9.9999999999999995e-07, 1.0000000000000001e-05, 0.0001, 0.001, 0.01, 0.10000000000000001, 1.0, 10.0, 100.0, 1000.0, 10000.0, 100000.0, 1000000.0, 10000000.0, 100000000.0, 1000000000.0],\n",
       "           class_weight=None,\n",
       "           cv=KFold(n_splits=5, random_state=None, shuffle=True),\n",
       "           dual=False, fit_intercept=True, intercept_scaling=1.0,\n",
       "           max_iter=10000, multi_class='ovr', n_jobs=1, penalty='l2',\n",
       "           random_state=None, refit=True, scoring='roc_auc',\n",
       "           solver='newton-cg', tol=0.0001, verbose=0)"
      ]
     },
     "execution_count": 930,
     "metadata": {},
     "output_type": "execute_result"
    }
   ],
   "source": [
    "folds = KFold(n_splits=5, shuffle=True)\n",
    "\n",
    "log_reg_cv = LogisticRegressionCV(Cs=test_c_vals, \n",
    "                                  cv=folds, \n",
    "                                  penalty=\"l2\", \n",
    "                                  scoring='roc_auc', \n",
    "                                  solver='newton-cg', \n",
    "                                  max_iter=10000)\n",
    "\n",
    "log_reg_cv.fit(train_df.drop('W', axis=1), train_df['W'])"
   ]
  },
  {
   "cell_type": "code",
   "execution_count": 931,
   "metadata": {},
   "outputs": [],
   "source": [
    "cv_score = log_reg_cv.score(train_df.drop('W', axis=1), train_df['W'])"
   ]
  },
  {
   "cell_type": "code",
   "execution_count": 932,
   "metadata": {},
   "outputs": [],
   "source": [
    "cv_c = log_reg_cv.C_"
   ]
  },
  {
   "cell_type": "code",
   "execution_count": 950,
   "metadata": {},
   "outputs": [
    {
     "data": {
      "text/plain": [
       "(array([ 0.1]), 0.90653130287648054)"
      ]
     },
     "execution_count": 950,
     "metadata": {},
     "output_type": "execute_result"
    }
   ],
   "source": [
    "cv_c, cv_score"
   ]
  },
  {
   "cell_type": "code",
   "execution_count": 948,
   "metadata": {},
   "outputs": [
    {
     "data": {
      "text/plain": [
       "<matplotlib.lines.Line2D at 0x197dd2898>"
      ]
     },
     "execution_count": 948,
     "metadata": {},
     "output_type": "execute_result"
    },
    {
     "data": {
      "image/png": "[encoded data removed]",
      "text/plain": [
       "<Figure size 432x288 with 1 Axes>"
      ]
     },
     "metadata": {},
     "output_type": "display_data"
    }
   ],
   "source": [
    "plt.plot(test_c_vals, score)\n",
    "ax = plt.gca()\n",
    "ax.set_xscale('log')\n",
    "plt.axhline(cv_score, color='b',ls='--')\n",
    "plt.axvline(cv_c, color='r', ls='--')\n"
   ]
  },
  {
   "cell_type": "code",
   "execution_count": 913,
   "metadata": {},
   "outputs": [
    {
     "data": {
      "text/plain": [
       "10.0"
      ]
     },
     "execution_count": 913,
     "metadata": {},
     "output_type": "execute_result"
    }
   ],
   "source": [
    "np.take(test_c_vals, np.argmax(score))"
   ]
  },
  {
   "cell_type": "code",
   "execution_count": 949,
   "metadata": {},
   "outputs": [
    {
     "data": {
      "text/plain": [
       "0.91099261689909761"
      ]
     },
     "execution_count": 949,
     "metadata": {},
     "output_type": "execute_result"
    }
   ],
   "source": [
    "np.amax(score)"
   ]
  },
  {
   "cell_type": "code",
   "execution_count": null,
   "metadata": {},
   "outputs": [],
   "source": [
    "#score"
   ]
  },
  {
   "cell_type": "code",
   "execution_count": null,
   "metadata": {},
   "outputs": [],
   "source": []
  }
 ],
 "metadata": {
  "kernelspec": {
   "display_name": "Python 3",
   "language": "python",
   "name": "python3"
  },
  "language_info": {
   "codemirror_mode": {
    "name": "ipython",
    "version": 3
   },
   "file_extension": ".py",
   "mimetype": "text/x-python",
   "name": "python",
   "nbconvert_exporter": "python",
   "pygments_lexer": "ipython3",
   "version": "3.6.3"
  }
 },
 "nbformat": 4,
 "nbformat_minor": 2
}
