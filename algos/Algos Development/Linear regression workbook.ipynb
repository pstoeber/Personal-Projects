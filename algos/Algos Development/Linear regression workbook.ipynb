{
 "cells": [
  {
   "cell_type": "code",
   "execution_count": 57,
   "metadata": {},
   "outputs": [],
   "source": [
    "import numpy as np\n",
    "import pandas as pd\n",
    "import pymysql\n",
    "import datetime\n",
    "import matplotlib.pyplot as plt\n",
    "import seaborn as sns\n",
    "import sys\n",
    "import requests\n",
    "import itertools\n",
    "#from bs4 import BeautifulSoup\n",
    "from selenium import webdriver\n",
    "from selenium.webdriver.chrome.options import Options\n",
    "from sklearn.model_selection import train_test_split\n",
    "from sklearn.linear_model import LinearRegression\n",
    "from sklearn.linear_model import LogisticRegression\n",
    "%matplotlib inline"
   ]
  },
  {
   "cell_type": "code",
   "execution_count": 58,
   "metadata": {},
   "outputs": [],
   "source": [
    "conn = pymysql.connect(host='localhost', user='root', password='Sk1ttles', db='nba_stats_prod', autocommit=True)"
   ]
  },
  {
   "cell_type": "code",
   "execution_count": 98,
   "metadata": {},
   "outputs": [],
   "source": [
    "train = \"\"\"\n",
    "\n",
    "select play.player_id,\n",
    "       box_view.team,\n",
    "       box_view.game_hash,\n",
    "       box_view.game_date,\n",
    "       box_view.home_away,\n",
    "       basic.minutes_played,\n",
    "       basic.fg,\n",
    "       basic.fga,\n",
    "      -- basic.fg_pct,\n",
    "       basic.3p,\n",
    "       basic.3pa,\n",
    "      -- basic.3p_pct,\n",
    "       basic.ft,\n",
    "      -- basic.ft_pct,\n",
    "       basic.orb,\n",
    "      -- basic.drb,\n",
    "       basic.trb,\n",
    "       basic.ast,\n",
    "       basic.stl,\n",
    "       basic.blk,\n",
    "      -- basic.tov,\n",
    "       basic.pf,\n",
    "      -- adv.true_shooting_pct,\n",
    "       adv.effective_fg_pct,\n",
    "       adv.3P_attempt_rate,\n",
    "       adv.FT_attempt_rate,\n",
    "       adv.offensive_reb_rate,\n",
    "      -- adv.defensive_reb_rate,\n",
    "       adv.total_reb_pct,\n",
    "       adv.assist_pct,\n",
    "       adv.steal_pct,\n",
    "       adv.block_pct,\n",
    "       adv.turnover_pct,\n",
    "       adv.usage_pct,\n",
    "       a_stats.pace,\n",
    "      -- adv.offensive_rating,\n",
    "      -- adv.defensive_rating,\n",
    "       basic.pts\n",
    "from (\n",
    "\n",
    "    select m.game_hash, m.team, m.game_date, m.home_away, lu.season\n",
    "    from box_scores_map_view as m\n",
    "    inner join game_date_lookup as lu on m.game_date = lu.day\n",
    "    where m.game_date < current_date and\n",
    "          lu.season > 2010\n",
    "    order by game_date desc\n",
    "\n",
    "         ) as box_view\n",
    "inner join player_team_map as play_m on ( (box_view.team = play_m.team) and (\n",
    "        box_view.season = play_m.season) )\n",
    "inner join basic_box_stats as basic on ( (box_view.game_hash = basic.game_hash) and (\n",
    "        play_m.player_id = basic.player_id) )\n",
    "inner join advanced_box_stats as adv on ( (box_view.game_hash = adv.game_hash) and (\n",
    "        play_m.player_id = adv.player_id) )\n",
    "inner join team_advanced_boxscore_stats as a_stats on ( (box_view.game_hash = a_stats.game_hash) and (box_view.team = a_stats.team) )\n",
    "inner join player_info as play on play_m.player_id = play.player_id\n",
    "order by box_view.game_date desc;\n",
    "\n",
    "\n",
    "\"\"\""
   ]
  },
  {
   "cell_type": "code",
   "execution_count": 99,
   "metadata": {},
   "outputs": [],
   "source": [
    "df = pd.read_sql(sql=train, con=conn, index_col=None)"
   ]
  },
  {
   "cell_type": "code",
   "execution_count": null,
   "metadata": {},
   "outputs": [],
   "source": []
  },
  {
   "cell_type": "code",
   "execution_count": 75,
   "metadata": {},
   "outputs": [],
   "source": [
    "def time_convert(minutes_played):\n",
    "    time_list = minutes_played.split(':')\n",
    "    try:\n",
    "        return ((int(time_list[0]) * 60) + int(time_list[1]))\n",
    "    except ValueError:\n",
    "        return 0"
   ]
  },
  {
   "cell_type": "code",
   "execution_count": 76,
   "metadata": {},
   "outputs": [],
   "source": [
    "def concat_drop(df, dummy_var_col, drop_list):\n",
    "    for field in dummy_var_col:\n",
    "        df = pd.concat([df, gen_dummby_var(df, field)], axis=1)\n",
    "    df.drop(drop_list, axis=1, inplace=True)\n",
    "    return df"
   ]
  },
  {
   "cell_type": "code",
   "execution_count": 77,
   "metadata": {},
   "outputs": [],
   "source": [
    "def gen_dummby_var(df, column):\n",
    "    return pd.get_dummies(df[column], drop_first=True)"
   ]
  },
  {
   "cell_type": "code",
   "execution_count": null,
   "metadata": {},
   "outputs": [],
   "source": []
  },
  {
   "cell_type": "code",
   "execution_count": 100,
   "metadata": {},
   "outputs": [],
   "source": [
    "df.loc[:, 'minutes_played'] = df.loc[:, 'minutes_played'].apply(time_convert)"
   ]
  },
  {
   "cell_type": "code",
   "execution_count": 101,
   "metadata": {},
   "outputs": [],
   "source": [
    "clean_df = concat_drop(df[df['minutes_played'] >= 600], ['home_away'], ['player_id', 'team', 'game_hash', 'game_date', 'home_away', 'fg', '3p', 'ft'])"
   ]
  },
  {
   "cell_type": "code",
   "execution_count": 102,
   "metadata": {},
   "outputs": [],
   "source": [
    "X_train, X_test, y_train, y_test = train_test_split(clean_df.loc[:, 'minutes_played':'pace'], clean_df.loc[:, 'pts'], test_size=.33)"
   ]
  },
  {
   "cell_type": "code",
   "execution_count": 103,
   "metadata": {},
   "outputs": [],
   "source": [
    "lm = LinearRegression()"
   ]
  },
  {
   "cell_type": "code",
   "execution_count": 104,
   "metadata": {},
   "outputs": [
    {
     "data": {
      "text/plain": [
       "LinearRegression(copy_X=True, fit_intercept=True, n_jobs=1, normalize=False)"
      ]
     },
     "execution_count": 104,
     "metadata": {},
     "output_type": "execute_result"
    }
   ],
   "source": [
    "lm.fit(X_train, y_train)"
   ]
  },
  {
   "cell_type": "code",
   "execution_count": 105,
   "metadata": {},
   "outputs": [],
   "source": [
    "predictions = lm.predict(X_test)"
   ]
  },
  {
   "cell_type": "code",
   "execution_count": null,
   "metadata": {},
   "outputs": [],
   "source": []
  },
  {
   "cell_type": "code",
   "execution_count": null,
   "metadata": {},
   "outputs": [],
   "source": []
  },
  {
   "cell_type": "code",
   "execution_count": 106,
   "metadata": {},
   "outputs": [
    {
     "data": {
      "text/plain": [
       "Text(0,0.5,'Predicted Y')"
      ]
     },
     "execution_count": 106,
     "metadata": {},
     "output_type": "execute_result"
    },
    {
     "data": {
      "image/png": "[encoded data removed]",
      "text/plain": [
       "<Figure size 432x288 with 1 Axes>"
      ]
     },
     "metadata": {},
     "output_type": "display_data"
    }
   ],
   "source": [
    "plt.scatter(y_test,predictions)\n",
    "plt.xlabel('Y Test')\n",
    "plt.ylabel('Predicted Y')"
   ]
  },
  {
   "cell_type": "code",
   "execution_count": 107,
   "metadata": {},
   "outputs": [
    {
     "data": {
      "image/png": "[encoded data removed]",
      "text/plain": [
       "<Figure size 432x288 with 1 Axes>"
      ]
     },
     "metadata": {},
     "output_type": "display_data"
    }
   ],
   "source": [
    "sns.distplot((y_test-predictions),bins=50);"
   ]
  },
  {
   "cell_type": "code",
   "execution_count": 108,
   "metadata": {},
   "outputs": [
    {
     "data": {
      "text/html": [
       "<div>\n",
       "<style scoped>\n",
       "    .dataframe tbody tr th:only-of-type {\n",
       "        vertical-align: middle;\n",
       "    }\n",
       "\n",
       "    .dataframe tbody tr th {\n",
       "        vertical-align: top;\n",
       "    }\n",
       "\n",
       "    .dataframe thead th {\n",
       "        text-align: right;\n",
       "    }\n",
       "</style>\n",
       "<table border=\"1\" class=\"dataframe\">\n",
       "  <thead>\n",
       "    <tr style=\"text-align: right;\">\n",
       "      <th></th>\n",
       "      <th>Coeffecient</th>\n",
       "    </tr>\n",
       "  </thead>\n",
       "  <tbody>\n",
       "    <tr>\n",
       "      <th>minutes_played</th>\n",
       "      <td>0.001762</td>\n",
       "    </tr>\n",
       "    <tr>\n",
       "      <th>fga</th>\n",
       "      <td>0.949360</td>\n",
       "    </tr>\n",
       "    <tr>\n",
       "      <th>3pa</th>\n",
       "      <td>0.117643</td>\n",
       "    </tr>\n",
       "    <tr>\n",
       "      <th>orb</th>\n",
       "      <td>-0.237799</td>\n",
       "    </tr>\n",
       "    <tr>\n",
       "      <th>trb</th>\n",
       "      <td>0.059818</td>\n",
       "    </tr>\n",
       "    <tr>\n",
       "      <th>ast</th>\n",
       "      <td>-0.140570</td>\n",
       "    </tr>\n",
       "    <tr>\n",
       "      <th>stl</th>\n",
       "      <td>0.171946</td>\n",
       "    </tr>\n",
       "    <tr>\n",
       "      <th>blk</th>\n",
       "      <td>0.093284</td>\n",
       "    </tr>\n",
       "    <tr>\n",
       "      <th>pf</th>\n",
       "      <td>-0.023740</td>\n",
       "    </tr>\n",
       "    <tr>\n",
       "      <th>effective_fg_pct</th>\n",
       "      <td>10.913256</td>\n",
       "    </tr>\n",
       "    <tr>\n",
       "      <th>3P_attempt_rate</th>\n",
       "      <td>-0.532938</td>\n",
       "    </tr>\n",
       "    <tr>\n",
       "      <th>FT_attempt_rate</th>\n",
       "      <td>2.491302</td>\n",
       "    </tr>\n",
       "    <tr>\n",
       "      <th>offensive_reb_rate</th>\n",
       "      <td>0.030866</td>\n",
       "    </tr>\n",
       "    <tr>\n",
       "      <th>total_reb_pct</th>\n",
       "      <td>-0.006126</td>\n",
       "    </tr>\n",
       "    <tr>\n",
       "      <th>assist_pct</th>\n",
       "      <td>0.028672</td>\n",
       "    </tr>\n",
       "    <tr>\n",
       "      <th>steal_pct</th>\n",
       "      <td>-0.078790</td>\n",
       "    </tr>\n",
       "    <tr>\n",
       "      <th>block_pct</th>\n",
       "      <td>-0.021905</td>\n",
       "    </tr>\n",
       "    <tr>\n",
       "      <th>turnover_pct</th>\n",
       "      <td>-0.005162</td>\n",
       "    </tr>\n",
       "    <tr>\n",
       "      <th>usage_pct</th>\n",
       "      <td>0.112533</td>\n",
       "    </tr>\n",
       "    <tr>\n",
       "      <th>pace</th>\n",
       "      <td>0.032422</td>\n",
       "    </tr>\n",
       "  </tbody>\n",
       "</table>\n",
       "</div>"
      ],
      "text/plain": [
       "                    Coeffecient\n",
       "minutes_played         0.001762\n",
       "fga                    0.949360\n",
       "3pa                    0.117643\n",
       "orb                   -0.237799\n",
       "trb                    0.059818\n",
       "ast                   -0.140570\n",
       "stl                    0.171946\n",
       "blk                    0.093284\n",
       "pf                    -0.023740\n",
       "effective_fg_pct      10.913256\n",
       "3P_attempt_rate       -0.532938\n",
       "FT_attempt_rate        2.491302\n",
       "offensive_reb_rate     0.030866\n",
       "total_reb_pct         -0.006126\n",
       "assist_pct             0.028672\n",
       "steal_pct             -0.078790\n",
       "block_pct             -0.021905\n",
       "turnover_pct          -0.005162\n",
       "usage_pct              0.112533\n",
       "pace                   0.032422"
      ]
     },
     "execution_count": 108,
     "metadata": {},
     "output_type": "execute_result"
    }
   ],
   "source": [
    "coeffecients = pd.DataFrame(lm.coef_,X_test.columns)\n",
    "coeffecients.columns = ['Coeffecient']\n",
    "coeffecients"
   ]
  },
  {
   "cell_type": "code",
   "execution_count": 109,
   "metadata": {},
   "outputs": [
    {
     "data": {
      "text/plain": [
       "0.88525425457017959"
      ]
     },
     "execution_count": 109,
     "metadata": {},
     "output_type": "execute_result"
    }
   ],
   "source": [
    "lm.score(X_test, y_test)"
   ]
  },
  {
   "cell_type": "code",
   "execution_count": null,
   "metadata": {},
   "outputs": [],
   "source": []
  }
 ],
 "metadata": {
  "kernelspec": {
   "display_name": "Python 3",
   "language": "python",
   "name": "python3"
  },
  "language_info": {
   "codemirror_mode": {
    "name": "ipython",
    "version": 3
   },
   "file_extension": ".py",
   "mimetype": "text/x-python",
   "name": "python",
   "nbconvert_exporter": "python",
   "pygments_lexer": "ipython3",
   "version": "3.6.3"
  }
 },
 "nbformat": 4,
 "nbformat_minor": 2
}
