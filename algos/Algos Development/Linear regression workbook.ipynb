{
 "cells": [
  {
   "cell_type": "code",
   "execution_count": 1,
   "metadata": {},
   "outputs": [],
   "source": [
    "import numpy as np\n",
    "import pandas as pd\n",
    "import pymysql\n",
    "import datetime\n",
    "import matplotlib.pyplot as plt\n",
    "import seaborn as sns\n",
    "import sys\n",
    "import requests\n",
    "import itertools\n",
    "from sklearn import metrics\n",
    "from sklearn.model_selection import train_test_split\n",
    "from sklearn.linear_model import LinearRegression\n",
    "from sklearn.linear_model import Lasso\n",
    "from sklearn.linear_model import LassoCV\n",
    "from sklearn.linear_model import LogisticRegression\n",
    "%matplotlib inline"
   ]
  },
  {
   "cell_type": "code",
   "execution_count": 2,
   "metadata": {},
   "outputs": [],
   "source": [
    "conn = pymysql.connect(host='localhost', user='root', password='Sk1ttles', db='nba_stats_prod', autocommit=True)"
   ]
  },
  {
   "cell_type": "code",
   "execution_count": 614,
   "metadata": {},
   "outputs": [],
   "source": [
    "train = \"\"\"\n",
    "\n",
    "select basic.player_id,\n",
    "       box_view.team,\n",
    "       box_view.game_hash,\n",
    "       box_view.game_date,\n",
    "       basic.pts,\n",
    "       basic.minutes_played,\n",
    "       basic.fga,\n",
    "       basic.3pa,\n",
    "       basic.orb,\n",
    "       basic.trb,\n",
    "       basic.ast,\n",
    "       basic.stl,\n",
    "       basic.blk,\n",
    "       basic.tov,\n",
    "       basic.pf,\n",
    "       adv.turnover_pct,\n",
    "       adv.usage_pct,\n",
    "       a_stats.pace,\n",
    "       a_stats.pie,\n",
    "       adv.offensive_rating,\n",
    "       adv.defensive_rating,\n",
    "       p_score.pct_2pt_fga,\n",
    "       p_score.pct_3pt_fga,\n",
    "       p_score.pct_pts_fbps,\n",
    "       p_score.pct_pts_ft,\n",
    "       p_score.pct_pts_off_to,\n",
    "       p_usg.pct_fga,\n",
    "       p_usg.pct_3pa,\n",
    "       p_usg.pct_fta,\n",
    "       p_usg.pct_stl,\n",
    "       reg_avg.fg_a as tot_fg_a,\n",
    "       reg_avg.3p_a as tot_3p_a,\n",
    "       reg_avg.ft_a as tot_ft_a,\n",
    "       reg_avg.reb as tot_reb,\n",
    "       reg_avg.ast as tot_ast,\n",
    "       reg_avg.blk as tot_blk,\n",
    "       reg_avg.stl as tot_stl,\n",
    "       reg_avg.pf as tot_pf,\n",
    "       reg_avg.`TO` as tot_to,\n",
    "       opp_team_pts.opp_pts,\n",
    "       opp_team_pts.diff,\n",
    "       misc.FBPS,\n",
    "       misc.second_chance_pts\n",
    "\n",
    "from (\n",
    "\n",
    "     select b.game_hash,\n",
    "            b.home_team as team,\n",
    "            b.game_date,\n",
    "            team.team_id as away_id,\n",
    "            lu.season\n",
    "     from box_score_map as b\n",
    "     inner join game_date_lookup as lu on b.game_date = lu.day\n",
    "     inner join team_info as team on b.away_team = team.team\n",
    "     where b.game_date < current_date and\n",
    "           lu.season > 2008\n",
    "\n",
    "     ) as box_view\n",
    "\n",
    "inner join player_team_map as play_m on ( (box_view.team = play_m.team) and (\n",
    "box_view.season = play_m.season) )\n",
    "inner join basic_box_stats as basic on ( (box_view.game_hash = basic.game_hash) and (\n",
    "play_m.player_id = basic.player_id) )\n",
    "inner join advanced_box_stats as adv on ( (box_view.game_hash = adv.game_hash) and (\n",
    "play_m.player_id = adv.player_id) )\n",
    "inner join player_scoring_stats as p_score on ( (box_view.game_hash = p_score.game_hash) and (\n",
    "play_m.player_id = p_score.player_id) )\n",
    "inner join player_usage_stats as p_usg on ( (box_view.game_hash = p_usg.game_hash) and (\n",
    "play_m.player_id = p_usg.player_id) )\n",
    "inner join team_advanced_boxscore_stats as a_stats on ( (box_view.game_hash = a_stats.game_hash) and (box_view.team = a_stats.team) )\n",
    "left outer join RegularSeasonAverages as reg_avg on ( (basic.player_id = reg_avg.player_id) and (box_view.season -1 = reg_avg.season) )\n",
    "inner join points as opp_team_pts on box_view.away_id = opp_team_pts.team_id and box_view.season -1 = opp_team_pts.season\n",
    "inner join team_misc_boxscore_stats as misc on ( (box_view.game_hash = misc.game_hash) and (box_view.team = misc.team) )\n",
    "order by basic.player_id,\n",
    "         box_view.game_date asc;\n",
    "\"\"\""
   ]
  },
  {
   "cell_type": "code",
   "execution_count": 615,
   "metadata": {},
   "outputs": [],
   "source": [
    "df = pd.read_sql(sql=train, con=conn, index_col=None)"
   ]
  },
  {
   "cell_type": "code",
   "execution_count": null,
   "metadata": {},
   "outputs": [],
   "source": []
  },
  {
   "cell_type": "code",
   "execution_count": 616,
   "metadata": {},
   "outputs": [],
   "source": [
    "def time_convert(minutes_played):\n",
    "    time_list = minutes_played.split(':')\n",
    "    try:\n",
    "        return ((int(time_list[0]) * 60) + int(time_list[1]))\n",
    "    except ValueError:\n",
    "        return 0"
   ]
  },
  {
   "cell_type": "code",
   "execution_count": 617,
   "metadata": {},
   "outputs": [],
   "source": [
    "def concat_drop(df, dummy_var_col, drop_list):\n",
    "    for field in dummy_var_col:\n",
    "        df = pd.concat([df, gen_dummby_var(df, field)], axis=1)\n",
    "    df.drop(drop_list, axis=1, inplace=True)\n",
    "    return df"
   ]
  },
  {
   "cell_type": "code",
   "execution_count": 618,
   "metadata": {},
   "outputs": [],
   "source": [
    "def gen_dummby_var(df, column):\n",
    "    return pd.get_dummies(df[column], drop_first=True)"
   ]
  },
  {
   "cell_type": "code",
   "execution_count": 619,
   "metadata": {},
   "outputs": [],
   "source": [
    "#### finding number of days in between games on player level "
   ]
  },
  {
   "cell_type": "code",
   "execution_count": 620,
   "metadata": {},
   "outputs": [],
   "source": [
    "#df['game_date'] = pd.to_datetime(df['game_date'])\n",
    "#df.head()"
   ]
  },
  {
   "cell_type": "code",
   "execution_count": 621,
   "metadata": {},
   "outputs": [],
   "source": [
    "df.loc[:, 'minutes_played'] = df.loc[:, 'minutes_played'].apply(time_convert)"
   ]
  },
  {
   "cell_type": "code",
   "execution_count": 622,
   "metadata": {},
   "outputs": [],
   "source": [
    "df['days_of_rest'] = df.game_date.diff().dt.days.fillna(0).astype(int)\n",
    "df[df['days_of_rest'] < 0] = 0\n",
    "#df['days_of_rest']"
   ]
  },
  {
   "cell_type": "code",
   "execution_count": 623,
   "metadata": {},
   "outputs": [],
   "source": [
    "df.drop([ 'player_id', 'team', 'game_hash', 'game_date'], axis=1, inplace=True)\n",
    "clean_df = df[df['minutes_played'] >= 720]\n",
    "#clean_df = concat_drop(df[df['minutes_played'] >= 900], ['home_away'], [ 'player_id', 'team', 'game_hash', 'game_date'])"
   ]
  },
  {
   "cell_type": "code",
   "execution_count": 624,
   "metadata": {},
   "outputs": [
    {
     "data": {
      "text/html": [
       "<div>\n",
       "<style scoped>\n",
       "    .dataframe tbody tr th:only-of-type {\n",
       "        vertical-align: middle;\n",
       "    }\n",
       "\n",
       "    .dataframe tbody tr th {\n",
       "        vertical-align: top;\n",
       "    }\n",
       "\n",
       "    .dataframe thead th {\n",
       "        text-align: right;\n",
       "    }\n",
       "</style>\n",
       "<table border=\"1\" class=\"dataframe\">\n",
       "  <thead>\n",
       "    <tr style=\"text-align: right;\">\n",
       "      <th></th>\n",
       "      <th>pts</th>\n",
       "      <th>minutes_played</th>\n",
       "      <th>fga</th>\n",
       "      <th>3pa</th>\n",
       "      <th>orb</th>\n",
       "      <th>trb</th>\n",
       "      <th>ast</th>\n",
       "      <th>stl</th>\n",
       "      <th>blk</th>\n",
       "      <th>tov</th>\n",
       "      <th>...</th>\n",
       "      <th>tot_ast</th>\n",
       "      <th>tot_blk</th>\n",
       "      <th>tot_stl</th>\n",
       "      <th>tot_pf</th>\n",
       "      <th>tot_to</th>\n",
       "      <th>opp_pts</th>\n",
       "      <th>diff</th>\n",
       "      <th>FBPS</th>\n",
       "      <th>second_chance_pts</th>\n",
       "      <th>days_of_rest</th>\n",
       "    </tr>\n",
       "  </thead>\n",
       "  <tbody>\n",
       "    <tr>\n",
       "      <th>5</th>\n",
       "      <td>0</td>\n",
       "      <td>815</td>\n",
       "      <td>2</td>\n",
       "      <td>1</td>\n",
       "      <td>0</td>\n",
       "      <td>1</td>\n",
       "      <td>0</td>\n",
       "      <td>0</td>\n",
       "      <td>0</td>\n",
       "      <td>2</td>\n",
       "      <td>...</td>\n",
       "      <td>NaN</td>\n",
       "      <td>NaN</td>\n",
       "      <td>NaN</td>\n",
       "      <td>NaN</td>\n",
       "      <td>NaN</td>\n",
       "      <td>105.0</td>\n",
       "      <td>-3.1</td>\n",
       "      <td>25</td>\n",
       "      <td>16</td>\n",
       "      <td>2</td>\n",
       "    </tr>\n",
       "    <tr>\n",
       "      <th>13</th>\n",
       "      <td>2</td>\n",
       "      <td>987</td>\n",
       "      <td>5</td>\n",
       "      <td>3</td>\n",
       "      <td>0</td>\n",
       "      <td>2</td>\n",
       "      <td>1</td>\n",
       "      <td>0</td>\n",
       "      <td>0</td>\n",
       "      <td>1</td>\n",
       "      <td>...</td>\n",
       "      <td>NaN</td>\n",
       "      <td>NaN</td>\n",
       "      <td>NaN</td>\n",
       "      <td>NaN</td>\n",
       "      <td>NaN</td>\n",
       "      <td>98.4</td>\n",
       "      <td>1.6</td>\n",
       "      <td>23</td>\n",
       "      <td>12</td>\n",
       "      <td>5</td>\n",
       "    </tr>\n",
       "    <tr>\n",
       "      <th>16</th>\n",
       "      <td>6</td>\n",
       "      <td>1233</td>\n",
       "      <td>4</td>\n",
       "      <td>3</td>\n",
       "      <td>0</td>\n",
       "      <td>6</td>\n",
       "      <td>1</td>\n",
       "      <td>0</td>\n",
       "      <td>0</td>\n",
       "      <td>0</td>\n",
       "      <td>...</td>\n",
       "      <td>NaN</td>\n",
       "      <td>NaN</td>\n",
       "      <td>NaN</td>\n",
       "      <td>NaN</td>\n",
       "      <td>NaN</td>\n",
       "      <td>92.9</td>\n",
       "      <td>10.6</td>\n",
       "      <td>21</td>\n",
       "      <td>28</td>\n",
       "      <td>2</td>\n",
       "    </tr>\n",
       "    <tr>\n",
       "      <th>17</th>\n",
       "      <td>5</td>\n",
       "      <td>1484</td>\n",
       "      <td>4</td>\n",
       "      <td>3</td>\n",
       "      <td>1</td>\n",
       "      <td>4</td>\n",
       "      <td>0</td>\n",
       "      <td>0</td>\n",
       "      <td>2</td>\n",
       "      <td>1</td>\n",
       "      <td>...</td>\n",
       "      <td>NaN</td>\n",
       "      <td>NaN</td>\n",
       "      <td>NaN</td>\n",
       "      <td>NaN</td>\n",
       "      <td>NaN</td>\n",
       "      <td>95.9</td>\n",
       "      <td>1.8</td>\n",
       "      <td>19</td>\n",
       "      <td>6</td>\n",
       "      <td>2</td>\n",
       "    </tr>\n",
       "    <tr>\n",
       "      <th>18</th>\n",
       "      <td>5</td>\n",
       "      <td>808</td>\n",
       "      <td>6</td>\n",
       "      <td>3</td>\n",
       "      <td>3</td>\n",
       "      <td>5</td>\n",
       "      <td>2</td>\n",
       "      <td>0</td>\n",
       "      <td>0</td>\n",
       "      <td>0</td>\n",
       "      <td>...</td>\n",
       "      <td>NaN</td>\n",
       "      <td>NaN</td>\n",
       "      <td>NaN</td>\n",
       "      <td>NaN</td>\n",
       "      <td>NaN</td>\n",
       "      <td>100.2</td>\n",
       "      <td>4.3</td>\n",
       "      <td>12</td>\n",
       "      <td>22</td>\n",
       "      <td>16</td>\n",
       "    </tr>\n",
       "  </tbody>\n",
       "</table>\n",
       "<p>5 rows × 40 columns</p>\n",
       "</div>"
      ],
      "text/plain": [
       "    pts  minutes_played  fga  3pa  orb  trb  ast  stl  blk  tov      ...       \\\n",
       "5     0             815    2    1    0    1    0    0    0    2      ...        \n",
       "13    2             987    5    3    0    2    1    0    0    1      ...        \n",
       "16    6            1233    4    3    0    6    1    0    0    0      ...        \n",
       "17    5            1484    4    3    1    4    0    0    2    1      ...        \n",
       "18    5             808    6    3    3    5    2    0    0    0      ...        \n",
       "\n",
       "    tot_ast  tot_blk  tot_stl  tot_pf  tot_to  opp_pts  diff  FBPS  \\\n",
       "5       NaN      NaN      NaN     NaN     NaN    105.0  -3.1    25   \n",
       "13      NaN      NaN      NaN     NaN     NaN     98.4   1.6    23   \n",
       "16      NaN      NaN      NaN     NaN     NaN     92.9  10.6    21   \n",
       "17      NaN      NaN      NaN     NaN     NaN     95.9   1.8    19   \n",
       "18      NaN      NaN      NaN     NaN     NaN    100.2   4.3    12   \n",
       "\n",
       "    second_chance_pts  days_of_rest  \n",
       "5                  16             2  \n",
       "13                 12             5  \n",
       "16                 28             2  \n",
       "17                  6             2  \n",
       "18                 22            16  \n",
       "\n",
       "[5 rows x 40 columns]"
      ]
     },
     "execution_count": 624,
     "metadata": {},
     "output_type": "execute_result"
    }
   ],
   "source": [
    "#clean_df.drop('Home', inplace=True, axis=1)\n",
    "clean_df.head()\n",
    "#group_df = clean_df.groupby(['game_date','team'])\n",
    "#group_df.head()"
   ]
  },
  {
   "cell_type": "code",
   "execution_count": 625,
   "metadata": {},
   "outputs": [],
   "source": [
    "#for group in group_df.groups:\n",
    " #   print(group)"
   ]
  },
  {
   "cell_type": "code",
   "execution_count": 626,
   "metadata": {},
   "outputs": [],
   "source": [
    "clean_df = clean_df.fillna(0)"
   ]
  },
  {
   "cell_type": "code",
   "execution_count": 627,
   "metadata": {},
   "outputs": [],
   "source": [
    "x = clean_df.loc[:, 'minutes_played':]\n",
    "y = clean_df.loc[:, 'pts']"
   ]
  },
  {
   "cell_type": "code",
   "execution_count": 628,
   "metadata": {},
   "outputs": [],
   "source": [
    "X_train, X_test, y_train, y_test = train_test_split(clean_df.loc[:, 'minutes_played':], clean_df.loc[:, 'pts'], test_size=.33)"
   ]
  },
  {
   "cell_type": "code",
   "execution_count": 629,
   "metadata": {},
   "outputs": [],
   "source": [
    "lm = LinearRegression()"
   ]
  },
  {
   "cell_type": "code",
   "execution_count": 630,
   "metadata": {},
   "outputs": [
    {
     "data": {
      "text/plain": [
       "LinearRegression(copy_X=True, fit_intercept=True, n_jobs=1, normalize=False)"
      ]
     },
     "execution_count": 630,
     "metadata": {},
     "output_type": "execute_result"
    }
   ],
   "source": [
    "lm.fit(X_train, y_train)"
   ]
  },
  {
   "cell_type": "code",
   "execution_count": 631,
   "metadata": {},
   "outputs": [],
   "source": [
    "predictions = lm.predict(X_test)"
   ]
  },
  {
   "cell_type": "code",
   "execution_count": 632,
   "metadata": {},
   "outputs": [
    {
     "data": {
      "text/plain": [
       "Text(0,0.5,'Predicted Y')"
      ]
     },
     "execution_count": 632,
     "metadata": {},
     "output_type": "execute_result"
    },
    {
     "data": {
      "image/png": "[encoded data removed]",
      "text/plain": [
       "<Figure size 432x288 with 1 Axes>"
      ]
     },
     "metadata": {},
     "output_type": "display_data"
    }
   ],
   "source": [
    "plt.scatter(y_test,predictions)\n",
    "plt.xlabel('Y Test')\n",
    "plt.ylabel('Predicted Y')"
   ]
  },
  {
   "cell_type": "code",
   "execution_count": 633,
   "metadata": {},
   "outputs": [
    {
     "data": {
      "image/png": "[encoded data removed]",
      "text/plain": [
       "<Figure size 432x288 with 1 Axes>"
      ]
     },
     "metadata": {},
     "output_type": "display_data"
    }
   ],
   "source": [
    "sns.distplot((y_test-predictions),bins=50);"
   ]
  },
  {
   "cell_type": "code",
   "execution_count": 634,
   "metadata": {},
   "outputs": [
    {
     "data": {
      "text/html": [
       "<div>\n",
       "<style scoped>\n",
       "    .dataframe tbody tr th:only-of-type {\n",
       "        vertical-align: middle;\n",
       "    }\n",
       "\n",
       "    .dataframe tbody tr th {\n",
       "        vertical-align: top;\n",
       "    }\n",
       "\n",
       "    .dataframe thead th {\n",
       "        text-align: right;\n",
       "    }\n",
       "</style>\n",
       "<table border=\"1\" class=\"dataframe\">\n",
       "  <thead>\n",
       "    <tr style=\"text-align: right;\">\n",
       "      <th></th>\n",
       "      <th>Coeffecient</th>\n",
       "    </tr>\n",
       "  </thead>\n",
       "  <tbody>\n",
       "    <tr>\n",
       "      <th>minutes_played</th>\n",
       "      <td>0.002176</td>\n",
       "    </tr>\n",
       "    <tr>\n",
       "      <th>fga</th>\n",
       "      <td>0.924979</td>\n",
       "    </tr>\n",
       "    <tr>\n",
       "      <th>3pa</th>\n",
       "      <td>0.062746</td>\n",
       "    </tr>\n",
       "    <tr>\n",
       "      <th>orb</th>\n",
       "      <td>-0.452077</td>\n",
       "    </tr>\n",
       "    <tr>\n",
       "      <th>trb</th>\n",
       "      <td>0.064574</td>\n",
       "    </tr>\n",
       "    <tr>\n",
       "      <th>ast</th>\n",
       "      <td>-0.336100</td>\n",
       "    </tr>\n",
       "    <tr>\n",
       "      <th>stl</th>\n",
       "      <td>0.177624</td>\n",
       "    </tr>\n",
       "    <tr>\n",
       "      <th>blk</th>\n",
       "      <td>0.083035</td>\n",
       "    </tr>\n",
       "    <tr>\n",
       "      <th>tov</th>\n",
       "      <td>0.053575</td>\n",
       "    </tr>\n",
       "    <tr>\n",
       "      <th>pf</th>\n",
       "      <td>-0.002684</td>\n",
       "    </tr>\n",
       "    <tr>\n",
       "      <th>turnover_pct</th>\n",
       "      <td>0.076104</td>\n",
       "    </tr>\n",
       "    <tr>\n",
       "      <th>usage_pct</th>\n",
       "      <td>0.248141</td>\n",
       "    </tr>\n",
       "    <tr>\n",
       "      <th>pace</th>\n",
       "      <td>0.053558</td>\n",
       "    </tr>\n",
       "    <tr>\n",
       "      <th>pie</th>\n",
       "      <td>0.031080</td>\n",
       "    </tr>\n",
       "    <tr>\n",
       "      <th>offensive_rating</th>\n",
       "      <td>0.091065</td>\n",
       "    </tr>\n",
       "    <tr>\n",
       "      <th>defensive_rating</th>\n",
       "      <td>0.026776</td>\n",
       "    </tr>\n",
       "    <tr>\n",
       "      <th>pct_2pt_fga</th>\n",
       "      <td>0.007953</td>\n",
       "    </tr>\n",
       "    <tr>\n",
       "      <th>pct_3pt_fga</th>\n",
       "      <td>0.011110</td>\n",
       "    </tr>\n",
       "    <tr>\n",
       "      <th>pct_pts_fbps</th>\n",
       "      <td>-0.003532</td>\n",
       "    </tr>\n",
       "    <tr>\n",
       "      <th>pct_pts_ft</th>\n",
       "      <td>-0.010204</td>\n",
       "    </tr>\n",
       "    <tr>\n",
       "      <th>pct_pts_off_to</th>\n",
       "      <td>-0.004261</td>\n",
       "    </tr>\n",
       "    <tr>\n",
       "      <th>pct_fga</th>\n",
       "      <td>-0.095511</td>\n",
       "    </tr>\n",
       "    <tr>\n",
       "      <th>pct_3pa</th>\n",
       "      <td>-0.001711</td>\n",
       "    </tr>\n",
       "    <tr>\n",
       "      <th>pct_fta</th>\n",
       "      <td>0.040122</td>\n",
       "    </tr>\n",
       "    <tr>\n",
       "      <th>pct_stl</th>\n",
       "      <td>-0.001475</td>\n",
       "    </tr>\n",
       "    <tr>\n",
       "      <th>tot_fg_a</th>\n",
       "      <td>-0.058717</td>\n",
       "    </tr>\n",
       "    <tr>\n",
       "      <th>tot_3p_a</th>\n",
       "      <td>-0.007768</td>\n",
       "    </tr>\n",
       "    <tr>\n",
       "      <th>tot_ft_a</th>\n",
       "      <td>0.323063</td>\n",
       "    </tr>\n",
       "    <tr>\n",
       "      <th>tot_reb</th>\n",
       "      <td>0.025944</td>\n",
       "    </tr>\n",
       "    <tr>\n",
       "      <th>tot_ast</th>\n",
       "      <td>0.042520</td>\n",
       "    </tr>\n",
       "    <tr>\n",
       "      <th>tot_blk</th>\n",
       "      <td>0.059299</td>\n",
       "    </tr>\n",
       "    <tr>\n",
       "      <th>tot_stl</th>\n",
       "      <td>-0.045380</td>\n",
       "    </tr>\n",
       "    <tr>\n",
       "      <th>tot_pf</th>\n",
       "      <td>-0.091079</td>\n",
       "    </tr>\n",
       "    <tr>\n",
       "      <th>tot_to</th>\n",
       "      <td>-0.039056</td>\n",
       "    </tr>\n",
       "    <tr>\n",
       "      <th>opp_pts</th>\n",
       "      <td>-0.017611</td>\n",
       "    </tr>\n",
       "    <tr>\n",
       "      <th>diff</th>\n",
       "      <td>-0.010220</td>\n",
       "    </tr>\n",
       "    <tr>\n",
       "      <th>FBPS</th>\n",
       "      <td>0.003578</td>\n",
       "    </tr>\n",
       "    <tr>\n",
       "      <th>second_chance_pts</th>\n",
       "      <td>-0.025479</td>\n",
       "    </tr>\n",
       "    <tr>\n",
       "      <th>days_of_rest</th>\n",
       "      <td>0.000141</td>\n",
       "    </tr>\n",
       "  </tbody>\n",
       "</table>\n",
       "</div>"
      ],
      "text/plain": [
       "                   Coeffecient\n",
       "minutes_played        0.002176\n",
       "fga                   0.924979\n",
       "3pa                   0.062746\n",
       "orb                  -0.452077\n",
       "trb                   0.064574\n",
       "ast                  -0.336100\n",
       "stl                   0.177624\n",
       "blk                   0.083035\n",
       "tov                   0.053575\n",
       "pf                   -0.002684\n",
       "turnover_pct          0.076104\n",
       "usage_pct             0.248141\n",
       "pace                  0.053558\n",
       "pie                   0.031080\n",
       "offensive_rating      0.091065\n",
       "defensive_rating      0.026776\n",
       "pct_2pt_fga           0.007953\n",
       "pct_3pt_fga           0.011110\n",
       "pct_pts_fbps         -0.003532\n",
       "pct_pts_ft           -0.010204\n",
       "pct_pts_off_to       -0.004261\n",
       "pct_fga              -0.095511\n",
       "pct_3pa              -0.001711\n",
       "pct_fta               0.040122\n",
       "pct_stl              -0.001475\n",
       "tot_fg_a             -0.058717\n",
       "tot_3p_a             -0.007768\n",
       "tot_ft_a              0.323063\n",
       "tot_reb               0.025944\n",
       "tot_ast               0.042520\n",
       "tot_blk               0.059299\n",
       "tot_stl              -0.045380\n",
       "tot_pf               -0.091079\n",
       "tot_to               -0.039056\n",
       "opp_pts              -0.017611\n",
       "diff                 -0.010220\n",
       "FBPS                  0.003578\n",
       "second_chance_pts    -0.025479\n",
       "days_of_rest          0.000141"
      ]
     },
     "execution_count": 634,
     "metadata": {},
     "output_type": "execute_result"
    }
   ],
   "source": [
    "coeffecients = pd.DataFrame(lm.coef_,X_test.columns)\n",
    "coeffecients.columns = ['Coeffecient']\n",
    "coeffecients"
   ]
  },
  {
   "cell_type": "code",
   "execution_count": 635,
   "metadata": {},
   "outputs": [
    {
     "data": {
      "text/plain": [
       "0.91404866842336208"
      ]
     },
     "execution_count": 635,
     "metadata": {},
     "output_type": "execute_result"
    }
   ],
   "source": [
    "lm.score(X_test, y_test)"
   ]
  },
  {
   "cell_type": "code",
   "execution_count": null,
   "metadata": {},
   "outputs": [],
   "source": []
  },
  {
   "cell_type": "code",
   "execution_count": 25,
   "metadata": {},
   "outputs": [],
   "source": [
    "### Experimenting with Lasso regression"
   ]
  },
  {
   "cell_type": "code",
   "execution_count": 26,
   "metadata": {},
   "outputs": [],
   "source": [
    "lasso = Lasso(alpha=0.0023101297000831605)  #Home: 0.00174333 - 0.00221222"
   ]
  },
  {
   "cell_type": "code",
   "execution_count": 27,
   "metadata": {},
   "outputs": [
    {
     "data": {
      "text/plain": [
       "Lasso(alpha=0.0023101297000831605, copy_X=True, fit_intercept=True,\n",
       "   max_iter=1000, normalize=False, positive=False, precompute=False,\n",
       "   random_state=None, selection='cyclic', tol=0.0001, warm_start=False)"
      ]
     },
     "execution_count": 27,
     "metadata": {},
     "output_type": "execute_result"
    }
   ],
   "source": [
    "lasso.fit(X_train, y_train)"
   ]
  },
  {
   "cell_type": "code",
   "execution_count": 28,
   "metadata": {},
   "outputs": [],
   "source": [
    "predictions = lasso.predict(X_test)"
   ]
  },
  {
   "cell_type": "code",
   "execution_count": 29,
   "metadata": {},
   "outputs": [
    {
     "data": {
      "text/plain": [
       "Text(0,0.5,'Predicted Y')"
      ]
     },
     "execution_count": 29,
     "metadata": {},
     "output_type": "execute_result"
    },
    {
     "data": {
      "image/png": "[encoded data removed]",
      "text/plain": [
       "<Figure size 432x288 with 1 Axes>"
      ]
     },
     "metadata": {},
     "output_type": "display_data"
    }
   ],
   "source": [
    "plt.scatter(y_test,predictions)\n",
    "plt.xlabel('Y Test')\n",
    "plt.ylabel('Predicted Y')"
   ]
  },
  {
   "cell_type": "code",
   "execution_count": 30,
   "metadata": {},
   "outputs": [
    {
     "data": {
      "text/plain": [
       "<matplotlib.axes._subplots.AxesSubplot at 0x113f9b3c8>"
      ]
     },
     "execution_count": 30,
     "metadata": {},
     "output_type": "execute_result"
    },
    {
     "data": {
      "image/png": "[encoded data removed]",
      "text/plain": [
       "<Figure size 432x288 with 1 Axes>"
      ]
     },
     "metadata": {},
     "output_type": "display_data"
    }
   ],
   "source": [
    "sns.set_palette(\"GnBu_d\")\n",
    "sns.set_style('whitegrid')\n",
    "sns.distplot(y_test-predictions, bins=50)"
   ]
  },
  {
   "cell_type": "code",
   "execution_count": 31,
   "metadata": {},
   "outputs": [
    {
     "data": {
      "text/plain": [
       "0.94888301125480468"
      ]
     },
     "execution_count": 31,
     "metadata": {},
     "output_type": "execute_result"
    }
   ],
   "source": [
    "lasso.score(X_test, y_test)"
   ]
  },
  {
   "cell_type": "code",
   "execution_count": null,
   "metadata": {},
   "outputs": [],
   "source": []
  },
  {
   "cell_type": "code",
   "execution_count": 32,
   "metadata": {},
   "outputs": [
    {
     "data": {
      "text/html": [
       "<div>\n",
       "<style scoped>\n",
       "    .dataframe tbody tr th:only-of-type {\n",
       "        vertical-align: middle;\n",
       "    }\n",
       "\n",
       "    .dataframe tbody tr th {\n",
       "        vertical-align: top;\n",
       "    }\n",
       "\n",
       "    .dataframe thead th {\n",
       "        text-align: right;\n",
       "    }\n",
       "</style>\n",
       "<table border=\"1\" class=\"dataframe\">\n",
       "  <thead>\n",
       "    <tr style=\"text-align: right;\">\n",
       "      <th></th>\n",
       "      <th>Coeffecient</th>\n",
       "    </tr>\n",
       "  </thead>\n",
       "  <tbody>\n",
       "    <tr>\n",
       "      <th>minutes_played</th>\n",
       "      <td>0.002445</td>\n",
       "    </tr>\n",
       "    <tr>\n",
       "      <th>fga</th>\n",
       "      <td>0.560851</td>\n",
       "    </tr>\n",
       "    <tr>\n",
       "      <th>3pa</th>\n",
       "      <td>0.323101</td>\n",
       "    </tr>\n",
       "    <tr>\n",
       "      <th>orb</th>\n",
       "      <td>-0.344068</td>\n",
       "    </tr>\n",
       "    <tr>\n",
       "      <th>trb</th>\n",
       "      <td>0.011079</td>\n",
       "    </tr>\n",
       "    <tr>\n",
       "      <th>ast</th>\n",
       "      <td>-0.126093</td>\n",
       "    </tr>\n",
       "    <tr>\n",
       "      <th>stl</th>\n",
       "      <td>-0.085693</td>\n",
       "    </tr>\n",
       "    <tr>\n",
       "      <th>blk</th>\n",
       "      <td>0.001704</td>\n",
       "    </tr>\n",
       "    <tr>\n",
       "      <th>tov</th>\n",
       "      <td>-0.027425</td>\n",
       "    </tr>\n",
       "    <tr>\n",
       "      <th>pf</th>\n",
       "      <td>0.011039</td>\n",
       "    </tr>\n",
       "    <tr>\n",
       "      <th>turnover_pct</th>\n",
       "      <td>0.037958</td>\n",
       "    </tr>\n",
       "    <tr>\n",
       "      <th>usage_pct</th>\n",
       "      <td>0.208668</td>\n",
       "    </tr>\n",
       "    <tr>\n",
       "      <th>pace</th>\n",
       "      <td>0.046620</td>\n",
       "    </tr>\n",
       "    <tr>\n",
       "      <th>pie</th>\n",
       "      <td>0.023068</td>\n",
       "    </tr>\n",
       "    <tr>\n",
       "      <th>offensive_rating</th>\n",
       "      <td>0.054866</td>\n",
       "    </tr>\n",
       "    <tr>\n",
       "      <th>pts_off_to</th>\n",
       "      <td>0.237185</td>\n",
       "    </tr>\n",
       "    <tr>\n",
       "      <th>second_chance_pts</th>\n",
       "      <td>0.108125</td>\n",
       "    </tr>\n",
       "    <tr>\n",
       "      <th>indv_fbps</th>\n",
       "      <td>0.199815</td>\n",
       "    </tr>\n",
       "    <tr>\n",
       "      <th>pitp</th>\n",
       "      <td>0.325123</td>\n",
       "    </tr>\n",
       "    <tr>\n",
       "      <th>pct_2pt_fga</th>\n",
       "      <td>0.027727</td>\n",
       "    </tr>\n",
       "    <tr>\n",
       "      <th>pct_3pt_fga</th>\n",
       "      <td>0.018796</td>\n",
       "    </tr>\n",
       "    <tr>\n",
       "      <th>pct_pt_2pt</th>\n",
       "      <td>-0.050865</td>\n",
       "    </tr>\n",
       "    <tr>\n",
       "      <th>pct_pts_2pt_mr</th>\n",
       "      <td>0.026809</td>\n",
       "    </tr>\n",
       "    <tr>\n",
       "      <th>pct_pts_3pt</th>\n",
       "      <td>-0.028398</td>\n",
       "    </tr>\n",
       "    <tr>\n",
       "      <th>pct_pts_fbps</th>\n",
       "      <td>-0.013832</td>\n",
       "    </tr>\n",
       "    <tr>\n",
       "      <th>pct_pts_ft</th>\n",
       "      <td>-0.012868</td>\n",
       "    </tr>\n",
       "    <tr>\n",
       "      <th>pct_pts_off_to</th>\n",
       "      <td>-0.017186</td>\n",
       "    </tr>\n",
       "    <tr>\n",
       "      <th>pct_fgm</th>\n",
       "      <td>0.157430</td>\n",
       "    </tr>\n",
       "    <tr>\n",
       "      <th>pct_fga</th>\n",
       "      <td>-0.190532</td>\n",
       "    </tr>\n",
       "    <tr>\n",
       "      <th>pct_3pm</th>\n",
       "      <td>0.015544</td>\n",
       "    </tr>\n",
       "    <tr>\n",
       "      <th>pct_3pa</th>\n",
       "      <td>-0.009706</td>\n",
       "    </tr>\n",
       "    <tr>\n",
       "      <th>pct_ftm</th>\n",
       "      <td>0.014543</td>\n",
       "    </tr>\n",
       "    <tr>\n",
       "      <th>pct_fta</th>\n",
       "      <td>0.010423</td>\n",
       "    </tr>\n",
       "    <tr>\n",
       "      <th>pct_stl</th>\n",
       "      <td>0.001370</td>\n",
       "    </tr>\n",
       "    <tr>\n",
       "      <th>tot_fg_a</th>\n",
       "      <td>-0.011660</td>\n",
       "    </tr>\n",
       "    <tr>\n",
       "      <th>tot_3p_a</th>\n",
       "      <td>-0.009725</td>\n",
       "    </tr>\n",
       "    <tr>\n",
       "      <th>tot_ft_a</th>\n",
       "      <td>0.273634</td>\n",
       "    </tr>\n",
       "    <tr>\n",
       "      <th>tot_reb</th>\n",
       "      <td>0.013031</td>\n",
       "    </tr>\n",
       "    <tr>\n",
       "      <th>tot_ast</th>\n",
       "      <td>-0.012137</td>\n",
       "    </tr>\n",
       "    <tr>\n",
       "      <th>tot_blk</th>\n",
       "      <td>0.031959</td>\n",
       "    </tr>\n",
       "    <tr>\n",
       "      <th>tot_stl</th>\n",
       "      <td>-0.121960</td>\n",
       "    </tr>\n",
       "    <tr>\n",
       "      <th>tot_pf</th>\n",
       "      <td>-0.039676</td>\n",
       "    </tr>\n",
       "    <tr>\n",
       "      <th>tot_to</th>\n",
       "      <td>-0.116713</td>\n",
       "    </tr>\n",
       "    <tr>\n",
       "      <th>opp_pts</th>\n",
       "      <td>-0.002912</td>\n",
       "    </tr>\n",
       "    <tr>\n",
       "      <th>diff</th>\n",
       "      <td>0.000011</td>\n",
       "    </tr>\n",
       "    <tr>\n",
       "      <th>FBPS</th>\n",
       "      <td>-0.004925</td>\n",
       "    </tr>\n",
       "    <tr>\n",
       "      <th>second_chance_pts</th>\n",
       "      <td>-0.019902</td>\n",
       "    </tr>\n",
       "    <tr>\n",
       "      <th>days_of_rest</th>\n",
       "      <td>0.000000</td>\n",
       "    </tr>\n",
       "  </tbody>\n",
       "</table>\n",
       "</div>"
      ],
      "text/plain": [
       "                   Coeffecient\n",
       "minutes_played        0.002445\n",
       "fga                   0.560851\n",
       "3pa                   0.323101\n",
       "orb                  -0.344068\n",
       "trb                   0.011079\n",
       "ast                  -0.126093\n",
       "stl                  -0.085693\n",
       "blk                   0.001704\n",
       "tov                  -0.027425\n",
       "pf                    0.011039\n",
       "turnover_pct          0.037958\n",
       "usage_pct             0.208668\n",
       "pace                  0.046620\n",
       "pie                   0.023068\n",
       "offensive_rating      0.054866\n",
       "pts_off_to            0.237185\n",
       "second_chance_pts     0.108125\n",
       "indv_fbps             0.199815\n",
       "pitp                  0.325123\n",
       "pct_2pt_fga           0.027727\n",
       "pct_3pt_fga           0.018796\n",
       "pct_pt_2pt           -0.050865\n",
       "pct_pts_2pt_mr        0.026809\n",
       "pct_pts_3pt          -0.028398\n",
       "pct_pts_fbps         -0.013832\n",
       "pct_pts_ft           -0.012868\n",
       "pct_pts_off_to       -0.017186\n",
       "pct_fgm               0.157430\n",
       "pct_fga              -0.190532\n",
       "pct_3pm               0.015544\n",
       "pct_3pa              -0.009706\n",
       "pct_ftm               0.014543\n",
       "pct_fta               0.010423\n",
       "pct_stl               0.001370\n",
       "tot_fg_a             -0.011660\n",
       "tot_3p_a             -0.009725\n",
       "tot_ft_a              0.273634\n",
       "tot_reb               0.013031\n",
       "tot_ast              -0.012137\n",
       "tot_blk               0.031959\n",
       "tot_stl              -0.121960\n",
       "tot_pf               -0.039676\n",
       "tot_to               -0.116713\n",
       "opp_pts              -0.002912\n",
       "diff                  0.000011\n",
       "FBPS                 -0.004925\n",
       "second_chance_pts    -0.019902\n",
       "days_of_rest          0.000000"
      ]
     },
     "execution_count": 32,
     "metadata": {},
     "output_type": "execute_result"
    }
   ],
   "source": [
    "coeffecients = pd.DataFrame(lasso.coef_,X_test.columns)\n",
    "coeffecients.columns = ['Coeffecient']\n",
    "coeffecients"
   ]
  },
  {
   "cell_type": "code",
   "execution_count": 510,
   "metadata": {},
   "outputs": [],
   "source": [
    "#### Using Lasso cross-validation model"
   ]
  },
  {
   "cell_type": "code",
   "execution_count": 511,
   "metadata": {},
   "outputs": [],
   "source": [
    "lasso_cv = LassoCV()"
   ]
  },
  {
   "cell_type": "code",
   "execution_count": 512,
   "metadata": {},
   "outputs": [
    {
     "data": {
      "text/plain": [
       "LassoCV(alphas=None, copy_X=True, cv=None, eps=0.001, fit_intercept=True,\n",
       "    max_iter=1000, n_alphas=100, n_jobs=1, normalize=False, positive=False,\n",
       "    precompute='auto', random_state=None, selection='cyclic', tol=0.0001,\n",
       "    verbose=False)"
      ]
     },
     "execution_count": 512,
     "metadata": {},
     "output_type": "execute_result"
    }
   ],
   "source": [
    "lasso_cv.fit(X_train, y_train)"
   ]
  },
  {
   "cell_type": "code",
   "execution_count": 513,
   "metadata": {},
   "outputs": [],
   "source": [
    "predictions_cv = lasso_cv.predict(X_test)"
   ]
  },
  {
   "cell_type": "code",
   "execution_count": 514,
   "metadata": {},
   "outputs": [
    {
     "data": {
      "text/plain": [
       "Text(0,0.5,'Predicted Y')"
      ]
     },
     "execution_count": 514,
     "metadata": {},
     "output_type": "execute_result"
    },
    {
     "data": {
      "image/png": "[encoded data removed]",
      "text/plain": [
       "<Figure size 432x288 with 1 Axes>"
      ]
     },
     "metadata": {},
     "output_type": "display_data"
    }
   ],
   "source": [
    "plt.scatter(y_test,predictions_cv)\n",
    "plt.xlabel('Y Test')\n",
    "plt.ylabel('Predicted Y')"
   ]
  },
  {
   "cell_type": "code",
   "execution_count": 515,
   "metadata": {},
   "outputs": [
    {
     "data": {
      "text/plain": [
       "<matplotlib.axes._subplots.AxesSubplot at 0x13468b080>"
      ]
     },
     "execution_count": 515,
     "metadata": {},
     "output_type": "execute_result"
    },
    {
     "data": {
      "image/png": "[encoded data removed]",
      "text/plain": [
       "<Figure size 432x288 with 1 Axes>"
      ]
     },
     "metadata": {},
     "output_type": "display_data"
    }
   ],
   "source": [
    "sns.distplot(y_test-predictions, bins=50)"
   ]
  },
  {
   "cell_type": "code",
   "execution_count": 516,
   "metadata": {},
   "outputs": [
    {
     "data": {
      "text/plain": [
       "0.87151947318590561"
      ]
     },
     "execution_count": 516,
     "metadata": {},
     "output_type": "execute_result"
    }
   ],
   "source": [
    "lasso_cv.score(X_test, y_test)"
   ]
  },
  {
   "cell_type": "code",
   "execution_count": null,
   "metadata": {},
   "outputs": [],
   "source": []
  },
  {
   "cell_type": "code",
   "execution_count": 517,
   "metadata": {},
   "outputs": [
    {
     "data": {
      "text/html": [
       "<div>\n",
       "<style scoped>\n",
       "    .dataframe tbody tr th:only-of-type {\n",
       "        vertical-align: middle;\n",
       "    }\n",
       "\n",
       "    .dataframe tbody tr th {\n",
       "        vertical-align: top;\n",
       "    }\n",
       "\n",
       "    .dataframe thead th {\n",
       "        text-align: right;\n",
       "    }\n",
       "</style>\n",
       "<table border=\"1\" class=\"dataframe\">\n",
       "  <thead>\n",
       "    <tr style=\"text-align: right;\">\n",
       "      <th></th>\n",
       "      <th>Coeffecient</th>\n",
       "    </tr>\n",
       "  </thead>\n",
       "  <tbody>\n",
       "    <tr>\n",
       "      <th>minutes_played</th>\n",
       "      <td>0.003458</td>\n",
       "    </tr>\n",
       "    <tr>\n",
       "      <th>fga</th>\n",
       "      <td>0.724111</td>\n",
       "    </tr>\n",
       "    <tr>\n",
       "      <th>3pa</th>\n",
       "      <td>0.056322</td>\n",
       "    </tr>\n",
       "    <tr>\n",
       "      <th>orb</th>\n",
       "      <td>-0.400927</td>\n",
       "    </tr>\n",
       "    <tr>\n",
       "      <th>trb</th>\n",
       "      <td>0.034243</td>\n",
       "    </tr>\n",
       "    <tr>\n",
       "      <th>ast</th>\n",
       "      <td>-0.312361</td>\n",
       "    </tr>\n",
       "    <tr>\n",
       "      <th>stl</th>\n",
       "      <td>0.019924</td>\n",
       "    </tr>\n",
       "    <tr>\n",
       "      <th>blk</th>\n",
       "      <td>0.015208</td>\n",
       "    </tr>\n",
       "    <tr>\n",
       "      <th>tov</th>\n",
       "      <td>0.000000</td>\n",
       "    </tr>\n",
       "    <tr>\n",
       "      <th>pf</th>\n",
       "      <td>-0.000000</td>\n",
       "    </tr>\n",
       "    <tr>\n",
       "      <th>turnover_pct</th>\n",
       "      <td>0.080551</td>\n",
       "    </tr>\n",
       "    <tr>\n",
       "      <th>usage_pct</th>\n",
       "      <td>0.285752</td>\n",
       "    </tr>\n",
       "    <tr>\n",
       "      <th>pace</th>\n",
       "      <td>0.068346</td>\n",
       "    </tr>\n",
       "    <tr>\n",
       "      <th>pie</th>\n",
       "      <td>0.005547</td>\n",
       "    </tr>\n",
       "    <tr>\n",
       "      <th>offensive_rating</th>\n",
       "      <td>0.096442</td>\n",
       "    </tr>\n",
       "    <tr>\n",
       "      <th>tot_fg_a</th>\n",
       "      <td>-0.083759</td>\n",
       "    </tr>\n",
       "    <tr>\n",
       "      <th>tot_3p_a</th>\n",
       "      <td>0.009789</td>\n",
       "    </tr>\n",
       "    <tr>\n",
       "      <th>tot_ft_a</th>\n",
       "      <td>0.450817</td>\n",
       "    </tr>\n",
       "    <tr>\n",
       "      <th>tot_reb</th>\n",
       "      <td>0.040753</td>\n",
       "    </tr>\n",
       "    <tr>\n",
       "      <th>tot_ast</th>\n",
       "      <td>0.008810</td>\n",
       "    </tr>\n",
       "    <tr>\n",
       "      <th>tot_blk</th>\n",
       "      <td>0.127298</td>\n",
       "    </tr>\n",
       "    <tr>\n",
       "      <th>tot_stl</th>\n",
       "      <td>-0.018651</td>\n",
       "    </tr>\n",
       "    <tr>\n",
       "      <th>tot_pf</th>\n",
       "      <td>-0.143882</td>\n",
       "    </tr>\n",
       "    <tr>\n",
       "      <th>tot_to</th>\n",
       "      <td>0.000000</td>\n",
       "    </tr>\n",
       "    <tr>\n",
       "      <th>opp_pts</th>\n",
       "      <td>-0.005629</td>\n",
       "    </tr>\n",
       "    <tr>\n",
       "      <th>diff</th>\n",
       "      <td>-0.004255</td>\n",
       "    </tr>\n",
       "    <tr>\n",
       "      <th>FBPS</th>\n",
       "      <td>0.004104</td>\n",
       "    </tr>\n",
       "    <tr>\n",
       "      <th>second_chance_pts</th>\n",
       "      <td>-0.016080</td>\n",
       "    </tr>\n",
       "    <tr>\n",
       "      <th>days_of_rest</th>\n",
       "      <td>-0.000054</td>\n",
       "    </tr>\n",
       "  </tbody>\n",
       "</table>\n",
       "</div>"
      ],
      "text/plain": [
       "                   Coeffecient\n",
       "minutes_played        0.003458\n",
       "fga                   0.724111\n",
       "3pa                   0.056322\n",
       "orb                  -0.400927\n",
       "trb                   0.034243\n",
       "ast                  -0.312361\n",
       "stl                   0.019924\n",
       "blk                   0.015208\n",
       "tov                   0.000000\n",
       "pf                   -0.000000\n",
       "turnover_pct          0.080551\n",
       "usage_pct             0.285752\n",
       "pace                  0.068346\n",
       "pie                   0.005547\n",
       "offensive_rating      0.096442\n",
       "tot_fg_a             -0.083759\n",
       "tot_3p_a              0.009789\n",
       "tot_ft_a              0.450817\n",
       "tot_reb               0.040753\n",
       "tot_ast               0.008810\n",
       "tot_blk               0.127298\n",
       "tot_stl              -0.018651\n",
       "tot_pf               -0.143882\n",
       "tot_to                0.000000\n",
       "opp_pts              -0.005629\n",
       "diff                 -0.004255\n",
       "FBPS                  0.004104\n",
       "second_chance_pts    -0.016080\n",
       "days_of_rest         -0.000054"
      ]
     },
     "execution_count": 517,
     "metadata": {},
     "output_type": "execute_result"
    }
   ],
   "source": [
    "coeffecients = pd.DataFrame(lasso.coef_,X_test.columns)\n",
    "coeffecients.columns = ['Coeffecient']\n",
    "coeffecients"
   ]
  },
  {
   "cell_type": "code",
   "execution_count": 518,
   "metadata": {},
   "outputs": [],
   "source": [
    "### optimizing alpha value in Lasso regression"
   ]
  },
  {
   "cell_type": "code",
   "execution_count": 636,
   "metadata": {},
   "outputs": [],
   "source": [
    "alphas = np.logspace(-4, -1, 50)\n",
    "#alphas = np.linspace(.001, .999, 100) #0.00464159\n",
    "#alphas"
   ]
  },
  {
   "cell_type": "code",
   "execution_count": 637,
   "metadata": {},
   "outputs": [],
   "source": [
    "scores = np.empty_like(alphas)"
   ]
  },
  {
   "cell_type": "code",
   "execution_count": 638,
   "metadata": {},
   "outputs": [],
   "source": [
    "for i, a in enumerate(alphas):\n",
    "    lasso = Lasso(alpha=a)\n",
    "    lasso.fit(X_train, y_train)\n",
    "    scores[i] = lasso.score(X_test, y_test)"
   ]
  },
  {
   "cell_type": "code",
   "execution_count": 639,
   "metadata": {},
   "outputs": [],
   "source": [
    "lasso_cv = LassoCV(alphas=alphas)\n",
    "lasso_cv.fit(x, y)\n",
    "cv_score = lasso_cv.score(x, y)\n",
    "cv_alpha = lasso_cv.alpha_\n",
    "#cv_alpha, cv_score, lasso_cv.coef_, lasso_cv.intercept_"
   ]
  },
  {
   "cell_type": "code",
   "execution_count": 640,
   "metadata": {},
   "outputs": [
    {
     "data": {
      "image/png": "[encoded data removed]",
      "text/plain": [
       "<Figure size 432x288 with 1 Axes>"
      ]
     },
     "metadata": {},
     "output_type": "display_data"
    }
   ],
   "source": [
    "plt.plot(alphas, scores, '-ko')\n",
    "plt.axhline(cv_score, color='b',ls='--')\n",
    "plt.axvline(cv_alpha, color='r', ls='--')\n",
    "plt.xlabel('alpha')\n",
    "plt.ylabel('score')\n",
    "#plt.xscale('linear')\n",
    "plt.xscale('log')\n",
    "sns.despine(offset=15)"
   ]
  },
  {
   "cell_type": "code",
   "execution_count": 641,
   "metadata": {},
   "outputs": [],
   "source": [
    "predictions = lasso_cv.predict(X_test)"
   ]
  },
  {
   "cell_type": "code",
   "execution_count": 642,
   "metadata": {},
   "outputs": [
    {
     "data": {
      "text/plain": [
       "0.91342090244106677"
      ]
     },
     "execution_count": 642,
     "metadata": {},
     "output_type": "execute_result"
    }
   ],
   "source": [
    "lasso_cv.score(x, y)"
   ]
  },
  {
   "cell_type": "code",
   "execution_count": 643,
   "metadata": {},
   "outputs": [
    {
     "name": "stdout",
     "output_type": "stream",
     "text": [
      "MAE: 1.59238364106\n",
      "MSE: 5.05318124464\n",
      "RMSE: 2.24792821163\n"
     ]
    }
   ],
   "source": [
    "print('MAE:', metrics.mean_absolute_error(y_test, predictions))\n",
    "print('MSE:', metrics.mean_squared_error(y_test, predictions))\n",
    "print('RMSE:', np.sqrt(metrics.mean_squared_error(y_test, predictions)))"
   ]
  },
  {
   "cell_type": "code",
   "execution_count": 644,
   "metadata": {},
   "outputs": [
    {
     "data": {
      "text/plain": [
       "0.91404866873850077"
      ]
     },
     "execution_count": 644,
     "metadata": {},
     "output_type": "execute_result"
    }
   ],
   "source": [
    "np.amax(scores)"
   ]
  },
  {
   "cell_type": "code",
   "execution_count": 645,
   "metadata": {},
   "outputs": [
    {
     "data": {
      "text/plain": [
       "0.0001"
      ]
     },
     "execution_count": 645,
     "metadata": {},
     "output_type": "execute_result"
    }
   ],
   "source": [
    "np.take(alphas, np.argmax(scores))"
   ]
  },
  {
   "cell_type": "code",
   "execution_count": 646,
   "metadata": {},
   "outputs": [
    {
     "data": {
      "text/plain": [
       "Text(0,0.5,'predictions')"
      ]
     },
     "execution_count": 646,
     "metadata": {},
     "output_type": "execute_result"
    },
    {
     "data": {
      "image/png": "[encoded data removed]",
      "text/plain": [
       "<Figure size 432x288 with 1 Axes>"
      ]
     },
     "metadata": {},
     "output_type": "display_data"
    }
   ],
   "source": [
    "plt.scatter(y_test,predictions)\n",
    "plt.xlabel('Y Test')\n",
    "plt.ylabel('predictions')"
   ]
  },
  {
   "cell_type": "markdown",
   "metadata": {},
   "source": [
    "1998 -- LCV 0.9147120588422647\n",
    "1999 -- L 0.91471720437535364\n",
    "2000 -- LCV 0.9147120588422647\n",
    "2001 -- L 0.91486975706775964 ***\n",
    "2002 -- LCV 0.91466119190003847\n",
    "2003 -- LCV 0.91438136517439228\n",
    "2004 -- L 0.91399705633731276\n",
    "2005 -- LCV 0.91380910368478407\n",
    "2006 -- LCV 0.91435034827094164\n",
    "2007 -- L 0.9147827559782622\n",
    "2008 -- 0.91404866873850077"
   ]
  },
  {
   "cell_type": "code",
   "execution_count": 647,
   "metadata": {},
   "outputs": [],
   "source": [
    "test = \"\"\"\n",
    "\n",
    "select basic.player_id,\n",
    "       play.name,\n",
    "       bm.target as team,\n",
    "       bm.game_hash,\n",
    "       bm.game_date,\n",
    "       basic.pts,\n",
    "       basic.minutes_played,\n",
    "       basic.fga,\n",
    "       basic.3pa,\n",
    "       basic.orb,\n",
    "       basic.trb,\n",
    "       basic.ast,\n",
    "       basic.stl,\n",
    "       basic.blk,\n",
    "       basic.tov,\n",
    "       basic.pf,\n",
    "       adv.turnover_pct,\n",
    "       adv.usage_pct,\n",
    "       a_stats.pace,\n",
    "       a_stats.pie,\n",
    "       adv.offensive_rating,\n",
    "       adv.defensive_rating,\n",
    "       p_score.pct_2pt_fga,\n",
    "       p_score.pct_3pt_fga, /*\n",
    "       p_score.pct_pt_2pt,\n",
    "       p_score.pct_pts_2pt_mr,\n",
    "       p_score.pct_pts_3pt, */\n",
    "       p_score.pct_pts_fbps,\n",
    "       p_score.pct_pts_ft,\n",
    "       p_score.pct_pts_off_to,\n",
    "      -- p_usg.pct_fgm,\n",
    "       p_usg.pct_fga,\n",
    "      -- p_usg.pct_3pm,\n",
    "       p_usg.pct_3pa,\n",
    "      -- p_usg.pct_ftm,\n",
    "       p_usg.pct_fta,\n",
    "       p_usg.pct_stl,\n",
    "       reg_avg.fg_a as tot_fg_a,\n",
    "       reg_avg.3p_a as tot_3p_a,\n",
    "       reg_avg.ft_a as tot_ft_a,\n",
    "       reg_avg.reb as tot_reb,\n",
    "       reg_avg.ast as tot_ast,\n",
    "       reg_avg.blk as tot_blk,\n",
    "       reg_avg.stl as tot_stl,\n",
    "       reg_avg.pf as tot_pf,\n",
    "       reg_avg.`TO` as tot_to,\n",
    "       opp_team_pts.opp_pts,\n",
    "       opp_team_pts.diff,\n",
    "       misc.FBPS,\n",
    "       misc.second_chance_pts\n",
    "\n",
    "from (select gm.game_hash, gm.target, gm.opp, gm.game_date, gm.season, t.team_id as opp_id\n",
    "\n",
    "      from (select m.game_hash, m.home_team as target, m.away_team as opp, m.game_date, lu.season\n",
    "            from box_score_map as m\n",
    "                   inner join game_date_lookup as lu on m.game_date = lu.day\n",
    "            where m.home_team like 'Philadelphia%'\n",
    "\n",
    "            union\n",
    "\n",
    "            select m.game_hash, m.away_team as target, m.home_team as opp, m.game_date, lu.season\n",
    "            from box_score_map as m\n",
    "                   inner join game_date_lookup as lu on m.game_date = lu.day\n",
    "            where m.away_team like 'Philadelphia%') as gm\n",
    "             inner join team_info as t on gm.opp = t.team\n",
    "      order by game_date desc\n",
    "      limit 9) as bm\n",
    "inner join team_info as t_opp on bm.opp = t_opp.team\n",
    "\n",
    "inner join (\n",
    "\n",
    "          select name, team, player_id\n",
    "          from active_rosters\n",
    "          where player_id not in (select player_id from injured_players) and\n",
    "                team like 'Philadelphia%'\n",
    "\n",
    "          ) as player on bm.target = player.team\n",
    "\n",
    "inner join basic_box_stats as basic on ( (bm.game_hash = basic.game_hash) and (\n",
    "player.player_id = basic.player_id) )\n",
    "inner join advanced_box_stats as adv on ( (bm.game_hash = adv.game_hash) and (\n",
    "player.player_id = adv.player_id) )\n",
    "inner join player_scoring_stats as p_score on ( (bm.game_hash = p_score.game_hash) and (\n",
    "player.player_id = p_score.player_id) )\n",
    "inner join player_usage_stats as p_usg on ( (bm.game_hash = p_usg.game_hash) and (\n",
    "player.player_id = p_usg.player_id) )\n",
    "inner join team_advanced_boxscore_stats as a_stats on ( (bm.game_hash = a_stats.game_hash) and (bm.target = a_stats.team) )\n",
    "left outer join RegularSeasonAverages as reg_avg on ( (basic.player_id = reg_avg.player_id) and (bm.season -1 = reg_avg.season) )\n",
    "inner join points as opp_team_pts on bm.opp_id = opp_team_pts.team_id and bm.season -1 = opp_team_pts.season\n",
    "inner join team_misc_boxscore_stats as misc on ( (bm.game_hash = misc.game_hash) and (bm.target = misc.team) )\n",
    "inner join player_info as play on player.player_id = play.player_id\n",
    "order by basic.player_id,\n",
    "         bm.game_date asc;\n",
    "\n",
    "\n",
    "\"\"\""
   ]
  },
  {
   "cell_type": "code",
   "execution_count": 648,
   "metadata": {},
   "outputs": [],
   "source": [
    "test_df = pd.read_sql(sql=test, con=conn)"
   ]
  },
  {
   "cell_type": "code",
   "execution_count": 649,
   "metadata": {},
   "outputs": [],
   "source": [
    "test_df['minutes_played'] = test_df.loc[:, 'minutes_played'].apply(time_convert)\n",
    "test_df = test_df.fillna(0).groupby(['player_id', 'name', 'team'], sort=False)\n",
    "max_dates = test_df['game_date'].max().reset_index().loc[:, 'game_date'].apply(lambda x: (datetime.date.today() - x).days)\n",
    "test = pd.concat([test_df.mean().reset_index(), max_dates], axis=1)"
   ]
  },
  {
   "cell_type": "code",
   "execution_count": 650,
   "metadata": {},
   "outputs": [],
   "source": [
    "pred_df = test.loc[:, :'team']\n",
    "predictions = lasso.predict(test.loc[:, 'minutes_played':])\n",
    "predictions[predictions < 0] = 0\n",
    "pred_df['pts'] = predictions\n",
    "pred_df['game_date'] = datetime.date.today()\n",
    "r_square = lasso.score(test.loc[:, 'minutes_played':], test['pts'])\n",
    "total_pts = np.array([pred_df.iloc[0,2], str(datetime.date.today()), pred_df.iloc[:, -2].sum().astype(float), r_square]).reshape(1,4)\n",
    "total_pts_df = pd.DataFrame(total_pts, index=None, columns=['team', 'game_date', 'predicted_total_pts', 'r_squared'])"
   ]
  },
  {
   "cell_type": "code",
   "execution_count": 651,
   "metadata": {},
   "outputs": [
    {
     "data": {
      "text/plain": [
       "0.96438363813198558"
      ]
     },
     "execution_count": 651,
     "metadata": {},
     "output_type": "execute_result"
    }
   ],
   "source": [
    "r_square"
   ]
  },
  {
   "cell_type": "code",
   "execution_count": 652,
   "metadata": {},
   "outputs": [
    {
     "data": {
      "text/html": [
       "<div>\n",
       "<style scoped>\n",
       "    .dataframe tbody tr th:only-of-type {\n",
       "        vertical-align: middle;\n",
       "    }\n",
       "\n",
       "    .dataframe tbody tr th {\n",
       "        vertical-align: top;\n",
       "    }\n",
       "\n",
       "    .dataframe thead th {\n",
       "        text-align: right;\n",
       "    }\n",
       "</style>\n",
       "<table border=\"1\" class=\"dataframe\">\n",
       "  <thead>\n",
       "    <tr style=\"text-align: right;\">\n",
       "      <th></th>\n",
       "      <th>team</th>\n",
       "      <th>game_date</th>\n",
       "      <th>predicted_total_pts</th>\n",
       "      <th>r_squared</th>\n",
       "    </tr>\n",
       "  </thead>\n",
       "  <tbody>\n",
       "    <tr>\n",
       "      <th>0</th>\n",
       "      <td>Philadelphia 76ers</td>\n",
       "      <td>2018-12-16</td>\n",
       "      <td>119.981245683</td>\n",
       "      <td>0.964383638132</td>\n",
       "    </tr>\n",
       "  </tbody>\n",
       "</table>\n",
       "</div>"
      ],
      "text/plain": [
       "                 team   game_date predicted_total_pts       r_squared\n",
       "0  Philadelphia 76ers  2018-12-16       119.981245683  0.964383638132"
      ]
     },
     "execution_count": 652,
     "metadata": {},
     "output_type": "execute_result"
    }
   ],
   "source": [
    "total_pts_df"
   ]
  },
  {
   "cell_type": "code",
   "execution_count": 653,
   "metadata": {},
   "outputs": [
    {
     "data": {
      "text/html": [
       "<div>\n",
       "<style scoped>\n",
       "    .dataframe tbody tr th:only-of-type {\n",
       "        vertical-align: middle;\n",
       "    }\n",
       "\n",
       "    .dataframe tbody tr th {\n",
       "        vertical-align: top;\n",
       "    }\n",
       "\n",
       "    .dataframe thead th {\n",
       "        text-align: right;\n",
       "    }\n",
       "</style>\n",
       "<table border=\"1\" class=\"dataframe\">\n",
       "  <thead>\n",
       "    <tr style=\"text-align: right;\">\n",
       "      <th></th>\n",
       "      <th>player_id</th>\n",
       "      <th>name</th>\n",
       "      <th>team</th>\n",
       "      <th>pts</th>\n",
       "      <th>game_date</th>\n",
       "    </tr>\n",
       "  </thead>\n",
       "  <tbody>\n",
       "    <tr>\n",
       "      <th>0</th>\n",
       "      <td>2490090</td>\n",
       "      <td>Mike Muscala</td>\n",
       "      <td>Philadelphia 76ers</td>\n",
       "      <td>8.454549</td>\n",
       "      <td>2018-12-16</td>\n",
       "    </tr>\n",
       "    <tr>\n",
       "      <th>1</th>\n",
       "      <td>2530531</td>\n",
       "      <td>T.J. McConnell</td>\n",
       "      <td>Philadelphia 76ers</td>\n",
       "      <td>9.123734</td>\n",
       "      <td>2018-12-16</td>\n",
       "    </tr>\n",
       "    <tr>\n",
       "      <th>2</th>\n",
       "      <td>3056484</td>\n",
       "      <td>Demetrius Jackson</td>\n",
       "      <td>Philadelphia 76ers</td>\n",
       "      <td>0.623431</td>\n",
       "      <td>2018-12-16</td>\n",
       "    </tr>\n",
       "    <tr>\n",
       "      <th>3</th>\n",
       "      <td>3056529</td>\n",
       "      <td>Joel Embiid</td>\n",
       "      <td>Philadelphia 76ers</td>\n",
       "      <td>23.276675</td>\n",
       "      <td>2018-12-16</td>\n",
       "    </tr>\n",
       "    <tr>\n",
       "      <th>4</th>\n",
       "      <td>3907388</td>\n",
       "      <td>Ben Simmons</td>\n",
       "      <td>Philadelphia 76ers</td>\n",
       "      <td>14.655335</td>\n",
       "      <td>2018-12-16</td>\n",
       "    </tr>\n",
       "    <tr>\n",
       "      <th>5</th>\n",
       "      <td>3929326</td>\n",
       "      <td>Furkan Korkmaz</td>\n",
       "      <td>Philadelphia 76ers</td>\n",
       "      <td>7.285996</td>\n",
       "      <td>2018-12-16</td>\n",
       "    </tr>\n",
       "    <tr>\n",
       "      <th>6</th>\n",
       "      <td>5352609</td>\n",
       "      <td>Amir Johnson</td>\n",
       "      <td>Philadelphia 76ers</td>\n",
       "      <td>1.108406</td>\n",
       "      <td>2018-12-16</td>\n",
       "    </tr>\n",
       "    <tr>\n",
       "      <th>7</th>\n",
       "      <td>5352864</td>\n",
       "      <td>JJ Redick</td>\n",
       "      <td>Philadelphia 76ers</td>\n",
       "      <td>19.013519</td>\n",
       "      <td>2018-12-16</td>\n",
       "    </tr>\n",
       "    <tr>\n",
       "      <th>8</th>\n",
       "      <td>5353034</td>\n",
       "      <td>Wilson Chandler</td>\n",
       "      <td>Philadelphia 76ers</td>\n",
       "      <td>8.135086</td>\n",
       "      <td>2018-12-16</td>\n",
       "    </tr>\n",
       "    <tr>\n",
       "      <th>9</th>\n",
       "      <td>5356270</td>\n",
       "      <td>Jimmy Butler</td>\n",
       "      <td>Philadelphia 76ers</td>\n",
       "      <td>19.740681</td>\n",
       "      <td>2018-12-16</td>\n",
       "    </tr>\n",
       "    <tr>\n",
       "      <th>10</th>\n",
       "      <td>5356912</td>\n",
       "      <td>Landry Shamet</td>\n",
       "      <td>Philadelphia 76ers</td>\n",
       "      <td>8.563834</td>\n",
       "      <td>2018-12-16</td>\n",
       "    </tr>\n",
       "    <tr>\n",
       "      <th>11</th>\n",
       "      <td>5359044</td>\n",
       "      <td>Shake Milton</td>\n",
       "      <td>Philadelphia 76ers</td>\n",
       "      <td>0.000000</td>\n",
       "      <td>2018-12-16</td>\n",
       "    </tr>\n",
       "  </tbody>\n",
       "</table>\n",
       "</div>"
      ],
      "text/plain": [
       "    player_id               name                team        pts   game_date\n",
       "0     2490090       Mike Muscala  Philadelphia 76ers   8.454549  2018-12-16\n",
       "1     2530531     T.J. McConnell  Philadelphia 76ers   9.123734  2018-12-16\n",
       "2     3056484  Demetrius Jackson  Philadelphia 76ers   0.623431  2018-12-16\n",
       "3     3056529        Joel Embiid  Philadelphia 76ers  23.276675  2018-12-16\n",
       "4     3907388        Ben Simmons  Philadelphia 76ers  14.655335  2018-12-16\n",
       "5     3929326     Furkan Korkmaz  Philadelphia 76ers   7.285996  2018-12-16\n",
       "6     5352609       Amir Johnson  Philadelphia 76ers   1.108406  2018-12-16\n",
       "7     5352864          JJ Redick  Philadelphia 76ers  19.013519  2018-12-16\n",
       "8     5353034    Wilson Chandler  Philadelphia 76ers   8.135086  2018-12-16\n",
       "9     5356270       Jimmy Butler  Philadelphia 76ers  19.740681  2018-12-16\n",
       "10    5356912      Landry Shamet  Philadelphia 76ers   8.563834  2018-12-16\n",
       "11    5359044       Shake Milton  Philadelphia 76ers   0.000000  2018-12-16"
      ]
     },
     "execution_count": 653,
     "metadata": {},
     "output_type": "execute_result"
    }
   ],
   "source": [
    "pred_df"
   ]
  },
  {
   "cell_type": "code",
   "execution_count": 533,
   "metadata": {},
   "outputs": [],
   "source": [
    "### master query ###\n",
    "####################\n",
    "####################\n",
    "####################"
   ]
  },
  {
   "cell_type": "code",
   "execution_count": 186,
   "metadata": {},
   "outputs": [],
   "source": [
    "test = \"\"\"\n",
    "select basic.player_id,\n",
    "       box_view.team,\n",
    "       box_view.game_hash,\n",
    "       box_view.game_date,\n",
    "       basic.pts,\n",
    "       basic.minutes_played,\n",
    "       basic.fga,\n",
    "       basic.3pa,\n",
    "       basic.orb,\n",
    "       basic.trb,\n",
    "       basic.ast,\n",
    "       basic.stl,\n",
    "       basic.blk,\n",
    "       basic.tov,\n",
    "       basic.pf,\n",
    "       adv.turnover_pct,\n",
    "       adv.usage_pct,\n",
    "       a_stats.pace,\n",
    "       a_stats.pie,\n",
    "       adv.offensive_rating,\n",
    "      -- p_misc.pts_off_to,\n",
    "      -- p_misc.second_chance_pts,\n",
    "      -- p_misc.fbps as indv_fbps,\n",
    "      -- p_misc.pitp,\n",
    "       p_score.pct_2pt_fga,\n",
    "       p_score.pct_3pt_fga, /*\n",
    "       p_score.pct_pt_2pt,\n",
    "       p_score.pct_pts_2pt_mr,\n",
    "       p_score.pct_pts_3pt, */\n",
    "       p_score.pct_pts_fbps,\n",
    "       p_score.pct_pts_ft,\n",
    "       p_score.pct_pts_off_to,\n",
    "      -- p_usg.pct_fgm,\n",
    "       p_usg.pct_fga,\n",
    "      -- p_usg.pct_3pm,\n",
    "       p_usg.pct_3pa,\n",
    "      -- p_usg.pct_ftm,\n",
    "       p_usg.pct_fta,\n",
    "       p_usg.pct_stl, /*\n",
    "       reg_avg.fg_a as tot_fg_a,\n",
    "       reg_avg.3p_a as tot_3p_a,\n",
    "       reg_avg.ft_a as tot_ft_a,\n",
    "       reg_avg.reb as tot_reb,\n",
    "       reg_avg.ast as tot_ast,\n",
    "       reg_avg.blk as tot_blk,\n",
    "       reg_avg.stl as tot_stl,\n",
    "       reg_avg.pf as tot_pf,\n",
    "       reg_avg.`TO` as tot_to, */\n",
    "       opp_team_pts.opp_pts,\n",
    "       opp_team_pts.diff,\n",
    "       misc.FBPS,\n",
    "       misc.second_chance_pts\n",
    "\n",
    "from (\n",
    "\n",
    "     select b.game_hash,\n",
    "            b.home_team as team,\n",
    "            b.game_date,\n",
    "            team.team_id as away_id,\n",
    "            lu.season\n",
    "     from box_score_map as b\n",
    "     inner join game_date_lookup as lu on b.game_date = lu.day\n",
    "     inner join team_info as team on b.away_team = team.team\n",
    "     where b.game_date < current_date and\n",
    "           lu.season > 2006\n",
    "\n",
    "     ) as box_view\n",
    "\n",
    "inner join player_team_map as play_m on ( (box_view.team = play_m.team) and (\n",
    "box_view.season = play_m.season) )\n",
    "inner join basic_box_stats as basic on ( (box_view.game_hash = basic.game_hash) and (\n",
    "play_m.player_id = basic.player_id) )\n",
    "inner join advanced_box_stats as adv on ( (box_view.game_hash = adv.game_hash) and (\n",
    "play_m.player_id = adv.player_id) )\n",
    "-- inner join player_misc_stats as p_misc on ( (box_view.game_hash = p_misc.game_hash) and (\n",
    "-- play_m.player_id = p_misc.player_id) )\n",
    "inner join player_scoring_stats as p_score on ( (box_view.game_hash = p_score.game_hash) and (\n",
    "play_m.player_id = p_score.player_id) )\n",
    "inner join player_usage_stats as p_usg on ( (box_view.game_hash = p_usg.game_hash) and (\n",
    "play_m.player_id = p_usg.player_id) )\n",
    "inner join team_advanced_boxscore_stats as a_stats on ( (box_view.game_hash = a_stats.game_hash) and (box_view.team = a_stats.team) )\n",
    "-- left outer join RegularSeasonAverages as reg_avg on ( (basic.player_id = reg_avg.player_id) and (box_view.season -1 = reg_avg.season) )\n",
    "inner join points as opp_team_pts on box_view.away_id = opp_team_pts.team_id and box_view.season -1 = opp_team_pts.season\n",
    "inner join team_misc_boxscore_stats as misc on ( (box_view.game_hash = misc.game_hash) and (box_view.team = misc.team) )\n",
    "order by basic.player_id,\n",
    "         box_view.game_date asc;\"\"\""
   ]
  },
  {
   "cell_type": "code",
   "execution_count": null,
   "metadata": {},
   "outputs": [],
   "source": []
  }
 ],
 "metadata": {
  "kernelspec": {
   "display_name": "Python 3",
   "language": "python",
   "name": "python3"
  },
  "language_info": {
   "codemirror_mode": {
    "name": "ipython",
    "version": 3
   },
   "file_extension": ".py",
   "mimetype": "text/x-python",
   "name": "python",
   "nbconvert_exporter": "python",
   "pygments_lexer": "ipython3",
   "version": "3.6.3"
  }
 },
 "nbformat": 4,
 "nbformat_minor": 2
}
