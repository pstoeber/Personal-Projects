{
 "cells": [
  {
   "cell_type": "code",
   "execution_count": 10,
   "metadata": {},
   "outputs": [],
   "source": [
    "import re\n",
    "import datetime\n",
    "import itertools\n",
    "import numpy as np\n",
    "import pandas as pd\n",
    "import pymysql\n",
    "import requests\n",
    "from collections import defaultdict\n",
    "from sqlalchemy import create_engine\n",
    "from bs4 import BeautifulSoup\n",
    "from selenium import webdriver\n",
    "from contextlib import closing"
   ]
  },
  {
   "cell_type": "code",
   "execution_count": 43,
   "metadata": {},
   "outputs": [],
   "source": [
    "myConnection = pymysql.connect(host='localhost', user='root', password='Sk1ttles', db='nba_stats', autocommit=True)\n",
    "link = 'https://www.basketball-reference.com/teams/OKC/2018.html'"
   ]
  },
  {
   "cell_type": "code",
   "execution_count": 64,
   "metadata": {},
   "outputs": [],
   "source": [
    "#soup = BeautifulSoup(requests.get(link).content, \"html.parser\")"
   ]
  },
  {
   "cell_type": "code",
   "execution_count": 143,
   "metadata": {},
   "outputs": [],
   "source": [
    "#columns, roster_data = [], []\n",
    "\n",
    "#div = soup.findAll('div',{'class':'overthrow table_container'})\n",
    "\n",
    "#for i in div:\n",
    "#    columns.append([p for p in i.find('thead').text.split('\\n') if p not in ['', '\\xa0']])\n",
    "#    roster_data.append([p.text for p in i.find_all('td')])\n",
    "\n",
    "#columns[0], roster_data"
   ]
  },
  {
   "cell_type": "code",
   "execution_count": 124,
   "metadata": {},
   "outputs": [],
   "source": [
    "#no_arr = np.array(roster_data[0]).reshape(int(len(roster_data[0])/len(columns[0])), len(columns[0]))"
   ]
  },
  {
   "cell_type": "code",
   "execution_count": 140,
   "metadata": {},
   "outputs": [],
   "source": [
    "#roster_list = pd.DataFrame(no_arr, columns=columns).iloc[:, 0].tolist()"
   ]
  },
  {
   "cell_type": "code",
   "execution_count": 195,
   "metadata": {},
   "outputs": [],
   "source": [
    "#roster_list"
   ]
  },
  {
   "cell_type": "code",
   "execution_count": 205,
   "metadata": {},
   "outputs": [],
   "source": [
    "link = 'http://www.espn.com/nba/team/roster/_/name/wsh'"
   ]
  },
  {
   "cell_type": "code",
   "execution_count": 206,
   "metadata": {},
   "outputs": [],
   "source": [
    "chromeDriver = '/Users/Philip/Downloads/chromedriver'"
   ]
  },
  {
   "cell_type": "code",
   "execution_count": 207,
   "metadata": {},
   "outputs": [],
   "source": [
    "browser = webdriver.Chrome(executable_path=chromeDriver)"
   ]
  },
  {
   "cell_type": "code",
   "execution_count": 208,
   "metadata": {},
   "outputs": [],
   "source": [
    "browser.get(link)"
   ]
  },
  {
   "cell_type": "code",
   "execution_count": 209,
   "metadata": {},
   "outputs": [],
   "source": [
    "body = browser.find_element_by_xpath('//*[@id=\"fittPageContainer\"]/div[3]/div[2]/div[1]/div/section/section/div[4]/section/table')"
   ]
  },
  {
   "cell_type": "code",
   "execution_count": 210,
   "metadata": {},
   "outputs": [
    {
     "name": "stdout",
     "output_type": "stream",
     "text": [
      "Lavoy Allen\n",
      "Bradley Beal\n",
      "Troy Brown Jr.\n",
      "Thomas Bryant\n",
      "Chris Chiozza\n",
      "Jeff Green\n",
      "Dwight Howard\n",
      "Tiwian Kendley\n",
      "Ty Lawson\n",
      "Ian Mahinmi\n",
      "Jordan McRae\n",
      "Jodie Meeks\n",
      "Markieff Morris\n",
      "Kelly Oubre Jr.\n",
      "Otto Porter Jr.\n",
      "Chasson Randle\n",
      "Austin Rivers\n",
      "Devin Robinson\n",
      "Issuf Sanon\n",
      "Tomas Satoransky\n",
      "Ramon Sessions\n",
      "Jason Smith\n",
      "John Wall\n"
     ]
    }
   ],
   "source": [
    "roster_list = []\n",
    "for i in body.text.split('\\n')[1:]:\n",
    "    name = []\n",
    "    for p in i.split():\n",
    "        if p not in ['PG', 'SG', 'SF', 'PF', 'C', 'G', 'F']:\n",
    "            name.append(p)\n",
    "        else:\n",
    "            break\n",
    "    roster_list.append(' '.join([i for i in name[1:]]))\n",
    "\n",
    "for i in roster_list:\n",
    "    print(i)"
   ]
  },
  {
   "cell_type": "code",
   "execution_count": 153,
   "metadata": {},
   "outputs": [
    {
     "ename": "TypeError",
     "evalue": "'WebElement' object is not iterable",
     "output_type": "error",
     "traceback": [
      "\u001b[0;31m---------------------------------------------------------------------------\u001b[0m",
      "\u001b[0;31mTypeError\u001b[0m                                 Traceback (most recent call last)",
      "\u001b[0;32m<ipython-input-153-c46c18af50e8>\u001b[0m in \u001b[0;36m<module>\u001b[0;34m()\u001b[0m\n\u001b[0;32m----> 1\u001b[0;31m \u001b[0;32mfor\u001b[0m \u001b[0mi\u001b[0m \u001b[0;32min\u001b[0m \u001b[0mbody\u001b[0m\u001b[0;34m:\u001b[0m\u001b[0;34m\u001b[0m\u001b[0m\n\u001b[0m\u001b[1;32m      2\u001b[0m     \u001b[0mprint\u001b[0m\u001b[0;34m(\u001b[0m\u001b[0mi\u001b[0m\u001b[0;34m)\u001b[0m\u001b[0;34m\u001b[0m\u001b[0m\n",
      "\u001b[0;31mTypeError\u001b[0m: 'WebElement' object is not iterable"
     ]
    }
   ],
   "source": []
  },
  {
   "cell_type": "code",
   "execution_count": null,
   "metadata": {},
   "outputs": [],
   "source": []
  }
 ],
 "metadata": {
  "kernelspec": {
   "display_name": "Python 3",
   "language": "python",
   "name": "python3"
  },
  "language_info": {
   "codemirror_mode": {
    "name": "ipython",
    "version": 3
   },
   "file_extension": ".py",
   "mimetype": "text/x-python",
   "name": "python",
   "nbconvert_exporter": "python",
   "pygments_lexer": "ipython3",
   "version": "3.6.3"
  }
 },
 "nbformat": 4,
 "nbformat_minor": 2
}
