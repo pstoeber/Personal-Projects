{
 "cells": [
  {
   "cell_type": "code",
   "execution_count": 288,
   "metadata": {},
   "outputs": [],
   "source": [
    "import numpy as np\n",
    "import pandas as pd\n",
    "import matplotlib.pyplot as plt\n",
    "import seaborn as sns\n",
    "import pymysql\n",
    "from sklearn.model_selection import train_test_split\n",
    "from sklearn.linear_model import LogisticRegression\n",
    "from sklearn.metrics import confusion_matrix\n",
    "from sklearn.metrics import classification_report\n",
    "%matplotlib inline\n",
    "conn = pymysql.connect(host='localhost', user='root', password='Sk1ttles', db='nba_stats_prod')"
   ]
  },
  {
   "cell_type": "code",
   "execution_count": 289,
   "metadata": {},
   "outputs": [],
   "source": [
    "raw_sql = \"\"\"\n",
    "select adv.win_lose,\n",
    "       bm.home_away,\n",
    "       adv.game_length,\n",
    "       adv.ast_pct,\n",
    "       adv.ast_to_to,\n",
    "       adv.ast_ratio,\n",
    "       adv.offensive_reb_pct,\n",
    "       adv.defensive_reb_pct,\n",
    "       adv.reb_pct,\n",
    "       adv.to_pct,\n",
    "       adv.effective_fg_pct,\n",
    "       adv.ts_pct,\n",
    "       adv.pace,\n",
    "       fig.fta_rate,\n",
    "       fig.tov_pct,\n",
    "       fig.oreb_pct,\n",
    "       fig.opp_effective_fg_pct,\n",
    "       fig.opp_fta_rate,\n",
    "       fig.opp_tov_pct,\n",
    "       fig.opp_off_reb_pct,\n",
    "       misc.points_off_to,\n",
    "       misc.second_chance_pts,\n",
    "       misc.fbps,\n",
    "       misc.pts_in_paint,\n",
    "       misc.opp_pts_off_to,\n",
    "       misc.opp_second_chance_pts,\n",
    "       misc.opp_fbps,\n",
    "       misc.opp_pts_in_paint,\n",
    "       score.pct_2pt_fg,\n",
    "       score.pct_3pt_fg,\n",
    "       score.pct_pts_2pt,\n",
    "       score.pct_pts_2pt_mr,\n",
    "       score.pct_pts_3pt,\n",
    "       score.pct_pts_fbps,\n",
    "       score.pct_pts_ft,\n",
    "       score.pct_pts_off_to,\n",
    "       score.pct_pts_pitp,\n",
    "       score.2pt_fgm_ast_pct,\n",
    "       score.3pt_fgm_ast_pct,\n",
    "       score.3pt_fgm_uast_pct,\n",
    "       score.fgm_pct_ast,\n",
    "       score.fgm_pct_uast,\n",
    "       trad.fga,\n",
    "       trad.fg_pct,\n",
    "       trad.3pa,\n",
    "       trad.3p_pct,\n",
    "       trad.fta,\n",
    "       trad.ft_pct,\n",
    "       trad.oreb,\n",
    "       trad.dreb,\n",
    "       trad.tot_reb,\n",
    "       trad.ast,\n",
    "       trad.stl,\n",
    "       trad.blk,\n",
    "       trad.personal_fouls\n",
    "from(\n",
    "\n",
    "    select b.team, b.game_hash, b.home_away\n",
    "    from box_scores_map_view as b\n",
    "    inner join game_date_lookup as lu on b.game_date = lu.day\n",
    "    where lu.season > 1995 and\n",
    "          b.game_hash not in (\n",
    "\n",
    "              select game_hash\n",
    "              from box_scores_map_view\n",
    "              where team like 'Washington%' and\n",
    "                    game_date > (select max(game_date) -26  from box_scores_map_view where team like 'Washington%')\n",
    "\n",
    "              )\n",
    "\n",
    "        )  as bm\n",
    "inner join team_advanced_boxscore_stats as adv on ( (bm.team = adv.team) and (bm.game_hash = adv.game_hash) )\n",
    "inner join team_figure4_boxscore_stats as fig on ( (adv.team = fig.team) and (adv.game_hash = fig.game_hash) )\n",
    "inner join team_misc_boxscore_stats as misc on ( (fig.team = misc.team) and (fig.game_hash = misc.game_hash) )\n",
    "inner join team_scoring_boxscore_stats as score on ( (misc.team = score.team) and (misc.game_hash = score.game_hash) )\n",
    "inner join team_traditional_boxscore_stats as trad on ( (score.team = trad.team) and (score.game_hash = trad.game_hash) )\n",
    "\"\"\""
   ]
  },
  {
   "cell_type": "code",
   "execution_count": 290,
   "metadata": {},
   "outputs": [
    {
     "data": {
      "text/plain": [
       "Index(['win_lose', 'home_away', 'game_length', 'ast_pct', 'ast_to_to',\n",
       "       'ast_ratio', 'offensive_reb_pct', 'defensive_reb_pct', 'reb_pct',\n",
       "       'to_pct', 'effective_fg_pct', 'ts_pct', 'pace', 'fta_rate', 'tov_pct',\n",
       "       'oreb_pct', 'opp_effective_fg_pct', 'opp_fta_rate', 'opp_tov_pct',\n",
       "       'opp_off_reb_pct', 'points_off_to', 'second_chance_pts', 'fbps',\n",
       "       'pts_in_paint', 'opp_pts_off_to', 'opp_second_chance_pts', 'opp_fbps',\n",
       "       'opp_pts_in_paint', 'pct_2pt_fg', 'pct_3pt_fg', 'pct_pts_2pt',\n",
       "       'pct_pts_2pt_mr', 'pct_pts_3pt', 'pct_pts_fbps', 'pct_pts_ft',\n",
       "       'pct_pts_off_to', 'pct_pts_pitp', '2pt_fgm_ast_pct', '3pt_fgm_ast_pct',\n",
       "       '3pt_fgm_uast_pct', 'fgm_pct_ast', 'fgm_pct_uast', 'fga', 'fg_pct',\n",
       "       '3pa', '3p_pct', 'fta', 'ft_pct', 'oreb', 'dreb', 'tot_reb', 'ast',\n",
       "       'stl', 'blk', 'personal_fouls'],\n",
       "      dtype='object')"
      ]
     },
     "execution_count": 290,
     "metadata": {},
     "output_type": "execute_result"
    }
   ],
   "source": [
    "team_stats = pd.read_sql(raw_sql, con=conn)\n",
    "team_stats.columns"
   ]
  },
  {
   "cell_type": "code",
   "execution_count": 263,
   "metadata": {},
   "outputs": [
    {
     "ename": "KeyError",
     "evalue": "'Column not found: pts'",
     "output_type": "error",
     "traceback": [
      "\u001b[0;31m---------------------------------------------------------------------------\u001b[0m",
      "\u001b[0;31mKeyError\u001b[0m                                  Traceback (most recent call last)",
      "\u001b[0;32m<ipython-input-263-3641f75db666>\u001b[0m in \u001b[0;36m<module>\u001b[0;34m()\u001b[0m\n\u001b[0;32m----> 1\u001b[0;31m \u001b[0mteam_stats\u001b[0m\u001b[0;34m.\u001b[0m\u001b[0mgroupby\u001b[0m\u001b[0;34m(\u001b[0m\u001b[0;34m'home_away'\u001b[0m\u001b[0;34m)\u001b[0m\u001b[0;34m[\u001b[0m\u001b[0;34m'pts'\u001b[0m\u001b[0;34m]\u001b[0m\u001b[0;34m.\u001b[0m\u001b[0mplot\u001b[0m\u001b[0;34m.\u001b[0m\u001b[0mhist\u001b[0m\u001b[0;34m(\u001b[0m\u001b[0mbins\u001b[0m\u001b[0;34m=\u001b[0m\u001b[0;36m50\u001b[0m\u001b[0;34m)\u001b[0m\u001b[0;34m\u001b[0m\u001b[0m\n\u001b[0m",
      "\u001b[0;32m/Library/Frameworks/Python.framework/Versions/3.6/lib/python3.6/site-packages/pandas/core/base.py\u001b[0m in \u001b[0;36m__getitem__\u001b[0;34m(self, key)\u001b[0m\n\u001b[1;32m    265\u001b[0m         \u001b[0;32melse\u001b[0m\u001b[0;34m:\u001b[0m\u001b[0;34m\u001b[0m\u001b[0m\n\u001b[1;32m    266\u001b[0m             \u001b[0;32mif\u001b[0m \u001b[0mkey\u001b[0m \u001b[0;32mnot\u001b[0m \u001b[0;32min\u001b[0m \u001b[0mself\u001b[0m\u001b[0;34m.\u001b[0m\u001b[0mobj\u001b[0m\u001b[0;34m:\u001b[0m\u001b[0;34m\u001b[0m\u001b[0m\n\u001b[0;32m--> 267\u001b[0;31m                 \u001b[0;32mraise\u001b[0m \u001b[0mKeyError\u001b[0m\u001b[0;34m(\u001b[0m\u001b[0;34m\"Column not found: {key}\"\u001b[0m\u001b[0;34m.\u001b[0m\u001b[0mformat\u001b[0m\u001b[0;34m(\u001b[0m\u001b[0mkey\u001b[0m\u001b[0;34m=\u001b[0m\u001b[0mkey\u001b[0m\u001b[0;34m)\u001b[0m\u001b[0;34m)\u001b[0m\u001b[0;34m\u001b[0m\u001b[0m\n\u001b[0m\u001b[1;32m    268\u001b[0m             \u001b[0;32mreturn\u001b[0m \u001b[0mself\u001b[0m\u001b[0;34m.\u001b[0m\u001b[0m_gotitem\u001b[0m\u001b[0;34m(\u001b[0m\u001b[0mkey\u001b[0m\u001b[0;34m,\u001b[0m \u001b[0mndim\u001b[0m\u001b[0;34m=\u001b[0m\u001b[0;36m1\u001b[0m\u001b[0;34m)\u001b[0m\u001b[0;34m\u001b[0m\u001b[0m\n\u001b[1;32m    269\u001b[0m \u001b[0;34m\u001b[0m\u001b[0m\n",
      "\u001b[0;31mKeyError\u001b[0m: 'Column not found: pts'"
     ]
    }
   ],
   "source": [
    "team_stats.groupby('home_away')['pts'].plot.hist(bins=50)"
   ]
  },
  {
   "cell_type": "code",
   "execution_count": 264,
   "metadata": {},
   "outputs": [],
   "source": [
    "#team_stats['away_score'].plot.hist(bins=30)"
   ]
  },
  {
   "cell_type": "code",
   "execution_count": 265,
   "metadata": {},
   "outputs": [],
   "source": [
    "#def create_dumb_dumb(home):\n",
    " #   print(home)\n",
    "   # if scores[0] < scores[1]:\n",
    "    #    print('L')\n",
    "        #return 'L'\n",
    "   # elif scores[0] > scores[1]:\n",
    "    #    print('w')\n",
    "        #return 'W'"
   ]
  },
  {
   "cell_type": "code",
   "execution_count": 266,
   "metadata": {},
   "outputs": [],
   "source": [
    "#home_wins = team_stats[team_stats['home_score'] > team_stats['away_score']]"
   ]
  },
  {
   "cell_type": "code",
   "execution_count": 267,
   "metadata": {},
   "outputs": [],
   "source": [
    "#home_wins['result'] = 'W'"
   ]
  },
  {
   "cell_type": "code",
   "execution_count": 268,
   "metadata": {},
   "outputs": [],
   "source": [
    "#home_wins.head()"
   ]
  },
  {
   "cell_type": "code",
   "execution_count": 269,
   "metadata": {},
   "outputs": [],
   "source": [
    "#home_loses = team_stats[team_stats['away_score'] > team_stats['home_score']]"
   ]
  },
  {
   "cell_type": "code",
   "execution_count": 270,
   "metadata": {},
   "outputs": [],
   "source": [
    "#home_loses['result'] = 'L'"
   ]
  },
  {
   "cell_type": "code",
   "execution_count": 271,
   "metadata": {},
   "outputs": [],
   "source": [
    "#team_stats = pd.concat([home_wins, home_loses])"
   ]
  },
  {
   "cell_type": "code",
   "execution_count": 291,
   "metadata": {},
   "outputs": [],
   "source": [
    "result = pd.get_dummies(team_stats['win_lose'], drop_first=True)"
   ]
  },
  {
   "cell_type": "code",
   "execution_count": 292,
   "metadata": {},
   "outputs": [
    {
     "data": {
      "text/html": [
       "<div>\n",
       "<style scoped>\n",
       "    .dataframe tbody tr th:only-of-type {\n",
       "        vertical-align: middle;\n",
       "    }\n",
       "\n",
       "    .dataframe tbody tr th {\n",
       "        vertical-align: top;\n",
       "    }\n",
       "\n",
       "    .dataframe thead th {\n",
       "        text-align: right;\n",
       "    }\n",
       "</style>\n",
       "<table border=\"1\" class=\"dataframe\">\n",
       "  <thead>\n",
       "    <tr style=\"text-align: right;\">\n",
       "      <th></th>\n",
       "      <th>W</th>\n",
       "    </tr>\n",
       "  </thead>\n",
       "  <tbody>\n",
       "    <tr>\n",
       "      <th>0</th>\n",
       "      <td>0</td>\n",
       "    </tr>\n",
       "    <tr>\n",
       "      <th>1</th>\n",
       "      <td>1</td>\n",
       "    </tr>\n",
       "    <tr>\n",
       "      <th>2</th>\n",
       "      <td>0</td>\n",
       "    </tr>\n",
       "    <tr>\n",
       "      <th>3</th>\n",
       "      <td>1</td>\n",
       "    </tr>\n",
       "    <tr>\n",
       "      <th>4</th>\n",
       "      <td>1</td>\n",
       "    </tr>\n",
       "  </tbody>\n",
       "</table>\n",
       "</div>"
      ],
      "text/plain": [
       "   W\n",
       "0  0\n",
       "1  1\n",
       "2  0\n",
       "3  1\n",
       "4  1"
      ]
     },
     "execution_count": 292,
     "metadata": {},
     "output_type": "execute_result"
    }
   ],
   "source": [
    "result.head()"
   ]
  },
  {
   "cell_type": "code",
   "execution_count": null,
   "metadata": {},
   "outputs": [],
   "source": []
  },
  {
   "cell_type": "code",
   "execution_count": 293,
   "metadata": {},
   "outputs": [],
   "source": [
    "team_stats = pd.concat([team_stats, result], axis=1)"
   ]
  },
  {
   "cell_type": "code",
   "execution_count": 294,
   "metadata": {},
   "outputs": [],
   "source": [
    "rest_home = pd.get_dummies(team_stats['home_away'], drop_first=True)"
   ]
  },
  {
   "cell_type": "code",
   "execution_count": 295,
   "metadata": {},
   "outputs": [],
   "source": [
    "team_stats = pd.concat([team_stats, rest_home], axis=1)"
   ]
  },
  {
   "cell_type": "code",
   "execution_count": 296,
   "metadata": {},
   "outputs": [],
   "source": [
    "team_stats.drop(['home_away', 'win_lose'], axis=1, inplace=True)"
   ]
  },
  {
   "cell_type": "code",
   "execution_count": 297,
   "metadata": {},
   "outputs": [
    {
     "data": {
      "text/plain": [
       "Index(['game_length', 'ast_pct', 'ast_to_to', 'ast_ratio', 'offensive_reb_pct',\n",
       "       'defensive_reb_pct', 'reb_pct', 'to_pct', 'effective_fg_pct', 'ts_pct',\n",
       "       'pace', 'fta_rate', 'tov_pct', 'oreb_pct', 'opp_effective_fg_pct',\n",
       "       'opp_fta_rate', 'opp_tov_pct', 'opp_off_reb_pct', 'points_off_to',\n",
       "       'second_chance_pts', 'fbps', 'pts_in_paint', 'opp_pts_off_to',\n",
       "       'opp_second_chance_pts', 'opp_fbps', 'opp_pts_in_paint', 'pct_2pt_fg',\n",
       "       'pct_3pt_fg', 'pct_pts_2pt', 'pct_pts_2pt_mr', 'pct_pts_3pt',\n",
       "       'pct_pts_fbps', 'pct_pts_ft', 'pct_pts_off_to', 'pct_pts_pitp',\n",
       "       '2pt_fgm_ast_pct', '3pt_fgm_ast_pct', '3pt_fgm_uast_pct', 'fgm_pct_ast',\n",
       "       'fgm_pct_uast', 'fga', 'fg_pct', '3pa', '3p_pct', 'fta', 'ft_pct',\n",
       "       'oreb', 'dreb', 'tot_reb', 'ast', 'stl', 'blk', 'personal_fouls', 'W',\n",
       "       'Home'],\n",
       "      dtype='object')"
      ]
     },
     "execution_count": 297,
     "metadata": {},
     "output_type": "execute_result"
    }
   ],
   "source": [
    "team_stats.columns"
   ]
  },
  {
   "cell_type": "code",
   "execution_count": 298,
   "metadata": {},
   "outputs": [],
   "source": [
    "X = team_stats.drop('W', axis=1)\n",
    "y = team_stats['W']"
   ]
  },
  {
   "cell_type": "code",
   "execution_count": 299,
   "metadata": {},
   "outputs": [],
   "source": [
    "X_train, X_test, y_train, y_test = train_test_split(X, y, test_size=.33)"
   ]
  },
  {
   "cell_type": "code",
   "execution_count": 300,
   "metadata": {},
   "outputs": [],
   "source": [
    "lg = LogisticRegression()"
   ]
  },
  {
   "cell_type": "code",
   "execution_count": 301,
   "metadata": {},
   "outputs": [
    {
     "data": {
      "text/plain": [
       "LogisticRegression(C=1.0, class_weight=None, dual=False, fit_intercept=True,\n",
       "          intercept_scaling=1, max_iter=100, multi_class='ovr', n_jobs=1,\n",
       "          penalty='l2', random_state=None, solver='liblinear', tol=0.0001,\n",
       "          verbose=0, warm_start=False)"
      ]
     },
     "execution_count": 301,
     "metadata": {},
     "output_type": "execute_result"
    }
   ],
   "source": [
    "lg.fit(X_train, y_train)"
   ]
  },
  {
   "cell_type": "code",
   "execution_count": 302,
   "metadata": {},
   "outputs": [],
   "source": [
    "predictions = lg.predict(X_test)"
   ]
  },
  {
   "cell_type": "code",
   "execution_count": 303,
   "metadata": {},
   "outputs": [
    {
     "name": "stdout",
     "output_type": "stream",
     "text": [
      "             precision    recall  f1-score   support\n",
      "\n",
      "          0       0.97      0.97      0.97      7990\n",
      "          1       0.97      0.97      0.97      7900\n",
      "\n",
      "avg / total       0.97      0.97      0.97     15890\n",
      "\n"
     ]
    }
   ],
   "source": [
    "print(classification_report(y_test, predictions))"
   ]
  },
  {
   "cell_type": "code",
   "execution_count": 304,
   "metadata": {},
   "outputs": [
    {
     "name": "stdout",
     "output_type": "stream",
     "text": [
      "[[7737  253]\n",
      " [ 261 7639]]\n"
     ]
    }
   ],
   "source": [
    "print(confusion_matrix(y_test, predictions))"
   ]
  },
  {
   "cell_type": "code",
   "execution_count": 305,
   "metadata": {},
   "outputs": [
    {
     "data": {
      "text/html": [
       "<div>\n",
       "<style scoped>\n",
       "    .dataframe tbody tr th:only-of-type {\n",
       "        vertical-align: middle;\n",
       "    }\n",
       "\n",
       "    .dataframe tbody tr th {\n",
       "        vertical-align: top;\n",
       "    }\n",
       "\n",
       "    .dataframe thead th {\n",
       "        text-align: right;\n",
       "    }\n",
       "</style>\n",
       "<table border=\"1\" class=\"dataframe\">\n",
       "  <thead>\n",
       "    <tr style=\"text-align: right;\">\n",
       "      <th></th>\n",
       "      <th>Coefficient</th>\n",
       "    </tr>\n",
       "  </thead>\n",
       "  <tbody>\n",
       "    <tr>\n",
       "      <th>game_length</th>\n",
       "      <td>-2.130044</td>\n",
       "    </tr>\n",
       "    <tr>\n",
       "      <th>ast_pct</th>\n",
       "      <td>0.349291</td>\n",
       "    </tr>\n",
       "    <tr>\n",
       "      <th>ast_to_to</th>\n",
       "      <td>0.118738</td>\n",
       "    </tr>\n",
       "    <tr>\n",
       "      <th>ast_ratio</th>\n",
       "      <td>-0.205962</td>\n",
       "    </tr>\n",
       "    <tr>\n",
       "      <th>offensive_reb_pct</th>\n",
       "      <td>0.162868</td>\n",
       "    </tr>\n",
       "    <tr>\n",
       "      <th>defensive_reb_pct</th>\n",
       "      <td>0.333960</td>\n",
       "    </tr>\n",
       "    <tr>\n",
       "      <th>reb_pct</th>\n",
       "      <td>-0.017772</td>\n",
       "    </tr>\n",
       "    <tr>\n",
       "      <th>to_pct</th>\n",
       "      <td>0.138769</td>\n",
       "    </tr>\n",
       "    <tr>\n",
       "      <th>effective_fg_pct</th>\n",
       "      <td>-0.140731</td>\n",
       "    </tr>\n",
       "    <tr>\n",
       "      <th>ts_pct</th>\n",
       "      <td>1.688807</td>\n",
       "    </tr>\n",
       "    <tr>\n",
       "      <th>pace</th>\n",
       "      <td>-1.138123</td>\n",
       "    </tr>\n",
       "    <tr>\n",
       "      <th>fta_rate</th>\n",
       "      <td>-0.329884</td>\n",
       "    </tr>\n",
       "    <tr>\n",
       "      <th>tov_pct</th>\n",
       "      <td>0.138769</td>\n",
       "    </tr>\n",
       "    <tr>\n",
       "      <th>oreb_pct</th>\n",
       "      <td>-0.140731</td>\n",
       "    </tr>\n",
       "    <tr>\n",
       "      <th>opp_effective_fg_pct</th>\n",
       "      <td>-1.199585</td>\n",
       "    </tr>\n",
       "    <tr>\n",
       "      <th>opp_fta_rate</th>\n",
       "      <td>-12.568058</td>\n",
       "    </tr>\n",
       "    <tr>\n",
       "      <th>opp_tov_pct</th>\n",
       "      <td>1.067869</td>\n",
       "    </tr>\n",
       "    <tr>\n",
       "      <th>opp_off_reb_pct</th>\n",
       "      <td>-0.065516</td>\n",
       "    </tr>\n",
       "    <tr>\n",
       "      <th>points_off_to</th>\n",
       "      <td>0.300378</td>\n",
       "    </tr>\n",
       "    <tr>\n",
       "      <th>second_chance_pts</th>\n",
       "      <td>0.050263</td>\n",
       "    </tr>\n",
       "    <tr>\n",
       "      <th>fbps</th>\n",
       "      <td>-0.099340</td>\n",
       "    </tr>\n",
       "    <tr>\n",
       "      <th>pts_in_paint</th>\n",
       "      <td>0.089869</td>\n",
       "    </tr>\n",
       "    <tr>\n",
       "      <th>opp_pts_off_to</th>\n",
       "      <td>-0.046192</td>\n",
       "    </tr>\n",
       "    <tr>\n",
       "      <th>opp_second_chance_pts</th>\n",
       "      <td>-0.035112</td>\n",
       "    </tr>\n",
       "    <tr>\n",
       "      <th>opp_fbps</th>\n",
       "      <td>-0.018112</td>\n",
       "    </tr>\n",
       "    <tr>\n",
       "      <th>opp_pts_in_paint</th>\n",
       "      <td>0.041813</td>\n",
       "    </tr>\n",
       "    <tr>\n",
       "      <th>pct_2pt_fg</th>\n",
       "      <td>0.209400</td>\n",
       "    </tr>\n",
       "    <tr>\n",
       "      <th>pct_3pt_fg</th>\n",
       "      <td>0.183067</td>\n",
       "    </tr>\n",
       "    <tr>\n",
       "      <th>pct_pts_2pt</th>\n",
       "      <td>0.092069</td>\n",
       "    </tr>\n",
       "    <tr>\n",
       "      <th>pct_pts_2pt_mr</th>\n",
       "      <td>0.152406</td>\n",
       "    </tr>\n",
       "    <tr>\n",
       "      <th>pct_pts_3pt</th>\n",
       "      <td>0.232890</td>\n",
       "    </tr>\n",
       "    <tr>\n",
       "      <th>pct_pts_fbps</th>\n",
       "      <td>0.090496</td>\n",
       "    </tr>\n",
       "    <tr>\n",
       "      <th>pct_pts_ft</th>\n",
       "      <td>-0.045881</td>\n",
       "    </tr>\n",
       "    <tr>\n",
       "      <th>pct_pts_off_to</th>\n",
       "      <td>-0.300259</td>\n",
       "    </tr>\n",
       "    <tr>\n",
       "      <th>pct_pts_pitp</th>\n",
       "      <td>0.045414</td>\n",
       "    </tr>\n",
       "    <tr>\n",
       "      <th>2pt_fgm_ast_pct</th>\n",
       "      <td>0.030421</td>\n",
       "    </tr>\n",
       "    <tr>\n",
       "      <th>3pt_fgm_ast_pct</th>\n",
       "      <td>-0.002822</td>\n",
       "    </tr>\n",
       "    <tr>\n",
       "      <th>3pt_fgm_uast_pct</th>\n",
       "      <td>-0.009072</td>\n",
       "    </tr>\n",
       "    <tr>\n",
       "      <th>fgm_pct_ast</th>\n",
       "      <td>-0.141666</td>\n",
       "    </tr>\n",
       "    <tr>\n",
       "      <th>fgm_pct_uast</th>\n",
       "      <td>0.341556</td>\n",
       "    </tr>\n",
       "    <tr>\n",
       "      <th>fga</th>\n",
       "      <td>0.969760</td>\n",
       "    </tr>\n",
       "    <tr>\n",
       "      <th>fg_pct</th>\n",
       "      <td>-0.236419</td>\n",
       "    </tr>\n",
       "    <tr>\n",
       "      <th>3pa</th>\n",
       "      <td>0.003569</td>\n",
       "    </tr>\n",
       "    <tr>\n",
       "      <th>3p_pct</th>\n",
       "      <td>0.007708</td>\n",
       "    </tr>\n",
       "    <tr>\n",
       "      <th>fta</th>\n",
       "      <td>0.632204</td>\n",
       "    </tr>\n",
       "    <tr>\n",
       "      <th>ft_pct</th>\n",
       "      <td>0.004830</td>\n",
       "    </tr>\n",
       "    <tr>\n",
       "      <th>oreb</th>\n",
       "      <td>-0.476087</td>\n",
       "    </tr>\n",
       "    <tr>\n",
       "      <th>dreb</th>\n",
       "      <td>0.298738</td>\n",
       "    </tr>\n",
       "    <tr>\n",
       "      <th>tot_reb</th>\n",
       "      <td>-0.177350</td>\n",
       "    </tr>\n",
       "    <tr>\n",
       "      <th>ast</th>\n",
       "      <td>0.403706</td>\n",
       "    </tr>\n",
       "    <tr>\n",
       "      <th>stl</th>\n",
       "      <td>0.019233</td>\n",
       "    </tr>\n",
       "    <tr>\n",
       "      <th>blk</th>\n",
       "      <td>0.013158</td>\n",
       "    </tr>\n",
       "    <tr>\n",
       "      <th>personal_fouls</th>\n",
       "      <td>-0.117738</td>\n",
       "    </tr>\n",
       "    <tr>\n",
       "      <th>Home</th>\n",
       "      <td>0.094966</td>\n",
       "    </tr>\n",
       "  </tbody>\n",
       "</table>\n",
       "</div>"
      ],
      "text/plain": [
       "                       Coefficient\n",
       "game_length              -2.130044\n",
       "ast_pct                   0.349291\n",
       "ast_to_to                 0.118738\n",
       "ast_ratio                -0.205962\n",
       "offensive_reb_pct         0.162868\n",
       "defensive_reb_pct         0.333960\n",
       "reb_pct                  -0.017772\n",
       "to_pct                    0.138769\n",
       "effective_fg_pct         -0.140731\n",
       "ts_pct                    1.688807\n",
       "pace                     -1.138123\n",
       "fta_rate                 -0.329884\n",
       "tov_pct                   0.138769\n",
       "oreb_pct                 -0.140731\n",
       "opp_effective_fg_pct     -1.199585\n",
       "opp_fta_rate            -12.568058\n",
       "opp_tov_pct               1.067869\n",
       "opp_off_reb_pct          -0.065516\n",
       "points_off_to             0.300378\n",
       "second_chance_pts         0.050263\n",
       "fbps                     -0.099340\n",
       "pts_in_paint              0.089869\n",
       "opp_pts_off_to           -0.046192\n",
       "opp_second_chance_pts    -0.035112\n",
       "opp_fbps                 -0.018112\n",
       "opp_pts_in_paint          0.041813\n",
       "pct_2pt_fg                0.209400\n",
       "pct_3pt_fg                0.183067\n",
       "pct_pts_2pt               0.092069\n",
       "pct_pts_2pt_mr            0.152406\n",
       "pct_pts_3pt               0.232890\n",
       "pct_pts_fbps              0.090496\n",
       "pct_pts_ft               -0.045881\n",
       "pct_pts_off_to           -0.300259\n",
       "pct_pts_pitp              0.045414\n",
       "2pt_fgm_ast_pct           0.030421\n",
       "3pt_fgm_ast_pct          -0.002822\n",
       "3pt_fgm_uast_pct         -0.009072\n",
       "fgm_pct_ast              -0.141666\n",
       "fgm_pct_uast              0.341556\n",
       "fga                       0.969760\n",
       "fg_pct                   -0.236419\n",
       "3pa                       0.003569\n",
       "3p_pct                    0.007708\n",
       "fta                       0.632204\n",
       "ft_pct                    0.004830\n",
       "oreb                     -0.476087\n",
       "dreb                      0.298738\n",
       "tot_reb                  -0.177350\n",
       "ast                       0.403706\n",
       "stl                       0.019233\n",
       "blk                       0.013158\n",
       "personal_fouls           -0.117738\n",
       "Home                      0.094966"
      ]
     },
     "execution_count": 305,
     "metadata": {},
     "output_type": "execute_result"
    }
   ],
   "source": [
    "pd.DataFrame(lg.coef_[0],X_test.columns,columns=['Coefficient'])"
   ]
  },
  {
   "cell_type": "code",
   "execution_count": 306,
   "metadata": {},
   "outputs": [
    {
     "data": {
      "text/plain": [
       "array([ 0.00086762])"
      ]
     },
     "execution_count": 306,
     "metadata": {},
     "output_type": "execute_result"
    }
   ],
   "source": [
    "lg.intercept_.astype(float)"
   ]
  },
  {
   "cell_type": "code",
   "execution_count": null,
   "metadata": {},
   "outputs": [],
   "source": []
  },
  {
   "cell_type": "code",
   "execution_count": null,
   "metadata": {},
   "outputs": [],
   "source": []
  },
  {
   "cell_type": "code",
   "execution_count": null,
   "metadata": {},
   "outputs": [],
   "source": []
  }
 ],
 "metadata": {
  "kernelspec": {
   "display_name": "Python 3",
   "language": "python",
   "name": "python3"
  },
  "language_info": {
   "codemirror_mode": {
    "name": "ipython",
    "version": 3
   },
   "file_extension": ".py",
   "mimetype": "text/x-python",
   "name": "python",
   "nbconvert_exporter": "python",
   "pygments_lexer": "ipython3",
   "version": "3.6.3"
  }
 },
 "nbformat": 4,
 "nbformat_minor": 2
}
