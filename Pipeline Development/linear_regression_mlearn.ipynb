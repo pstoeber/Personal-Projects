{
 "cells": [
  {
   "cell_type": "code",
   "execution_count": 1710,
   "metadata": {},
   "outputs": [
    {
     "data": {
      "text/plain": [
       "<function cufflinks.offline.go_offline(connected=False)>"
      ]
     },
     "execution_count": 1710,
     "metadata": {},
     "output_type": "execute_result"
    }
   ],
   "source": [
    "import numpy as np\n",
    "import pandas as pd\n",
    "import matplotlib.pyplot as plt\n",
    "import seaborn as sns\n",
    "import pymysql\n",
    "import cufflinks as cf\n",
    "import datetime\n",
    "%matplotlib inline\n",
    "cf.go_offline"
   ]
  },
  {
   "cell_type": "code",
   "execution_count": 1711,
   "metadata": {},
   "outputs": [],
   "source": [
    "conn = pymysql.connect(host='localhost', user='root', password='Sk1ttles', db='nba_stats_prod')"
   ]
  },
  {
   "cell_type": "code",
   "execution_count": 1658,
   "metadata": {},
   "outputs": [],
   "source": [
    "train_set = \"\"\"select play.player_id,\n",
    "       box_view.team,\n",
    "       box_view.game_hash,\n",
    "       box_view.game_date,\n",
    "       box_view.home_away,\n",
    "       basic.minutes_played,\n",
    "       basic.fg,\n",
    "       basic.fga,\n",
    "       basic.fg_pct,\n",
    "       basic.3p,\n",
    "       basic.3pa,\n",
    "       basic.3p_pct,\n",
    "       basic.ft,\n",
    "       basic.ft_pct,\n",
    "       basic.orb,\n",
    "       basic.drb,\n",
    "       basic.trb,\n",
    "       basic.ast,\n",
    "       basic.stl,\n",
    "       basic.blk,\n",
    "       basic.tov,\n",
    "       basic.pf,\n",
    "       adv.true_shooting_pct,\n",
    "       adv.effective_fg_pct,\n",
    "       adv.3P_attempt_rate,\n",
    "       adv.FT_attempt_rate,\n",
    "       adv.offensive_reb_rate,\n",
    "       adv.defensive_reb_rate,\n",
    "       adv.total_reb_pct,\n",
    "       adv.assist_pct,\n",
    "       adv.steal_pct,\n",
    "       adv.block_pct,\n",
    "       adv.turnover_pct,\n",
    "       adv.usage_pct,\n",
    "       adv.offensive_rating,\n",
    "       adv.defensive_rating,\n",
    "       basic.pts\n",
    "from box_scores_map_view as box_view\n",
    "inner join game_date_lookup as lu on box_view.game_date = lu.day\n",
    "inner join player_team_map as play_m on ( (box_view.team = play_m.team) and (\n",
    "        lu.season = play_m.season) )\n",
    "inner join basic_box_stats as basic on ( (box_view.game_hash = basic.game_hash) and (\n",
    "        play_m.player_id = basic.player_id) )\n",
    "inner join advanced_box_stats as adv on ( (box_view.game_hash = adv.game_hash) and (\n",
    "        play_m.player_id = adv.player_id) )\n",
    "inner join player_info as play on play_m.player_id = play.player_id\n",
    "where lu.season >= 2014 and\n",
    "      box_view.game_hash not in (select game_hash\n",
    "                                 from box_scores_map_view\n",
    "                                 where team like 'Washington%' and\n",
    "                                       game_date > (select max(game_date) -26  from box_scores_map_view where team like 'Washington%'))\n",
    "order by box_view.game_date desc\"\"\""
   ]
  },
  {
   "cell_type": "code",
   "execution_count": 1659,
   "metadata": {},
   "outputs": [],
   "source": [
    "test_set = \"\"\"select player.player_id,\n",
    "       bm.team,\n",
    "       bm.home_away,\n",
    "       basic.minutes_played,\n",
    "       basic.fg,\n",
    "       basic.fga,\n",
    "       basic.fg_pct,\n",
    "       basic.3p,\n",
    "       basic.3pa,\n",
    "       basic.3p_pct,\n",
    "       basic.ft,\n",
    "       basic.ft_pct,\n",
    "       basic.orb,\n",
    "       basic.drb,\n",
    "       basic.trb,\n",
    "       basic.ast,\n",
    "       basic.stl,\n",
    "       basic.blk,\n",
    "       basic.tov,\n",
    "       basic.pf,\n",
    "       adv.true_shooting_pct,\n",
    "       adv.effective_fg_pct,\n",
    "       adv.3P_attempt_rate,\n",
    "       adv.FT_attempt_rate,\n",
    "       adv.offensive_reb_rate,\n",
    "       adv.defensive_reb_rate,\n",
    "       adv.total_reb_pct,\n",
    "       adv.assist_pct,\n",
    "       adv.steal_pct,\n",
    "       adv.block_pct,\n",
    "       adv.turnover_pct,\n",
    "       adv.usage_pct,\n",
    "       adv.offensive_rating,\n",
    "       adv.defensive_rating,\n",
    "       basic.pts\n",
    "from (\n",
    "\n",
    "    select game_hash, team, game_date, home_away\n",
    "    from box_scores_map_view\n",
    "    where team like 'Washington%' /*and\n",
    "          game_date = (select max(game_date) from box_scores_map_view where team like 'Washington%')*/\n",
    "     order by game_date desc limit 12\n",
    "\n",
    "         ) as bm\n",
    "inner join game_date_lookup as lu on bm.game_date = lu.day\n",
    "\n",
    "inner join (\n",
    "\n",
    "    select player_id, team\n",
    "    from player_team_map\n",
    "    where team like 'Washington%' and\n",
    "          season = 2018\n",
    "\n",
    "    ) as player on bm.team = player.team\n",
    "\n",
    "inner join basic_box_stats as basic on ( (bm.game_hash = basic.game_hash) and (player.player_id = basic.player_id) )\n",
    "inner join advanced_box_stats as adv on ( (bm.game_hash = adv.game_hash) and (player.player_id = adv.player_id) )\n",
    "where bm.team like 'Washington%' and\n",
    "      lu.season = 2018\"\"\""
   ]
  },
  {
   "cell_type": "code",
   "execution_count": 1684,
   "metadata": {},
   "outputs": [],
   "source": [
    "train_df = pd.read_sql(train_set, con=conn)"
   ]
  },
  {
   "cell_type": "code",
   "execution_count": 1685,
   "metadata": {},
   "outputs": [],
   "source": [
    "test_df = pd.read_sql(test_set, con=conn)"
   ]
  },
  {
   "cell_type": "code",
   "execution_count": 1662,
   "metadata": {},
   "outputs": [],
   "source": [
    "#sns.jointplot(x='fg_pct', y='pts', data=home_box_data, kind='kde')"
   ]
  },
  {
   "cell_type": "code",
   "execution_count": 1663,
   "metadata": {},
   "outputs": [],
   "source": [
    "#sns.pairplot(box_data, hue='home_away')"
   ]
  },
  {
   "cell_type": "code",
   "execution_count": 1664,
   "metadata": {},
   "outputs": [],
   "source": [
    "#sns.jointplot(x='pts', y='3p_pct', data=box_data)"
   ]
  },
  {
   "cell_type": "code",
   "execution_count": 1665,
   "metadata": {},
   "outputs": [],
   "source": [
    "#sns.jointplot(x='fg_pct', y='pts', data=box_data)"
   ]
  },
  {
   "cell_type": "code",
   "execution_count": 1666,
   "metadata": {},
   "outputs": [
    {
     "data": {
      "text/plain": [
       "Index(['player_id', 'team', 'game_hash', 'game_date', 'home_away',\n",
       "       'minutes_played', 'fg', 'fga', 'fg_pct', '3p', '3pa', '3p_pct', 'ft',\n",
       "       'ft_pct', 'orb', 'drb', 'trb', 'ast', 'stl', 'blk', 'tov', 'pf',\n",
       "       'true_shooting_pct', 'effective_fg_pct', '3P_attempt_rate',\n",
       "       'FT_attempt_rate', 'offensive_reb_rate', 'defensive_reb_rate',\n",
       "       'total_reb_pct', 'assist_pct', 'steal_pct', 'block_pct', 'turnover_pct',\n",
       "       'usage_pct', 'offensive_rating', 'defensive_rating', 'pts'],\n",
       "      dtype='object')"
      ]
     },
     "execution_count": 1666,
     "metadata": {},
     "output_type": "execute_result"
    }
   ],
   "source": [
    "train_df.columns"
   ]
  },
  {
   "cell_type": "code",
   "execution_count": null,
   "metadata": {},
   "outputs": [],
   "source": []
  },
  {
   "cell_type": "code",
   "execution_count": 1667,
   "metadata": {},
   "outputs": [],
   "source": [
    "#box_num_data = box_data[['FG', 'FGA',\n",
    " #      'FG_PCT', '3P', '3PA', '3P_PCT', 'FT', 'FT_PCT', 'ORB', 'DRB', 'TRB',\n",
    "  #     'AST', 'STL', 'BLK', 'TOV', 'PF', 'PTS', 'plus_minus']]"
   ]
  },
  {
   "cell_type": "code",
   "execution_count": 1668,
   "metadata": {},
   "outputs": [],
   "source": [
    "#sns.pairplot(box_data)"
   ]
  },
  {
   "cell_type": "code",
   "execution_count": 1669,
   "metadata": {},
   "outputs": [],
   "source": [
    "#sns.jointplot(x='fga', y='pts', data=box_data, kind='reg')"
   ]
  },
  {
   "cell_type": "code",
   "execution_count": 1670,
   "metadata": {},
   "outputs": [],
   "source": [
    "#sns.lmplot(x='fg_pct', y='pts', data=box_data)"
   ]
  },
  {
   "cell_type": "code",
   "execution_count": 1671,
   "metadata": {},
   "outputs": [],
   "source": [
    "#box_data['fg_pct'].head(100).iplot(kind='scatter')"
   ]
  },
  {
   "cell_type": "code",
   "execution_count": 1672,
   "metadata": {},
   "outputs": [
    {
     "data": {
      "text/plain": [
       "player_id             133343\n",
       "team                  133343\n",
       "game_hash             133343\n",
       "game_date             133343\n",
       "home_away             133343\n",
       "minutes_played        133343\n",
       "fg                    133343\n",
       "fga                   133343\n",
       "fg_pct                133343\n",
       "3p                    133343\n",
       "3pa                   133343\n",
       "3p_pct                133343\n",
       "ft                    133343\n",
       "ft_pct                133343\n",
       "orb                   133343\n",
       "drb                   133343\n",
       "trb                   133343\n",
       "ast                   133343\n",
       "stl                   133343\n",
       "blk                   133343\n",
       "tov                   133343\n",
       "pf                    133343\n",
       "true_shooting_pct     133343\n",
       "effective_fg_pct      133343\n",
       "3P_attempt_rate       133343\n",
       "FT_attempt_rate       133343\n",
       "offensive_reb_rate    133343\n",
       "defensive_reb_rate    133343\n",
       "total_reb_pct         133343\n",
       "assist_pct            133343\n",
       "steal_pct             133343\n",
       "block_pct             133343\n",
       "turnover_pct          133343\n",
       "usage_pct             133343\n",
       "offensive_rating      133343\n",
       "defensive_rating      133343\n",
       "pts                   133343\n",
       "dtype: int64"
      ]
     },
     "execution_count": 1672,
     "metadata": {},
     "output_type": "execute_result"
    }
   ],
   "source": [
    "train_df.count()"
   ]
  },
  {
   "cell_type": "code",
   "execution_count": 1673,
   "metadata": {},
   "outputs": [],
   "source": [
    "def time_convert(time):\n",
    "    time_list = time.split(':')\n",
    " #   print(time_list)\n",
    "    try:\n",
    "        return ((int(time_list[0]) * 60) + int(time_list[1]))\n",
    "    except ValueError:\n",
    "        return 0\n",
    "   # return int(time[0])*60 + int(time[1])"
   ]
  },
  {
   "cell_type": "code",
   "execution_count": 1686,
   "metadata": {},
   "outputs": [
    {
     "data": {
      "text/html": [
       "<div>\n",
       "<style scoped>\n",
       "    .dataframe tbody tr th:only-of-type {\n",
       "        vertical-align: middle;\n",
       "    }\n",
       "\n",
       "    .dataframe tbody tr th {\n",
       "        vertical-align: top;\n",
       "    }\n",
       "\n",
       "    .dataframe thead th {\n",
       "        text-align: right;\n",
       "    }\n",
       "</style>\n",
       "<table border=\"1\" class=\"dataframe\">\n",
       "  <thead>\n",
       "    <tr style=\"text-align: right;\">\n",
       "      <th></th>\n",
       "      <th>player_id</th>\n",
       "      <th>team</th>\n",
       "      <th>game_hash</th>\n",
       "      <th>game_date</th>\n",
       "      <th>home_away</th>\n",
       "      <th>minutes_played</th>\n",
       "      <th>fg</th>\n",
       "      <th>fga</th>\n",
       "      <th>fg_pct</th>\n",
       "      <th>3p</th>\n",
       "      <th>...</th>\n",
       "      <th>defensive_reb_rate</th>\n",
       "      <th>total_reb_pct</th>\n",
       "      <th>assist_pct</th>\n",
       "      <th>steal_pct</th>\n",
       "      <th>block_pct</th>\n",
       "      <th>turnover_pct</th>\n",
       "      <th>usage_pct</th>\n",
       "      <th>offensive_rating</th>\n",
       "      <th>defensive_rating</th>\n",
       "      <th>pts</th>\n",
       "    </tr>\n",
       "  </thead>\n",
       "  <tbody>\n",
       "    <tr>\n",
       "      <th>27802</th>\n",
       "      <td>2596111</td>\n",
       "      <td>Indiana Pacers</td>\n",
       "      <td>d98d8c7cd5feb837fb053e8b9b84d0eb</td>\n",
       "      <td>2017-04-10</td>\n",
       "      <td>Away</td>\n",
       "      <td></td>\n",
       "      <td>0</td>\n",
       "      <td>0</td>\n",
       "      <td>0.0</td>\n",
       "      <td>0</td>\n",
       "      <td>...</td>\n",
       "      <td>0.0</td>\n",
       "      <td>0.0</td>\n",
       "      <td>0.0</td>\n",
       "      <td>0.0</td>\n",
       "      <td>0.0</td>\n",
       "      <td>0.0</td>\n",
       "      <td>0.0</td>\n",
       "      <td>0.0</td>\n",
       "      <td>0.0</td>\n",
       "      <td>1</td>\n",
       "    </tr>\n",
       "    <tr>\n",
       "      <th>103888</th>\n",
       "      <td>5352848</td>\n",
       "      <td>Sacramento Kings</td>\n",
       "      <td>a4c7f534fd805f3b450a0618fbf448fb</td>\n",
       "      <td>2014-11-13</td>\n",
       "      <td>Away</td>\n",
       "      <td></td>\n",
       "      <td>0</td>\n",
       "      <td>0</td>\n",
       "      <td>0.0</td>\n",
       "      <td>0</td>\n",
       "      <td>...</td>\n",
       "      <td>0.0</td>\n",
       "      <td>0.0</td>\n",
       "      <td>0.0</td>\n",
       "      <td>0.0</td>\n",
       "      <td>0.0</td>\n",
       "      <td>0.0</td>\n",
       "      <td>0.0</td>\n",
       "      <td>0.0</td>\n",
       "      <td>0.0</td>\n",
       "      <td>0</td>\n",
       "    </tr>\n",
       "  </tbody>\n",
       "</table>\n",
       "<p>2 rows × 37 columns</p>\n",
       "</div>"
      ],
      "text/plain": [
       "        player_id              team                         game_hash  \\\n",
       "27802     2596111    Indiana Pacers  d98d8c7cd5feb837fb053e8b9b84d0eb   \n",
       "103888    5352848  Sacramento Kings  a4c7f534fd805f3b450a0618fbf448fb   \n",
       "\n",
       "         game_date home_away minutes_played  fg  fga  fg_pct  3p ...   \\\n",
       "27802   2017-04-10      Away                  0    0     0.0   0 ...    \n",
       "103888  2014-11-13      Away                  0    0     0.0   0 ...    \n",
       "\n",
       "        defensive_reb_rate  total_reb_pct  assist_pct  steal_pct  block_pct  \\\n",
       "27802                  0.0            0.0         0.0        0.0        0.0   \n",
       "103888                 0.0            0.0         0.0        0.0        0.0   \n",
       "\n",
       "        turnover_pct  usage_pct  offensive_rating  defensive_rating  pts  \n",
       "27802            0.0        0.0               0.0               0.0    1  \n",
       "103888           0.0        0.0               0.0               0.0    0  \n",
       "\n",
       "[2 rows x 37 columns]"
      ]
     },
     "execution_count": 1686,
     "metadata": {},
     "output_type": "execute_result"
    }
   ],
   "source": [
    "train_df[train_df['minutes_played'] ==''].head()"
   ]
  },
  {
   "cell_type": "code",
   "execution_count": 1687,
   "metadata": {},
   "outputs": [],
   "source": [
    "train_df['minutes_played'] = train_df['minutes_played'].apply(time_convert)"
   ]
  },
  {
   "cell_type": "code",
   "execution_count": 1688,
   "metadata": {},
   "outputs": [],
   "source": [
    "test_df['minutes_played'] = test_df['minutes_played'].apply(time_convert)"
   ]
  },
  {
   "cell_type": "code",
   "execution_count": 1689,
   "metadata": {},
   "outputs": [],
   "source": [
    "train_results = pd.get_dummies(train_df['home_away'], drop_first=True)\n",
    "train_df = pd.concat([train_df, train_results], axis=1)\n",
    "\n",
    "test_results = pd.get_dummies(test_df['home_away'], drop_first=True)\n",
    "test_df = pd.concat([test_df, test_results], axis=1)\n"
   ]
  },
  {
   "cell_type": "code",
   "execution_count": 1690,
   "metadata": {},
   "outputs": [],
   "source": [
    "train_df.drop(['player_id', 'team', 'game_hash', 'game_date', 'home_away'], axis=1, inplace=True)\n",
    "test_df.drop(['home_away'], axis=1, inplace=True)"
   ]
  },
  {
   "cell_type": "code",
   "execution_count": 1691,
   "metadata": {},
   "outputs": [
    {
     "data": {
      "text/plain": [
       "Index(['minutes_played', 'fg', 'fga', 'fg_pct', '3p', '3pa', '3p_pct', 'ft',\n",
       "       'ft_pct', 'orb', 'drb', 'trb', 'ast', 'stl', 'blk', 'tov', 'pf',\n",
       "       'true_shooting_pct', 'effective_fg_pct', '3P_attempt_rate',\n",
       "       'FT_attempt_rate', 'offensive_reb_rate', 'defensive_reb_rate',\n",
       "       'total_reb_pct', 'assist_pct', 'steal_pct', 'block_pct', 'turnover_pct',\n",
       "       'usage_pct', 'offensive_rating', 'defensive_rating', 'pts', 'Home'],\n",
       "      dtype='object')"
      ]
     },
     "execution_count": 1691,
     "metadata": {},
     "output_type": "execute_result"
    }
   ],
   "source": [
    "train_df.columns"
   ]
  },
  {
   "cell_type": "raw",
   "metadata": {},
   "source": []
  },
  {
   "cell_type": "code",
   "execution_count": 1692,
   "metadata": {},
   "outputs": [
    {
     "data": {
      "text/plain": [
       "Index(['player_id', 'team', 'minutes_played', 'fg', 'fga', 'fg_pct', '3p',\n",
       "       '3pa', '3p_pct', 'ft', 'ft_pct', 'orb', 'drb', 'trb', 'ast', 'stl',\n",
       "       'blk', 'tov', 'pf', 'true_shooting_pct', 'effective_fg_pct',\n",
       "       '3P_attempt_rate', 'FT_attempt_rate', 'offensive_reb_rate',\n",
       "       'defensive_reb_rate', 'total_reb_pct', 'assist_pct', 'steal_pct',\n",
       "       'block_pct', 'turnover_pct', 'usage_pct', 'offensive_rating',\n",
       "       'defensive_rating', 'pts', 'Home'],\n",
       "      dtype='object')"
      ]
     },
     "execution_count": 1692,
     "metadata": {},
     "output_type": "execute_result"
    }
   ],
   "source": [
    "test_df.columns"
   ]
  },
  {
   "cell_type": "code",
   "execution_count": 1693,
   "metadata": {},
   "outputs": [],
   "source": [
    "X_train = train_df[['minutes_played', 'fga', 'fg_pct', '3pa', '3p_pct',\n",
    "       'ft_pct', 'orb', 'drb', 'trb', 'ast', 'stl', 'blk', 'tov', 'pf',\n",
    "       'true_shooting_pct', 'effective_fg_pct', '3P_attempt_rate',\n",
    "       'FT_attempt_rate', 'offensive_reb_rate', 'defensive_reb_rate',\n",
    "       'total_reb_pct', 'assist_pct', 'steal_pct', 'block_pct', 'turnover_pct', 'Home']]\n",
    "y_train = train_df['pts']"
   ]
  },
  {
   "cell_type": "code",
   "execution_count": 1694,
   "metadata": {},
   "outputs": [
    {
     "data": {
      "text/html": [
       "<div>\n",
       "<style scoped>\n",
       "    .dataframe tbody tr th:only-of-type {\n",
       "        vertical-align: middle;\n",
       "    }\n",
       "\n",
       "    .dataframe tbody tr th {\n",
       "        vertical-align: top;\n",
       "    }\n",
       "\n",
       "    .dataframe thead th {\n",
       "        text-align: right;\n",
       "    }\n",
       "</style>\n",
       "<table border=\"1\" class=\"dataframe\">\n",
       "  <thead>\n",
       "    <tr style=\"text-align: right;\">\n",
       "      <th></th>\n",
       "      <th>minutes_played</th>\n",
       "      <th>fga</th>\n",
       "      <th>fg_pct</th>\n",
       "      <th>3pa</th>\n",
       "      <th>3p_pct</th>\n",
       "      <th>ft_pct</th>\n",
       "      <th>orb</th>\n",
       "      <th>drb</th>\n",
       "      <th>trb</th>\n",
       "      <th>ast</th>\n",
       "      <th>...</th>\n",
       "      <th>3P_attempt_rate</th>\n",
       "      <th>FT_attempt_rate</th>\n",
       "      <th>offensive_reb_rate</th>\n",
       "      <th>defensive_reb_rate</th>\n",
       "      <th>total_reb_pct</th>\n",
       "      <th>assist_pct</th>\n",
       "      <th>steal_pct</th>\n",
       "      <th>block_pct</th>\n",
       "      <th>turnover_pct</th>\n",
       "      <th>Home</th>\n",
       "    </tr>\n",
       "  </thead>\n",
       "  <tbody>\n",
       "    <tr>\n",
       "      <th>0</th>\n",
       "      <td>1016</td>\n",
       "      <td>4</td>\n",
       "      <td>0.500</td>\n",
       "      <td>2</td>\n",
       "      <td>0.500</td>\n",
       "      <td>0.000</td>\n",
       "      <td>0</td>\n",
       "      <td>0</td>\n",
       "      <td>0</td>\n",
       "      <td>0</td>\n",
       "      <td>...</td>\n",
       "      <td>0.500</td>\n",
       "      <td>0.000</td>\n",
       "      <td>0.0</td>\n",
       "      <td>0.0</td>\n",
       "      <td>0.0</td>\n",
       "      <td>0.0</td>\n",
       "      <td>0.0</td>\n",
       "      <td>0.0</td>\n",
       "      <td>0.0</td>\n",
       "      <td>0</td>\n",
       "    </tr>\n",
       "    <tr>\n",
       "      <th>1</th>\n",
       "      <td>2261</td>\n",
       "      <td>22</td>\n",
       "      <td>0.455</td>\n",
       "      <td>8</td>\n",
       "      <td>0.250</td>\n",
       "      <td>1.000</td>\n",
       "      <td>1</td>\n",
       "      <td>5</td>\n",
       "      <td>6</td>\n",
       "      <td>3</td>\n",
       "      <td>...</td>\n",
       "      <td>0.364</td>\n",
       "      <td>0.045</td>\n",
       "      <td>2.5</td>\n",
       "      <td>14.2</td>\n",
       "      <td>8.0</td>\n",
       "      <td>10.8</td>\n",
       "      <td>1.2</td>\n",
       "      <td>0.0</td>\n",
       "      <td>0.0</td>\n",
       "      <td>1</td>\n",
       "    </tr>\n",
       "    <tr>\n",
       "      <th>2</th>\n",
       "      <td>1916</td>\n",
       "      <td>15</td>\n",
       "      <td>0.467</td>\n",
       "      <td>5</td>\n",
       "      <td>0.600</td>\n",
       "      <td>1.000</td>\n",
       "      <td>1</td>\n",
       "      <td>2</td>\n",
       "      <td>3</td>\n",
       "      <td>5</td>\n",
       "      <td>...</td>\n",
       "      <td>0.333</td>\n",
       "      <td>0.333</td>\n",
       "      <td>3.3</td>\n",
       "      <td>8.4</td>\n",
       "      <td>5.6</td>\n",
       "      <td>27.4</td>\n",
       "      <td>1.7</td>\n",
       "      <td>0.0</td>\n",
       "      <td>10.4</td>\n",
       "      <td>0</td>\n",
       "    </tr>\n",
       "    <tr>\n",
       "      <th>3</th>\n",
       "      <td>2445</td>\n",
       "      <td>18</td>\n",
       "      <td>0.500</td>\n",
       "      <td>5</td>\n",
       "      <td>0.200</td>\n",
       "      <td>0.000</td>\n",
       "      <td>5</td>\n",
       "      <td>9</td>\n",
       "      <td>14</td>\n",
       "      <td>9</td>\n",
       "      <td>...</td>\n",
       "      <td>0.278</td>\n",
       "      <td>0.000</td>\n",
       "      <td>11.5</td>\n",
       "      <td>23.6</td>\n",
       "      <td>17.2</td>\n",
       "      <td>28.3</td>\n",
       "      <td>3.4</td>\n",
       "      <td>3.7</td>\n",
       "      <td>18.2</td>\n",
       "      <td>1</td>\n",
       "    </tr>\n",
       "    <tr>\n",
       "      <th>4</th>\n",
       "      <td>2742</td>\n",
       "      <td>26</td>\n",
       "      <td>0.500</td>\n",
       "      <td>2</td>\n",
       "      <td>0.500</td>\n",
       "      <td>0.778</td>\n",
       "      <td>2</td>\n",
       "      <td>17</td>\n",
       "      <td>19</td>\n",
       "      <td>1</td>\n",
       "      <td>...</td>\n",
       "      <td>0.077</td>\n",
       "      <td>0.346</td>\n",
       "      <td>4.7</td>\n",
       "      <td>35.0</td>\n",
       "      <td>20.8</td>\n",
       "      <td>3.8</td>\n",
       "      <td>1.0</td>\n",
       "      <td>4.4</td>\n",
       "      <td>9.1</td>\n",
       "      <td>0</td>\n",
       "    </tr>\n",
       "    <tr>\n",
       "      <th>5</th>\n",
       "      <td>1991</td>\n",
       "      <td>11</td>\n",
       "      <td>0.182</td>\n",
       "      <td>5</td>\n",
       "      <td>0.200</td>\n",
       "      <td>0.500</td>\n",
       "      <td>2</td>\n",
       "      <td>6</td>\n",
       "      <td>8</td>\n",
       "      <td>0</td>\n",
       "      <td>...</td>\n",
       "      <td>0.455</td>\n",
       "      <td>0.182</td>\n",
       "      <td>6.4</td>\n",
       "      <td>24.1</td>\n",
       "      <td>14.3</td>\n",
       "      <td>0.0</td>\n",
       "      <td>1.6</td>\n",
       "      <td>0.0</td>\n",
       "      <td>20.2</td>\n",
       "      <td>0</td>\n",
       "    </tr>\n",
       "    <tr>\n",
       "      <th>6</th>\n",
       "      <td>2245</td>\n",
       "      <td>9</td>\n",
       "      <td>0.444</td>\n",
       "      <td>6</td>\n",
       "      <td>0.500</td>\n",
       "      <td>0.500</td>\n",
       "      <td>0</td>\n",
       "      <td>7</td>\n",
       "      <td>7</td>\n",
       "      <td>1</td>\n",
       "      <td>...</td>\n",
       "      <td>0.667</td>\n",
       "      <td>0.222</td>\n",
       "      <td>0.0</td>\n",
       "      <td>17.6</td>\n",
       "      <td>9.4</td>\n",
       "      <td>3.6</td>\n",
       "      <td>0.0</td>\n",
       "      <td>0.0</td>\n",
       "      <td>9.2</td>\n",
       "      <td>0</td>\n",
       "    </tr>\n",
       "    <tr>\n",
       "      <th>7</th>\n",
       "      <td>2424</td>\n",
       "      <td>12</td>\n",
       "      <td>0.333</td>\n",
       "      <td>3</td>\n",
       "      <td>0.333</td>\n",
       "      <td>0.500</td>\n",
       "      <td>1</td>\n",
       "      <td>1</td>\n",
       "      <td>2</td>\n",
       "      <td>4</td>\n",
       "      <td>...</td>\n",
       "      <td>0.250</td>\n",
       "      <td>0.167</td>\n",
       "      <td>2.6</td>\n",
       "      <td>2.3</td>\n",
       "      <td>2.5</td>\n",
       "      <td>13.1</td>\n",
       "      <td>0.0</td>\n",
       "      <td>0.0</td>\n",
       "      <td>23.7</td>\n",
       "      <td>0</td>\n",
       "    </tr>\n",
       "    <tr>\n",
       "      <th>8</th>\n",
       "      <td>1226</td>\n",
       "      <td>5</td>\n",
       "      <td>0.600</td>\n",
       "      <td>2</td>\n",
       "      <td>0.500</td>\n",
       "      <td>1.000</td>\n",
       "      <td>0</td>\n",
       "      <td>2</td>\n",
       "      <td>2</td>\n",
       "      <td>2</td>\n",
       "      <td>...</td>\n",
       "      <td>0.400</td>\n",
       "      <td>0.200</td>\n",
       "      <td>0.0</td>\n",
       "      <td>10.4</td>\n",
       "      <td>5.8</td>\n",
       "      <td>14.3</td>\n",
       "      <td>2.6</td>\n",
       "      <td>0.0</td>\n",
       "      <td>26.9</td>\n",
       "      <td>1</td>\n",
       "    </tr>\n",
       "    <tr>\n",
       "      <th>9</th>\n",
       "      <td>1846</td>\n",
       "      <td>8</td>\n",
       "      <td>0.250</td>\n",
       "      <td>5</td>\n",
       "      <td>0.200</td>\n",
       "      <td>0.000</td>\n",
       "      <td>0</td>\n",
       "      <td>3</td>\n",
       "      <td>3</td>\n",
       "      <td>2</td>\n",
       "      <td>...</td>\n",
       "      <td>0.625</td>\n",
       "      <td>0.000</td>\n",
       "      <td>0.0</td>\n",
       "      <td>10.4</td>\n",
       "      <td>5.8</td>\n",
       "      <td>8.5</td>\n",
       "      <td>0.0</td>\n",
       "      <td>0.0</td>\n",
       "      <td>20.0</td>\n",
       "      <td>1</td>\n",
       "    </tr>\n",
       "  </tbody>\n",
       "</table>\n",
       "<p>10 rows × 26 columns</p>\n",
       "</div>"
      ],
      "text/plain": [
       "   minutes_played  fga  fg_pct  3pa  3p_pct  ft_pct  orb  drb  trb  ast  ...   \\\n",
       "0            1016    4   0.500    2   0.500   0.000    0    0    0    0  ...    \n",
       "1            2261   22   0.455    8   0.250   1.000    1    5    6    3  ...    \n",
       "2            1916   15   0.467    5   0.600   1.000    1    2    3    5  ...    \n",
       "3            2445   18   0.500    5   0.200   0.000    5    9   14    9  ...    \n",
       "4            2742   26   0.500    2   0.500   0.778    2   17   19    1  ...    \n",
       "5            1991   11   0.182    5   0.200   0.500    2    6    8    0  ...    \n",
       "6            2245    9   0.444    6   0.500   0.500    0    7    7    1  ...    \n",
       "7            2424   12   0.333    3   0.333   0.500    1    1    2    4  ...    \n",
       "8            1226    5   0.600    2   0.500   1.000    0    2    2    2  ...    \n",
       "9            1846    8   0.250    5   0.200   0.000    0    3    3    2  ...    \n",
       "\n",
       "   3P_attempt_rate  FT_attempt_rate  offensive_reb_rate  defensive_reb_rate  \\\n",
       "0            0.500            0.000                 0.0                 0.0   \n",
       "1            0.364            0.045                 2.5                14.2   \n",
       "2            0.333            0.333                 3.3                 8.4   \n",
       "3            0.278            0.000                11.5                23.6   \n",
       "4            0.077            0.346                 4.7                35.0   \n",
       "5            0.455            0.182                 6.4                24.1   \n",
       "6            0.667            0.222                 0.0                17.6   \n",
       "7            0.250            0.167                 2.6                 2.3   \n",
       "8            0.400            0.200                 0.0                10.4   \n",
       "9            0.625            0.000                 0.0                10.4   \n",
       "\n",
       "   total_reb_pct  assist_pct  steal_pct  block_pct  turnover_pct  Home  \n",
       "0            0.0         0.0        0.0        0.0           0.0     0  \n",
       "1            8.0        10.8        1.2        0.0           0.0     1  \n",
       "2            5.6        27.4        1.7        0.0          10.4     0  \n",
       "3           17.2        28.3        3.4        3.7          18.2     1  \n",
       "4           20.8         3.8        1.0        4.4           9.1     0  \n",
       "5           14.3         0.0        1.6        0.0          20.2     0  \n",
       "6            9.4         3.6        0.0        0.0           9.2     0  \n",
       "7            2.5        13.1        0.0        0.0          23.7     0  \n",
       "8            5.8        14.3        2.6        0.0          26.9     1  \n",
       "9            5.8         8.5        0.0        0.0          20.0     1  \n",
       "\n",
       "[10 rows x 26 columns]"
      ]
     },
     "execution_count": 1694,
     "metadata": {},
     "output_type": "execute_result"
    }
   ],
   "source": [
    "X_train.head(10)"
   ]
  },
  {
   "cell_type": "code",
   "execution_count": 1564,
   "metadata": {},
   "outputs": [],
   "source": [
    "dr"
   ]
  },
  {
   "cell_type": "code",
   "execution_count": 1695,
   "metadata": {},
   "outputs": [],
   "source": [
    "X_train, X_test, y_train, y_test = train_test_split(X_train, y_train, test_size=0.3)"
   ]
  },
  {
   "cell_type": "code",
   "execution_count": 1696,
   "metadata": {},
   "outputs": [],
   "source": [
    "from sklearn.linear_model import LinearRegression"
   ]
  },
  {
   "cell_type": "code",
   "execution_count": 1697,
   "metadata": {},
   "outputs": [],
   "source": [
    "lm = LinearRegression()"
   ]
  },
  {
   "cell_type": "code",
   "execution_count": 1698,
   "metadata": {},
   "outputs": [
    {
     "data": {
      "text/plain": [
       "LinearRegression(copy_X=True, fit_intercept=True, n_jobs=1, normalize=False)"
      ]
     },
     "execution_count": 1698,
     "metadata": {},
     "output_type": "execute_result"
    }
   ],
   "source": [
    "lm.fit(X_train, y_train)"
   ]
  },
  {
   "cell_type": "code",
   "execution_count": 1699,
   "metadata": {},
   "outputs": [
    {
     "data": {
      "text/plain": [
       "array([ -9.69164035e-04,   1.06925960e+00,   4.07590915e+00,\n",
       "         2.53051378e-01,   2.72394765e+00,   1.60458816e+00,\n",
       "        -2.17548218e-02,   9.48964967e-02,   7.31416749e-02,\n",
       "        -1.68589222e-02,   1.20357102e-01,   2.01301795e-01,\n",
       "         1.07443735e-01,  -5.71077675e-02,   4.61670104e+00,\n",
       "        -8.45806361e-01,  -2.09294848e+00,   1.43994984e+00,\n",
       "        -9.01153319e-02,  -9.26556903e-02,   1.46797925e-01,\n",
       "         3.40833120e-03,  -3.90631220e-02,  -2.84820978e-02,\n",
       "         7.90059427e-04,   1.32511632e-01])"
      ]
     },
     "execution_count": 1699,
     "metadata": {},
     "output_type": "execute_result"
    }
   ],
   "source": [
    "lm.coef_"
   ]
  },
  {
   "cell_type": "code",
   "execution_count": 1700,
   "metadata": {},
   "outputs": [],
   "source": [
    "predictions = lm.predict(X_test)"
   ]
  },
  {
   "cell_type": "code",
   "execution_count": null,
   "metadata": {},
   "outputs": [],
   "source": []
  },
  {
   "cell_type": "code",
   "execution_count": 1701,
   "metadata": {},
   "outputs": [
    {
     "data": {
      "text/plain": [
       "[<matplotlib.lines.Line2D at 0x130c9acc0>]"
      ]
     },
     "execution_count": 1701,
     "metadata": {},
     "output_type": "execute_result"
    },
    {
     "data": {
      "image/png": "[encoded data removed]",
      "text/plain": [
       "<Figure size 432x288 with 1 Axes>"
      ]
     },
     "metadata": {},
     "output_type": "display_data"
    }
   ],
   "source": [
    "plt.scatter(y_test, predictions)\n",
    "plt.xlabel('y_train')\n",
    "plt.ylabel('predictions')\n",
    "\n",
    "z = np.polyfit(y_test, predictions, 1)\n",
    "p = np.poly1d(z)\n",
    "plt.plot(y_test,p(y_test),\"r\")"
   ]
  },
  {
   "cell_type": "code",
   "execution_count": 1703,
   "metadata": {},
   "outputs": [
    {
     "data": {
      "text/plain": [
       "0.88995864022616156"
      ]
     },
     "execution_count": 1703,
     "metadata": {},
     "output_type": "execute_result"
    }
   ],
   "source": [
    "lm.score(X_test, y_test)"
   ]
  },
  {
   "cell_type": "code",
   "execution_count": 1709,
   "metadata": {},
   "outputs": [],
   "source": [
    "#pred_df = pd.concat([pd.DataFrame(y_test, index=None), pd.DataFrame(predictions, index=None)], axis =1)\n",
    "\n",
    "#pred_df\n",
    "#sns.lmplot(x=y_test, y=predictions, data=pred_df)"
   ]
  },
  {
   "cell_type": "code",
   "execution_count": null,
   "metadata": {},
   "outputs": [],
   "source": []
  },
  {
   "cell_type": "code",
   "execution_count": 1587,
   "metadata": {},
   "outputs": [
    {
     "data": {
      "text/plain": [
       "<matplotlib.axes._subplots.AxesSubplot at 0x1101a0ba8>"
      ]
     },
     "execution_count": 1587,
     "metadata": {},
     "output_type": "execute_result"
    },
    {
     "data": {
      "image/png": "[encoded data removed]",
      "text/plain": [
       "<Figure size 432x288 with 1 Axes>"
      ]
     },
     "metadata": {},
     "output_type": "display_data"
    }
   ],
   "source": [
    "sns.set_style('whitegrid')\n",
    "sns.residplot(x=y_test, y=predictions)"
   ]
  },
  {
   "cell_type": "code",
   "execution_count": 1574,
   "metadata": {},
   "outputs": [
    {
     "data": {
      "text/plain": [
       "<matplotlib.axes._subplots.AxesSubplot at 0x10fa23240>"
      ]
     },
     "execution_count": 1574,
     "metadata": {},
     "output_type": "execute_result"
    },
    {
     "data": {
      "image/png": "[encoded data removed]",
      "text/plain": [
       "<Figure size 432x288 with 1 Axes>"
      ]
     },
     "metadata": {},
     "output_type": "display_data"
    }
   ],
   "source": [
    "sns.distplot(y_test-predictions, bins=50)"
   ]
  },
  {
   "cell_type": "code",
   "execution_count": 1575,
   "metadata": {},
   "outputs": [],
   "source": [
    "coeff_df = pd.DataFrame(lm.coef_,X_test.columns,columns=['Coefficient'])"
   ]
  },
  {
   "cell_type": "code",
   "execution_count": 1576,
   "metadata": {},
   "outputs": [
    {
     "data": {
      "text/html": [
       "<div>\n",
       "<style scoped>\n",
       "    .dataframe tbody tr th:only-of-type {\n",
       "        vertical-align: middle;\n",
       "    }\n",
       "\n",
       "    .dataframe tbody tr th {\n",
       "        vertical-align: top;\n",
       "    }\n",
       "\n",
       "    .dataframe thead th {\n",
       "        text-align: right;\n",
       "    }\n",
       "</style>\n",
       "<table border=\"1\" class=\"dataframe\">\n",
       "  <thead>\n",
       "    <tr style=\"text-align: right;\">\n",
       "      <th></th>\n",
       "      <th>Coefficient</th>\n",
       "    </tr>\n",
       "  </thead>\n",
       "  <tbody>\n",
       "    <tr>\n",
       "      <th>minutes_played</th>\n",
       "      <td>-0.000969</td>\n",
       "    </tr>\n",
       "    <tr>\n",
       "      <th>fga</th>\n",
       "      <td>1.071276</td>\n",
       "    </tr>\n",
       "    <tr>\n",
       "      <th>fg_pct</th>\n",
       "      <td>3.903490</td>\n",
       "    </tr>\n",
       "    <tr>\n",
       "      <th>3pa</th>\n",
       "      <td>0.247406</td>\n",
       "    </tr>\n",
       "    <tr>\n",
       "      <th>3p_pct</th>\n",
       "      <td>2.704487</td>\n",
       "    </tr>\n",
       "    <tr>\n",
       "      <th>ft_pct</th>\n",
       "      <td>1.633534</td>\n",
       "    </tr>\n",
       "    <tr>\n",
       "      <th>orb</th>\n",
       "      <td>-0.028249</td>\n",
       "    </tr>\n",
       "    <tr>\n",
       "      <th>drb</th>\n",
       "      <td>0.096961</td>\n",
       "    </tr>\n",
       "    <tr>\n",
       "      <th>trb</th>\n",
       "      <td>0.068712</td>\n",
       "    </tr>\n",
       "    <tr>\n",
       "      <th>ast</th>\n",
       "      <td>-0.012351</td>\n",
       "    </tr>\n",
       "    <tr>\n",
       "      <th>stl</th>\n",
       "      <td>0.106959</td>\n",
       "    </tr>\n",
       "    <tr>\n",
       "      <th>blk</th>\n",
       "      <td>0.191775</td>\n",
       "    </tr>\n",
       "    <tr>\n",
       "      <th>tov</th>\n",
       "      <td>0.095948</td>\n",
       "    </tr>\n",
       "    <tr>\n",
       "      <th>pf</th>\n",
       "      <td>-0.047448</td>\n",
       "    </tr>\n",
       "    <tr>\n",
       "      <th>true_shooting_pct</th>\n",
       "      <td>4.525720</td>\n",
       "    </tr>\n",
       "    <tr>\n",
       "      <th>effective_fg_pct</th>\n",
       "      <td>-0.586763</td>\n",
       "    </tr>\n",
       "    <tr>\n",
       "      <th>3P_attempt_rate</th>\n",
       "      <td>-2.107645</td>\n",
       "    </tr>\n",
       "    <tr>\n",
       "      <th>FT_attempt_rate</th>\n",
       "      <td>1.378152</td>\n",
       "    </tr>\n",
       "    <tr>\n",
       "      <th>offensive_reb_rate</th>\n",
       "      <td>-0.084135</td>\n",
       "    </tr>\n",
       "    <tr>\n",
       "      <th>defensive_reb_rate</th>\n",
       "      <td>-0.086187</td>\n",
       "    </tr>\n",
       "    <tr>\n",
       "      <th>total_reb_pct</th>\n",
       "      <td>0.134876</td>\n",
       "    </tr>\n",
       "    <tr>\n",
       "      <th>assist_pct</th>\n",
       "      <td>0.002564</td>\n",
       "    </tr>\n",
       "    <tr>\n",
       "      <th>steal_pct</th>\n",
       "      <td>-0.031512</td>\n",
       "    </tr>\n",
       "    <tr>\n",
       "      <th>block_pct</th>\n",
       "      <td>-0.026171</td>\n",
       "    </tr>\n",
       "    <tr>\n",
       "      <th>turnover_pct</th>\n",
       "      <td>0.001454</td>\n",
       "    </tr>\n",
       "    <tr>\n",
       "      <th>Home</th>\n",
       "      <td>0.129813</td>\n",
       "    </tr>\n",
       "  </tbody>\n",
       "</table>\n",
       "</div>"
      ],
      "text/plain": [
       "                    Coefficient\n",
       "minutes_played        -0.000969\n",
       "fga                    1.071276\n",
       "fg_pct                 3.903490\n",
       "3pa                    0.247406\n",
       "3p_pct                 2.704487\n",
       "ft_pct                 1.633534\n",
       "orb                   -0.028249\n",
       "drb                    0.096961\n",
       "trb                    0.068712\n",
       "ast                   -0.012351\n",
       "stl                    0.106959\n",
       "blk                    0.191775\n",
       "tov                    0.095948\n",
       "pf                    -0.047448\n",
       "true_shooting_pct      4.525720\n",
       "effective_fg_pct      -0.586763\n",
       "3P_attempt_rate       -2.107645\n",
       "FT_attempt_rate        1.378152\n",
       "offensive_reb_rate    -0.084135\n",
       "defensive_reb_rate    -0.086187\n",
       "total_reb_pct          0.134876\n",
       "assist_pct             0.002564\n",
       "steal_pct             -0.031512\n",
       "block_pct             -0.026171\n",
       "turnover_pct           0.001454\n",
       "Home                   0.129813"
      ]
     },
     "execution_count": 1576,
     "metadata": {},
     "output_type": "execute_result"
    }
   ],
   "source": [
    "coeff_df"
   ]
  },
  {
   "cell_type": "code",
   "execution_count": 1612,
   "metadata": {},
   "outputs": [
    {
     "data": {
      "text/plain": [
       "Index(['player_id', 'team', 'minutes_played', 'fg', 'fga', 'fg_pct', '3p',\n",
       "       '3pa', '3p_pct', 'ft', 'ft_pct', 'orb', 'drb', 'trb', 'ast', 'stl',\n",
       "       'blk', 'tov', 'pf', 'true_shooting_pct', 'effective_fg_pct',\n",
       "       '3P_attempt_rate', 'FT_attempt_rate', 'offensive_reb_rate',\n",
       "       'defensive_reb_rate', 'total_reb_pct', 'assist_pct', 'steal_pct',\n",
       "       'block_pct', 'turnover_pct', 'usage_pct', 'offensive_rating',\n",
       "       'defensive_rating', 'pts', 'Home'],\n",
       "      dtype='object')"
      ]
     },
     "execution_count": 1612,
     "metadata": {},
     "output_type": "execute_result"
    }
   ],
   "source": [
    "test_df.columns"
   ]
  },
  {
   "cell_type": "code",
   "execution_count": 1623,
   "metadata": {},
   "outputs": [],
   "source": [
    "test_df = test_df.groupby(['player_id', 'team']).mean()"
   ]
  },
  {
   "cell_type": "code",
   "execution_count": 1643,
   "metadata": {},
   "outputs": [
    {
     "data": {
      "text/plain": [
       "minutes_played        474.428571\n",
       "fg                      0.571429\n",
       "fga                     1.714286\n",
       "fg_pct                  0.157143\n",
       "3p                      0.142857\n",
       "3pa                     0.285714\n",
       "3p_pct                  0.142857\n",
       "ft                      0.000000\n",
       "ft_pct                  0.000000\n",
       "orb                     0.000000\n",
       "drb                     1.428571\n",
       "trb                     1.428571\n",
       "ast                     1.857143\n",
       "stl                     0.857143\n",
       "blk                     0.000000\n",
       "tov                     0.285714\n",
       "pf                      1.142857\n",
       "true_shooting_pct       0.171429\n",
       "effective_fg_pct        0.171429\n",
       "3P_attempt_rate         0.171429\n",
       "FT_attempt_rate         0.000000\n",
       "offensive_reb_rate      0.000000\n",
       "defensive_reb_rate     19.114286\n",
       "total_reb_pct           9.628571\n",
       "assist_pct             36.257143\n",
       "steal_pct               4.285714\n",
       "block_pct               0.000000\n",
       "turnover_pct            5.957143\n",
       "usage_pct               8.042857\n",
       "offensive_rating       93.714286\n",
       "defensive_rating      105.428571\n",
       "pts                     1.285714\n",
       "Home                    0.428571\n",
       "Name: (2488946, Washington Wizards), dtype: float64"
      ]
     },
     "execution_count": 1643,
     "metadata": {},
     "output_type": "execute_result"
    }
   ],
   "source": [
    "test_df.iloc[0, :]"
   ]
  },
  {
   "cell_type": "code",
   "execution_count": null,
   "metadata": {},
   "outputs": [],
   "source": []
  },
  {
   "cell_type": "code",
   "execution_count": 1638,
   "metadata": {},
   "outputs": [],
   "source": [
    "X_test = test_df[['minutes_played', 'fga', 'fg_pct', '3pa', '3p_pct', 'ft_pct', 'orb', 'drb',\n",
    "       'trb', 'ast', 'stl', 'blk', 'tov', 'pf', 'true_shooting_pct',\n",
    "       'effective_fg_pct', '3P_attempt_rate', 'FT_attempt_rate',\n",
    "       'offensive_reb_rate', 'defensive_reb_rate', 'total_reb_pct',\n",
    "       'assist_pct', 'steal_pct', 'block_pct', 'turnover_pct', 'Home']]\n",
    "y_test = test_df['pts']"
   ]
  },
  {
   "cell_type": "code",
   "execution_count": 1626,
   "metadata": {},
   "outputs": [],
   "source": [
    "#X_train, X_test, y_train, y_test = train_test_split(X_away, y_away, test_size=.33)"
   ]
  },
  {
   "cell_type": "code",
   "execution_count": 1627,
   "metadata": {},
   "outputs": [
    {
     "data": {
      "text/plain": [
       "LinearRegression(copy_X=True, fit_intercept=True, n_jobs=1, normalize=False)"
      ]
     },
     "execution_count": 1627,
     "metadata": {},
     "output_type": "execute_result"
    }
   ],
   "source": [
    "lm.fit(X_train, y_train)"
   ]
  },
  {
   "cell_type": "code",
   "execution_count": 1628,
   "metadata": {},
   "outputs": [
    {
     "data": {
      "text/plain": [
       "array([ -9.68812431e-04,   1.07113855e+00,   3.84203060e+00,\n",
       "         2.49862530e-01,   2.68872693e+00,   1.60345214e+00,\n",
       "        -2.15358071e-02,   9.37971129e-02,   7.22613058e-02,\n",
       "        -1.13688698e-02,   1.25000981e-01,   1.85793960e-01,\n",
       "         1.00502658e-01,  -5.73700065e-02,   4.60281247e+00,\n",
       "        -6.10548347e-01,  -2.08189569e+00,   1.42787755e+00,\n",
       "        -8.51260225e-02,  -8.70651809e-02,   1.35967057e-01,\n",
       "         2.70760022e-03,  -4.09166245e-02,  -2.49966107e-02,\n",
       "         6.71574661e-04,   1.28853126e-01])"
      ]
     },
     "execution_count": 1628,
     "metadata": {},
     "output_type": "execute_result"
    }
   ],
   "source": [
    "lm.coef_"
   ]
  },
  {
   "cell_type": "code",
   "execution_count": 1629,
   "metadata": {},
   "outputs": [],
   "source": [
    "predictions = lm.predict(X_test)"
   ]
  },
  {
   "cell_type": "code",
   "execution_count": 1634,
   "metadata": {},
   "outputs": [
    {
     "data": {
      "text/plain": [
       "[<matplotlib.lines.Line2D at 0x122c953c8>]"
      ]
     },
     "execution_count": 1634,
     "metadata": {},
     "output_type": "execute_result"
    },
    {
     "data": {
      "image/png": "[encoded data removed]",
      "text/plain": [
       "<Figure size 432x288 with 1 Axes>"
      ]
     },
     "metadata": {},
     "output_type": "display_data"
    }
   ],
   "source": [
    "plt.scatter(y_test, predictions)\n",
    "plt.xlabel('y_test')\n",
    "plt.ylabel('predictions')\n",
    "\n",
    "z = np.polyfit(y_test, predictions, 1)\n",
    "p = np.poly1d(z)\n",
    "plt.plot(y_test,p(y_test),\"r\")"
   ]
  },
  {
   "cell_type": "code",
   "execution_count": 1631,
   "metadata": {},
   "outputs": [
    {
     "data": {
      "text/plain": [
       "0.98610988843183611"
      ]
     },
     "execution_count": 1631,
     "metadata": {},
     "output_type": "execute_result"
    }
   ],
   "source": [
    "lm.score(X_test, y_test)"
   ]
  },
  {
   "cell_type": "code",
   "execution_count": 1632,
   "metadata": {},
   "outputs": [
    {
     "data": {
      "text/plain": [
       "<matplotlib.axes._subplots.AxesSubplot at 0x10fb2ef60>"
      ]
     },
     "execution_count": 1632,
     "metadata": {},
     "output_type": "execute_result"
    },
    {
     "data": {
      "image/png": "[encoded data removed]",
      "text/plain": [
       "<Figure size 432x288 with 1 Axes>"
      ]
     },
     "metadata": {},
     "output_type": "display_data"
    }
   ],
   "source": [
    "sns.residplot(x=y_test, y=predictions)"
   ]
  },
  {
   "cell_type": "code",
   "execution_count": 1633,
   "metadata": {},
   "outputs": [
    {
     "data": {
      "text/plain": [
       "<matplotlib.axes._subplots.AxesSubplot at 0x124291cf8>"
      ]
     },
     "execution_count": 1633,
     "metadata": {},
     "output_type": "execute_result"
    },
    {
     "data": {
      "image/png": "[encoded data removed]",
      "text/plain": [
       "<Figure size 432x288 with 1 Axes>"
      ]
     },
     "metadata": {},
     "output_type": "display_data"
    }
   ],
   "source": [
    "sns.distplot(y_test-predictions)"
   ]
  },
  {
   "cell_type": "code",
   "execution_count": null,
   "metadata": {},
   "outputs": [],
   "source": []
  },
  {
   "cell_type": "code",
   "execution_count": null,
   "metadata": {},
   "outputs": [],
   "source": []
  }
 ],
 "metadata": {
  "kernelspec": {
   "display_name": "Python 3",
   "language": "python",
   "name": "python3"
  },
  "language_info": {
   "codemirror_mode": {
    "name": "ipython",
    "version": 3
   },
   "file_extension": ".py",
   "mimetype": "text/x-python",
   "name": "python",
   "nbconvert_exporter": "python",
   "pygments_lexer": "ipython3",
   "version": "3.6.3"
  }
 },
 "nbformat": 4,
 "nbformat_minor": 2
}
